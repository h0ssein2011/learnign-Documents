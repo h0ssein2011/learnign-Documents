{
 "cells": [
  {
   "cell_type": "markdown",
   "metadata": {},
   "source": [
    "#### q1:\n",
    "Have the function LongestWord(sen) take the sen parameter being passed and return the largest word in the string. If there are two or more words that are the same length, return the first word from the string with that length. Ignore punctuation and assume sen will not be empty. "
   ]
  },
  {
   "cell_type": "code",
   "execution_count": null,
   "metadata": {},
   "outputs": [],
   "source": [
    "import string\n",
    "def LongestWord(sen): \n",
    "    for c in string.punctuation: \n",
    "        sen=sen.replace(c,\"\")\n",
    "    sen=[s for s in sen.split(\" \")]\n",
    "    sen=max(sen , key=len)\n",
    "    # code goes here \n",
    "    return sen"
   ]
  },
  {
   "cell_type": "code",
   "execution_count": null,
   "metadata": {},
   "outputs": [],
   "source": [
    "LongestWord()"
   ]
  },
  {
   "cell_type": "code",
   "execution_count": null,
   "metadata": {},
   "outputs": [],
   "source": [
    "def LongestWord(sen):\n",
    "\n",
    "    words  = \"\".join([\",\",c][int(c.isalnum())] for c in sen).split(\",\")\n",
    "    maxLen = max( [len(w) for w in words] )\n",
    "    return [ w for w in words if len(w) == maxLen][0]"
   ]
  },
  {
   "cell_type": "code",
   "execution_count": null,
   "metadata": {},
   "outputs": [],
   "source": [
    "test='those who!'"
   ]
  },
  {
   "cell_type": "code",
   "execution_count": null,
   "metadata": {},
   "outputs": [],
   "source": [
    "def test2(sen):\n",
    "    return  \"\".join([\",\",c][int(c.isalnum())] for c in sen)"
   ]
  },
  {
   "cell_type": "code",
   "execution_count": null,
   "metadata": {},
   "outputs": [],
   "source": [
    "test2(test)"
   ]
  },
  {
   "cell_type": "code",
   "execution_count": null,
   "metadata": {},
   "outputs": [],
   "source": [
    "def FirstReverse(st):\n",
    "  \n",
    "    rev=[]\n",
    "    \n",
    "    # code goes here \n",
    "    for i in range(len(st)-1,-1,-1):\n",
    "        \n",
    "        rev.append(st[i])\n",
    "        \n",
    "    st=\"\".join([ e for e in rev])\n",
    "    return st"
   ]
  },
  {
   "cell_type": "code",
   "execution_count": null,
   "metadata": {},
   "outputs": [],
   "source": [
    "FirstReverse2(\"tesffgfdtu dtjaskjdtj\")"
   ]
  },
  {
   "cell_type": "code",
   "execution_count": null,
   "metadata": {},
   "outputs": [],
   "source": [
    "#clever ansvers\n",
    "def FirstReverse2(str): \n",
    "    return str[::-2]\n"
   ]
  },
  {
   "cell_type": "code",
   "execution_count": null,
   "metadata": {},
   "outputs": [],
   "source": [
    "def LetterChanges(st): \n",
    "    letters=\"abcdefghijklmnopqrstuvwxyzABCDEFGHIJKLMNOPQRSTUVWXYZ\"\n",
    "    wovels=['a', 'e', 'i', 'o', 'u']\n",
    "    output=[]\n",
    "    for let in st:\n",
    "        if let in wovels:\n",
    "            let=let.uppper()\n",
    "        output.append(letters[letters.index(let)+1])\n",
    "    \n",
    "    st=\"\".join(e for e in output)\n",
    "        \n",
    "    # code goes here \n",
    "    return st"
   ]
  },
  {
   "cell_type": "code",
   "execution_count": null,
   "metadata": {},
   "outputs": [],
   "source": [
    "test=\"Argument goes here\""
   ]
  },
  {
   "cell_type": "code",
   "execution_count": null,
   "metadata": {},
   "outputs": [],
   "source": [
    "letters=\"abcdefghijklmnopqrstuvwxyzABCDEFGHIJKLMNOPQRSTUVWXYZ\"\n",
    "\n",
    "for let in letters:\n",
    "    print(let, ord(let))"
   ]
  },
  {
   "cell_type": "code",
   "execution_count": null,
   "metadata": {},
   "outputs": [],
   "source": [
    "letters.find('')"
   ]
  },
  {
   "cell_type": "code",
   "execution_count": null,
   "metadata": {},
   "outputs": [],
   "source": [
    "ord_letters(letters)"
   ]
  },
  {
   "cell_type": "code",
   "execution_count": null,
   "metadata": {},
   "outputs": [],
   "source": [
    "ls=['this is a test']\n",
    "\"\".join(e for e in ls)"
   ]
  },
  {
   "cell_type": "code",
   "execution_count": null,
   "metadata": {},
   "outputs": [],
   "source": [
    "\n",
    "def LetterChanges(str): \n",
    "    letters=\"abcdefghijklmnopqrstuvwxyzABCDEFGHIJKLMNOPQRSTUVWXYZ\"\n",
    "    vowels=['a', 'e', 'i', 'o', 'u']\n",
    "    new_let=[]\n",
    "     \n",
    "    for let in str:\n",
    "        if let ==\"\":\n",
    "            new_let.append(\"\")\n",
    "        if let=='z' or let=='Z':\n",
    "            new_let.append('A')\n",
    "        if let not in letters:\n",
    "            new_let.append(let)\n",
    "        else:\n",
    "            new_let.append(letters[letters.index(let)+1] )\n",
    "  \n",
    "    for i in range(len(new_let)):\n",
    "        if new_let[i] in vowels:   \n",
    "            new_let[i]=new_let[i].upper()\n",
    "    str=''.join(e for e in new_let)\n",
    "    # code goes here \n",
    "    return str   "
   ]
  },
  {
   "cell_type": "code",
   "execution_count": null,
   "metadata": {},
   "outputs": [],
   "source": []
  },
  {
   "cell_type": "code",
   "execution_count": null,
   "metadata": {},
   "outputs": [],
   "source": [
    "LetterChanges(\"this long cake@&\") "
   ]
  },
  {
   "cell_type": "code",
   "execution_count": null,
   "metadata": {},
   "outputs": [],
   "source": [
    "test=\"Argument goes here\""
   ]
  },
  {
   "cell_type": "code",
   "execution_count": null,
   "metadata": {},
   "outputs": [],
   "source": [
    "#clever answer\n",
    "def LetterChanges2(str):\n",
    "    letters = \"abcdefghijklmnopqrstuvwxyzABCDEFGHIJKLMNOPQRSTUVW\"\n",
    "    changes = \"bcdEfghIjklmnOpqrstUvwxyzABCDEFGHIJKLMNOPQRSTUVWZ\"\n",
    "    mapping = { k:v for (k,v) in zip(str+letters,str+changes) }\n",
    "    return mapping , \"\".join([ mapping[c] for c in str ])\n",
    "    "
   ]
  },
  {
   "cell_type": "code",
   "execution_count": null,
   "metadata": {},
   "outputs": [],
   "source": [
    "LetterChanges2(\"this long cake@&\")"
   ]
  },
  {
   "cell_type": "code",
   "execution_count": null,
   "metadata": {},
   "outputs": [],
   "source": [
    "[ mapping[c] for c in str]"
   ]
  },
  {
   "cell_type": "markdown",
   "metadata": {},
   "source": [
    "have the function KaprekarsConstant(num) take the num parameter being passed which will be a 4-digit number with at least two distinct digits. Your program should perform the following routine on the number: Arrange the digits in descending order and in ascending order (adding zeroes to fit it to a 4-digit number), and subtract the smaller number from the bigger number. Then repeat the previous step. Performing this routine will always cause you to reach a fixed number: 6174. Then performing the routine on 6174 will always give you 6174 (7641 - 1467 = 6174). Your program should return the number of times this routine must be performed until 6174 is reached. For example: if num is 3524 your program should return 3 because of the following steps: (1) 5432 - 2345 = 3087, (2) 8730 - 0378 = 8352, (3) 8532 - 2358 = 6174. "
   ]
  },
  {
   "cell_type": "code",
   "execution_count": null,
   "metadata": {},
   "outputs": [],
   "source": [
    "def KaprekarsConstant(num):\n",
    "      \n",
    "    steps=0\n",
    "    while num != 6174:\n",
    "        num_len=len(str(num))\n",
    "        \n",
    "        if num <=999:\n",
    "            num =(4- num_len) * 10 * num\n",
    "        else:\n",
    "\n",
    "            print(steps,num)\n",
    "            asc_num = int(\"\".join(sorted(str(num))))\n",
    "            desc_num = int(\"\".join(sorted(str(num), reverse=True))) \n",
    "            num = desc_num - asc_num\n",
    "\n",
    "            steps+=1\n",
    "    \n",
    "    return steps"
   ]
  },
  {
   "cell_type": "code",
   "execution_count": null,
   "metadata": {},
   "outputs": [],
   "source": [
    "KaprekarsConstant(6173)"
   ]
  },
  {
   "cell_type": "markdown",
   "metadata": {},
   "source": [
    "Have the function ChessboardTraveling(str) read str which will be a string consisting of the location of a space on a standard 8x8 chess board with no pieces on the board along with another space on the chess board. The structure of str will be the following: \"(x y)(a b)\" where (x y) represents the position you are currently on with x and y ranging from 1 to 8 and (a b) represents some other space on the chess board with a and b also ranging from 1 to 8 where a > x and b > y. Your program should determine how many ways there are of traveling from (x y) on the board to (a b) moving only up and to the right. For example: if str is (1 1)(2 2) then your program should output 2 because there are only two possible ways to travel from space (1 1) on a chessboard to space (2 2) while making only moves up and to the right. \n"
   ]
  },
  {
   "cell_type": "code",
   "execution_count": null,
   "metadata": {},
   "outputs": [],
   "source": [
    "def ChessboardTraveling(str):\n",
    "    steps=0\n",
    "    \n",
    "    num_list=[]\n",
    "    for x in str:\n",
    "        try:\n",
    "            if int(x)>=1:\n",
    "                num_list.append(int(x))\n",
    "        except: pass\n",
    "    num1_3=num_list[2] -num_list[0] \n",
    "    num2_4=num_list[3] -num_list[1] \n",
    "    \n",
    "    ekhtelaf= num2_4 - num1_3 \n",
    "    if  num1_3 == num2_4  and num1_3 !=1 and num2_4!=1:\n",
    "        ekhtelaf =num1_3\n",
    "    else: ekhtelaf =0\n",
    "    \n",
    "    steps =num1_3+num2_4+ ekhtelaf\n",
    "    \n",
    "    print(num1_3, num2_4 ,ekhtelaf)\n",
    "    \n",
    "    return steps\n",
    "    "
   ]
  },
  {
   "cell_type": "code",
   "execution_count": null,
   "metadata": {},
   "outputs": [],
   "source": [
    "ChessboardTraveling(\"(1 1)(2 2)\")"
   ]
  },
  {
   "cell_type": "code",
   "execution_count": null,
   "metadata": {},
   "outputs": [],
   "source": [
    "board = [[0,  1,   1,   1,   1,   1,   1,   1],[1,  2,   3,   4,   5,   6,   7,   8],[1,  3,   6,  10,  15,  21,  28,  36],[1,  4,  10,  20,  35,  56,  84, 120],[1,  5,  15,  35,  70, 126, 210, 330],[1,  6,  21,  56, 126, 252, 462, 792],[1,  7,  28,  84, 210, 462, 924,1716],[1,  8,  36, 120, 330, 792,1716,3432]]\n",
    "def ChessboardTraveling(s): #For better readability, move the board into multiple lines\n",
    "    return board[int(s[6]) - int(s[1])][int(s[8]) - int(s[3])]\n",
    "print ChessboardTraveling(raw_input())"
   ]
  },
  {
   "cell_type": "code",
   "execution_count": null,
   "metadata": {},
   "outputs": [],
   "source": []
  },
  {
   "cell_type": "code",
   "execution_count": null,
   "metadata": {},
   "outputs": [],
   "source": []
  },
  {
   "cell_type": "code",
   "execution_count": null,
   "metadata": {},
   "outputs": [],
   "source": []
  },
  {
   "cell_type": "code",
   "execution_count": null,
   "metadata": {},
   "outputs": [],
   "source": [
    "import matplotlib.pyplot as plt\n",
    "from mpl_toolkits.mplot3d import Axes3D\n",
    "import pandas as pd\n",
    "import numpy as np"
   ]
  },
  {
   "cell_type": "code",
   "execution_count": null,
   "metadata": {},
   "outputs": [],
   "source": [
    "df=pd.read_clipboard()"
   ]
  },
  {
   "cell_type": "code",
   "execution_count": null,
   "metadata": {},
   "outputs": [],
   "source": [
    "for col in df.columns:\n",
    "    df[col]=df[col].astype('float')"
   ]
  },
  {
   "cell_type": "code",
   "execution_count": null,
   "metadata": {},
   "outputs": [],
   "source": [
    "type(xs)"
   ]
  },
  {
   "cell_type": "code",
   "execution_count": null,
   "metadata": {},
   "outputs": [],
   "source": [
    "xs=df['Request to Accept %']\n",
    "ys=df['PTR(price to check)']\n",
    "zs=df['Surge']"
   ]
  },
  {
   "cell_type": "code",
   "execution_count": null,
   "metadata": {},
   "outputs": [],
   "source": [
    "df.describe()"
   ]
  },
  {
   "cell_type": "code",
   "execution_count": null,
   "metadata": {},
   "outputs": [],
   "source": [
    "df.boxplot(column=['Surge'])"
   ]
  },
  {
   "cell_type": "code",
   "execution_count": null,
   "metadata": {},
   "outputs": [],
   "source": [
    "df_without_outlier=df[df.apply(lambda x: np.abs(x - x.mean()) / x.std() < 3).all(axis=1)]\n"
   ]
  },
  {
   "cell_type": "code",
   "execution_count": null,
   "metadata": {},
   "outputs": [],
   "source": [
    "df_without_outlier.boxplot()"
   ]
  },
  {
   "cell_type": "code",
   "execution_count": null,
   "metadata": {},
   "outputs": [],
   "source": [
    "df_without_outlier.corr()"
   ]
  },
  {
   "cell_type": "code",
   "execution_count": null,
   "metadata": {},
   "outputs": [],
   "source": [
    "df.head()"
   ]
  },
  {
   "cell_type": "code",
   "execution_count": null,
   "metadata": {},
   "outputs": [],
   "source": [
    "df.corr()"
   ]
  },
  {
   "cell_type": "code",
   "execution_count": null,
   "metadata": {},
   "outputs": [],
   "source": [
    "df_hourly=pd.read_clipboard()"
   ]
  },
  {
   "cell_type": "code",
   "execution_count": null,
   "metadata": {},
   "outputs": [],
   "source": [
    "df_hourly.head()"
   ]
  },
  {
   "cell_type": "code",
   "execution_count": null,
   "metadata": {},
   "outputs": [],
   "source": [
    "peak=[6,7,8,9,16,17,18,19]\n",
    "df_peak=df_hourly[df_hourly['Hour'].isin(peak)]"
   ]
  },
  {
   "cell_type": "code",
   "execution_count": null,
   "metadata": {},
   "outputs": [],
   "source": [
    "df_peak.corr()"
   ]
  },
  {
   "cell_type": "code",
   "execution_count": null,
   "metadata": {},
   "outputs": [],
   "source": [
    "import pandas as pd\n",
    "\n",
    "df=pd.read_clipboard()\n",
    "\n",
    "df.head()\n",
    "\n",
    "df['receive_irantime']=pd.to_datetime(df['receive_irantime'])\n",
    "df['send']=pd.to_datetime(df['send'])\n"
   ]
  },
  {
   "cell_type": "code",
   "execution_count": null,
   "metadata": {},
   "outputs": [],
   "source": [
    "df.head()"
   ]
  },
  {
   "cell_type": "code",
   "execution_count": null,
   "metadata": {},
   "outputs": [],
   "source": [
    "pivot=df.pivot_table(values=['receive_irantime','send'],index='receive_fromnumber', aggfunc=np.min)"
   ]
  },
  {
   "cell_type": "code",
   "execution_count": null,
   "metadata": {},
   "outputs": [],
   "source": [
    "import numpy as np"
   ]
  },
  {
   "cell_type": "code",
   "execution_count": null,
   "metadata": {},
   "outputs": [],
   "source": [
    "pivot.to_clipboard()"
   ]
  },
  {
   "cell_type": "code",
   "execution_count": null,
   "metadata": {},
   "outputs": [],
   "source": []
  },
  {
   "cell_type": "code",
   "execution_count": null,
   "metadata": {},
   "outputs": [],
   "source": []
  },
  {
   "cell_type": "code",
   "execution_count": null,
   "metadata": {},
   "outputs": [],
   "source": []
  },
  {
   "cell_type": "code",
   "execution_count": null,
   "metadata": {},
   "outputs": [],
   "source": []
  }
 ],
 "metadata": {
  "kernelspec": {
   "display_name": "Python 3.9.12 ('base')",
   "language": "python",
   "name": "python3"
  },
  "language_info": {
   "codemirror_mode": {
    "name": "ipython",
    "version": 3
   },
   "file_extension": ".py",
   "mimetype": "text/x-python",
   "name": "python",
   "nbconvert_exporter": "python",
   "pygments_lexer": "ipython3",
   "version": "3.9.13"
  },
  "vscode": {
   "interpreter": {
    "hash": "bfb66c7a6e1c5f7eff222d2823b9900467bb66d44da0ae4062a5e97f8bb49fa9"
   }
  }
 },
 "nbformat": 4,
 "nbformat_minor": 2
}
