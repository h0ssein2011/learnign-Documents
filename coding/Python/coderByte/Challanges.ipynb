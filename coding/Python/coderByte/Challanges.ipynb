{
 "cells": [
  {
   "cell_type": "markdown",
   "metadata": {},
   "source": [
    "#### q1:\n",
    "Have the function LongestWord(sen) take the sen parameter being passed and return the largest word in the string. If there are two or more words that are the same length, return the first word from the string with that length. Ignore punctuation and assume sen will not be empty. "
   ]
  },
  {
   "cell_type": "code",
   "execution_count": 7,
   "metadata": {},
   "outputs": [],
   "source": [
    "import string\n",
    "def LongestWord(sen): \n",
    "    for c in string.punctuation: \n",
    "        sen=sen.replace(c,\"\")\n",
    "    sen=[s for s in sen.split(\" \")]\n",
    "    sen=max(sen , key=len)\n",
    "    # code goes here \n",
    "    return sen"
   ]
  },
  {
   "cell_type": "code",
   "execution_count": 1,
   "metadata": {},
   "outputs": [],
   "source": [
    "LongestWord()"
   ]
  },
  {
   "cell_type": "code",
   "execution_count": null,
   "metadata": {},
   "outputs": [],
   "source": [
    "def LongestWord(sen):\n",
    "\n",
    "    words  = \"\".join([\",\",c][int(c.isalnum())] for c in sen).split(\",\")\n",
    "    maxLen = max( [len(w) for w in words] )\n",
    "    return [ w for w in words if len(w) == maxLen][0]"
   ]
  },
  {
   "cell_type": "code",
   "execution_count": 26,
   "metadata": {},
   "outputs": [],
   "source": [
    "test='those who!'"
   ]
  },
  {
   "cell_type": "code",
   "execution_count": 30,
   "metadata": {},
   "outputs": [],
   "source": [
    "def test2(sen):\n",
    "    return  \"\".join([\",\",c][int(c.isalnum())] for c in sen)"
   ]
  },
  {
   "cell_type": "code",
   "execution_count": 31,
   "metadata": {},
   "outputs": [
    {
     "data": {
      "text/plain": [
       "'those,who,'"
      ]
     },
     "execution_count": 31,
     "metadata": {},
     "output_type": "execute_result"
    }
   ],
   "source": [
    "test2(test)"
   ]
  },
  {
   "cell_type": "code",
   "execution_count": 6,
   "metadata": {},
   "outputs": [],
   "source": [
    "def FirstReverse(st):\n",
    "  \n",
    "    rev=[]\n",
    "    \n",
    "    # code goes here \n",
    "    for i in range(len(st)-1,-1,-1):\n",
    "        \n",
    "        rev.append(st[i])\n",
    "        \n",
    "    st=\"\".join([ e for e in rev])\n",
    "    return st"
   ]
  },
  {
   "cell_type": "code",
   "execution_count": 25,
   "metadata": {},
   "outputs": [
    {
     "data": {
      "text/plain": [
       "'jdkat tffst'"
      ]
     },
     "execution_count": 25,
     "metadata": {},
     "output_type": "execute_result"
    }
   ],
   "source": [
    "FirstReverse2(\"tesffgfdtu dtjaskjdtj\")"
   ]
  },
  {
   "cell_type": "code",
   "execution_count": 23,
   "metadata": {},
   "outputs": [],
   "source": [
    "#clever ansvers\n",
    "def FirstReverse2(str): \n",
    "    return str[::-2]\n"
   ]
  },
  {
   "cell_type": "code",
   "execution_count": 54,
   "metadata": {},
   "outputs": [],
   "source": [
    "def LetterChanges(st): \n",
    "    letters=\"abcdefghijklmnopqrstuvwxyzABCDEFGHIJKLMNOPQRSTUVWXYZ\"\n",
    "    wovels=['a', 'e', 'i', 'o', 'u']\n",
    "    output=[]\n",
    "    for let in st:\n",
    "        if let in wovels:\n",
    "            let=let.uppper()\n",
    "        output.append(letters[letters.index(let)+1])\n",
    "    \n",
    "    st=\"\".join(e for e in output)\n",
    "        \n",
    "    # code goes here \n",
    "    return st"
   ]
  },
  {
   "cell_type": "code",
   "execution_count": 31,
   "metadata": {},
   "outputs": [],
   "source": [
    "test=\"Argument goes here\""
   ]
  },
  {
   "cell_type": "code",
   "execution_count": 48,
   "metadata": {},
   "outputs": [
    {
     "name": "stdout",
     "output_type": "stream",
     "text": [
      "a 97\n",
      "b 98\n",
      "c 99\n",
      "d 100\n",
      "e 101\n",
      "f 102\n",
      "g 103\n",
      "h 104\n",
      "i 105\n",
      "j 106\n",
      "k 107\n",
      "l 108\n",
      "m 109\n",
      "n 110\n",
      "o 111\n",
      "p 112\n",
      "q 113\n",
      "r 114\n",
      "s 115\n",
      "t 116\n",
      "u 117\n",
      "v 118\n",
      "w 119\n",
      "x 120\n",
      "y 121\n",
      "z 122\n",
      "A 65\n",
      "B 66\n",
      "C 67\n",
      "D 68\n",
      "E 69\n",
      "F 70\n",
      "G 71\n",
      "H 72\n",
      "I 73\n",
      "J 74\n",
      "K 75\n",
      "L 76\n",
      "M 77\n",
      "N 78\n",
      "O 79\n",
      "P 80\n",
      "Q 81\n",
      "R 82\n",
      "S 83\n",
      "T 84\n",
      "U 85\n",
      "V 86\n",
      "W 87\n",
      "X 88\n",
      "Y 89\n",
      "Z 90\n"
     ]
    }
   ],
   "source": [
    "letters=\"abcdefghijklmnopqrstuvwxyzABCDEFGHIJKLMNOPQRSTUVWXYZ\"\n",
    "\n",
    "for let in letters:\n",
    "    print(let, ord(let))"
   ]
  },
  {
   "cell_type": "code",
   "execution_count": 55,
   "metadata": {},
   "outputs": [
    {
     "data": {
      "text/plain": [
       "0"
      ]
     },
     "execution_count": 55,
     "metadata": {},
     "output_type": "execute_result"
    }
   ],
   "source": [
    "letters.find('')"
   ]
  },
  {
   "cell_type": "code",
   "execution_count": 47,
   "metadata": {},
   "outputs": [
    {
     "ename": "TypeError",
     "evalue": "ord() expected a character, but string of length 52 found",
     "output_type": "error",
     "traceback": [
      "\u001b[1;31m---------------------------------------------------------------------------\u001b[0m",
      "\u001b[1;31mTypeError\u001b[0m                                 Traceback (most recent call last)",
      "\u001b[1;32m<ipython-input-47-afbe6c2354eb>\u001b[0m in \u001b[0;36m<module>\u001b[1;34m\u001b[0m\n\u001b[0;32m      1\u001b[0m \u001b[0mletters\u001b[0m\u001b[1;33m=\u001b[0m\u001b[1;34m\"abcdefghijklmnopqrstuvwxyzABCDEFGHIJKLMNOPQRSTUVWXYZ\"\u001b[0m\u001b[1;33m\u001b[0m\u001b[1;33m\u001b[0m\u001b[0m\n\u001b[1;32m----> 2\u001b[1;33m \u001b[0mord_letters\u001b[0m\u001b[1;33m(\u001b[0m\u001b[0mletters\u001b[0m\u001b[1;33m)\u001b[0m\u001b[1;33m\u001b[0m\u001b[1;33m\u001b[0m\u001b[0m\n\u001b[0m",
      "\u001b[1;32m<ipython-input-46-42c4a0b24887>\u001b[0m in \u001b[0;36mord_letters\u001b[1;34m(s)\u001b[0m\n\u001b[0;32m      1\u001b[0m \u001b[1;32mdef\u001b[0m \u001b[0mord_letters\u001b[0m\u001b[1;33m(\u001b[0m\u001b[0ms\u001b[0m\u001b[1;33m)\u001b[0m\u001b[1;33m:\u001b[0m\u001b[1;33m\u001b[0m\u001b[1;33m\u001b[0m\u001b[0m\n\u001b[1;32m----> 2\u001b[1;33m     \u001b[1;32mreturn\u001b[0m \u001b[1;33m{\u001b[0m\u001b[0mk\u001b[0m\u001b[1;33m:\u001b[0m\u001b[0mv\u001b[0m \u001b[1;32mfor\u001b[0m \u001b[1;33m(\u001b[0m\u001b[0mk\u001b[0m\u001b[1;33m,\u001b[0m\u001b[0mv\u001b[0m\u001b[1;33m)\u001b[0m \u001b[1;32min\u001b[0m \u001b[0mzip\u001b[0m\u001b[1;33m(\u001b[0m\u001b[0ms\u001b[0m \u001b[1;33m,\u001b[0m \u001b[0mord\u001b[0m\u001b[1;33m(\u001b[0m\u001b[0ms\u001b[0m\u001b[1;33m)\u001b[0m\u001b[1;33m)\u001b[0m\u001b[1;33m}\u001b[0m\u001b[1;33m\u001b[0m\u001b[1;33m\u001b[0m\u001b[0m\n\u001b[0m",
      "\u001b[1;31mTypeError\u001b[0m: ord() expected a character, but string of length 52 found"
     ]
    }
   ],
   "source": [
    "ord_letters(letters)"
   ]
  },
  {
   "cell_type": "code",
   "execution_count": 57,
   "metadata": {},
   "outputs": [
    {
     "data": {
      "text/plain": [
       "'this is a test'"
      ]
     },
     "execution_count": 57,
     "metadata": {},
     "output_type": "execute_result"
    }
   ],
   "source": [
    "ls=['this is a test']\n",
    "\"\".join(e for e in ls)"
   ]
  },
  {
   "cell_type": "code",
   "execution_count": 19,
   "metadata": {},
   "outputs": [],
   "source": [
    "\n",
    "def LetterChanges(str): \n",
    "    letters=\"abcdefghijklmnopqrstuvwxyzABCDEFGHIJKLMNOPQRSTUVWXYZ\"\n",
    "    vowels=['a', 'e', 'i', 'o', 'u']\n",
    "    new_let=[]\n",
    "     \n",
    "    for let in str:\n",
    "        if let ==\"\":\n",
    "            new_let.append(\"\")\n",
    "        if let=='z' or let=='Z':\n",
    "            new_let.append('A')\n",
    "        if let not in letters:\n",
    "            new_let.append(let)\n",
    "        else:\n",
    "            new_let.append(letters[letters.index(let)+1] )\n",
    "  \n",
    "    for i in range(len(new_let)):\n",
    "        if new_let[i] in vowels:   \n",
    "            new_let[i]=new_let[i].upper()\n",
    "    str=''.join(e for e in new_let)\n",
    "    # code goes here \n",
    "    return str   "
   ]
  },
  {
   "cell_type": "code",
   "execution_count": null,
   "metadata": {},
   "outputs": [],
   "source": []
  },
  {
   "cell_type": "code",
   "execution_count": 20,
   "metadata": {},
   "outputs": [
    {
     "data": {
      "text/plain": [
       "'UIjt mpOh dblf@&'"
      ]
     },
     "execution_count": 20,
     "metadata": {},
     "output_type": "execute_result"
    }
   ],
   "source": [
    "LetterChanges(\"this long cake@&\") "
   ]
  },
  {
   "cell_type": "code",
   "execution_count": 21,
   "metadata": {},
   "outputs": [],
   "source": [
    "test=\"Argument goes here\""
   ]
  },
  {
   "cell_type": "code",
   "execution_count": 31,
   "metadata": {},
   "outputs": [],
   "source": [
    "#clever answer\n",
    "def LetterChanges2(str):\n",
    "    letters = \"abcdefghijklmnopqrstuvwxyzABCDEFGHIJKLMNOPQRSTUVW\"\n",
    "    changes = \"bcdEfghIjklmnOpqrstUvwxyzABCDEFGHIJKLMNOPQRSTUVWZ\"\n",
    "    mapping = { k:v for (k,v) in zip(str+letters,str+changes) }\n",
    "    return mapping , \"\".join([ mapping[c] for c in str ])\n",
    "    "
   ]
  },
  {
   "cell_type": "code",
   "execution_count": 32,
   "metadata": {},
   "outputs": [
    {
     "data": {
      "text/plain": [
       "({'t': 'U',\n",
       "  'h': 'I',\n",
       "  'i': 'j',\n",
       "  's': 't',\n",
       "  ' ': ' ',\n",
       "  'l': 'm',\n",
       "  'o': 'p',\n",
       "  'n': 'O',\n",
       "  'g': 'h',\n",
       "  'c': 'd',\n",
       "  'a': 'b',\n",
       "  'k': 'l',\n",
       "  'e': 'f',\n",
       "  '@': '@',\n",
       "  '&': '&',\n",
       "  'b': 'c',\n",
       "  'd': 'E',\n",
       "  'f': 'g',\n",
       "  'j': 'k',\n",
       "  'm': 'n',\n",
       "  'p': 'q',\n",
       "  'q': 'r',\n",
       "  'r': 's',\n",
       "  'u': 'v',\n",
       "  'v': 'w',\n",
       "  'w': 'x',\n",
       "  'x': 'y',\n",
       "  'y': 'z',\n",
       "  'z': 'A',\n",
       "  'A': 'B',\n",
       "  'B': 'C',\n",
       "  'C': 'D',\n",
       "  'D': 'E',\n",
       "  'E': 'F',\n",
       "  'F': 'G',\n",
       "  'G': 'H',\n",
       "  'H': 'I',\n",
       "  'I': 'J',\n",
       "  'J': 'K',\n",
       "  'K': 'L',\n",
       "  'L': 'M',\n",
       "  'M': 'N',\n",
       "  'N': 'O',\n",
       "  'O': 'P',\n",
       "  'P': 'Q',\n",
       "  'Q': 'R',\n",
       "  'R': 'S',\n",
       "  'S': 'T',\n",
       "  'T': 'U',\n",
       "  'U': 'V',\n",
       "  'V': 'W',\n",
       "  'W': 'Z'},\n",
       " 'UIjt mpOh dblf@&')"
      ]
     },
     "execution_count": 32,
     "metadata": {},
     "output_type": "execute_result"
    }
   ],
   "source": [
    "LetterChanges2(\"this long cake@&\")"
   ]
  },
  {
   "cell_type": "code",
   "execution_count": 34,
   "metadata": {},
   "outputs": [
    {
     "ename": "TypeError",
     "evalue": "'type' object is not iterable",
     "output_type": "error",
     "traceback": [
      "\u001b[1;31m---------------------------------------------------------------------------\u001b[0m",
      "\u001b[1;31mTypeError\u001b[0m                                 Traceback (most recent call last)",
      "\u001b[1;32m<ipython-input-34-9295fbf390f5>\u001b[0m in \u001b[0;36m<module>\u001b[1;34m\u001b[0m\n\u001b[1;32m----> 1\u001b[1;33m \u001b[1;33m[\u001b[0m \u001b[0mmapping\u001b[0m\u001b[1;33m[\u001b[0m\u001b[0mc\u001b[0m\u001b[1;33m]\u001b[0m \u001b[1;32mfor\u001b[0m \u001b[0mc\u001b[0m \u001b[1;32min\u001b[0m \u001b[0mstr\u001b[0m\u001b[1;33m]\u001b[0m\u001b[1;33m\u001b[0m\u001b[1;33m\u001b[0m\u001b[0m\n\u001b[0m",
      "\u001b[1;31mTypeError\u001b[0m: 'type' object is not iterable"
     ]
    }
   ],
   "source": [
    "[ mapping[c] for c in str]"
   ]
  },
  {
   "cell_type": "markdown",
   "metadata": {},
   "source": [
    "have the function KaprekarsConstant(num) take the num parameter being passed which will be a 4-digit number with at least two distinct digits. Your program should perform the following routine on the number: Arrange the digits in descending order and in ascending order (adding zeroes to fit it to a 4-digit number), and subtract the smaller number from the bigger number. Then repeat the previous step. Performing this routine will always cause you to reach a fixed number: 6174. Then performing the routine on 6174 will always give you 6174 (7641 - 1467 = 6174). Your program should return the number of times this routine must be performed until 6174 is reached. For example: if num is 3524 your program should return 3 because of the following steps: (1) 5432 - 2345 = 3087, (2) 8730 - 0378 = 8352, (3) 8532 - 2358 = 6174. "
   ]
  },
  {
   "cell_type": "code",
   "execution_count": 23,
   "metadata": {},
   "outputs": [],
   "source": [
    "def KaprekarsConstant(num):\n",
    "      \n",
    "    steps=0\n",
    "    while num != 6174:\n",
    "        num_len=len(str(num))\n",
    "        \n",
    "        if num <=999:\n",
    "            num =(4- num_len) * 10 * num\n",
    "        else:\n",
    "\n",
    "            print(steps,num)\n",
    "            asc_num = int(\"\".join(sorted(str(num))))\n",
    "            desc_num = int(\"\".join(sorted(str(num), reverse=True))) \n",
    "            num = desc_num - asc_num\n",
    "\n",
    "            steps+=1\n",
    "    \n",
    "    return steps"
   ]
  },
  {
   "cell_type": "code",
   "execution_count": 40,
   "metadata": {},
   "outputs": [
    {
     "name": "stdout",
     "output_type": "stream",
     "text": [
      "0 6173\n",
      "1 6264\n",
      "2 4176\n"
     ]
    },
    {
     "data": {
      "text/plain": [
       "3"
      ]
     },
     "execution_count": 40,
     "metadata": {},
     "output_type": "execute_result"
    }
   ],
   "source": [
    "KaprekarsConstant(6173)"
   ]
  },
  {
   "cell_type": "markdown",
   "metadata": {},
   "source": [
    "Have the function ChessboardTraveling(str) read str which will be a string consisting of the location of a space on a standard 8x8 chess board with no pieces on the board along with another space on the chess board. The structure of str will be the following: \"(x y)(a b)\" where (x y) represents the position you are currently on with x and y ranging from 1 to 8 and (a b) represents some other space on the chess board with a and b also ranging from 1 to 8 where a > x and b > y. Your program should determine how many ways there are of traveling from (x y) on the board to (a b) moving only up and to the right. For example: if str is (1 1)(2 2) then your program should output 2 because there are only two possible ways to travel from space (1 1) on a chessboard to space (2 2) while making only moves up and to the right. \n"
   ]
  },
  {
   "cell_type": "code",
   "execution_count": 28,
   "metadata": {},
   "outputs": [],
   "source": [
    "def ChessboardTraveling(str):\n",
    "    steps=0\n",
    "    \n",
    "    num_list=[]\n",
    "    for x in str:\n",
    "        try:\n",
    "            if int(x)>=1:\n",
    "                num_list.append(int(x))\n",
    "        except: pass\n",
    "    num1_3=num_list[2] -num_list[0] \n",
    "    num2_4=num_list[3] -num_list[1] \n",
    "    \n",
    "    ekhtelaf= num2_4 - num1_3 \n",
    "    if  num1_3 == num2_4  and num1_3 !=1 and num2_4!=1:\n",
    "        ekhtelaf =num1_3\n",
    "    else: ekhtelaf =0\n",
    "    \n",
    "    steps =num1_3+num2_4+ ekhtelaf\n",
    "    \n",
    "    print(num1_3, num2_4 ,ekhtelaf)\n",
    "    \n",
    "    return steps\n",
    "    "
   ]
  },
  {
   "cell_type": "code",
   "execution_count": 29,
   "metadata": {},
   "outputs": [
    {
     "name": "stdout",
     "output_type": "stream",
     "text": [
      "1 1 0\n"
     ]
    },
    {
     "data": {
      "text/plain": [
       "2"
      ]
     },
     "execution_count": 29,
     "metadata": {},
     "output_type": "execute_result"
    }
   ],
   "source": [
    "ChessboardTraveling(\"(1 1)(2 2)\")"
   ]
  },
  {
   "cell_type": "code",
   "execution_count": null,
   "metadata": {},
   "outputs": [],
   "source": [
    "board = [[0,  1,   1,   1,   1,   1,   1,   1],[1,  2,   3,   4,   5,   6,   7,   8],[1,  3,   6,  10,  15,  21,  28,  36],[1,  4,  10,  20,  35,  56,  84, 120],[1,  5,  15,  35,  70, 126, 210, 330],[1,  6,  21,  56, 126, 252, 462, 792],[1,  7,  28,  84, 210, 462, 924,1716],[1,  8,  36, 120, 330, 792,1716,3432]]\n",
    "def ChessboardTraveling(s): #For better readability, move the board into multiple lines\n",
    "    return board[int(s[6]) - int(s[1])][int(s[8]) - int(s[3])]\n",
    "print ChessboardTraveling(raw_input())"
   ]
  },
  {
   "cell_type": "code",
   "execution_count": null,
   "metadata": {},
   "outputs": [],
   "source": []
  },
  {
   "cell_type": "code",
   "execution_count": null,
   "metadata": {},
   "outputs": [],
   "source": []
  },
  {
   "cell_type": "code",
   "execution_count": null,
   "metadata": {},
   "outputs": [],
   "source": []
  },
  {
   "cell_type": "code",
   "execution_count": 44,
   "metadata": {},
   "outputs": [],
   "source": [
    "import matplotlib.pyplot as plt\n",
    "from mpl_toolkits.mplot3d import Axes3D\n",
    "import pandas as pd\n",
    "import numpy as np"
   ]
  },
  {
   "cell_type": "code",
   "execution_count": 36,
   "metadata": {},
   "outputs": [],
   "source": [
    "df=pd.read_clipboard()"
   ]
  },
  {
   "cell_type": "code",
   "execution_count": 35,
   "metadata": {},
   "outputs": [],
   "source": [
    "for col in df.columns:\n",
    "    df[col]=df[col].astype('float')"
   ]
  },
  {
   "cell_type": "code",
   "execution_count": 30,
   "metadata": {},
   "outputs": [
    {
     "data": {
      "text/plain": [
       "pandas.core.series.Series"
      ]
     },
     "execution_count": 30,
     "metadata": {},
     "output_type": "execute_result"
    }
   ],
   "source": [
    "type(xs)"
   ]
  },
  {
   "cell_type": "code",
   "execution_count": 11,
   "metadata": {},
   "outputs": [],
   "source": [
    "xs=df['Request to Accept %']\n",
    "ys=df['PTR(price to check)']\n",
    "zs=df['Surge']"
   ]
  },
  {
   "cell_type": "code",
   "execution_count": 37,
   "metadata": {},
   "outputs": [
    {
     "data": {
      "text/html": [
       "<div>\n",
       "<style scoped>\n",
       "    .dataframe tbody tr th:only-of-type {\n",
       "        vertical-align: middle;\n",
       "    }\n",
       "\n",
       "    .dataframe tbody tr th {\n",
       "        vertical-align: top;\n",
       "    }\n",
       "\n",
       "    .dataframe thead th {\n",
       "        text-align: right;\n",
       "    }\n",
       "</style>\n",
       "<table border=\"1\" class=\"dataframe\">\n",
       "  <thead>\n",
       "    <tr style=\"text-align: right;\">\n",
       "      <th></th>\n",
       "      <th>Request to Accept %</th>\n",
       "      <th>PTR(price to check)</th>\n",
       "      <th>Surge</th>\n",
       "    </tr>\n",
       "  </thead>\n",
       "  <tbody>\n",
       "    <tr>\n",
       "      <th>count</th>\n",
       "      <td>88980.000000</td>\n",
       "      <td>88980.000000</td>\n",
       "      <td>88980.000000</td>\n",
       "    </tr>\n",
       "    <tr>\n",
       "      <th>mean</th>\n",
       "      <td>0.779181</td>\n",
       "      <td>0.578752</td>\n",
       "      <td>0.184767</td>\n",
       "    </tr>\n",
       "    <tr>\n",
       "      <th>std</th>\n",
       "      <td>0.135106</td>\n",
       "      <td>0.130161</td>\n",
       "      <td>0.284782</td>\n",
       "    </tr>\n",
       "    <tr>\n",
       "      <th>min</th>\n",
       "      <td>0.040000</td>\n",
       "      <td>0.000000</td>\n",
       "      <td>-1.000000</td>\n",
       "    </tr>\n",
       "    <tr>\n",
       "      <th>25%</th>\n",
       "      <td>0.720000</td>\n",
       "      <td>0.510000</td>\n",
       "      <td>0.000000</td>\n",
       "    </tr>\n",
       "    <tr>\n",
       "      <th>50%</th>\n",
       "      <td>0.800000</td>\n",
       "      <td>0.600000</td>\n",
       "      <td>0.120000</td>\n",
       "    </tr>\n",
       "    <tr>\n",
       "      <th>75%</th>\n",
       "      <td>0.870000</td>\n",
       "      <td>0.670000</td>\n",
       "      <td>0.310000</td>\n",
       "    </tr>\n",
       "    <tr>\n",
       "      <th>max</th>\n",
       "      <td>1.000000</td>\n",
       "      <td>1.000000</td>\n",
       "      <td>4.400000</td>\n",
       "    </tr>\n",
       "  </tbody>\n",
       "</table>\n",
       "</div>"
      ],
      "text/plain": [
       "       Request to Accept %  PTR(price to check)         Surge\n",
       "count         88980.000000         88980.000000  88980.000000\n",
       "mean              0.779181             0.578752      0.184767\n",
       "std               0.135106             0.130161      0.284782\n",
       "min               0.040000             0.000000     -1.000000\n",
       "25%               0.720000             0.510000      0.000000\n",
       "50%               0.800000             0.600000      0.120000\n",
       "75%               0.870000             0.670000      0.310000\n",
       "max               1.000000             1.000000      4.400000"
      ]
     },
     "execution_count": 37,
     "metadata": {},
     "output_type": "execute_result"
    }
   ],
   "source": [
    "df.describe()"
   ]
  },
  {
   "cell_type": "code",
   "execution_count": 42,
   "metadata": {},
   "outputs": [
    {
     "data": {
      "text/plain": [
       "<matplotlib.axes._subplots.AxesSubplot at 0x19191815c18>"
      ]
     },
     "execution_count": 42,
     "metadata": {},
     "output_type": "execute_result"
    },
    {
     "data": {
      "image/png": "[encoded data removed]",
      "text/plain": [
       "<Figure size 432x288 with 1 Axes>"
      ]
     },
     "metadata": {
      "needs_background": "light"
     },
     "output_type": "display_data"
    }
   ],
   "source": [
    "df.boxplot(column=['Surge'])"
   ]
  },
  {
   "cell_type": "code",
   "execution_count": 48,
   "metadata": {},
   "outputs": [],
   "source": [
    "df_without_outlier=df[df.apply(lambda x: np.abs(x - x.mean()) / x.std() < 3).all(axis=1)]\n"
   ]
  },
  {
   "cell_type": "code",
   "execution_count": 50,
   "metadata": {},
   "outputs": [
    {
     "data": {
      "text/plain": [
       "<matplotlib.axes._subplots.AxesSubplot at 0x19191a42cc0>"
      ]
     },
     "execution_count": 50,
     "metadata": {},
     "output_type": "execute_result"
    },
    {
     "data": {
      "image/png": "[encoded data removed]",
      "text/plain": [
       "<Figure size 432x288 with 1 Axes>"
      ]
     },
     "metadata": {
      "needs_background": "light"
     },
     "output_type": "display_data"
    }
   ],
   "source": [
    "df_without_outlier.boxplot()"
   ]
  },
  {
   "cell_type": "code",
   "execution_count": 52,
   "metadata": {},
   "outputs": [
    {
     "data": {
      "text/html": [
       "<div>\n",
       "<style scoped>\n",
       "    .dataframe tbody tr th:only-of-type {\n",
       "        vertical-align: middle;\n",
       "    }\n",
       "\n",
       "    .dataframe tbody tr th {\n",
       "        vertical-align: top;\n",
       "    }\n",
       "\n",
       "    .dataframe thead th {\n",
       "        text-align: right;\n",
       "    }\n",
       "</style>\n",
       "<table border=\"1\" class=\"dataframe\">\n",
       "  <thead>\n",
       "    <tr style=\"text-align: right;\">\n",
       "      <th></th>\n",
       "      <th>Request to Accept %</th>\n",
       "      <th>PTR(price to check)</th>\n",
       "      <th>Surge</th>\n",
       "    </tr>\n",
       "  </thead>\n",
       "  <tbody>\n",
       "    <tr>\n",
       "      <th>Request to Accept %</th>\n",
       "      <td>1.000000</td>\n",
       "      <td>-0.091510</td>\n",
       "      <td>-0.303245</td>\n",
       "    </tr>\n",
       "    <tr>\n",
       "      <th>PTR(price to check)</th>\n",
       "      <td>-0.091510</td>\n",
       "      <td>1.000000</td>\n",
       "      <td>-0.102345</td>\n",
       "    </tr>\n",
       "    <tr>\n",
       "      <th>Surge</th>\n",
       "      <td>-0.303245</td>\n",
       "      <td>-0.102345</td>\n",
       "      <td>1.000000</td>\n",
       "    </tr>\n",
       "  </tbody>\n",
       "</table>\n",
       "</div>"
      ],
      "text/plain": [
       "                     Request to Accept %  PTR(price to check)     Surge\n",
       "Request to Accept %             1.000000            -0.091510 -0.303245\n",
       "PTR(price to check)            -0.091510             1.000000 -0.102345\n",
       "Surge                          -0.303245            -0.102345  1.000000"
      ]
     },
     "execution_count": 52,
     "metadata": {},
     "output_type": "execute_result"
    }
   ],
   "source": [
    "df_without_outlier.corr()"
   ]
  },
  {
   "cell_type": "code",
   "execution_count": 54,
   "metadata": {},
   "outputs": [
    {
     "data": {
      "text/html": [
       "<div>\n",
       "<style scoped>\n",
       "    .dataframe tbody tr th:only-of-type {\n",
       "        vertical-align: middle;\n",
       "    }\n",
       "\n",
       "    .dataframe tbody tr th {\n",
       "        vertical-align: top;\n",
       "    }\n",
       "\n",
       "    .dataframe thead th {\n",
       "        text-align: right;\n",
       "    }\n",
       "</style>\n",
       "<table border=\"1\" class=\"dataframe\">\n",
       "  <thead>\n",
       "    <tr style=\"text-align: right;\">\n",
       "      <th></th>\n",
       "      <th>Request to Accept %</th>\n",
       "      <th>PTR(price to check)</th>\n",
       "      <th>Surge</th>\n",
       "    </tr>\n",
       "  </thead>\n",
       "  <tbody>\n",
       "    <tr>\n",
       "      <th>0</th>\n",
       "      <td>0.55</td>\n",
       "      <td>1.00</td>\n",
       "      <td>0.04</td>\n",
       "    </tr>\n",
       "    <tr>\n",
       "      <th>1</th>\n",
       "      <td>1.00</td>\n",
       "      <td>1.00</td>\n",
       "      <td>0.11</td>\n",
       "    </tr>\n",
       "    <tr>\n",
       "      <th>2</th>\n",
       "      <td>0.75</td>\n",
       "      <td>0.91</td>\n",
       "      <td>-0.22</td>\n",
       "    </tr>\n",
       "    <tr>\n",
       "      <th>3</th>\n",
       "      <td>0.79</td>\n",
       "      <td>0.87</td>\n",
       "      <td>0.55</td>\n",
       "    </tr>\n",
       "    <tr>\n",
       "      <th>4</th>\n",
       "      <td>0.89</td>\n",
       "      <td>0.83</td>\n",
       "      <td>-0.01</td>\n",
       "    </tr>\n",
       "  </tbody>\n",
       "</table>\n",
       "</div>"
      ],
      "text/plain": [
       "   Request to Accept %  PTR(price to check)  Surge\n",
       "0                 0.55                 1.00   0.04\n",
       "1                 1.00                 1.00   0.11\n",
       "2                 0.75                 0.91  -0.22\n",
       "3                 0.79                 0.87   0.55\n",
       "4                 0.89                 0.83  -0.01"
      ]
     },
     "execution_count": 54,
     "metadata": {},
     "output_type": "execute_result"
    }
   ],
   "source": [
    "df.head()"
   ]
  },
  {
   "cell_type": "code",
   "execution_count": 53,
   "metadata": {},
   "outputs": [
    {
     "data": {
      "text/html": [
       "<div>\n",
       "<style scoped>\n",
       "    .dataframe tbody tr th:only-of-type {\n",
       "        vertical-align: middle;\n",
       "    }\n",
       "\n",
       "    .dataframe tbody tr th {\n",
       "        vertical-align: top;\n",
       "    }\n",
       "\n",
       "    .dataframe thead th {\n",
       "        text-align: right;\n",
       "    }\n",
       "</style>\n",
       "<table border=\"1\" class=\"dataframe\">\n",
       "  <thead>\n",
       "    <tr style=\"text-align: right;\">\n",
       "      <th></th>\n",
       "      <th>Request to Accept %</th>\n",
       "      <th>PTR(price to check)</th>\n",
       "      <th>Surge</th>\n",
       "    </tr>\n",
       "  </thead>\n",
       "  <tbody>\n",
       "    <tr>\n",
       "      <th>Request to Accept %</th>\n",
       "      <td>1.000000</td>\n",
       "      <td>-0.074552</td>\n",
       "      <td>-0.272849</td>\n",
       "    </tr>\n",
       "    <tr>\n",
       "      <th>PTR(price to check)</th>\n",
       "      <td>-0.074552</td>\n",
       "      <td>1.000000</td>\n",
       "      <td>-0.117847</td>\n",
       "    </tr>\n",
       "    <tr>\n",
       "      <th>Surge</th>\n",
       "      <td>-0.272849</td>\n",
       "      <td>-0.117847</td>\n",
       "      <td>1.000000</td>\n",
       "    </tr>\n",
       "  </tbody>\n",
       "</table>\n",
       "</div>"
      ],
      "text/plain": [
       "                     Request to Accept %  PTR(price to check)     Surge\n",
       "Request to Accept %             1.000000            -0.074552 -0.272849\n",
       "PTR(price to check)            -0.074552             1.000000 -0.117847\n",
       "Surge                          -0.272849            -0.117847  1.000000"
      ]
     },
     "execution_count": 53,
     "metadata": {},
     "output_type": "execute_result"
    }
   ],
   "source": [
    "df.corr()"
   ]
  },
  {
   "cell_type": "code",
   "execution_count": 55,
   "metadata": {},
   "outputs": [],
   "source": [
    "df_hourly=pd.read_clipboard()"
   ]
  },
  {
   "cell_type": "code",
   "execution_count": 56,
   "metadata": {},
   "outputs": [
    {
     "data": {
      "text/html": [
       "<div>\n",
       "<style scoped>\n",
       "    .dataframe tbody tr th:only-of-type {\n",
       "        vertical-align: middle;\n",
       "    }\n",
       "\n",
       "    .dataframe tbody tr th {\n",
       "        vertical-align: top;\n",
       "    }\n",
       "\n",
       "    .dataframe thead th {\n",
       "        text-align: right;\n",
       "    }\n",
       "</style>\n",
       "<table border=\"1\" class=\"dataframe\">\n",
       "  <thead>\n",
       "    <tr style=\"text-align: right;\">\n",
       "      <th></th>\n",
       "      <th>Hour</th>\n",
       "      <th>Request to Accept %</th>\n",
       "      <th>PTR(price to check)</th>\n",
       "      <th>Surge</th>\n",
       "    </tr>\n",
       "  </thead>\n",
       "  <tbody>\n",
       "    <tr>\n",
       "      <th>0</th>\n",
       "      <td>4</td>\n",
       "      <td>0.55</td>\n",
       "      <td>1.00</td>\n",
       "      <td>0.04</td>\n",
       "    </tr>\n",
       "    <tr>\n",
       "      <th>1</th>\n",
       "      <td>4</td>\n",
       "      <td>1.00</td>\n",
       "      <td>1.00</td>\n",
       "      <td>0.11</td>\n",
       "    </tr>\n",
       "    <tr>\n",
       "      <th>2</th>\n",
       "      <td>4</td>\n",
       "      <td>0.75</td>\n",
       "      <td>0.91</td>\n",
       "      <td>-0.22</td>\n",
       "    </tr>\n",
       "    <tr>\n",
       "      <th>3</th>\n",
       "      <td>7</td>\n",
       "      <td>0.79</td>\n",
       "      <td>0.87</td>\n",
       "      <td>0.55</td>\n",
       "    </tr>\n",
       "    <tr>\n",
       "      <th>4</th>\n",
       "      <td>11</td>\n",
       "      <td>0.89</td>\n",
       "      <td>0.83</td>\n",
       "      <td>-0.01</td>\n",
       "    </tr>\n",
       "  </tbody>\n",
       "</table>\n",
       "</div>"
      ],
      "text/plain": [
       "   Hour  Request to Accept %  PTR(price to check)  Surge\n",
       "0     4                 0.55                 1.00   0.04\n",
       "1     4                 1.00                 1.00   0.11\n",
       "2     4                 0.75                 0.91  -0.22\n",
       "3     7                 0.79                 0.87   0.55\n",
       "4    11                 0.89                 0.83  -0.01"
      ]
     },
     "execution_count": 56,
     "metadata": {},
     "output_type": "execute_result"
    }
   ],
   "source": [
    "df_hourly.head()"
   ]
  },
  {
   "cell_type": "code",
   "execution_count": 63,
   "metadata": {},
   "outputs": [],
   "source": [
    "peak=[6,7,8,9,16,17,18,19]\n",
    "df_peak=df_hourly[df_hourly['Hour'].isin(peak)]"
   ]
  },
  {
   "cell_type": "code",
   "execution_count": 65,
   "metadata": {},
   "outputs": [
    {
     "data": {
      "text/html": [
       "<div>\n",
       "<style scoped>\n",
       "    .dataframe tbody tr th:only-of-type {\n",
       "        vertical-align: middle;\n",
       "    }\n",
       "\n",
       "    .dataframe tbody tr th {\n",
       "        vertical-align: top;\n",
       "    }\n",
       "\n",
       "    .dataframe thead th {\n",
       "        text-align: right;\n",
       "    }\n",
       "</style>\n",
       "<table border=\"1\" class=\"dataframe\">\n",
       "  <thead>\n",
       "    <tr style=\"text-align: right;\">\n",
       "      <th></th>\n",
       "      <th>Hour</th>\n",
       "      <th>Request to Accept %</th>\n",
       "      <th>PTR(price to check)</th>\n",
       "      <th>Surge</th>\n",
       "    </tr>\n",
       "  </thead>\n",
       "  <tbody>\n",
       "    <tr>\n",
       "      <th>Hour</th>\n",
       "      <td>1.000000</td>\n",
       "      <td>-0.036137</td>\n",
       "      <td>-0.205920</td>\n",
       "      <td>0.289148</td>\n",
       "    </tr>\n",
       "    <tr>\n",
       "      <th>Request to Accept %</th>\n",
       "      <td>-0.036137</td>\n",
       "      <td>1.000000</td>\n",
       "      <td>-0.070288</td>\n",
       "      <td>-0.295568</td>\n",
       "    </tr>\n",
       "    <tr>\n",
       "      <th>PTR(price to check)</th>\n",
       "      <td>-0.205920</td>\n",
       "      <td>-0.070288</td>\n",
       "      <td>1.000000</td>\n",
       "      <td>-0.239616</td>\n",
       "    </tr>\n",
       "    <tr>\n",
       "      <th>Surge</th>\n",
       "      <td>0.289148</td>\n",
       "      <td>-0.295568</td>\n",
       "      <td>-0.239616</td>\n",
       "      <td>1.000000</td>\n",
       "    </tr>\n",
       "  </tbody>\n",
       "</table>\n",
       "</div>"
      ],
      "text/plain": [
       "                         Hour  Request to Accept %  PTR(price to check)  \\\n",
       "Hour                 1.000000            -0.036137            -0.205920   \n",
       "Request to Accept % -0.036137             1.000000            -0.070288   \n",
       "PTR(price to check) -0.205920            -0.070288             1.000000   \n",
       "Surge                0.289148            -0.295568            -0.239616   \n",
       "\n",
       "                        Surge  \n",
       "Hour                 0.289148  \n",
       "Request to Accept % -0.295568  \n",
       "PTR(price to check) -0.239616  \n",
       "Surge                1.000000  "
      ]
     },
     "execution_count": 65,
     "metadata": {},
     "output_type": "execute_result"
    }
   ],
   "source": [
    "df_peak.corr()"
   ]
  },
  {
   "cell_type": "code",
   "execution_count": 58,
   "metadata": {},
   "outputs": [],
   "source": [
    "import pandas as pd\n",
    "\n",
    "df=pd.read_clipboard()\n",
    "\n",
    "df.head()\n",
    "\n",
    "df['receive_irantime']=pd.to_datetime(df['receive_irantime'])\n",
    "df['send']=pd.to_datetime(df['send'])\n"
   ]
  },
  {
   "cell_type": "code",
   "execution_count": 59,
   "metadata": {},
   "outputs": [
    {
     "data": {
      "text/html": [
       "<div>\n",
       "<style scoped>\n",
       "    .dataframe tbody tr th:only-of-type {\n",
       "        vertical-align: middle;\n",
       "    }\n",
       "\n",
       "    .dataframe tbody tr th {\n",
       "        vertical-align: top;\n",
       "    }\n",
       "\n",
       "    .dataframe thead th {\n",
       "        text-align: right;\n",
       "    }\n",
       "</style>\n",
       "<table border=\"1\" class=\"dataframe\">\n",
       "  <thead>\n",
       "    <tr style=\"text-align: right;\">\n",
       "      <th></th>\n",
       "      <th>receive_fromnumber</th>\n",
       "      <th>receive_irantime</th>\n",
       "      <th>send</th>\n",
       "    </tr>\n",
       "  </thead>\n",
       "  <tbody>\n",
       "    <tr>\n",
       "      <th>0</th>\n",
       "      <td>9010139178</td>\n",
       "      <td>2019-04-14 16:19:31</td>\n",
       "      <td>2019-04-14 16:20:16</td>\n",
       "    </tr>\n",
       "    <tr>\n",
       "      <th>1</th>\n",
       "      <td>9010139178</td>\n",
       "      <td>2019-04-14 16:20:15</td>\n",
       "      <td>2019-04-14 16:20:16</td>\n",
       "    </tr>\n",
       "    <tr>\n",
       "      <th>2</th>\n",
       "      <td>9010208018</td>\n",
       "      <td>2019-04-14 13:22:37</td>\n",
       "      <td>2019-04-14 19:44:35</td>\n",
       "    </tr>\n",
       "    <tr>\n",
       "      <th>3</th>\n",
       "      <td>9010208018</td>\n",
       "      <td>2019-04-14 13:25:56</td>\n",
       "      <td>2019-04-14 19:44:35</td>\n",
       "    </tr>\n",
       "    <tr>\n",
       "      <th>4</th>\n",
       "      <td>9010208018</td>\n",
       "      <td>2019-04-14 13:38:01</td>\n",
       "      <td>2019-04-14 19:44:35</td>\n",
       "    </tr>\n",
       "  </tbody>\n",
       "</table>\n",
       "</div>"
      ],
      "text/plain": [
       "   receive_fromnumber    receive_irantime                send\n",
       "0          9010139178 2019-04-14 16:19:31 2019-04-14 16:20:16\n",
       "1          9010139178 2019-04-14 16:20:15 2019-04-14 16:20:16\n",
       "2          9010208018 2019-04-14 13:22:37 2019-04-14 19:44:35\n",
       "3          9010208018 2019-04-14 13:25:56 2019-04-14 19:44:35\n",
       "4          9010208018 2019-04-14 13:38:01 2019-04-14 19:44:35"
      ]
     },
     "execution_count": 59,
     "metadata": {},
     "output_type": "execute_result"
    }
   ],
   "source": [
    "df.head()"
   ]
  },
  {
   "cell_type": "code",
   "execution_count": 61,
   "metadata": {},
   "outputs": [],
   "source": [
    "pivot=df.pivot_table(values=['receive_irantime','send'],index='receive_fromnumber', aggfunc=np.min)"
   ]
  },
  {
   "cell_type": "code",
   "execution_count": 60,
   "metadata": {},
   "outputs": [],
   "source": [
    "import numpy as np"
   ]
  },
  {
   "cell_type": "code",
   "execution_count": 64,
   "metadata": {},
   "outputs": [],
   "source": [
    "pivot.to_clipboard()"
   ]
  },
  {
   "cell_type": "code",
   "execution_count": null,
   "metadata": {},
   "outputs": [],
   "source": []
  },
  {
   "cell_type": "code",
   "execution_count": null,
   "metadata": {},
   "outputs": [],
   "source": []
  },
  {
   "cell_type": "code",
   "execution_count": null,
   "metadata": {},
   "outputs": [],
   "source": []
  },
  {
   "cell_type": "code",
   "execution_count": null,
   "metadata": {},
   "outputs": [],
   "source": []
  }
 ],
 "metadata": {
  "kernelspec": {
   "display_name": "Python 3",
   "language": "python",
   "name": "python3"
  },
  "language_info": {
   "codemirror_mode": {
    "name": "ipython",
    "version": 3
   },
   "file_extension": ".py",
   "mimetype": "text/x-python",
   "name": "python",
   "nbconvert_exporter": "python",
   "pygments_lexer": "ipython3",
   "version": "3.7.1"
  }
 },
 "nbformat": 4,
 "nbformat_minor": 2
}
