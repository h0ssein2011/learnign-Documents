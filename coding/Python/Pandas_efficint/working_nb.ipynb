{
  "cells": [
    {
      "cell_type": "code",
      "execution_count": 1,
      "metadata": {
        "id": "WCm1PuxQOC3d"
      },
      "outputs": [],
      "source": [
        "import pandas as pd\n",
        "import requests\n",
        "import wget\n",
        "import numpy as np"
      ]
    },
    {
      "cell_type": "code",
      "execution_count": null,
      "metadata": {},
      "outputs": [],
      "source": [
        "df = pd.read_csv('vehicles.csv')\n",
        "\n",
        "df.head()"
      ]
    },
    {
      "cell_type": "code",
      "execution_count": 2,
      "metadata": {},
      "outputs": [
        {
          "name": "stderr",
          "output_type": "stream",
          "text": [
            "/var/folders/pg/zck9hy351gbfrqfqp_z4gb1m0000gn/T/ipykernel_4127/1016391085.py:1: DtypeWarning: Columns (10) have mixed types. Specify dtype option on import or set low_memory=False.\n",
            "  energy = pd.read_csv('global_power_plant_database.csv')\n"
          ]
        },
        {
          "data": {
            "text/html": [
              "<div>\n",
              "<style scoped>\n",
              "    .dataframe tbody tr th:only-of-type {\n",
              "        vertical-align: middle;\n",
              "    }\n",
              "\n",
              "    .dataframe tbody tr th {\n",
              "        vertical-align: top;\n",
              "    }\n",
              "\n",
              "    .dataframe thead th {\n",
              "        text-align: right;\n",
              "    }\n",
              "</style>\n",
              "<table border=\"1\" class=\"dataframe\">\n",
              "  <thead>\n",
              "    <tr style=\"text-align: right;\">\n",
              "      <th></th>\n",
              "      <th>country</th>\n",
              "      <th>country_long</th>\n",
              "      <th>name</th>\n",
              "      <th>gppd_idnr</th>\n",
              "      <th>capacity_mw</th>\n",
              "      <th>latitude</th>\n",
              "      <th>longitude</th>\n",
              "      <th>primary_fuel</th>\n",
              "      <th>other_fuel1</th>\n",
              "      <th>other_fuel2</th>\n",
              "      <th>...</th>\n",
              "      <th>estimated_generation_gwh_2013</th>\n",
              "      <th>estimated_generation_gwh_2014</th>\n",
              "      <th>estimated_generation_gwh_2015</th>\n",
              "      <th>estimated_generation_gwh_2016</th>\n",
              "      <th>estimated_generation_gwh_2017</th>\n",
              "      <th>estimated_generation_note_2013</th>\n",
              "      <th>estimated_generation_note_2014</th>\n",
              "      <th>estimated_generation_note_2015</th>\n",
              "      <th>estimated_generation_note_2016</th>\n",
              "      <th>estimated_generation_note_2017</th>\n",
              "    </tr>\n",
              "  </thead>\n",
              "  <tbody>\n",
              "    <tr>\n",
              "      <th>0</th>\n",
              "      <td>AFG</td>\n",
              "      <td>Afghanistan</td>\n",
              "      <td>Kajaki Hydroelectric Power Plant Afghanistan</td>\n",
              "      <td>GEODB0040538</td>\n",
              "      <td>33.0</td>\n",
              "      <td>32.322</td>\n",
              "      <td>65.1190</td>\n",
              "      <td>Hydro</td>\n",
              "      <td>NaN</td>\n",
              "      <td>NaN</td>\n",
              "      <td>...</td>\n",
              "      <td>123.77</td>\n",
              "      <td>162.90</td>\n",
              "      <td>97.39</td>\n",
              "      <td>137.76</td>\n",
              "      <td>119.50</td>\n",
              "      <td>HYDRO-V1</td>\n",
              "      <td>HYDRO-V1</td>\n",
              "      <td>HYDRO-V1</td>\n",
              "      <td>HYDRO-V1</td>\n",
              "      <td>HYDRO-V1</td>\n",
              "    </tr>\n",
              "    <tr>\n",
              "      <th>1</th>\n",
              "      <td>AFG</td>\n",
              "      <td>Afghanistan</td>\n",
              "      <td>Kandahar DOG</td>\n",
              "      <td>WKS0070144</td>\n",
              "      <td>10.0</td>\n",
              "      <td>31.670</td>\n",
              "      <td>65.7950</td>\n",
              "      <td>Solar</td>\n",
              "      <td>NaN</td>\n",
              "      <td>NaN</td>\n",
              "      <td>...</td>\n",
              "      <td>18.43</td>\n",
              "      <td>17.48</td>\n",
              "      <td>18.25</td>\n",
              "      <td>17.70</td>\n",
              "      <td>18.29</td>\n",
              "      <td>SOLAR-V1-NO-AGE</td>\n",
              "      <td>SOLAR-V1-NO-AGE</td>\n",
              "      <td>SOLAR-V1-NO-AGE</td>\n",
              "      <td>SOLAR-V1-NO-AGE</td>\n",
              "      <td>SOLAR-V1-NO-AGE</td>\n",
              "    </tr>\n",
              "    <tr>\n",
              "      <th>2</th>\n",
              "      <td>AFG</td>\n",
              "      <td>Afghanistan</td>\n",
              "      <td>Kandahar JOL</td>\n",
              "      <td>WKS0071196</td>\n",
              "      <td>10.0</td>\n",
              "      <td>31.623</td>\n",
              "      <td>65.7920</td>\n",
              "      <td>Solar</td>\n",
              "      <td>NaN</td>\n",
              "      <td>NaN</td>\n",
              "      <td>...</td>\n",
              "      <td>18.64</td>\n",
              "      <td>17.58</td>\n",
              "      <td>19.10</td>\n",
              "      <td>17.62</td>\n",
              "      <td>18.72</td>\n",
              "      <td>SOLAR-V1-NO-AGE</td>\n",
              "      <td>SOLAR-V1-NO-AGE</td>\n",
              "      <td>SOLAR-V1-NO-AGE</td>\n",
              "      <td>SOLAR-V1-NO-AGE</td>\n",
              "      <td>SOLAR-V1-NO-AGE</td>\n",
              "    </tr>\n",
              "    <tr>\n",
              "      <th>3</th>\n",
              "      <td>AFG</td>\n",
              "      <td>Afghanistan</td>\n",
              "      <td>Mahipar Hydroelectric Power Plant Afghanistan</td>\n",
              "      <td>GEODB0040541</td>\n",
              "      <td>66.0</td>\n",
              "      <td>34.556</td>\n",
              "      <td>69.4787</td>\n",
              "      <td>Hydro</td>\n",
              "      <td>NaN</td>\n",
              "      <td>NaN</td>\n",
              "      <td>...</td>\n",
              "      <td>225.06</td>\n",
              "      <td>203.55</td>\n",
              "      <td>146.90</td>\n",
              "      <td>230.18</td>\n",
              "      <td>174.91</td>\n",
              "      <td>HYDRO-V1</td>\n",
              "      <td>HYDRO-V1</td>\n",
              "      <td>HYDRO-V1</td>\n",
              "      <td>HYDRO-V1</td>\n",
              "      <td>HYDRO-V1</td>\n",
              "    </tr>\n",
              "    <tr>\n",
              "      <th>4</th>\n",
              "      <td>AFG</td>\n",
              "      <td>Afghanistan</td>\n",
              "      <td>Naghlu Dam Hydroelectric Power Plant Afghanistan</td>\n",
              "      <td>GEODB0040534</td>\n",
              "      <td>100.0</td>\n",
              "      <td>34.641</td>\n",
              "      <td>69.7170</td>\n",
              "      <td>Hydro</td>\n",
              "      <td>NaN</td>\n",
              "      <td>NaN</td>\n",
              "      <td>...</td>\n",
              "      <td>406.16</td>\n",
              "      <td>357.22</td>\n",
              "      <td>270.99</td>\n",
              "      <td>395.38</td>\n",
              "      <td>350.80</td>\n",
              "      <td>HYDRO-V1</td>\n",
              "      <td>HYDRO-V1</td>\n",
              "      <td>HYDRO-V1</td>\n",
              "      <td>HYDRO-V1</td>\n",
              "      <td>HYDRO-V1</td>\n",
              "    </tr>\n",
              "  </tbody>\n",
              "</table>\n",
              "<p>5 rows × 36 columns</p>\n",
              "</div>"
            ],
            "text/plain": [
              "  country country_long                                              name  \\\n",
              "0     AFG  Afghanistan      Kajaki Hydroelectric Power Plant Afghanistan   \n",
              "1     AFG  Afghanistan                                      Kandahar DOG   \n",
              "2     AFG  Afghanistan                                      Kandahar JOL   \n",
              "3     AFG  Afghanistan     Mahipar Hydroelectric Power Plant Afghanistan   \n",
              "4     AFG  Afghanistan  Naghlu Dam Hydroelectric Power Plant Afghanistan   \n",
              "\n",
              "      gppd_idnr  capacity_mw  latitude  longitude primary_fuel other_fuel1  \\\n",
              "0  GEODB0040538         33.0    32.322    65.1190        Hydro         NaN   \n",
              "1    WKS0070144         10.0    31.670    65.7950        Solar         NaN   \n",
              "2    WKS0071196         10.0    31.623    65.7920        Solar         NaN   \n",
              "3  GEODB0040541         66.0    34.556    69.4787        Hydro         NaN   \n",
              "4  GEODB0040534        100.0    34.641    69.7170        Hydro         NaN   \n",
              "\n",
              "  other_fuel2  ... estimated_generation_gwh_2013  \\\n",
              "0         NaN  ...                        123.77   \n",
              "1         NaN  ...                         18.43   \n",
              "2         NaN  ...                         18.64   \n",
              "3         NaN  ...                        225.06   \n",
              "4         NaN  ...                        406.16   \n",
              "\n",
              "   estimated_generation_gwh_2014 estimated_generation_gwh_2015  \\\n",
              "0                         162.90                         97.39   \n",
              "1                          17.48                         18.25   \n",
              "2                          17.58                         19.10   \n",
              "3                         203.55                        146.90   \n",
              "4                         357.22                        270.99   \n",
              "\n",
              "  estimated_generation_gwh_2016 estimated_generation_gwh_2017  \\\n",
              "0                        137.76                        119.50   \n",
              "1                         17.70                         18.29   \n",
              "2                         17.62                         18.72   \n",
              "3                        230.18                        174.91   \n",
              "4                        395.38                        350.80   \n",
              "\n",
              "  estimated_generation_note_2013 estimated_generation_note_2014  \\\n",
              "0                       HYDRO-V1                       HYDRO-V1   \n",
              "1                SOLAR-V1-NO-AGE                SOLAR-V1-NO-AGE   \n",
              "2                SOLAR-V1-NO-AGE                SOLAR-V1-NO-AGE   \n",
              "3                       HYDRO-V1                       HYDRO-V1   \n",
              "4                       HYDRO-V1                       HYDRO-V1   \n",
              "\n",
              "   estimated_generation_note_2015  estimated_generation_note_2016  \\\n",
              "0                        HYDRO-V1                        HYDRO-V1   \n",
              "1                 SOLAR-V1-NO-AGE                 SOLAR-V1-NO-AGE   \n",
              "2                 SOLAR-V1-NO-AGE                 SOLAR-V1-NO-AGE   \n",
              "3                        HYDRO-V1                        HYDRO-V1   \n",
              "4                        HYDRO-V1                        HYDRO-V1   \n",
              "\n",
              "   estimated_generation_note_2017  \n",
              "0                        HYDRO-V1  \n",
              "1                 SOLAR-V1-NO-AGE  \n",
              "2                 SOLAR-V1-NO-AGE  \n",
              "3                        HYDRO-V1  \n",
              "4                        HYDRO-V1  \n",
              "\n",
              "[5 rows x 36 columns]"
            ]
          },
          "execution_count": 2,
          "metadata": {},
          "output_type": "execute_result"
        }
      ],
      "source": [
        "energy = pd.read_csv('global_power_plant_database.csv')\n",
        "energy.head()"
      ]
    },
    {
      "cell_type": "code",
      "execution_count": 3,
      "metadata": {
        "colab": {
          "base_uri": "https://localhost:8080/"
        },
        "id": "1_tgzqeGGl-W",
        "outputId": "14c5bcf0-fc7f-49b6-be49-d8f7ddebd226"
      },
      "outputs": [
        {
          "data": {
            "text/plain": [
              "1     NaN\n",
              "2    55.0\n",
              "2    64.0\n",
              "2    65.0\n",
              "2    74.0\n",
              "4     NaN\n",
              "dtype: float64"
            ]
          },
          "execution_count": 3,
          "metadata": {},
          "output_type": "execute_result"
        }
      ],
      "source": [
        "s1 = pd.Series ([10 , 20, 30] , index =[1 ,2 ,2])\n",
        "s2 = pd.Series ([35 , 44, 53] , index =[2 ,2 ,4] , name ='s2 ')\n",
        "\n",
        "s1+s2"
      ]
    },
    {
      "cell_type": "code",
      "execution_count": 3,
      "metadata": {
        "colab": {
          "base_uri": "https://localhost:8080/"
        },
        "id": "S6MdcfrAG7Cx",
        "outputId": "685461fc-6af3-4f67-8329-472e858f9a93"
      },
      "outputs": [
        {
          "data": {
            "text/plain": [
              "1     NaN\n",
              "2    55.0\n",
              "2    64.0\n",
              "2    65.0\n",
              "2    74.0\n",
              "4     NaN\n",
              "dtype: float64"
            ]
          },
          "execution_count": 3,
          "metadata": {},
          "output_type": "execute_result"
        }
      ],
      "source": [
        "s1.add(s2)"
      ]
    },
    {
      "cell_type": "code",
      "execution_count": 5,
      "metadata": {
        "colab": {
          "base_uri": "https://localhost:8080/"
        },
        "id": "hJ-8fRLvHAHO",
        "outputId": "449a0637-b7be-4901-87de-40196a918b17"
      },
      "outputs": [
        {
          "data": {
            "text/plain": [
              "1    11.0\n",
              "2    55.0\n",
              "2    64.0\n",
              "2    65.0\n",
              "2    74.0\n",
              "4    54.0\n",
              "dtype: float64"
            ]
          },
          "execution_count": 5,
          "metadata": {},
          "output_type": "execute_result"
        }
      ],
      "source": [
        "s1.add(s2,fill_value=1)"
      ]
    },
    {
      "cell_type": "code",
      "execution_count": null,
      "metadata": {
        "colab": {
          "base_uri": "https://localhost:8080/"
        },
        "id": "xL0_ebB52HxG",
        "outputId": "345470d8-d736-4de2-8058-6a154ef42b42"
      },
      "outputs": [
        {
          "data": {
            "text/plain": [
              "0     7\n",
              "1     9\n",
              "2    11\n",
              "dtype: int64"
            ]
          },
          "execution_count": 2,
          "metadata": {},
          "output_type": "execute_result"
        }
      ],
      "source": [
        "# Broadcasting\n",
        "s= pd.Series([3,5,7])\n",
        "s+4"
      ]
    },
    {
      "cell_type": "code",
      "execution_count": null,
      "metadata": {
        "colab": {
          "base_uri": "https://localhost:8080/",
          "height": 143
        },
        "id": "RBqHM0qf5Oc7",
        "outputId": "44de0fee-48c0-413b-bb6a-a2ccfa161341"
      },
      "outputs": [
        {
          "data": {
            "text/html": [
              "\n",
              "  <div id=\"df-fa9c44ee-ea2a-4fd9-8fcb-8f1489ffe41a\">\n",
              "    <div class=\"colab-df-container\">\n",
              "      <div>\n",
              "<style scoped>\n",
              "    .dataframe tbody tr th:only-of-type {\n",
              "        vertical-align: middle;\n",
              "    }\n",
              "\n",
              "    .dataframe tbody tr th {\n",
              "        vertical-align: top;\n",
              "    }\n",
              "\n",
              "    .dataframe thead th {\n",
              "        text-align: right;\n",
              "    }\n",
              "</style>\n",
              "<table border=\"1\" class=\"dataframe\">\n",
              "  <thead>\n",
              "    <tr style=\"text-align: right;\">\n",
              "      <th></th>\n",
              "      <th>a</th>\n",
              "      <th>b</th>\n",
              "    </tr>\n",
              "  </thead>\n",
              "  <tbody>\n",
              "    <tr>\n",
              "      <th>0</th>\n",
              "      <td>1</td>\n",
              "      <td>4</td>\n",
              "    </tr>\n",
              "    <tr>\n",
              "      <th>1</th>\n",
              "      <td>2</td>\n",
              "      <td>5</td>\n",
              "    </tr>\n",
              "    <tr>\n",
              "      <th>2</th>\n",
              "      <td>3</td>\n",
              "      <td>6</td>\n",
              "    </tr>\n",
              "  </tbody>\n",
              "</table>\n",
              "</div>\n",
              "      <button class=\"colab-df-convert\" onclick=\"convertToInteractive('df-fa9c44ee-ea2a-4fd9-8fcb-8f1489ffe41a')\"\n",
              "              title=\"Convert this dataframe to an interactive table.\"\n",
              "              style=\"display:none;\">\n",
              "        \n",
              "  <svg xmlns=\"http://www.w3.org/2000/svg\" height=\"24px\"viewBox=\"0 0 24 24\"\n",
              "       width=\"24px\">\n",
              "    <path d=\"M0 0h24v24H0V0z\" fill=\"none\"/>\n",
              "    <path d=\"M18.56 5.44l.94 2.06.94-2.06 2.06-.94-2.06-.94-.94-2.06-.94 2.06-2.06.94zm-11 1L8.5 8.5l.94-2.06 2.06-.94-2.06-.94L8.5 2.5l-.94 2.06-2.06.94zm10 10l.94 2.06.94-2.06 2.06-.94-2.06-.94-.94-2.06-.94 2.06-2.06.94z\"/><path d=\"M17.41 7.96l-1.37-1.37c-.4-.4-.92-.59-1.43-.59-.52 0-1.04.2-1.43.59L10.3 9.45l-7.72 7.72c-.78.78-.78 2.05 0 2.83L4 21.41c.39.39.9.59 1.41.59.51 0 1.02-.2 1.41-.59l7.78-7.78 2.81-2.81c.8-.78.8-2.07 0-2.86zM5.41 20L4 18.59l7.72-7.72 1.47 1.35L5.41 20z\"/>\n",
              "  </svg>\n",
              "      </button>\n",
              "      \n",
              "  <style>\n",
              "    .colab-df-container {\n",
              "      display:flex;\n",
              "      flex-wrap:wrap;\n",
              "      gap: 12px;\n",
              "    }\n",
              "\n",
              "    .colab-df-convert {\n",
              "      background-color: #E8F0FE;\n",
              "      border: none;\n",
              "      border-radius: 50%;\n",
              "      cursor: pointer;\n",
              "      display: none;\n",
              "      fill: #1967D2;\n",
              "      height: 32px;\n",
              "      padding: 0 0 0 0;\n",
              "      width: 32px;\n",
              "    }\n",
              "\n",
              "    .colab-df-convert:hover {\n",
              "      background-color: #E2EBFA;\n",
              "      box-shadow: 0px 1px 2px rgba(60, 64, 67, 0.3), 0px 1px 3px 1px rgba(60, 64, 67, 0.15);\n",
              "      fill: #174EA6;\n",
              "    }\n",
              "\n",
              "    [theme=dark] .colab-df-convert {\n",
              "      background-color: #3B4455;\n",
              "      fill: #D2E3FC;\n",
              "    }\n",
              "\n",
              "    [theme=dark] .colab-df-convert:hover {\n",
              "      background-color: #434B5C;\n",
              "      box-shadow: 0px 1px 3px 1px rgba(0, 0, 0, 0.15);\n",
              "      filter: drop-shadow(0px 1px 2px rgba(0, 0, 0, 0.3));\n",
              "      fill: #FFFFFF;\n",
              "    }\n",
              "  </style>\n",
              "\n",
              "      <script>\n",
              "        const buttonEl =\n",
              "          document.querySelector('#df-fa9c44ee-ea2a-4fd9-8fcb-8f1489ffe41a button.colab-df-convert');\n",
              "        buttonEl.style.display =\n",
              "          google.colab.kernel.accessAllowed ? 'block' : 'none';\n",
              "\n",
              "        async function convertToInteractive(key) {\n",
              "          const element = document.querySelector('#df-fa9c44ee-ea2a-4fd9-8fcb-8f1489ffe41a');\n",
              "          const dataTable =\n",
              "            await google.colab.kernel.invokeFunction('convertToInteractive',\n",
              "                                                     [key], {});\n",
              "          if (!dataTable) return;\n",
              "\n",
              "          const docLinkHtml = 'Like what you see? Visit the ' +\n",
              "            '<a target=\"_blank\" href=https://colab.research.google.com/notebooks/data_table.ipynb>data table notebook</a>'\n",
              "            + ' to learn more about interactive tables.';\n",
              "          element.innerHTML = '';\n",
              "          dataTable['output_type'] = 'display_data';\n",
              "          await google.colab.output.renderOutput(dataTable, element);\n",
              "          const docLink = document.createElement('div');\n",
              "          docLink.innerHTML = docLinkHtml;\n",
              "          element.appendChild(docLink);\n",
              "        }\n",
              "      </script>\n",
              "    </div>\n",
              "  </div>\n",
              "  "
            ],
            "text/plain": [
              "   a  b\n",
              "0  1  4\n",
              "1  2  5\n",
              "2  3  6"
            ]
          },
          "execution_count": 3,
          "metadata": {},
          "output_type": "execute_result"
        }
      ],
      "source": [
        "dict = {'a':[1,2,3],'b':[4,5,6]}\n",
        "df = pd.DataFrame(dict)\n",
        "df.head()"
      ]
    },
    {
      "cell_type": "code",
      "execution_count": null,
      "metadata": {
        "colab": {
          "base_uri": "https://localhost:8080/",
          "height": 143
        },
        "id": "T94GT0xz5j1p",
        "outputId": "91c1865b-6469-4f59-e97a-7ecdfe3d7d6c"
      },
      "outputs": [
        {
          "data": {
            "text/html": [
              "\n",
              "  <div id=\"df-4329efe6-6af0-4f2c-b07f-abd735394569\">\n",
              "    <div class=\"colab-df-container\">\n",
              "      <div>\n",
              "<style scoped>\n",
              "    .dataframe tbody tr th:only-of-type {\n",
              "        vertical-align: middle;\n",
              "    }\n",
              "\n",
              "    .dataframe tbody tr th {\n",
              "        vertical-align: top;\n",
              "    }\n",
              "\n",
              "    .dataframe thead th {\n",
              "        text-align: right;\n",
              "    }\n",
              "</style>\n",
              "<table border=\"1\" class=\"dataframe\">\n",
              "  <thead>\n",
              "    <tr style=\"text-align: right;\">\n",
              "      <th></th>\n",
              "      <th>a</th>\n",
              "      <th>b</th>\n",
              "    </tr>\n",
              "  </thead>\n",
              "  <tbody>\n",
              "    <tr>\n",
              "      <th>0</th>\n",
              "      <td>5</td>\n",
              "      <td>8</td>\n",
              "    </tr>\n",
              "    <tr>\n",
              "      <th>1</th>\n",
              "      <td>6</td>\n",
              "      <td>9</td>\n",
              "    </tr>\n",
              "    <tr>\n",
              "      <th>2</th>\n",
              "      <td>7</td>\n",
              "      <td>10</td>\n",
              "    </tr>\n",
              "  </tbody>\n",
              "</table>\n",
              "</div>\n",
              "      <button class=\"colab-df-convert\" onclick=\"convertToInteractive('df-4329efe6-6af0-4f2c-b07f-abd735394569')\"\n",
              "              title=\"Convert this dataframe to an interactive table.\"\n",
              "              style=\"display:none;\">\n",
              "        \n",
              "  <svg xmlns=\"http://www.w3.org/2000/svg\" height=\"24px\"viewBox=\"0 0 24 24\"\n",
              "       width=\"24px\">\n",
              "    <path d=\"M0 0h24v24H0V0z\" fill=\"none\"/>\n",
              "    <path d=\"M18.56 5.44l.94 2.06.94-2.06 2.06-.94-2.06-.94-.94-2.06-.94 2.06-2.06.94zm-11 1L8.5 8.5l.94-2.06 2.06-.94-2.06-.94L8.5 2.5l-.94 2.06-2.06.94zm10 10l.94 2.06.94-2.06 2.06-.94-2.06-.94-.94-2.06-.94 2.06-2.06.94z\"/><path d=\"M17.41 7.96l-1.37-1.37c-.4-.4-.92-.59-1.43-.59-.52 0-1.04.2-1.43.59L10.3 9.45l-7.72 7.72c-.78.78-.78 2.05 0 2.83L4 21.41c.39.39.9.59 1.41.59.51 0 1.02-.2 1.41-.59l7.78-7.78 2.81-2.81c.8-.78.8-2.07 0-2.86zM5.41 20L4 18.59l7.72-7.72 1.47 1.35L5.41 20z\"/>\n",
              "  </svg>\n",
              "      </button>\n",
              "      \n",
              "  <style>\n",
              "    .colab-df-container {\n",
              "      display:flex;\n",
              "      flex-wrap:wrap;\n",
              "      gap: 12px;\n",
              "    }\n",
              "\n",
              "    .colab-df-convert {\n",
              "      background-color: #E8F0FE;\n",
              "      border: none;\n",
              "      border-radius: 50%;\n",
              "      cursor: pointer;\n",
              "      display: none;\n",
              "      fill: #1967D2;\n",
              "      height: 32px;\n",
              "      padding: 0 0 0 0;\n",
              "      width: 32px;\n",
              "    }\n",
              "\n",
              "    .colab-df-convert:hover {\n",
              "      background-color: #E2EBFA;\n",
              "      box-shadow: 0px 1px 2px rgba(60, 64, 67, 0.3), 0px 1px 3px 1px rgba(60, 64, 67, 0.15);\n",
              "      fill: #174EA6;\n",
              "    }\n",
              "\n",
              "    [theme=dark] .colab-df-convert {\n",
              "      background-color: #3B4455;\n",
              "      fill: #D2E3FC;\n",
              "    }\n",
              "\n",
              "    [theme=dark] .colab-df-convert:hover {\n",
              "      background-color: #434B5C;\n",
              "      box-shadow: 0px 1px 3px 1px rgba(0, 0, 0, 0.15);\n",
              "      filter: drop-shadow(0px 1px 2px rgba(0, 0, 0, 0.3));\n",
              "      fill: #FFFFFF;\n",
              "    }\n",
              "  </style>\n",
              "\n",
              "      <script>\n",
              "        const buttonEl =\n",
              "          document.querySelector('#df-4329efe6-6af0-4f2c-b07f-abd735394569 button.colab-df-convert');\n",
              "        buttonEl.style.display =\n",
              "          google.colab.kernel.accessAllowed ? 'block' : 'none';\n",
              "\n",
              "        async function convertToInteractive(key) {\n",
              "          const element = document.querySelector('#df-4329efe6-6af0-4f2c-b07f-abd735394569');\n",
              "          const dataTable =\n",
              "            await google.colab.kernel.invokeFunction('convertToInteractive',\n",
              "                                                     [key], {});\n",
              "          if (!dataTable) return;\n",
              "\n",
              "          const docLinkHtml = 'Like what you see? Visit the ' +\n",
              "            '<a target=\"_blank\" href=https://colab.research.google.com/notebooks/data_table.ipynb>data table notebook</a>'\n",
              "            + ' to learn more about interactive tables.';\n",
              "          element.innerHTML = '';\n",
              "          dataTable['output_type'] = 'display_data';\n",
              "          await google.colab.output.renderOutput(dataTable, element);\n",
              "          const docLink = document.createElement('div');\n",
              "          docLink.innerHTML = docLinkHtml;\n",
              "          element.appendChild(docLink);\n",
              "        }\n",
              "      </script>\n",
              "    </div>\n",
              "  </div>\n",
              "  "
            ],
            "text/plain": [
              "   a   b\n",
              "0  5   8\n",
              "1  6   9\n",
              "2  7  10"
            ]
          },
          "execution_count": 5,
          "metadata": {},
          "output_type": "execute_result"
        }
      ],
      "source": [
        "df + 4"
      ]
    },
    {
      "cell_type": "code",
      "execution_count": 36,
      "metadata": {},
      "outputs": [],
      "source": [
        "city_mpg = df.city08\n",
        "highway_mpg = df.highway08"
      ]
    },
    {
      "cell_type": "code",
      "execution_count": 12,
      "metadata": {},
      "outputs": [
        {
          "data": {
            "text/plain": [
              "0        22.0\n",
              "1        11.5\n",
              "2        28.0\n",
              "3        11.0\n",
              "4        20.0\n",
              "         ... \n",
              "41139    22.5\n",
              "41140    24.0\n",
              "41141    21.0\n",
              "41142    21.0\n",
              "41143    18.5\n",
              "Length: 41144, dtype: float64"
            ]
          },
          "execution_count": 12,
          "metadata": {},
          "output_type": "execute_result"
        }
      ],
      "source": [
        "(\n",
        "    (city_mpg + highway_mpg)\n",
        "    / 2  \n",
        "    )"
      ]
    },
    {
      "cell_type": "code",
      "execution_count": 3,
      "metadata": {},
      "outputs": [
        {
          "data": {
            "text/plain": [
              "country                            object\n",
              "country_long                       object\n",
              "name                               object\n",
              "gppd_idnr                          object\n",
              "capacity_mw                       float64\n",
              "latitude                          float64\n",
              "longitude                         float64\n",
              "primary_fuel                       object\n",
              "other_fuel1                        object\n",
              "other_fuel2                        object\n",
              "other_fuel3                        object\n",
              "commissioning_year                float64\n",
              "owner                              object\n",
              "source                             object\n",
              "url                                object\n",
              "geolocation_source                 object\n",
              "wepp_id                            object\n",
              "year_of_capacity_data             float64\n",
              "generation_gwh_2013               float64\n",
              "generation_gwh_2014               float64\n",
              "generation_gwh_2015               float64\n",
              "generation_gwh_2016               float64\n",
              "generation_gwh_2017               float64\n",
              "generation_gwh_2018               float64\n",
              "generation_gwh_2019               float64\n",
              "generation_data_source             object\n",
              "estimated_generation_gwh_2013     float64\n",
              "estimated_generation_gwh_2014     float64\n",
              "estimated_generation_gwh_2015     float64\n",
              "estimated_generation_gwh_2016     float64\n",
              "estimated_generation_gwh_2017     float64\n",
              "estimated_generation_note_2013     object\n",
              "estimated_generation_note_2014     object\n",
              "estimated_generation_note_2015     object\n",
              "estimated_generation_note_2016     object\n",
              "estimated_generation_note_2017     object\n",
              "dtype: object"
            ]
          },
          "execution_count": 3,
          "metadata": {},
          "output_type": "execute_result"
        }
      ],
      "source": [
        "energy.dtypes"
      ]
    },
    {
      "cell_type": "code",
      "execution_count": 4,
      "metadata": {},
      "outputs": [
        {
          "data": {
            "text/plain": [
              "0         33.0\n",
              "1         10.0\n",
              "2         10.0\n",
              "3         66.0\n",
              "4        100.0\n",
              "         ...  \n",
              "34931     50.0\n",
              "34932     20.0\n",
              "34933    108.0\n",
              "34934    920.0\n",
              "34935    750.0\n",
              "Name: capacity_mw, Length: 34936, dtype: float64"
            ]
          },
          "execution_count": 4,
          "metadata": {},
          "output_type": "execute_result"
        }
      ],
      "source": [
        "capacity = energy.capacity_mw\n",
        "capacity"
      ]
    },
    {
      "cell_type": "code",
      "execution_count": 9,
      "metadata": {},
      "outputs": [
        {
          "name": "stdout",
          "output_type": "stream",
          "text": [
            "\u001b[0;31mSignature:\u001b[0m \u001b[0mcapacity\u001b[0m\u001b[0;34m.\u001b[0m\u001b[0madd\u001b[0m\u001b[0;34m(\u001b[0m\u001b[0mother\u001b[0m\u001b[0;34m,\u001b[0m \u001b[0mlevel\u001b[0m\u001b[0;34m=\u001b[0m\u001b[0;32mNone\u001b[0m\u001b[0;34m,\u001b[0m \u001b[0mfill_value\u001b[0m\u001b[0;34m=\u001b[0m\u001b[0;32mNone\u001b[0m\u001b[0;34m,\u001b[0m \u001b[0maxis\u001b[0m\u001b[0;34m=\u001b[0m\u001b[0;36m0\u001b[0m\u001b[0;34m)\u001b[0m\u001b[0;34m\u001b[0m\u001b[0;34m\u001b[0m\u001b[0m\n",
            "\u001b[0;31mDocstring:\u001b[0m\n",
            "Return Addition of series and other, element-wise (binary operator `add`).\n",
            "\n",
            "Equivalent to ``series + other``, but with support to substitute a fill_value for\n",
            "missing data in either one of the inputs.\n",
            "\n",
            "Parameters\n",
            "----------\n",
            "other : Series or scalar value\n",
            "fill_value : None or float value, default None (NaN)\n",
            "    Fill existing missing (NaN) values, and any new element needed for\n",
            "    successful Series alignment, with this value before computation.\n",
            "    If data in both corresponding Series locations is missing\n",
            "    the result of filling (at that location) will be missing.\n",
            "level : int or name\n",
            "    Broadcast across a level, matching Index values on the\n",
            "    passed MultiIndex level.\n",
            "\n",
            "Returns\n",
            "-------\n",
            "Series\n",
            "    The result of the operation.\n",
            "\n",
            "See Also\n",
            "--------\n",
            "Series.radd : Reverse of the Addition operator, see\n",
            "    `Python documentation\n",
            "    <https://docs.python.org/3/reference/datamodel.html#emulating-numeric-types>`_\n",
            "    for more details.\n",
            "\n",
            "Examples\n",
            "--------\n",
            ">>> a = pd.Series([1, 1, 1, np.nan], index=['a', 'b', 'c', 'd'])\n",
            ">>> a\n",
            "a    1.0\n",
            "b    1.0\n",
            "c    1.0\n",
            "d    NaN\n",
            "dtype: float64\n",
            ">>> b = pd.Series([1, np.nan, 1, np.nan], index=['a', 'b', 'd', 'e'])\n",
            ">>> b\n",
            "a    1.0\n",
            "b    NaN\n",
            "d    1.0\n",
            "e    NaN\n",
            "dtype: float64\n",
            ">>> a.add(b, fill_value=0)\n",
            "a    2.0\n",
            "b    1.0\n",
            "c    1.0\n",
            "d    1.0\n",
            "e    NaN\n",
            "dtype: float64\n",
            "\u001b[0;31mFile:\u001b[0m      ~/Library/Python/3.8/lib/python/site-packages/pandas/core/ops/__init__.py\n",
            "\u001b[0;31mType:\u001b[0m      method\n"
          ]
        }
      ],
      "source": [
        "capacity.add?"
      ]
    },
    {
      "cell_type": "code",
      "execution_count": 5,
      "metadata": {},
      "outputs": [
        {
          "data": {
            "text/plain": [
              "0         53.0\n",
              "1         30.0\n",
              "2         30.0\n",
              "3         86.0\n",
              "4        120.0\n",
              "         ...  \n",
              "34931     70.0\n",
              "34932     40.0\n",
              "34933    128.0\n",
              "34934    940.0\n",
              "34935    770.0\n",
              "Name: capacity_mw, Length: 34936, dtype: float64"
            ]
          },
          "execution_count": 5,
          "metadata": {},
          "output_type": "execute_result"
        }
      ],
      "source": [
        "capacity + 20"
      ]
    },
    {
      "cell_type": "code",
      "execution_count": 6,
      "metadata": {},
      "outputs": [
        {
          "data": {
            "text/plain": [
              "0          66.0\n",
              "1          20.0\n",
              "2          20.0\n",
              "3         132.0\n",
              "4         200.0\n",
              "          ...  \n",
              "34931     100.0\n",
              "34932      40.0\n",
              "34933     216.0\n",
              "34934    1840.0\n",
              "34935    1500.0\n",
              "Name: capacity_mw, Length: 34936, dtype: float64"
            ]
          },
          "execution_count": 6,
          "metadata": {},
          "output_type": "execute_result"
        }
      ],
      "source": [
        "capacity.add(capacity)"
      ]
    },
    {
      "cell_type": "code",
      "execution_count": 15,
      "metadata": {},
      "outputs": [
        {
          "data": {
            "text/plain": [
              "0.5735951779117247"
            ]
          },
          "execution_count": 15,
          "metadata": {},
          "output_type": "execute_result"
        }
      ],
      "source": [
        "(city_mpg\n",
        ".gt(50)\n",
        ".mul(100)\n",
        ".mean()\n",
        ")"
      ]
    },
    {
      "cell_type": "code",
      "execution_count": 17,
      "metadata": {},
      "outputs": [],
      "source": [
        "def secont_last(df):\n",
        "    return df.iloc[-2]"
      ]
    },
    {
      "cell_type": "code",
      "execution_count": 25,
      "metadata": {},
      "outputs": [
        {
          "data": {
            "text/plain": [
              "mean           18.369045\n",
              "max                  150\n",
              "min                    6\n",
              "std             7.905886\n",
              "var            62.503036\n",
              "skew            7.705198\n",
              "kurt           91.902168\n",
              "quantile            17.0\n",
              "median              17.0\n",
              "secont_last           18\n",
              "dtypes             int64\n",
              "hasnans            False\n",
              "idxmax             31256\n",
              "idxmin              7901\n",
              "Name: city08, dtype: object"
            ]
          },
          "execution_count": 25,
          "metadata": {},
          "output_type": "execute_result"
        }
      ],
      "source": [
        "(city_mpg\n",
        ".agg(['mean','max','min','std','var','skew','kurt','quantile','median','first','last',secont_last,'dtypes',\n",
        "'hasnans','idxmax','idxmin',])\n",
        ")"
      ]
    },
    {
      "cell_type": "code",
      "execution_count": 7,
      "metadata": {},
      "outputs": [
        {
          "data": {
            "text/plain": [
              "True"
            ]
          },
          "execution_count": 7,
          "metadata": {},
          "output_type": "execute_result"
        }
      ],
      "source": [
        "s1.is_monotonic_increasing"
      ]
    },
    {
      "cell_type": "code",
      "execution_count": 15,
      "metadata": {},
      "outputs": [],
      "source": [
        "primary_fuel = energy.primary_fuel\n"
      ]
    },
    {
      "cell_type": "code",
      "execution_count": 12,
      "metadata": {},
      "outputs": [
        {
          "data": {
            "text/plain": [
              "1944"
            ]
          },
          "execution_count": 12,
          "metadata": {},
          "output_type": "execute_result"
        }
      ],
      "source": [
        "#1. Find the count of non-missing values of a series.\n",
        "energy.shape[0] - energy.other_fuel1.isna().sum()"
      ]
    },
    {
      "cell_type": "code",
      "execution_count": 16,
      "metadata": {},
      "outputs": [
        {
          "data": {
            "text/plain": [
              "34936"
            ]
          },
          "execution_count": 16,
          "metadata": {},
          "output_type": "execute_result"
        }
      ],
      "source": [
        "#2. Find the number of entries of a series.\n",
        "primary_fuel.size"
      ]
    },
    {
      "cell_type": "code",
      "execution_count": 17,
      "metadata": {},
      "outputs": [
        {
          "data": {
            "text/plain": [
              "15"
            ]
          },
          "execution_count": 17,
          "metadata": {},
          "output_type": "execute_result"
        }
      ],
      "source": [
        "#3. Find the number of unique entries of a series.\n",
        "primary_fuel.nunique()"
      ]
    },
    {
      "cell_type": "code",
      "execution_count": 19,
      "metadata": {},
      "outputs": [
        {
          "data": {
            "text/plain": [
              "0         33.0\n",
              "1         10.0\n",
              "2         10.0\n",
              "3         66.0\n",
              "4        100.0\n",
              "         ...  \n",
              "34931     50.0\n",
              "34932     20.0\n",
              "34933    108.0\n",
              "34934    920.0\n",
              "34935    750.0\n",
              "Name: capacity_mw, Length: 34936, dtype: float64"
            ]
          },
          "execution_count": 19,
          "metadata": {},
          "output_type": "execute_result"
        }
      ],
      "source": [
        "capacity_mv = energy.capacity_mw\n",
        "capacity_mv#"
      ]
    },
    {
      "cell_type": "code",
      "execution_count": 20,
      "metadata": {},
      "outputs": [
        {
          "data": {
            "text/plain": [
              "163.35514790637163"
            ]
          },
          "execution_count": 20,
          "metadata": {},
          "output_type": "execute_result"
        }
      ],
      "source": [
        "#4. Find the mean value of a series.\n",
        "capacity_mv.mean()"
      ]
    },
    {
      "cell_type": "code",
      "execution_count": 21,
      "metadata": {},
      "outputs": [
        {
          "data": {
            "text/plain": [
              "22500.0"
            ]
          },
          "execution_count": 21,
          "metadata": {},
          "output_type": "execute_result"
        }
      ],
      "source": [
        "#5. Find the maximum value of a series.\n",
        "capacity_mv.max()"
      ]
    },
    {
      "cell_type": "code",
      "execution_count": 25,
      "metadata": {},
      "outputs": [
        {
          "data": {
            "text/plain": [
              "mean         163.355148\n",
              "max        22500.000000\n",
              "nunique     5611.000000\n",
              "size       34936.000000\n",
              "Name: capacity_mw, dtype: float64"
            ]
          },
          "execution_count": 25,
          "metadata": {},
          "output_type": "execute_result"
        }
      ],
      "source": [
        "#6. Use the .agg method to find all of the above.\n",
        "capacity_mv.agg(['mean','max','nunique','size'])"
      ]
    },
    {
      "cell_type": "code",
      "execution_count": 26,
      "metadata": {},
      "outputs": [],
      "source": [
        "import numpy as np"
      ]
    },
    {
      "cell_type": "code",
      "execution_count": 27,
      "metadata": {},
      "outputs": [
        {
          "data": {
            "text/plain": [
              "iinfo(min=-9223372036854775808, max=9223372036854775807, dtype=int64)"
            ]
          },
          "execution_count": 27,
          "metadata": {},
          "output_type": "execute_result"
        }
      ],
      "source": [
        "np.iinfo('int64')"
      ]
    },
    {
      "cell_type": "code",
      "execution_count": 28,
      "metadata": {},
      "outputs": [
        {
          "data": {
            "text/plain": [
              "iinfo(min=-32768, max=32767, dtype=int16)"
            ]
          },
          "execution_count": 28,
          "metadata": {},
          "output_type": "execute_result"
        }
      ],
      "source": [
        "np.iinfo('int16')"
      ]
    },
    {
      "cell_type": "code",
      "execution_count": 29,
      "metadata": {},
      "outputs": [
        {
          "data": {
            "text/plain": [
              "iinfo(min=-128, max=127, dtype=int8)"
            ]
          },
          "execution_count": 29,
          "metadata": {},
          "output_type": "execute_result"
        }
      ],
      "source": [
        "np.iinfo('int8')"
      ]
    },
    {
      "cell_type": "code",
      "execution_count": 42,
      "metadata": {},
      "outputs": [
        {
          "name": "stdout",
          "output_type": "stream",
          "text": [
            "329152\n",
            "150\n",
            "82288\n"
          ]
        }
      ],
      "source": [
        "#memory usage\n",
        "print(city_mpg.nbytes)\n",
        "print(city_mpg.max())\n",
        "print(city_mpg.astype('int16').nbytes)\n"
      ]
    },
    {
      "cell_type": "code",
      "execution_count": 8,
      "metadata": {},
      "outputs": [
        {
          "name": "stdout",
          "output_type": "stream",
          "text": [
            "279488\n",
            "35056\n",
            "0.8745706434623312\n"
          ]
        }
      ],
      "source": [
        "#string datat type conversion & memory usage\n",
        "print(energy.primary_fuel.nbytes)\n",
        "print(energy.primary_fuel.astype('category').nbytes)\n",
        "print((energy.primary_fuel.nbytes - energy.primary_fuel.astype('category').nbytes) / energy.primary_fuel.nbytes)  \n"
      ]
    },
    {
      "cell_type": "code",
      "execution_count": 5,
      "metadata": {},
      "outputs": [],
      "source": [
        "# broadcasting vs apply Methods\n",
        "def gt(val,threshold):\n",
        "    return val > threshold"
      ]
    },
    {
      "cell_type": "code",
      "execution_count": 7,
      "metadata": {},
      "outputs": [
        {
          "name": "stdout",
          "output_type": "stream",
          "text": [
            "17.3 ms ± 170 µs per loop (mean ± std. dev. of 7 runs, 100 loops each)\n"
          ]
        }
      ],
      "source": [
        "%%timeit\n",
        "threshold = 20\n",
        "city_mpg.apply(gt,threshold=threshold)"
      ]
    },
    {
      "cell_type": "code",
      "execution_count": 8,
      "metadata": {},
      "outputs": [
        {
          "name": "stdout",
          "output_type": "stream",
          "text": [
            "118 µs ± 900 ns per loop (mean ± std. dev. of 7 runs, 10000 loops each)\n"
          ]
        }
      ],
      "source": [
        "%%timeit\n",
        "city_mpg.gt(threshold)"
      ]
    },
    {
      "cell_type": "code",
      "execution_count": 3,
      "metadata": {},
      "outputs": [
        {
          "data": {
            "text/plain": [
              "0        Alfa Romeo\n",
              "1           Ferrari\n",
              "2             Dodge\n",
              "3             Dodge\n",
              "4            Subaru\n",
              "            ...    \n",
              "41139        Subaru\n",
              "41140        Subaru\n",
              "41141        Subaru\n",
              "41142        Subaru\n",
              "41143        Subaru\n",
              "Name: make, Length: 41144, dtype: object"
            ]
          },
          "execution_count": 3,
          "metadata": {},
          "output_type": "execute_result"
        }
      ],
      "source": [
        "# apply vs where\n",
        "make = df.make\n",
        "make"
      ]
    },
    {
      "cell_type": "code",
      "execution_count": 12,
      "metadata": {},
      "outputs": [
        {
          "data": {
            "text/plain": [
              "Chevrolet                      4003\n",
              "Ford                           3371\n",
              "Dodge                          2583\n",
              "GMC                            2494\n",
              "Toyota                         2071\n",
              "                               ... \n",
              "Volga Associated Automobile       1\n",
              "Panos                             1\n",
              "Mahindra                          1\n",
              "Excalibur Autos                   1\n",
              "London Coach Co Inc               1\n",
              "Name: make, Length: 136, dtype: int64"
            ]
          },
          "execution_count": 12,
          "metadata": {},
          "output_type": "execute_result"
        }
      ],
      "source": [
        "make.value_counts()"
      ]
    },
    {
      "cell_type": "code",
      "execution_count": 13,
      "metadata": {},
      "outputs": [
        {
          "data": {
            "text/plain": [
              "Index(['Chevrolet', 'Ford', 'Dodge', 'GMC', 'Toyota'], dtype='object')"
            ]
          },
          "execution_count": 13,
          "metadata": {},
          "output_type": "execute_result"
        }
      ],
      "source": [
        "top_five = make.value_counts().index[:5]\n",
        "top_five"
      ]
    },
    {
      "cell_type": "code",
      "execution_count": 16,
      "metadata": {},
      "outputs": [],
      "source": [
        "def generalize_top5(make):\n",
        "    if make in top_five:\n",
        "        return make\n",
        "    else:\n",
        "        return 'Other'"
      ]
    },
    {
      "cell_type": "code",
      "execution_count": 18,
      "metadata": {},
      "outputs": [
        {
          "name": "stdout",
          "output_type": "stream",
          "text": [
            "20 ms ± 574 µs per loop (mean ± std. dev. of 7 runs, 100 loops each)\n"
          ]
        }
      ],
      "source": [
        "%%timeit\n",
        "make.apply(generalize_top5)\n"
      ]
    },
    {
      "cell_type": "code",
      "execution_count": 19,
      "metadata": {},
      "outputs": [
        {
          "name": "stdout",
          "output_type": "stream",
          "text": [
            "2.48 ms ± 16.7 µs per loop (mean ± std. dev. of 7 runs, 100 loops each)\n"
          ]
        }
      ],
      "source": [
        "%%timeit\n",
        "make.where(make.isin(top_five),'Other')"
      ]
    },
    {
      "cell_type": "code",
      "execution_count": 21,
      "metadata": {},
      "outputs": [
        {
          "name": "stdout",
          "output_type": "stream",
          "text": [
            "2.68 ms ± 108 µs per loop (mean ± std. dev. of 7 runs, 100 loops each)\n"
          ]
        }
      ],
      "source": [
        "%%timeit\n",
        "#we can use Mask as complemntary of where \n",
        "make.mask(~make.isin(top_five),'other')"
      ]
    },
    {
      "cell_type": "code",
      "execution_count": 10,
      "metadata": {},
      "outputs": [
        {
          "data": {
            "text/plain": [
              "other        19400\n",
              "top_10        7222\n",
              "Chevrolet     4003\n",
              "Ford          3371\n",
              "Dodge         2583\n",
              "GMC           2494\n",
              "Toyota        2071\n",
              "Name: make, dtype: int64"
            ]
          },
          "execution_count": 10,
          "metadata": {},
          "output_type": "execute_result"
        }
      ],
      "source": [
        "#use the where method\n",
        "vc = make.value_counts()\n",
        "top_5 = vc.index[:5]\n",
        "top_10 = vc.index[:10]\n",
        "\n",
        "def generalize_top5(val):\n",
        "    if val in top_5:\n",
        "        return val\n",
        "    elif val in top_10:\n",
        "        return 'top_10'\n",
        "    else:\n",
        "        return 'other'\n",
        "make.apply(generalize_top5)\n"
      ]
    },
    {
      "cell_type": "code",
      "execution_count": 14,
      "metadata": {},
      "outputs": [
        {
          "data": {
            "text/plain": [
              "0        Other\n",
              "1        Other\n",
              "2        Dodge\n",
              "3        Dodge\n",
              "4        Other\n",
              "         ...  \n",
              "41139    Other\n",
              "41140    Other\n",
              "41141    Other\n",
              "41142    Other\n",
              "41143    Other\n",
              "Name: make, Length: 41144, dtype: object"
            ]
          },
          "execution_count": 14,
          "metadata": {},
          "output_type": "execute_result"
        }
      ],
      "source": [
        "(make\n",
        ".where(make.isin(top_5),'top_10')\n",
        ".where(make.isin(top_10),'Other')\n",
        ")"
      ]
    },
    {
      "cell_type": "code",
      "execution_count": 19,
      "metadata": {},
      "outputs": [
        {
          "data": {
            "text/plain": [
              "206"
            ]
          },
          "execution_count": 19,
          "metadata": {},
          "output_type": "execute_result"
        }
      ],
      "source": [
        "#count the number of missing values\n",
        "cylinder = df.cylinders\n",
        "(cylinder\n",
        ".isna()\n",
        ".sum()\n",
        ")"
      ]
    },
    {
      "cell_type": "code",
      "execution_count": 25,
      "metadata": {},
      "outputs": [
        {
          "data": {
            "text/plain": [
              "Tesla              74\n",
              "smart              16\n",
              "Ford               15\n",
              "Nissan             14\n",
              "BMW                10\n",
              "Chevrolet           8\n",
              "Honda               7\n",
              "Kia                 7\n",
              "Fiat                7\n",
              "Toyota              7\n",
              "BYD                 7\n",
              "Volkswagen          5\n",
              "Mitsubishi          5\n",
              "Hyundai             4\n",
              "Mercedes-Benz       4\n",
              "Jaguar              2\n",
              "Azure Dynamics      2\n",
              "CODA Automotive     2\n",
              "GMC                 2\n",
              "Subaru              2\n",
              "Scion               1\n",
              "MINI                1\n",
              "Plymouth            1\n",
              "Dodge               1\n",
              "Mazda               1\n",
              "Audi                1\n",
              "Name: make, dtype: int64"
            ]
          },
          "execution_count": 25,
          "metadata": {},
          "output_type": "execute_result"
        }
      ],
      "source": [
        "make = df.make\n",
        "missing = cylinder.isna()\n",
        "make.loc[missing].value_counts()"
      ]
    },
    {
      "cell_type": "code",
      "execution_count": 33,
      "metadata": {},
      "outputs": [
        {
          "data": {
            "text/html": [
              "<div>\n",
              "<style scoped>\n",
              "    .dataframe tbody tr th:only-of-type {\n",
              "        vertical-align: middle;\n",
              "    }\n",
              "\n",
              "    .dataframe tbody tr th {\n",
              "        vertical-align: top;\n",
              "    }\n",
              "\n",
              "    .dataframe thead th {\n",
              "        text-align: right;\n",
              "    }\n",
              "</style>\n",
              "<table border=\"1\" class=\"dataframe\">\n",
              "  <thead>\n",
              "    <tr style=\"text-align: right;\">\n",
              "      <th></th>\n",
              "      <th>original</th>\n",
              "      <th>linear</th>\n",
              "      <th>polynomial</th>\n",
              "    </tr>\n",
              "  </thead>\n",
              "  <tbody>\n",
              "    <tr>\n",
              "      <th>0</th>\n",
              "      <td>10.0</td>\n",
              "      <td>10.0</td>\n",
              "      <td>10.000000</td>\n",
              "    </tr>\n",
              "    <tr>\n",
              "      <th>1</th>\n",
              "      <td>20.0</td>\n",
              "      <td>20.0</td>\n",
              "      <td>20.000000</td>\n",
              "    </tr>\n",
              "    <tr>\n",
              "      <th>2</th>\n",
              "      <td>33.0</td>\n",
              "      <td>33.0</td>\n",
              "      <td>33.000000</td>\n",
              "    </tr>\n",
              "    <tr>\n",
              "      <th>3</th>\n",
              "      <td>NaN</td>\n",
              "      <td>44.0</td>\n",
              "      <td>44.707816</td>\n",
              "    </tr>\n",
              "    <tr>\n",
              "      <th>4</th>\n",
              "      <td>55.0</td>\n",
              "      <td>55.0</td>\n",
              "      <td>55.000000</td>\n",
              "    </tr>\n",
              "    <tr>\n",
              "      <th>5</th>\n",
              "      <td>64.0</td>\n",
              "      <td>64.0</td>\n",
              "      <td>64.000000</td>\n",
              "    </tr>\n",
              "    <tr>\n",
              "      <th>6</th>\n",
              "      <td>70.0</td>\n",
              "      <td>70.0</td>\n",
              "      <td>70.000000</td>\n",
              "    </tr>\n",
              "    <tr>\n",
              "      <th>7</th>\n",
              "      <td>NaN</td>\n",
              "      <td>80.0</td>\n",
              "      <td>79.149501</td>\n",
              "    </tr>\n",
              "    <tr>\n",
              "      <th>8</th>\n",
              "      <td>90.0</td>\n",
              "      <td>90.0</td>\n",
              "      <td>90.000000</td>\n",
              "    </tr>\n",
              "    <tr>\n",
              "      <th>9</th>\n",
              "      <td>100.0</td>\n",
              "      <td>100.0</td>\n",
              "      <td>100.000000</td>\n",
              "    </tr>\n",
              "  </tbody>\n",
              "</table>\n",
              "</div>"
            ],
            "text/plain": [
              "   original  linear  polynomial\n",
              "0      10.0    10.0   10.000000\n",
              "1      20.0    20.0   20.000000\n",
              "2      33.0    33.0   33.000000\n",
              "3       NaN    44.0   44.707816\n",
              "4      55.0    55.0   55.000000\n",
              "5      64.0    64.0   64.000000\n",
              "6      70.0    70.0   70.000000\n",
              "7       NaN    80.0   79.149501\n",
              "8      90.0    90.0   90.000000\n",
              "9     100.0   100.0  100.000000"
            ]
          },
          "execution_count": 33,
          "metadata": {},
          "output_type": "execute_result"
        }
      ],
      "source": [
        "# use intrpolate method in pandas   \n",
        "temp = pd.Series([10,20,33,np.nan,55,64,70,np.nan,90,100])\n",
        "linear = temp.interpolate(method='linear')\n",
        "polynomial = temp.interpolate(method='polynomial',order=2)\n",
        "\n",
        "comp = pd.DataFrame({'original':temp,'linear':linear,'polynomial':polynomial})\n",
        "comp\n"
      ]
    },
    {
      "cell_type": "code",
      "execution_count": 38,
      "metadata": {},
      "outputs": [
        {
          "data": {
            "text/plain": [
              "count    41144.000000\n",
              "mean        18.369045\n",
              "std          7.905886\n",
              "min          6.000000\n",
              "25%         15.000000\n",
              "50%         17.000000\n",
              "75%         20.000000\n",
              "max        150.000000\n",
              "Name: city08, dtype: float64"
            ]
          },
          "execution_count": 38,
          "metadata": {},
          "output_type": "execute_result"
        }
      ],
      "source": [
        "city_mpg.describe()"
      ]
    },
    {
      "cell_type": "code",
      "execution_count": 39,
      "metadata": {},
      "outputs": [
        {
          "data": {
            "text/plain": [
              "count    41144.000000\n",
              "mean        17.807943\n",
              "std          4.203152\n",
              "min         11.000000\n",
              "25%         15.000000\n",
              "50%         17.000000\n",
              "75%         20.000000\n",
              "max         27.000000\n",
              "Name: city08, dtype: float64"
            ]
          },
          "execution_count": 39,
          "metadata": {},
          "output_type": "execute_result"
        }
      ],
      "source": [
        "#clip city_mpg to the range of [5%,95%]\n",
        "(city_mpg\n",
        ".clip(lower=city_mpg.quantile(0.05),upper=city_mpg.quantile(0.95))\n",
        ").describe()"
      ]
    },
    {
      "cell_type": "code",
      "execution_count": 48,
      "metadata": {},
      "outputs": [
        {
          "data": {
            "text/plain": [
              "0        19\n",
              "1         9\n",
              "2        23\n",
              "3        10\n",
              "4        17\n",
              "         ..\n",
              "41139    19\n",
              "41140    20\n",
              "41141    18\n",
              "41142    18\n",
              "41143    16\n",
              "Name: city08, Length: 41144, dtype: int64"
            ]
          },
          "execution_count": 48,
          "metadata": {},
          "output_type": "execute_result"
        }
      ],
      "source": [
        "#sort values and index\n",
        "(city_mpg\n",
        ".sort_values()\n",
        ".sort_index()\n",
        ")"
      ]
    },
    {
      "cell_type": "code",
      "execution_count": 50,
      "metadata": {},
      "outputs": [
        {
          "data": {
            "text/plain": [
              "0    3\n",
              "1    5\n",
              "2    7\n",
              "3    5\n",
              "4    3\n",
              "5    2\n",
              "6    1\n",
              "7    4\n",
              "8    1\n",
              "dtype: int64"
            ]
          },
          "execution_count": 50,
          "metadata": {},
          "output_type": "execute_result"
        }
      ],
      "source": [
        "s= pd.Series([3,5,7,5,3,2,1,4,1])\n",
        "s"
      ]
    },
    {
      "cell_type": "code",
      "execution_count": 51,
      "metadata": {},
      "outputs": [
        {
          "data": {
            "text/plain": [
              "0    3\n",
              "1    5\n",
              "2    7\n",
              "5    2\n",
              "6    1\n",
              "7    4\n",
              "dtype: int64"
            ]
          },
          "execution_count": 51,
          "metadata": {},
          "output_type": "execute_result"
        }
      ],
      "source": [
        "s.drop_duplicates()"
      ]
    },
    {
      "cell_type": "code",
      "execution_count": 52,
      "metadata": {},
      "outputs": [
        {
          "data": {
            "text/plain": [
              "2    7\n",
              "3    5\n",
              "4    3\n",
              "5    2\n",
              "7    4\n",
              "8    1\n",
              "dtype: int64"
            ]
          },
          "execution_count": 52,
          "metadata": {},
          "output_type": "execute_result"
        }
      ],
      "source": [
        "s.drop_duplicates(keep='last')"
      ]
    },
    {
      "cell_type": "code",
      "execution_count": 53,
      "metadata": {},
      "outputs": [
        {
          "data": {
            "text/plain": [
              "2    7\n",
              "5    2\n",
              "7    4\n",
              "dtype: int64"
            ]
          },
          "execution_count": 53,
          "metadata": {},
          "output_type": "execute_result"
        }
      ],
      "source": [
        "# remove duplicates \n",
        "s.drop_duplicates(keep=False)"
      ]
    },
    {
      "cell_type": "code",
      "execution_count": 57,
      "metadata": {},
      "outputs": [
        {
          "data": {
            "text/plain": [
              "7901       6\n",
              "34557      6\n",
              "37161      6\n",
              "21060      6\n",
              "35887      6\n",
              "        ... \n",
              "34563    138\n",
              "34564    140\n",
              "32599    150\n",
              "31256    150\n",
              "33423    150\n",
              "Name: city08, Length: 41144, dtype: int64"
            ]
          },
          "execution_count": 57,
          "metadata": {},
          "output_type": "execute_result"
        }
      ],
      "source": [
        "city_mpg.sort_values()"
      ]
    },
    {
      "cell_type": "code",
      "execution_count": 72,
      "metadata": {},
      "outputs": [
        {
          "data": {
            "text/plain": [
              "0        27060.5\n",
              "1          235.5\n",
              "2        35830.0\n",
              "3          607.5\n",
              "4        19484.0\n",
              "          ...   \n",
              "41139    27060.5\n",
              "41140    29719.5\n",
              "41141    23528.0\n",
              "41142    23528.0\n",
              "41143    15479.0\n",
              "Name: city08, Length: 41144, dtype: float64"
            ]
          },
          "execution_count": 72,
          "metadata": {},
          "output_type": "execute_result"
        }
      ],
      "source": [
        "city_mpg.rank()"
      ]
    },
    {
      "cell_type": "code",
      "execution_count": 78,
      "metadata": {},
      "outputs": [
        {
          "data": {
            "text/plain": [
              "3.0"
            ]
          },
          "execution_count": 78,
          "metadata": {},
          "output_type": "execute_result"
        }
      ],
      "source": [
        "city_mpg.rank().min()"
      ]
    },
    {
      "cell_type": "code",
      "execution_count": 79,
      "metadata": {},
      "outputs": [
        {
          "data": {
            "text/plain": [
              "1.0"
            ]
          },
          "execution_count": 79,
          "metadata": {},
          "output_type": "execute_result"
        }
      ],
      "source": [
        "s = pd.Series([1,2,3,40,5,6,7,8,9,100])\n",
        "s.rank().min()"
      ]
    },
    {
      "cell_type": "code",
      "execution_count": 84,
      "metadata": {},
      "outputs": [
        {
          "data": {
            "text/plain": [
              "0      1.0\n",
              "1      2.0\n",
              "2      3.0\n",
              "3     code\n",
              "4      5.0\n",
              "5      6.0\n",
              "6      7.0\n",
              "7      8.0\n",
              "8      NaN\n",
              "9    100.0\n",
              "dtype: object"
            ]
          },
          "execution_count": 84,
          "metadata": {},
          "output_type": "execute_result"
        }
      ],
      "source": [
        "#replace method\n",
        "s.replace(to_replace=[9,40],value=[np.nan,'code'])"
      ]
    },
    {
      "cell_type": "code",
      "execution_count": 86,
      "metadata": {},
      "outputs": [
        {
          "data": {
            "text/plain": [
              "0      1.0\n",
              "1      2.0\n",
              "2      3.0\n",
              "3     code\n",
              "4      5.0\n",
              "5      6.0\n",
              "6      7.0\n",
              "7      8.0\n",
              "8      NaN\n",
              "9    100.0\n",
              "dtype: object"
            ]
          },
          "execution_count": 86,
          "metadata": {},
          "output_type": "execute_result"
        }
      ],
      "source": [
        "s.replace({9:np.nan,40:'code'})"
      ]
    },
    {
      "cell_type": "code",
      "execution_count": 93,
      "metadata": {},
      "outputs": [
        {
          "data": {
            "text/plain": [
              "0        (5.856, 20.4]\n",
              "1        (5.856, 20.4]\n",
              "2         (20.4, 34.8]\n",
              "3        (5.856, 20.4]\n",
              "4        (5.856, 20.4]\n",
              "             ...      \n",
              "41139    (5.856, 20.4]\n",
              "41140    (5.856, 20.4]\n",
              "41141    (5.856, 20.4]\n",
              "41142    (5.856, 20.4]\n",
              "41143    (5.856, 20.4]\n",
              "Name: city08, Length: 41144, dtype: category\n",
              "Categories (10, interval[float64, right]): [(5.856, 20.4] < (20.4, 34.8] < (34.8, 49.2] < (49.2, 63.6] ... (92.4, 106.8] < (106.8, 121.2] < (121.2, 135.6] < (135.6, 150.0]]"
            ]
          },
          "execution_count": 93,
          "metadata": {},
          "output_type": "execute_result"
        }
      ],
      "source": [
        "#bin method\n",
        "(pd.cut\n",
        "(city_mpg,bins=10)\n",
        "# .value_counts()\n",
        ")"
      ]
    },
    {
      "cell_type": "code",
      "execution_count": 98,
      "metadata": {},
      "outputs": [
        {
          "data": {
            "text/plain": [
              "0        rage_0\n",
              "1        rage_0\n",
              "2        rage_1\n",
              "3        rage_0\n",
              "4        rage_0\n",
              "          ...  \n",
              "41139    rage_0\n",
              "41140    rage_0\n",
              "41141    rage_0\n",
              "41142    rage_0\n",
              "41143    rage_0\n",
              "Name: city08, Length: 41144, dtype: category\n",
              "Categories (10, object): ['rage_0' < 'rage_1' < 'rage_2' < 'rage_3' ... 'rage_6' < 'rage_7' < 'rage_8' < 'rage_9']"
            ]
          },
          "execution_count": 98,
          "metadata": {},
          "output_type": "execute_result"
        }
      ],
      "source": [
        "(pd.cut\n",
        "(city_mpg,bins=10,labels=['rage_'+str(i) for i in range(10)])\n",
        "# .value_counts()\n",
        ")"
      ]
    },
    {
      "cell_type": "code",
      "execution_count": null,
      "metadata": {},
      "outputs": [
        {
          "data": {
            "text/plain": [
              "0        rage_0\n",
              "1        rage_0\n",
              "2        rage_1\n",
              "3        rage_0\n",
              "4        rage_0\n",
              "          ...  \n",
              "41139    rage_0\n",
              "41140    rage_0\n",
              "41141    rage_0\n",
              "41142    rage_0\n",
              "41143    rage_0\n",
              "Name: city08, Length: 41144, dtype: category\n",
              "Categories (10, object): ['rage_0' < 'rage_1' < 'rage_2' < 'rage_3' ... 'rage_6' < 'rage_7' < 'rage_8' < 'rage_9']"
            ]
          },
          "metadata": {},
          "output_type": "display_data"
        }
      ],
      "source": [
        "(pd.cut\n",
        "(city_mpg,bins=10,labels=['rage_'+str(i) for i in range(10)])\n",
        "# .value_counts()\n",
        ")"
      ]
    },
    {
      "cell_type": "code",
      "execution_count": 4,
      "metadata": {},
      "outputs": [],
      "source": [
        "def bin_capacity(val,mean):\n",
        "    if val < mean:\n",
        "        return 'low'\n",
        "    else:\n",
        "        return 'high'"
      ]
    },
    {
      "cell_type": "code",
      "execution_count": 14,
      "metadata": {},
      "outputs": [
        {
          "name": "stdout",
          "output_type": "stream",
          "text": [
            "6.76 ms ± 9.51 µs per loop (mean ± std. dev. of 7 runs, 100 loops each)\n"
          ]
        }
      ],
      "source": [
        "%%timeit\n",
        "(energy\n",
        ".capacity_mw\n",
        ".apply(bin_capacity,args=(energy.capacity_mw.mean(),))\n",
        ")\n",
        "# .value_counts()\n"
      ]
    },
    {
      "cell_type": "code",
      "execution_count": 13,
      "metadata": {},
      "outputs": [
        {
          "name": "stdout",
          "output_type": "stream",
          "text": [
            "317 µs ± 1.93 µs per loop (mean ± std. dev. of 7 runs, 1,000 loops each)\n"
          ]
        }
      ],
      "source": [
        "%%timeit\n",
        "m = energy.capacity_mw.mean()\n",
        "np.select([energy.capacity_mw < m,energy.capacity_mw >= m],['low','high'])"
      ]
    },
    {
      "cell_type": "code",
      "execution_count": 15,
      "metadata": {},
      "outputs": [
        {
          "data": {
            "text/plain": [
              "country                               0\n",
              "country_long                          0\n",
              "name                                  0\n",
              "gppd_idnr                             0\n",
              "capacity_mw                           0\n",
              "latitude                              0\n",
              "longitude                             0\n",
              "primary_fuel                          0\n",
              "other_fuel1                       32992\n",
              "other_fuel2                       34660\n",
              "other_fuel3                       34844\n",
              "commissioning_year                17489\n",
              "owner                             14068\n",
              "source                               15\n",
              "url                                  18\n",
              "geolocation_source                  419\n",
              "wepp_id                           18702\n",
              "year_of_capacity_data             20049\n",
              "generation_gwh_2013               28519\n",
              "generation_gwh_2014               27710\n",
              "generation_gwh_2015               26733\n",
              "generation_gwh_2016               25792\n",
              "generation_gwh_2017               25436\n",
              "generation_gwh_2018               25299\n",
              "generation_gwh_2019               25277\n",
              "generation_data_source            23536\n",
              "estimated_generation_gwh_2013     18816\n",
              "estimated_generation_gwh_2014     18433\n",
              "estimated_generation_gwh_2015     17886\n",
              "estimated_generation_gwh_2016     17366\n",
              "estimated_generation_gwh_2017      1798\n",
              "estimated_generation_note_2013        0\n",
              "estimated_generation_note_2014        0\n",
              "estimated_generation_note_2015        0\n",
              "estimated_generation_note_2016        0\n",
              "estimated_generation_note_2017        0\n",
              "dtype: int64"
            ]
          },
          "execution_count": 15,
          "metadata": {},
          "output_type": "execute_result"
        }
      ],
      "source": [
        "#4. Replace the missing values of a numeric series with the median value.\n",
        "energy.isna().sum()"
      ]
    },
    {
      "cell_type": "code",
      "execution_count": 16,
      "metadata": {},
      "outputs": [
        {
          "data": {
            "text/plain": [
              "country                            object\n",
              "country_long                       object\n",
              "name                               object\n",
              "gppd_idnr                          object\n",
              "capacity_mw                       float64\n",
              "latitude                          float64\n",
              "longitude                         float64\n",
              "primary_fuel                       object\n",
              "other_fuel1                        object\n",
              "other_fuel2                        object\n",
              "other_fuel3                        object\n",
              "commissioning_year                float64\n",
              "owner                              object\n",
              "source                             object\n",
              "url                                object\n",
              "geolocation_source                 object\n",
              "wepp_id                            object\n",
              "year_of_capacity_data             float64\n",
              "generation_gwh_2013               float64\n",
              "generation_gwh_2014               float64\n",
              "generation_gwh_2015               float64\n",
              "generation_gwh_2016               float64\n",
              "generation_gwh_2017               float64\n",
              "generation_gwh_2018               float64\n",
              "generation_gwh_2019               float64\n",
              "generation_data_source             object\n",
              "estimated_generation_gwh_2013     float64\n",
              "estimated_generation_gwh_2014     float64\n",
              "estimated_generation_gwh_2015     float64\n",
              "estimated_generation_gwh_2016     float64\n",
              "estimated_generation_gwh_2017     float64\n",
              "estimated_generation_note_2013     object\n",
              "estimated_generation_note_2014     object\n",
              "estimated_generation_note_2015     object\n",
              "estimated_generation_note_2016     object\n",
              "estimated_generation_note_2017     object\n",
              "dtype: object"
            ]
          },
          "execution_count": 16,
          "metadata": {},
          "output_type": "execute_result"
        }
      ],
      "source": [
        "energy.dtypes"
      ]
    },
    {
      "cell_type": "code",
      "execution_count": 24,
      "metadata": {},
      "outputs": [
        {
          "data": {
            "text/plain": [
              "0        2017.0\n",
              "1        2019.0\n",
              "2        2019.0\n",
              "3        2017.0\n",
              "4        2017.0\n",
              "          ...  \n",
              "34931    2019.0\n",
              "34932    2019.0\n",
              "34933    2019.0\n",
              "34934    2017.0\n",
              "34935    2017.0\n",
              "Name: year_of_capacity_data, Length: 34936, dtype: float64"
            ]
          },
          "execution_count": 24,
          "metadata": {},
          "output_type": "execute_result"
        }
      ],
      "source": [
        "yr_capacity_data = energy.year_of_capacity_data\n",
        "yr_capacity_data"
      ]
    },
    {
      "cell_type": "code",
      "execution_count": 25,
      "metadata": {},
      "outputs": [
        {
          "data": {
            "text/plain": [
              "<AxesSubplot:>"
            ]
          },
          "execution_count": 25,
          "metadata": {},
          "output_type": "execute_result"
        },
        {
          "data": {
            "image/png": "[encoded data removed]",
            "text/plain": [
              "<Figure size 432x288 with 1 Axes>"
            ]
          },
          "metadata": {
            "needs_background": "light"
          },
          "output_type": "display_data"
        }
      ],
      "source": [
        "median = yr_capacity_data.median()\n",
        "yr_capacity_data.fillna(median,inplace=True)\n",
        "yr_capacity_data.value_counts().plot(kind='bar')\n"
      ]
    },
    {
      "cell_type": "code",
      "execution_count": 10,
      "metadata": {},
      "outputs": [
        {
          "data": {
            "text/plain": [
              "Solar             10665\n",
              "Hydro              7156\n",
              "Wind               5344\n",
              "Gas                3998\n",
              "Coal               2330\n",
              "Oil                2320\n",
              "Biomass            1430\n",
              "Waste              1068\n",
              "Nuclear             195\n",
              "Geothermal          189\n",
              "Storage             135\n",
              "Other                43\n",
              "Cogeneration         41\n",
              "Petcoke              12\n",
              "Wave and Tidal       10\n",
              "Name: primary_fuel, dtype: int64"
            ]
          },
          "execution_count": 10,
          "metadata": {},
          "output_type": "execute_result"
        }
      ],
      "source": [
        "energy.primary_fuel.value_counts()"
      ]
    },
    {
      "cell_type": "code",
      "execution_count": 6,
      "metadata": {},
      "outputs": [
        {
          "data": {
            "text/plain": [
              "0         33.0\n",
              "1         10.0\n",
              "2         10.0\n",
              "3         66.0\n",
              "4        100.0\n",
              "         ...  \n",
              "34931     50.0\n",
              "34932     20.0\n",
              "34933    108.0\n",
              "34934    903.9\n",
              "34935    750.0\n",
              "Name: capacity_mw, Length: 34936, dtype: float64"
            ]
          },
          "execution_count": 6,
          "metadata": {},
          "output_type": "execute_result"
        }
      ],
      "source": [
        "#4. Replace the missing values of a numeric series with the median value.\n",
        "np.clip(energy.capacity_mw,a_min=energy.capacity_mw.quantile(0.05),a_max=energy.capacity_mw.quantile(0.95))"
      ]
    },
    {
      "cell_type": "code",
      "execution_count": 11,
      "metadata": {},
      "outputs": [
        {
          "data": {
            "text/plain": [
              "0        Hydro\n",
              "1        Solar\n",
              "2        Solar\n",
              "3        Hydro\n",
              "4        Hydro\n",
              "         ...  \n",
              "34931    Other\n",
              "34932    Other\n",
              "34933    Hydro\n",
              "34934     Coal\n",
              "34935    Hydro\n",
              "Name: primary_fuel, Length: 34936, dtype: object"
            ]
          },
          "execution_count": 11,
          "metadata": {},
          "output_type": "execute_result"
        }
      ],
      "source": [
        "#Using a categorical column, replace any value that is not in the top 5 most frequent values with 'Other'\n",
        "top_5 = energy.primary_fuel.value_counts().index[:5]\n",
        "(energy\n",
        ".primary_fuel\n",
        ".where(energy.primary_fuel.isin(top_5),'Other')\n",
        ")"
      ]
    },
    {
      "cell_type": "code",
      "execution_count": 30,
      "metadata": {},
      "outputs": [],
      "source": [
        "#Make a function that takes a categorical series and a number (n) and returns a replace series that replaces any value that is not in the top n most frequent values with 'Other'.\n",
        "def generalize_top5(series, n):\n",
        "    top_n = series.value_counts().index[:n]\n",
        "    return series.where(series.isin(top_n),'Other')\n",
        "\n"
      ]
    },
    {
      "cell_type": "code",
      "execution_count": 31,
      "metadata": {},
      "outputs": [
        {
          "data": {
            "text/plain": [
              "0        Hydro\n",
              "1        Solar\n",
              "2        Solar\n",
              "3        Hydro\n",
              "4        Hydro\n",
              "         ...  \n",
              "34931    Other\n",
              "34932    Other\n",
              "34933    Hydro\n",
              "34934     Coal\n",
              "34935    Hydro\n",
              "Name: primary_fuel, Length: 34936, dtype: object"
            ]
          },
          "execution_count": 31,
          "metadata": {},
          "output_type": "execute_result"
        }
      ],
      "source": [
        "generalize_top5(energy.primary_fuel,5)"
      ]
    },
    {
      "cell_type": "code",
      "execution_count": 36,
      "metadata": {},
      "outputs": [
        {
          "data": {
            "text/plain": [
              "(-21.499, 2250.9]     34558\n",
              "(2250.9, 4500.8]        330\n",
              "(4500.8, 6750.7]         36\n",
              "(6750.7, 9000.6]          9\n",
              "(11250.5, 13500.4]        2\n",
              "(20250.1, 22500.0]        1\n",
              "(9000.6, 11250.5]         0\n",
              "(13500.4, 15750.3]        0\n",
              "(15750.3, 18000.2]        0\n",
              "(18000.2, 20250.1]        0\n",
              "Name: capacity_mw, dtype: int64"
            ]
          },
          "execution_count": 36,
          "metadata": {},
          "output_type": "execute_result"
        }
      ],
      "source": [
        "#9. Using a numeric column, bin it into 10 groups that have the same width.\n",
        "\n",
        "pd.cut(energy.capacity_mw,bins=10).value_counts()"
      ]
    },
    {
      "cell_type": "code",
      "execution_count": 40,
      "metadata": {},
      "outputs": [
        {
          "data": {
            "text/plain": [
              "(5.5, 10.0]         4081\n",
              "(29.064, 50.0]      3728\n",
              "(1.815, 3.6]        3609\n",
              "(0.999, 1.815]      3494\n",
              "(16.745, 29.064]    3494\n",
              "(433.6, 22500.0]    3494\n",
              "(119.0, 433.6]      3490\n",
              "(3.6, 5.5]          3387\n",
              "(50.0, 119.0]       3262\n",
              "(10.0, 16.745]      2897\n",
              "Name: capacity_mw, dtype: int64"
            ]
          },
          "execution_count": 40,
          "metadata": {},
          "output_type": "execute_result"
        }
      ],
      "source": [
        "#10. Using a numeric column, bin it into 10 groups that have equal sized bins.\n",
        "pd.qcut(energy.capacity_mw,q=10).value_counts()"
      ]
    }
  ],
  "metadata": {
    "colab": {
      "collapsed_sections": [],
      "name": "working nb.ipynb",
      "provenance": []
    },
    "kernelspec": {
      "display_name": "Python 3",
      "name": "python3"
    },
    "language_info": {
      "codemirror_mode": {
        "name": "ipython",
        "version": 3
      },
      "file_extension": ".py",
      "mimetype": "text/x-python",
      "name": "python",
      "nbconvert_exporter": "python",
      "pygments_lexer": "ipython3",
      "version": "3.8.9"
    }
  },
  "nbformat": 4,
  "nbformat_minor": 0
}
