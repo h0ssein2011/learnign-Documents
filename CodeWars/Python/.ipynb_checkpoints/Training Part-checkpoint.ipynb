{
 "cells": [
  {
   "cell_type": "markdown",
   "metadata": {},
   "source": [
    "# q3"
   ]
  },
  {
   "cell_type": "code",
   "execution_count": null,
   "metadata": {},
   "outputs": [],
   "source": [
    "\"\"\"In this kata, you must create a digital root function.\n",
    "\n",
    "A digital root is the recursive sum of all the digits in a number.\n",
    "Given n, take the sum of the digits of n. If that value has more than one digit, \n",
    "continue reducing in this way until a single-digit number is produced. \n",
    "This is only applicable to the natural numbers\"\"\""
   ]
  },
  {
   "cell_type": "code",
   "execution_count": 20,
   "metadata": {},
   "outputs": [],
   "source": [
    "def digital_root(n):\n",
    "    dg_root=10\n",
    "    while dg_root >9:\n",
    "        dg_root = sum([int(d) for d in str(n)])       \n",
    "        n=dg_root\n",
    "    return dg_root"
   ]
  },
  {
   "cell_type": "code",
   "execution_count": 26,
   "metadata": {},
   "outputs": [
    {
     "data": {
      "text/plain": [
       "1"
      ]
     },
     "execution_count": 26,
     "metadata": {},
     "output_type": "execute_result"
    }
   ],
   "source": [
    "digital_root2(100)"
   ]
  },
  {
   "cell_type": "code",
   "execution_count": 52,
   "metadata": {},
   "outputs": [],
   "source": [
    "#clever answer\n",
    "def digital_root2(n):\n",
    "    return n%9 or n and 9"
   ]
  },
  {
   "cell_type": "code",
   "execution_count": 22,
   "metadata": {},
   "outputs": [
    {
     "data": {
      "text/plain": [
       "8"
      ]
     },
     "execution_count": 22,
     "metadata": {},
     "output_type": "execute_result"
    }
   ],
   "source": [
    "def digital_root(n):\n",
    "    # ...\n",
    "    while n>9:\n",
    "        n=sum(map(int,str(n)))\n",
    "    return "
   ]
  },
  {
   "cell_type": "markdown",
   "metadata": {},
   "source": [
    "# q4"
   ]
  },
  {
   "cell_type": "markdown",
   "metadata": {},
   "source": [
    "###### Your task is to sort a given string. Each word in the string will contain a single number. This number is the position the word should have in the result\n",
    "######  Note: Numbers can be from 1 to 9. So 1 will be the first word (not 0)\n",
    "###### If the input string is empty, return an empty string. The words in the input String will only contain valid consecutive numbers"
   ]
  },
  {
   "cell_type": "code",
   "execution_count": 80,
   "metadata": {},
   "outputs": [
    {
     "data": {
      "text/plain": [
       "['3a', 'T4est', 'Thi1s', 'is2']"
      ]
     },
     "execution_count": 80,
     "metadata": {},
     "output_type": "execute_result"
    }
   ],
   "source": [
    "def order(sentence):\n",
    "        sentence=sentence.split( )\n",
    "        sentence.sort()\n",
    "        \n",
    "        return sentence\n",
    "    \n",
    "order(\"is2 Thi1s T4est 3a\")"
   ]
  },
  {
   "cell_type": "code",
   "execution_count": 76,
   "metadata": {},
   "outputs": [
    {
     "name": "stdout",
     "output_type": "stream",
     "text": [
      "<class 'NoneType'>\n"
     ]
    }
   ],
   "source": []
  },
  {
   "cell_type": "markdown",
   "metadata": {},
   "source": [
    "##### Q5: Take 2 strings s1 and s2 including only letters from ato z. Return a new sorted string, the longest possible, containing distinct letters,\n",
    "\n",
    "##### each taken only once - coming from s1 or s2"
   ]
  },
  {
   "cell_type": "code",
   "execution_count": 97,
   "metadata": {},
   "outputs": [],
   "source": [
    "def longest(s1,s2):\n",
    "    s3=sorted(list(set(s1+s2)))\n",
    "    s3=''.join(str(e) for e in s3)\n",
    "    return s3"
   ]
  },
  {
   "cell_type": "code",
   "execution_count": 95,
   "metadata": {},
   "outputs": [
    {
     "data": {
      "text/plain": [
       "'abcdefklmopqwxy'"
      ]
     },
     "execution_count": 95,
     "metadata": {},
     "output_type": "execute_result"
    }
   ],
   "source": [
    "longest(\"xyaabbbccccdefww\" , \"xxxxyyyyabklmopq\")"
   ]
  },
  {
   "cell_type": "code",
   "execution_count": 85,
   "metadata": {},
   "outputs": [],
   "source": [
    "#clever answer\n",
    "def longest(a1, a2):\n",
    "    return \"\".join(sorted(set(a1 + a2)))"
   ]
  },
  {
   "cell_type": "code",
   "execution_count": null,
   "metadata": {},
   "outputs": [],
   "source": []
  },
  {
   "cell_type": "code",
   "execution_count": null,
   "metadata": {},
   "outputs": [],
   "source": []
  }
 ],
 "metadata": {
  "kernelspec": {
   "display_name": "Python 3",
   "language": "python",
   "name": "python3"
  },
  "language_info": {
   "codemirror_mode": {
    "name": "ipython",
    "version": 3
   },
   "file_extension": ".py",
   "mimetype": "text/x-python",
   "name": "python",
   "nbconvert_exporter": "python",
   "pygments_lexer": "ipython3",
   "version": "3.7.1"
  }
 },
 "nbformat": 4,
 "nbformat_minor": 2
}
