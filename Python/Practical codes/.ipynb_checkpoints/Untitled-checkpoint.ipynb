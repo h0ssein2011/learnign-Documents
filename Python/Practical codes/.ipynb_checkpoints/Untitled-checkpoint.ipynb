{
 "cells": [
  {
   "cell_type": "code",
   "execution_count": 1,
   "metadata": {},
   "outputs": [
    {
     "name": "stdout",
     "output_type": "stream",
     "text": [
      "1\n",
      "2\n",
      "3\n",
      "4\n",
      "5\n",
      "6\n",
      "7\n",
      "8\n",
      "9\n",
      "10\n",
      "11\n",
      "12\n",
      "13\n",
      "14\n",
      "15\n",
      "16\n",
      "17\n",
      "18\n",
      "19\n",
      "20\n",
      "21\n",
      "22\n",
      "23\n",
      "24\n",
      "25\n",
      "26\n",
      "27\n",
      "28\n",
      "29\n",
      "30\n",
      "31\n",
      "32\n",
      "33\n",
      "34\n",
      "35\n",
      "video 35 downloaded\n",
      "35 videos got error \n"
     ]
    }
   ],
   "source": [
    "from pytube import Playlist\n",
    "from pytube import YouTube\n",
    "import os\n",
    "\n",
    "pl = Playlist(\"https://www.youtube.com/watch?v=qBigTkBLU6g&list=PLblh5JKOoLUK0FLuzwntyYI10UQFUhsY9\")\n",
    "#pl.download_all()\n",
    "#pl.parse_links()\n",
    "urls=pl.parse_links()\n",
    "# or if you want to download in a specific directory\n",
    "# pl.download_all('C:/Users/hossein.mortazavi/Desktop/Kaggle competition/',)\n",
    "part1='https://www.youtube.com'\n",
    "part3='watch?v=IFKQLDmRK0Y&list=PLblh5JKOoLUK0FLuzwntyYI10UQFUhsY9&index='\n",
    "\n",
    "links=[]\n",
    "counter=1\n",
    "for link in urls:\n",
    "    links.append(part1+link+part3+str(counter))\n",
    "    counter+=1\n",
    "\n",
    "\n",
    "counter=0\n",
    "count_error=0\n",
    "for link in links:\n",
    "    try:\n",
    "        counter+=1\n",
    "        print(counter)\n",
    "        yt=YouTube(link)\n",
    "        outputfile=yt.streams.first().download('C:/Users/hossein.mortazavi/Desktop/Statquest')\n",
    "        os.rename(outputfile,'{0}_{1}'.format(counter,outputfile))\n",
    "        \n",
    "        print('video {} downloaded'.format(counter))\n",
    "    except:\n",
    "        count_error+=1\n",
    "        pass\n",
    "print('video {} downloaded'.format(counter))\n",
    "print('{} videos got error '.format(count_error))"
   ]
  },
  {
   "cell_type": "code",
   "execution_count": 1,
   "metadata": {},
   "outputs": [],
   "source": [
    "import os"
   ]
  },
  {
   "cell_type": "code",
   "execution_count": null,
   "metadata": {},
   "outputs": [],
   "source": [
    "os.name"
   ]
  }
 ],
 "metadata": {
  "kernelspec": {
   "display_name": "Python 3",
   "language": "python",
   "name": "python3"
  },
  "language_info": {
   "codemirror_mode": {
    "name": "ipython",
    "version": 3
   },
   "file_extension": ".py",
   "mimetype": "text/x-python",
   "name": "python",
   "nbconvert_exporter": "python",
   "pygments_lexer": "ipython3",
   "version": "3.7.1"
  }
 },
 "nbformat": 4,
 "nbformat_minor": 2
}
