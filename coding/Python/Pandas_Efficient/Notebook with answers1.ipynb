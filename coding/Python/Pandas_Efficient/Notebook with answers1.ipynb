{
 "cells": [
  {
   "cell_type": "markdown",
   "metadata": {},
   "source": [
    "# Pydata Yerevan 2022 : How to use Pandas Efficiently\n",
    "\n",
    "### Github Repository : \n",
    "### Google Colab : \n",
    "\n",
    "We will be using the following dataset for this tutorial :<br>\n",
    "- IMDB top 1000 Movie Dataset<br>\n",
    "- Bank Marketing Dataset (UCI) https://archive.ics.uci.edu/ml/datasets/bank+marketing <br>\n",
    "- Bike Sharing dataset (Kaggle) https://www.kaggle.com/datasets/yasserh/bike-sharing-dataset\n",
    "\n",
    "While you are waiting for the tutorial to start, you can go through above link to download dataset and Notebook :<br>\n",
    "N.B. : If you do not have Python installed on your system, you can use Google Colab to run the notebook.\n"
   ]
  },
  {
   "cell_type": "markdown",
   "metadata": {},
   "source": [
    "### Why pandas? \n",
    "-  easy to use \n",
    "-  easy to learn.\n",
    "- it is fast \n",
    "- it is a powerful data analysis toolkit\n",
    "- it is open source\n",
    "- it is supported by many developers (~3k)\n"
   ]
  },
  {
   "cell_type": "markdown",
   "metadata": {},
   "source": [
    "### PART 1 :Pandas Big Picture\n",
    "\n"
   ]
  },
  {
   "cell_type": "markdown",
   "metadata": {},
   "source": [
    "<img src=\"img/Excel_Vs_Pandas.jpg\" width=\"550\" height=\"200\" style =\"float:center\" >"
   ]
  },
  {
   "cell_type": "markdown",
   "metadata": {},
   "source": [
    "### Two building blocks of pandas are Series and DataFrame\n",
    "- Series: A 1D labeled data structure with rows.\n",
    "- DataFrame: A 2D labeled data structure with columns and rows.\n"
   ]
  },
  {
   "cell_type": "code",
   "execution_count": 3,
   "metadata": {},
   "outputs": [],
   "source": [
    "#import required libraries\n",
    "import pandas as pd\n",
    "import numpy as np"
   ]
  },
  {
   "cell_type": "code",
   "execution_count": 4,
   "metadata": {},
   "outputs": [
    {
     "data": {
      "text/html": [
       "<div>\n",
       "<style scoped>\n",
       "    .dataframe tbody tr th:only-of-type {\n",
       "        vertical-align: middle;\n",
       "    }\n",
       "\n",
       "    .dataframe tbody tr th {\n",
       "        vertical-align: top;\n",
       "    }\n",
       "\n",
       "    .dataframe thead th {\n",
       "        text-align: right;\n",
       "    }\n",
       "</style>\n",
       "<table border=\"1\" class=\"dataframe\">\n",
       "  <thead>\n",
       "    <tr style=\"text-align: right;\">\n",
       "      <th></th>\n",
       "      <th>star_rating</th>\n",
       "      <th>title</th>\n",
       "      <th>content_rating</th>\n",
       "      <th>genre</th>\n",
       "      <th>duration</th>\n",
       "      <th>actors_list</th>\n",
       "    </tr>\n",
       "  </thead>\n",
       "  <tbody>\n",
       "    <tr>\n",
       "      <th>0</th>\n",
       "      <td>9.3</td>\n",
       "      <td>The Shawshank Redemption</td>\n",
       "      <td>R</td>\n",
       "      <td>Crime</td>\n",
       "      <td>142</td>\n",
       "      <td>['Tim Robbins', 'Morgan Freeman', 'Bob Gunton']</td>\n",
       "    </tr>\n",
       "    <tr>\n",
       "      <th>1</th>\n",
       "      <td>9.2</td>\n",
       "      <td>The Godfather</td>\n",
       "      <td>R</td>\n",
       "      <td>Crime</td>\n",
       "      <td>175</td>\n",
       "      <td>['Marlon Brando', 'Al Pacino', 'James Caan']</td>\n",
       "    </tr>\n",
       "    <tr>\n",
       "      <th>2</th>\n",
       "      <td>9.1</td>\n",
       "      <td>The Godfather: Part II</td>\n",
       "      <td>R</td>\n",
       "      <td>Crime</td>\n",
       "      <td>200</td>\n",
       "      <td>['Al Pacino', 'Robert De Niro', 'Robert Duvall']</td>\n",
       "    </tr>\n",
       "    <tr>\n",
       "      <th>3</th>\n",
       "      <td>9.0</td>\n",
       "      <td>The Dark Knight</td>\n",
       "      <td>PG-13</td>\n",
       "      <td>Action</td>\n",
       "      <td>152</td>\n",
       "      <td>['Christian Bale', 'Heath Ledger', 'Aaron Eckh...</td>\n",
       "    </tr>\n",
       "    <tr>\n",
       "      <th>4</th>\n",
       "      <td>8.9</td>\n",
       "      <td>Pulp Fiction</td>\n",
       "      <td>R</td>\n",
       "      <td>Crime</td>\n",
       "      <td>154</td>\n",
       "      <td>['John Travolta', 'Uma Thurman', 'Samuel L. Ja...</td>\n",
       "    </tr>\n",
       "    <tr>\n",
       "      <th>5</th>\n",
       "      <td>8.9</td>\n",
       "      <td>12 Angry Men</td>\n",
       "      <td>NOT RATED</td>\n",
       "      <td>Drama</td>\n",
       "      <td>96</td>\n",
       "      <td>['Henry Fonda', 'Lee J. Cobb', 'Martin Balsam']</td>\n",
       "    </tr>\n",
       "    <tr>\n",
       "      <th>6</th>\n",
       "      <td>8.9</td>\n",
       "      <td>The Good, the Bad and the Ugly</td>\n",
       "      <td>NOT RATED</td>\n",
       "      <td>Western</td>\n",
       "      <td>161</td>\n",
       "      <td>['Clint Eastwood', 'Eli Wallach', 'Lee Van Cle...</td>\n",
       "    </tr>\n",
       "    <tr>\n",
       "      <th>7</th>\n",
       "      <td>8.9</td>\n",
       "      <td>The Lord of the Rings: The Return of the King</td>\n",
       "      <td>PG-13</td>\n",
       "      <td>Adventure</td>\n",
       "      <td>201</td>\n",
       "      <td>['Elijah Wood', 'Viggo Mortensen', 'Ian McKell...</td>\n",
       "    </tr>\n",
       "    <tr>\n",
       "      <th>8</th>\n",
       "      <td>8.9</td>\n",
       "      <td>Schindler's List</td>\n",
       "      <td>R</td>\n",
       "      <td>Biography</td>\n",
       "      <td>195</td>\n",
       "      <td>['Liam Neeson', 'Ralph Fiennes', 'Ben Kingsley']</td>\n",
       "    </tr>\n",
       "    <tr>\n",
       "      <th>9</th>\n",
       "      <td>8.9</td>\n",
       "      <td>Fight Club</td>\n",
       "      <td>R</td>\n",
       "      <td>Drama</td>\n",
       "      <td>139</td>\n",
       "      <td>['Brad Pitt', 'Edward Norton', 'Helena Bonham ...</td>\n",
       "    </tr>\n",
       "  </tbody>\n",
       "</table>\n",
       "</div>"
      ],
      "text/plain": [
       "   star_rating                                          title content_rating  \\\n",
       "0          9.3                       The Shawshank Redemption              R   \n",
       "1          9.2                                  The Godfather              R   \n",
       "2          9.1                         The Godfather: Part II              R   \n",
       "3          9.0                                The Dark Knight          PG-13   \n",
       "4          8.9                                   Pulp Fiction              R   \n",
       "5          8.9                                   12 Angry Men      NOT RATED   \n",
       "6          8.9                 The Good, the Bad and the Ugly      NOT RATED   \n",
       "7          8.9  The Lord of the Rings: The Return of the King          PG-13   \n",
       "8          8.9                               Schindler's List              R   \n",
       "9          8.9                                     Fight Club              R   \n",
       "\n",
       "       genre  duration                                        actors_list  \n",
       "0      Crime       142    ['Tim Robbins', 'Morgan Freeman', 'Bob Gunton']  \n",
       "1      Crime       175       ['Marlon Brando', 'Al Pacino', 'James Caan']  \n",
       "2      Crime       200   ['Al Pacino', 'Robert De Niro', 'Robert Duvall']  \n",
       "3     Action       152  ['Christian Bale', 'Heath Ledger', 'Aaron Eckh...  \n",
       "4      Crime       154  ['John Travolta', 'Uma Thurman', 'Samuel L. Ja...  \n",
       "5      Drama        96    ['Henry Fonda', 'Lee J. Cobb', 'Martin Balsam']  \n",
       "6    Western       161  ['Clint Eastwood', 'Eli Wallach', 'Lee Van Cle...  \n",
       "7  Adventure       201  ['Elijah Wood', 'Viggo Mortensen', 'Ian McKell...  \n",
       "8  Biography       195   ['Liam Neeson', 'Ralph Fiennes', 'Ben Kingsley']  \n",
       "9      Drama       139  ['Brad Pitt', 'Edward Norton', 'Helena Bonham ...  "
      ]
     },
     "execution_count": 4,
     "metadata": {},
     "output_type": "execute_result"
    }
   ],
   "source": [
    "# read top 1000 movies imdb dataset\n",
    "imdb = pd.read_csv('data/imdb_1000.csv')\n",
    "imdb.head(10)\n",
    "\n"
   ]
  },
  {
   "cell_type": "code",
   "execution_count": 32,
   "metadata": {},
   "outputs": [
    {
     "data": {
      "text/plain": [
       "pandas.core.frame.DataFrame"
      ]
     },
     "execution_count": 32,
     "metadata": {},
     "output_type": "execute_result"
    }
   ],
   "source": [
    "# check the type of the dataset\n",
    "type(imdb)\n"
   ]
  },
  {
   "cell_type": "code",
   "execution_count": 33,
   "metadata": {},
   "outputs": [
    {
     "data": {
      "text/plain": [
       "pandas.core.series.Series"
      ]
     },
     "execution_count": 33,
     "metadata": {},
     "output_type": "execute_result"
    }
   ],
   "source": [
    "# check the type of a column\n",
    "type(imdb.title)\n"
   ]
  },
  {
   "cell_type": "markdown",
   "metadata": {},
   "source": [
    "### some of the basic operation by Pandas\n"
   ]
  },
  {
   "cell_type": "code",
   "execution_count": 35,
   "metadata": {},
   "outputs": [
    {
     "name": "stdout",
     "output_type": "stream",
     "text": [
      "120.97957099080695\n",
      "242\n",
      "64\n"
     ]
    }
   ],
   "source": [
    "# print some basic information about the dataset\n",
    "print(imdb.duration.mean())\n",
    "print(imdb.duration.max())\n",
    "print(imdb.duration.min())"
   ]
  },
  {
   "cell_type": "markdown",
   "metadata": {},
   "source": [
    "### Notes:\n",
    "#### 1- Ask Questions and Answer them with Data by Pandas insetad of Jumping to the analysis without knowing the data  <br>\n",
    "#### 2- Relation does not mean causation. Here we just find the relationship is present in the data.(Causation needs more domain knowledge)  <br>\n",
    "#### 3- There more than one way to do something in Pandas. <br>\n",
    "#### 4- Data is not always clean. We need to clean it before analysis. <br>\n",
    "Q1 : Which Genre had the highest number of movies among top 1000 movies dataset? <br>\n",
    "Q2 : What is the distribution of Duration (In every 10 minutes) in the top 1000 movies? <br>\n",
    "Q3 : Which Content_rating(R,PG-13,..) has the highest number of movies in the top 1000 movies? <br>\n",
    "Q4 : what is the average duration of each genre?    <br>\n",
    "Q5 : what is the average duration of each genre and content rating and star rating? <br>\n",
    "\n",
    "\n",
    "#### Practice 1:\n",
    "How many of movies got rating between 7.5 and 8.5? (Hint:use value_counts() method) <br>"
   ]
  },
  {
   "cell_type": "code",
   "execution_count": 38,
   "metadata": {},
   "outputs": [
    {
     "data": {
      "text/plain": [
       "Drama        28.396323\n",
       "Comedy       15.934627\n",
       "Action       13.891726\n",
       "Crime        12.665986\n",
       "Biography     7.865169\n",
       "Adventure     7.660878\n",
       "Animation     6.332993\n",
       "Horror        2.962206\n",
       "Mystery       1.634321\n",
       "Western       0.919305\n",
       "Sci-Fi        0.510725\n",
       "Thriller      0.510725\n",
       "Film-Noir     0.306435\n",
       "Family        0.204290\n",
       "History       0.102145\n",
       "Fantasy       0.102145\n",
       "Name: genre, dtype: float64"
      ]
     },
     "execution_count": 38,
     "metadata": {},
     "output_type": "execute_result"
    }
   ],
   "source": [
    "# Q1 : Which Genre had the highest number of movies among top 1000 movies dataset? <br>\n",
    "imdb.genre.value_counts(normalize=True)*100\n"
   ]
  },
  {
   "cell_type": "code",
   "execution_count": 39,
   "metadata": {},
   "outputs": [
    {
     "data": {
      "text/html": [
       "<div>\n",
       "<style scoped>\n",
       "    .dataframe tbody tr th:only-of-type {\n",
       "        vertical-align: middle;\n",
       "    }\n",
       "\n",
       "    .dataframe tbody tr th {\n",
       "        vertical-align: top;\n",
       "    }\n",
       "\n",
       "    .dataframe thead th {\n",
       "        text-align: right;\n",
       "    }\n",
       "</style>\n",
       "<table border=\"1\" class=\"dataframe\">\n",
       "  <thead>\n",
       "    <tr style=\"text-align: right;\">\n",
       "      <th></th>\n",
       "      <th>star_rating</th>\n",
       "      <th>title</th>\n",
       "      <th>content_rating</th>\n",
       "      <th>genre</th>\n",
       "      <th>duration</th>\n",
       "      <th>actors_list</th>\n",
       "      <th>duration_group</th>\n",
       "    </tr>\n",
       "  </thead>\n",
       "  <tbody>\n",
       "    <tr>\n",
       "      <th>0</th>\n",
       "      <td>9.3</td>\n",
       "      <td>The Shawshank Redemption</td>\n",
       "      <td>R</td>\n",
       "      <td>Crime</td>\n",
       "      <td>142</td>\n",
       "      <td>['Tim Robbins', 'Morgan Freeman', 'Bob Gunton']</td>\n",
       "      <td>140-150</td>\n",
       "    </tr>\n",
       "    <tr>\n",
       "      <th>1</th>\n",
       "      <td>9.2</td>\n",
       "      <td>The Godfather</td>\n",
       "      <td>R</td>\n",
       "      <td>Crime</td>\n",
       "      <td>175</td>\n",
       "      <td>['Marlon Brando', 'Al Pacino', 'James Caan']</td>\n",
       "      <td>170-180</td>\n",
       "    </tr>\n",
       "    <tr>\n",
       "      <th>2</th>\n",
       "      <td>9.1</td>\n",
       "      <td>The Godfather: Part II</td>\n",
       "      <td>R</td>\n",
       "      <td>Crime</td>\n",
       "      <td>200</td>\n",
       "      <td>['Al Pacino', 'Robert De Niro', 'Robert Duvall']</td>\n",
       "      <td>190-200</td>\n",
       "    </tr>\n",
       "    <tr>\n",
       "      <th>3</th>\n",
       "      <td>9.0</td>\n",
       "      <td>The Dark Knight</td>\n",
       "      <td>PG-13</td>\n",
       "      <td>Action</td>\n",
       "      <td>152</td>\n",
       "      <td>['Christian Bale', 'Heath Ledger', 'Aaron Eckh...</td>\n",
       "      <td>150-160</td>\n",
       "    </tr>\n",
       "    <tr>\n",
       "      <th>4</th>\n",
       "      <td>8.9</td>\n",
       "      <td>Pulp Fiction</td>\n",
       "      <td>R</td>\n",
       "      <td>Crime</td>\n",
       "      <td>154</td>\n",
       "      <td>['John Travolta', 'Uma Thurman', 'Samuel L. Ja...</td>\n",
       "      <td>150-160</td>\n",
       "    </tr>\n",
       "  </tbody>\n",
       "</table>\n",
       "</div>"
      ],
      "text/plain": [
       "   star_rating                     title content_rating   genre  duration  \\\n",
       "0          9.3  The Shawshank Redemption              R   Crime       142   \n",
       "1          9.2             The Godfather              R   Crime       175   \n",
       "2          9.1    The Godfather: Part II              R   Crime       200   \n",
       "3          9.0           The Dark Knight          PG-13  Action       152   \n",
       "4          8.9              Pulp Fiction              R   Crime       154   \n",
       "\n",
       "                                         actors_list duration_group  \n",
       "0    ['Tim Robbins', 'Morgan Freeman', 'Bob Gunton']        140-150  \n",
       "1       ['Marlon Brando', 'Al Pacino', 'James Caan']        170-180  \n",
       "2   ['Al Pacino', 'Robert De Niro', 'Robert Duvall']        190-200  \n",
       "3  ['Christian Bale', 'Heath Ledger', 'Aaron Eckh...        150-160  \n",
       "4  ['John Travolta', 'Uma Thurman', 'Samuel L. Ja...        150-160  "
      ]
     },
     "execution_count": 39,
     "metadata": {},
     "output_type": "execute_result"
    }
   ],
   "source": [
    "# What is the distribution of Duration (In every 10 minutes) in the top 1000 movies?\n",
    "# way 1:\n",
    "bins = [60,70,80,90,100,110,120,130,140,150,160,170,180,190,200,210,220,230,240,250]\n",
    "labels = ['60-70','70-80','80-90','90-100','100-110','110-120','120-130','130-140','140-150','150-160','160-170','170-180','180-190','190-200','200-210','210-220','220-230','230-240','240-250']\n",
    "imdb['duration_group'] = pd.cut(imdb.duration,labels=labels,bins=bins)\n",
    "imdb.head()\n"
   ]
  },
  {
   "cell_type": "code",
   "execution_count": 43,
   "metadata": {},
   "outputs": [
    {
     "data": {
      "text/plain": [
       "110-120    169\n",
       "100-110    164\n",
       "120-130    159\n",
       "90-100     131\n",
       "130-140     97\n",
       "80-90       59\n",
       "140-150     56\n",
       "150-160     43\n",
       "160-170     32\n",
       "170-180     17\n",
       "70-80       13\n",
       "180-190     13\n",
       "190-200      8\n",
       "60-70        7\n",
       "200-210      4\n",
       "210-220      3\n",
       "220-230      2\n",
       "230-240      1\n",
       "240-250      1\n",
       "Name: duration_group, dtype: int64"
      ]
     },
     "execution_count": 43,
     "metadata": {},
     "output_type": "execute_result"
    }
   ],
   "source": [
    "# way 2: using math function\n",
    "imdb['duration_group_2'] = imdb.duration // 10 \n",
    "imdb.duration_group.value_counts()\n"
   ]
  },
  {
   "cell_type": "code",
   "execution_count": 44,
   "metadata": {},
   "outputs": [
    {
     "data": {
      "text/plain": [
       "R            460\n",
       "PG-13        189\n",
       "PG           123\n",
       "NOT RATED     65\n",
       "APPROVED      47\n",
       "UNRATED       38\n",
       "G             32\n",
       "PASSED         7\n",
       "NC-17          7\n",
       "X              4\n",
       "GP             3\n",
       "TV-MA          1\n",
       "Name: content_rating, dtype: int64"
      ]
     },
     "execution_count": 44,
     "metadata": {},
     "output_type": "execute_result"
    }
   ],
   "source": [
    "# Q3 : Which Content_rating(R,PG-13,..) has the highest number of movies in the top 1000 movies? <br>\n",
    "imdb.content_rating.value_counts()\n"
   ]
  },
  {
   "cell_type": "code",
   "execution_count": 10,
   "metadata": {},
   "outputs": [],
   "source": [
    "# Replace Unrated with Not Rated\n",
    "#Way 1:\n",
    "imdb.content_rating.replace('UNRATED','NOT RATED',inplace=True)\n",
    "\n",
    "#Way 2:\n",
    "imdb.content_rating = imdb.content_rating.replace('UNRATED','NOT RATED')\n",
    "\n",
    "#ways 3:\n",
    "imdb.content_rating = imdb.content_rating.apply(lambda x:'UNRATED' if x =='NOT RATED' else x)\n",
    "\n",
    "# Way 4:\n",
    "imdb.content_rating = imdb.content_rating.map({'UNRATED' ,'NOT RATED'})"
   ]
  },
  {
   "cell_type": "code",
   "execution_count": 11,
   "metadata": {},
   "outputs": [
    {
     "data": {
      "text/plain": [
       "genre\n",
       "Western      136.666667\n",
       "Adventure    134.840000\n",
       "Biography    131.844156\n",
       "Drama        126.539568\n",
       "Action       126.485294\n",
       "Crime        122.298387\n",
       "Mystery      115.625000\n",
       "Thriller     114.200000\n",
       "Fantasy      112.000000\n",
       "Sci-Fi       109.000000\n",
       "Comedy       107.602564\n",
       "Family       107.500000\n",
       "Horror       102.517241\n",
       "Film-Noir     97.333333\n",
       "Animation     96.596774\n",
       "History       66.000000\n",
       "Name: duration, dtype: float64"
      ]
     },
     "execution_count": 11,
     "metadata": {},
     "output_type": "execute_result"
    }
   ],
   "source": [
    "# what is the average duration of each genre?\n",
    "imdb.groupby('genre').duration.mean().sort_values(ascending= False)\n"
   ]
  },
  {
   "cell_type": "code",
   "execution_count": 12,
   "metadata": {},
   "outputs": [
    {
     "data": {
      "text/plain": [
       "genre      content_rating\n",
       "Action     G                 178.000000\n",
       "Western    PG-13             175.000000\n",
       "Biography  GP                172.000000\n",
       "Drama      PASSED            172.000000\n",
       "           G                 170.666667\n",
       "                                ...    \n",
       "Comedy     X                  84.000000\n",
       "           PASSED             83.666667\n",
       "Horror     APPROVED           82.500000\n",
       "           NOT RATED          75.000000\n",
       "History    UNRATED            66.000000\n",
       "Name: duration, Length: 95, dtype: float64"
      ]
     },
     "execution_count": 12,
     "metadata": {},
     "output_type": "execute_result"
    }
   ],
   "source": [
    "# what is the average duration of each genre and content rating?\n",
    "imdb.groupby(['genre','content_rating']).duration.mean().sort_values(ascending= False)\n",
    "\n",
    "\n"
   ]
  },
  {
   "cell_type": "code",
   "execution_count": 14,
   "metadata": {},
   "outputs": [
    {
     "data": {
      "text/html": [
       "<div>\n",
       "<style scoped>\n",
       "    .dataframe tbody tr th:only-of-type {\n",
       "        vertical-align: middle;\n",
       "    }\n",
       "\n",
       "    .dataframe tbody tr th {\n",
       "        vertical-align: top;\n",
       "    }\n",
       "\n",
       "    .dataframe thead th {\n",
       "        text-align: right;\n",
       "    }\n",
       "</style>\n",
       "<table border=\"1\" class=\"dataframe\">\n",
       "  <thead>\n",
       "    <tr style=\"text-align: right;\">\n",
       "      <th></th>\n",
       "      <th></th>\n",
       "      <th>duration</th>\n",
       "      <th>star_rating</th>\n",
       "    </tr>\n",
       "    <tr>\n",
       "      <th>genre</th>\n",
       "      <th>content_rating</th>\n",
       "      <th></th>\n",
       "      <th></th>\n",
       "    </tr>\n",
       "  </thead>\n",
       "  <tbody>\n",
       "    <tr>\n",
       "      <th rowspan=\"5\" valign=\"top\">Action</th>\n",
       "      <th>APPROVED</th>\n",
       "      <td>143.333333</td>\n",
       "      <td>7.8</td>\n",
       "    </tr>\n",
       "    <tr>\n",
       "      <th>G</th>\n",
       "      <td>178.000000</td>\n",
       "      <td>7.8</td>\n",
       "    </tr>\n",
       "    <tr>\n",
       "      <th>GP</th>\n",
       "      <td>144.000000</td>\n",
       "      <td>7.7</td>\n",
       "    </tr>\n",
       "    <tr>\n",
       "      <th>NOT RATED</th>\n",
       "      <td>129.500000</td>\n",
       "      <td>8.3</td>\n",
       "    </tr>\n",
       "    <tr>\n",
       "      <th>PASSED</th>\n",
       "      <td>98.000000</td>\n",
       "      <td>7.7</td>\n",
       "    </tr>\n",
       "    <tr>\n",
       "      <th>...</th>\n",
       "      <th>...</th>\n",
       "      <td>...</td>\n",
       "      <td>...</td>\n",
       "    </tr>\n",
       "    <tr>\n",
       "      <th rowspan=\"5\" valign=\"top\">Western</th>\n",
       "      <th>APPROVED</th>\n",
       "      <td>132.000000</td>\n",
       "      <td>8.3</td>\n",
       "    </tr>\n",
       "    <tr>\n",
       "      <th>NOT RATED</th>\n",
       "      <td>151.000000</td>\n",
       "      <td>8.9</td>\n",
       "    </tr>\n",
       "    <tr>\n",
       "      <th>PG</th>\n",
       "      <td>110.000000</td>\n",
       "      <td>8.1</td>\n",
       "    </tr>\n",
       "    <tr>\n",
       "      <th>PG-13</th>\n",
       "      <td>175.000000</td>\n",
       "      <td>8.6</td>\n",
       "    </tr>\n",
       "    <tr>\n",
       "      <th>R</th>\n",
       "      <td>133.666667</td>\n",
       "      <td>8.5</td>\n",
       "    </tr>\n",
       "  </tbody>\n",
       "</table>\n",
       "<p>95 rows × 2 columns</p>\n",
       "</div>"
      ],
      "text/plain": [
       "                          duration  star_rating\n",
       "genre   content_rating                         \n",
       "Action  APPROVED        143.333333          7.8\n",
       "        G               178.000000          7.8\n",
       "        GP              144.000000          7.7\n",
       "        NOT RATED       129.500000          8.3\n",
       "        PASSED           98.000000          7.7\n",
       "...                            ...          ...\n",
       "Western APPROVED        132.000000          8.3\n",
       "        NOT RATED       151.000000          8.9\n",
       "        PG              110.000000          8.1\n",
       "        PG-13           175.000000          8.6\n",
       "        R               133.666667          8.5\n",
       "\n",
       "[95 rows x 2 columns]"
      ]
     },
     "execution_count": 14,
     "metadata": {},
     "output_type": "execute_result"
    }
   ],
   "source": [
    "# what is the average duration of each genre and content rating and maximum of star rating?\n",
    "imdb.groupby(['genre','content_rating']).agg({'duration':'mean','star_rating':'max'})\n"
   ]
  },
  {
   "cell_type": "code",
   "execution_count": 16,
   "metadata": {},
   "outputs": [
    {
     "data": {
      "text/html": [
       "<div>\n",
       "<style scoped>\n",
       "    .dataframe tbody tr th:only-of-type {\n",
       "        vertical-align: middle;\n",
       "    }\n",
       "\n",
       "    .dataframe tbody tr th {\n",
       "        vertical-align: top;\n",
       "    }\n",
       "\n",
       "    .dataframe thead th {\n",
       "        text-align: right;\n",
       "    }\n",
       "</style>\n",
       "<table border=\"1\" class=\"dataframe\">\n",
       "  <thead>\n",
       "    <tr style=\"text-align: right;\">\n",
       "      <th></th>\n",
       "      <th></th>\n",
       "      <th>duration</th>\n",
       "      <th>star_rating</th>\n",
       "    </tr>\n",
       "    <tr>\n",
       "      <th>genre</th>\n",
       "      <th>content_rating</th>\n",
       "      <th></th>\n",
       "      <th></th>\n",
       "    </tr>\n",
       "  </thead>\n",
       "  <tbody>\n",
       "    <tr>\n",
       "      <th rowspan=\"5\" valign=\"top\">Action</th>\n",
       "      <th>APPROVED</th>\n",
       "      <td>143.333333</td>\n",
       "      <td>7.8</td>\n",
       "    </tr>\n",
       "    <tr>\n",
       "      <th>G</th>\n",
       "      <td>178.000000</td>\n",
       "      <td>7.8</td>\n",
       "    </tr>\n",
       "    <tr>\n",
       "      <th>GP</th>\n",
       "      <td>144.000000</td>\n",
       "      <td>7.7</td>\n",
       "    </tr>\n",
       "    <tr>\n",
       "      <th>NOT RATED</th>\n",
       "      <td>129.500000</td>\n",
       "      <td>8.3</td>\n",
       "    </tr>\n",
       "    <tr>\n",
       "      <th>PASSED</th>\n",
       "      <td>98.000000</td>\n",
       "      <td>7.7</td>\n",
       "    </tr>\n",
       "    <tr>\n",
       "      <th>...</th>\n",
       "      <th>...</th>\n",
       "      <td>...</td>\n",
       "      <td>...</td>\n",
       "    </tr>\n",
       "    <tr>\n",
       "      <th rowspan=\"5\" valign=\"top\">Western</th>\n",
       "      <th>APPROVED</th>\n",
       "      <td>132.000000</td>\n",
       "      <td>8.3</td>\n",
       "    </tr>\n",
       "    <tr>\n",
       "      <th>NOT RATED</th>\n",
       "      <td>151.000000</td>\n",
       "      <td>8.9</td>\n",
       "    </tr>\n",
       "    <tr>\n",
       "      <th>PG</th>\n",
       "      <td>110.000000</td>\n",
       "      <td>8.1</td>\n",
       "    </tr>\n",
       "    <tr>\n",
       "      <th>PG-13</th>\n",
       "      <td>175.000000</td>\n",
       "      <td>8.6</td>\n",
       "    </tr>\n",
       "    <tr>\n",
       "      <th>R</th>\n",
       "      <td>133.666667</td>\n",
       "      <td>8.5</td>\n",
       "    </tr>\n",
       "  </tbody>\n",
       "</table>\n",
       "<p>95 rows × 2 columns</p>\n",
       "</div>"
      ],
      "text/plain": [
       "                          duration  star_rating\n",
       "genre   content_rating                         \n",
       "Action  APPROVED        143.333333          7.8\n",
       "        G               178.000000          7.8\n",
       "        GP              144.000000          7.7\n",
       "        NOT RATED       129.500000          8.3\n",
       "        PASSED           98.000000          7.7\n",
       "...                            ...          ...\n",
       "Western APPROVED        132.000000          8.3\n",
       "        NOT RATED       151.000000          8.9\n",
       "        PG              110.000000          8.1\n",
       "        PG-13           175.000000          8.6\n",
       "        R               133.666667          8.5\n",
       "\n",
       "[95 rows x 2 columns]"
      ]
     },
     "execution_count": 16,
     "metadata": {},
     "output_type": "execute_result"
    }
   ],
   "source": [
    "# what is the average duration of each genre and content rating and star rating with Pivot table?\n",
    "imdb.pivot_table(index=['genre','content_rating'],values=['duration','star_rating'],aggfunc={'duration':'mean','star_rating':'max'})\n"
   ]
  },
  {
   "cell_type": "code",
   "execution_count": 15,
   "metadata": {},
   "outputs": [],
   "source": [
    "# Practice: How many actors are in the top 1000 movies? \n",
    "\n"
   ]
  },
  {
   "cell_type": "markdown",
   "metadata": {},
   "source": [
    "### Part II : How to use Pandas More effiently"
   ]
  },
  {
   "cell_type": "markdown",
   "metadata": {},
   "source": [
    "### 95% of people use this kind of code style but only 5% of people know how to use it more efficiently.!"
   ]
  },
  {
   "cell_type": "markdown",
   "metadata": {},
   "source": [
    "<img src=\"img/Screenshot1.jpg\" width=\"750\" height=\"500\" style =\"float:middle\" ><br>\n",
    "<br>\n",
    "<img src=\"img/Screenshot2.jpg\" width=\"750\" height=\"500\" style =\"float:left\" >\n"
   ]
  },
  {
   "cell_type": "markdown",
   "metadata": {},
   "source": [
    "### Use chaining and Assign instead of classic coding"
   ]
  },
  {
   "cell_type": "code",
   "execution_count": null,
   "metadata": {},
   "outputs": [],
   "source": []
  },
  {
   "cell_type": "markdown",
   "metadata": {},
   "source": [
    "nput variables:<br>\n",
    "**bank client data:**<br>\n",
    "1 - age (numeric) <br>\n",
    "2 - job : type of job (categorical: 'admin.','blue-collar','entrepreneur','housemaid','management','retired','self-employed','services','student','technician','unemployed','unknown')<br>\n",
    "3 - marital : marital status (categorical: 'divorced','married','single','unknown'; note: 'divorced' means divorced or widowed)<br>\n",
    "4 - education (categorical: 'basic.4y','basic.6y','basic.9y','high.school','illiterate','professional.course','university.degree','unknown')<br>\n",
    "5 - default: has credit in default? (categorical: 'no','yes','unknown')<br>\n",
    "6 - housing: has housing loan? (categorical: 'no','yes','unknown')<br>\n",
    "7 - loan: has personal loan? (categorical: 'no','yes','unknown')<br>\n",
    "\n",
    "**related with the last contact of the current campaign:**<br>\n",
    "8 - contact: contact communication type (categorical: 'cellular','telephone')<br>\n",
    "9 - month: last contact month of year (categorical: 'jan', 'feb', 'mar', ..., 'nov', 'dec')<br>\n",
    "10 - day_of_week: last contact day of the week (categorical: 'mon','tue','wed','thu','fri')<br>\n",
    "11 - duration: last contact duration, in seconds (numeric). Important note: this attribute highly affects the output target (e.g., if duration=0 then y='no'). Yet, the duration is not known before a call is performed. Also, after the end of the call y is obviously known. Thus, this input should only be included for benchmark purposes and should be discarded if the intention is to have a realistic predictive model.\n",
    "\n",
    "**other attributes:**   <br>\n",
    "12 - campaign: number of contacts performed during this campaign and for this client (numeric, includes last contact)<br>\n",
    "13 - pdays: number of days that passed by after the client was last contacted from a previous campaign (numeric; 999 means client was not previously contacted)<br>\n",
    "14 - previous: number of contacts performed before this campaign and for this client (numeric)<br>\n",
    "15 - poutcome: outcome of the previous marketing campaign (categorical: 'failure','nonexistent','success')<br>\n",
    "\n",
    "**social and economic context attributes**<br>\n",
    "16 - emp.var.rate: employment variation rate - quarterly indicator (numeric)<br>\n",
    "17 - cons.price.idx: consumer price index - monthly indicator (numeric)<br>\n",
    "18 - cons.conf.idx: consumer confidence index - monthly indicator (numeric)<br>\n",
    "19 - euribor3m: euribor 3 month rate - daily indicator (numeric)<br>\n",
    "20 - nr.employed: number of employees - quarterly indicator (numeric)<br>\n",
    "\n",
    "**Output variable (desired target):**<br>\n",
    "21 - y - has the client subscribed a term deposit? (binary: 'yes','no')<br>"
   ]
  },
  {
   "cell_type": "markdown",
   "metadata": {},
   "source": [
    "# Again Ask Questions and Answer them with Data by Pandas\n",
    "Q1 : What is the distribution of age(in every decade in data set? <br>\n",
    "Q2 : Is there relation between age group and balance? <br>\n",
    "Q3 : Is there relation between marital status and balance? <br>\n",
    "Q4 : Is there relation between education and balance? <br>\n",
    "Q5 : Is there relation between occupation and balance? <br>\n",
    "Q6 : Which job had more default? <br>\n",
    "Q7 : Which education level had more balance? <br>\n",
    "\n"
   ]
  },
  {
   "cell_type": "code",
   "execution_count": 18,
   "metadata": {},
   "outputs": [
    {
     "data": {
      "text/html": [
       "<div>\n",
       "<style scoped>\n",
       "    .dataframe tbody tr th:only-of-type {\n",
       "        vertical-align: middle;\n",
       "    }\n",
       "\n",
       "    .dataframe tbody tr th {\n",
       "        vertical-align: top;\n",
       "    }\n",
       "\n",
       "    .dataframe thead th {\n",
       "        text-align: right;\n",
       "    }\n",
       "</style>\n",
       "<table border=\"1\" class=\"dataframe\">\n",
       "  <thead>\n",
       "    <tr style=\"text-align: right;\">\n",
       "      <th></th>\n",
       "      <th>age</th>\n",
       "      <th>job</th>\n",
       "      <th>marital</th>\n",
       "      <th>education</th>\n",
       "      <th>default</th>\n",
       "      <th>balance</th>\n",
       "      <th>housing</th>\n",
       "      <th>loan</th>\n",
       "      <th>contact</th>\n",
       "      <th>day</th>\n",
       "      <th>month</th>\n",
       "      <th>duration</th>\n",
       "      <th>campaign</th>\n",
       "      <th>pdays</th>\n",
       "      <th>previous</th>\n",
       "      <th>poutcome</th>\n",
       "      <th>y</th>\n",
       "    </tr>\n",
       "  </thead>\n",
       "  <tbody>\n",
       "    <tr>\n",
       "      <th>0</th>\n",
       "      <td>58</td>\n",
       "      <td>management</td>\n",
       "      <td>married</td>\n",
       "      <td>tertiary</td>\n",
       "      <td>no</td>\n",
       "      <td>2143</td>\n",
       "      <td>yes</td>\n",
       "      <td>no</td>\n",
       "      <td>unknown</td>\n",
       "      <td>5</td>\n",
       "      <td>may</td>\n",
       "      <td>261</td>\n",
       "      <td>1</td>\n",
       "      <td>-1</td>\n",
       "      <td>0</td>\n",
       "      <td>unknown</td>\n",
       "      <td>no</td>\n",
       "    </tr>\n",
       "    <tr>\n",
       "      <th>1</th>\n",
       "      <td>44</td>\n",
       "      <td>technician</td>\n",
       "      <td>single</td>\n",
       "      <td>secondary</td>\n",
       "      <td>no</td>\n",
       "      <td>29</td>\n",
       "      <td>yes</td>\n",
       "      <td>no</td>\n",
       "      <td>unknown</td>\n",
       "      <td>5</td>\n",
       "      <td>may</td>\n",
       "      <td>151</td>\n",
       "      <td>1</td>\n",
       "      <td>-1</td>\n",
       "      <td>0</td>\n",
       "      <td>unknown</td>\n",
       "      <td>no</td>\n",
       "    </tr>\n",
       "    <tr>\n",
       "      <th>2</th>\n",
       "      <td>33</td>\n",
       "      <td>entrepreneur</td>\n",
       "      <td>married</td>\n",
       "      <td>secondary</td>\n",
       "      <td>no</td>\n",
       "      <td>2</td>\n",
       "      <td>yes</td>\n",
       "      <td>yes</td>\n",
       "      <td>unknown</td>\n",
       "      <td>5</td>\n",
       "      <td>may</td>\n",
       "      <td>76</td>\n",
       "      <td>1</td>\n",
       "      <td>-1</td>\n",
       "      <td>0</td>\n",
       "      <td>unknown</td>\n",
       "      <td>no</td>\n",
       "    </tr>\n",
       "    <tr>\n",
       "      <th>3</th>\n",
       "      <td>47</td>\n",
       "      <td>blue-collar</td>\n",
       "      <td>married</td>\n",
       "      <td>unknown</td>\n",
       "      <td>no</td>\n",
       "      <td>1506</td>\n",
       "      <td>yes</td>\n",
       "      <td>no</td>\n",
       "      <td>unknown</td>\n",
       "      <td>5</td>\n",
       "      <td>may</td>\n",
       "      <td>92</td>\n",
       "      <td>1</td>\n",
       "      <td>-1</td>\n",
       "      <td>0</td>\n",
       "      <td>unknown</td>\n",
       "      <td>no</td>\n",
       "    </tr>\n",
       "    <tr>\n",
       "      <th>4</th>\n",
       "      <td>33</td>\n",
       "      <td>unknown</td>\n",
       "      <td>single</td>\n",
       "      <td>unknown</td>\n",
       "      <td>no</td>\n",
       "      <td>1</td>\n",
       "      <td>no</td>\n",
       "      <td>no</td>\n",
       "      <td>unknown</td>\n",
       "      <td>5</td>\n",
       "      <td>may</td>\n",
       "      <td>198</td>\n",
       "      <td>1</td>\n",
       "      <td>-1</td>\n",
       "      <td>0</td>\n",
       "      <td>unknown</td>\n",
       "      <td>no</td>\n",
       "    </tr>\n",
       "  </tbody>\n",
       "</table>\n",
       "</div>"
      ],
      "text/plain": [
       "   age           job  marital  education default  balance housing loan  \\\n",
       "0   58    management  married   tertiary      no     2143     yes   no   \n",
       "1   44    technician   single  secondary      no       29     yes   no   \n",
       "2   33  entrepreneur  married  secondary      no        2     yes  yes   \n",
       "3   47   blue-collar  married    unknown      no     1506     yes   no   \n",
       "4   33       unknown   single    unknown      no        1      no   no   \n",
       "\n",
       "   contact  day month  duration  campaign  pdays  previous poutcome   y  \n",
       "0  unknown    5   may       261         1     -1         0  unknown  no  \n",
       "1  unknown    5   may       151         1     -1         0  unknown  no  \n",
       "2  unknown    5   may        76         1     -1         0  unknown  no  \n",
       "3  unknown    5   may        92         1     -1         0  unknown  no  \n",
       "4  unknown    5   may       198         1     -1         0  unknown  no  "
      ]
     },
     "execution_count": 18,
     "metadata": {},
     "output_type": "execute_result"
    }
   ],
   "source": [
    "# read bank dataset\n",
    "bank = pd.read_csv('data/bank-full.csv',sep=';')\n",
    "bank.head()"
   ]
  },
  {
   "cell_type": "code",
   "execution_count": 25,
   "metadata": {},
   "outputs": [
    {
     "data": {
      "text/plain": [
       "age           0.000000\n",
       "job           0.637013\n",
       "marital       0.000000\n",
       "education     4.107407\n",
       "default       0.000000\n",
       "balance       0.000000\n",
       "housing       0.000000\n",
       "loan          0.000000\n",
       "contact      28.798301\n",
       "day           0.000000\n",
       "month         0.000000\n",
       "duration      0.000000\n",
       "campaign      0.000000\n",
       "pdays         0.000000\n",
       "previous      0.000000\n",
       "poutcome     81.747805\n",
       "y             0.000000\n",
       "dtype: float64"
      ]
     },
     "execution_count": 25,
     "metadata": {},
     "output_type": "execute_result"
    }
   ],
   "source": [
    "# clean dataset\n",
    "def clean_df(df_):\n",
    "    return (df_\n",
    "    .replace({'unknown':np.nan,'y':1,'no':0,'yes':1,'no':0})\n",
    "    )\n",
    "bank = clean_df(bank)\n",
    "bank.head()\n",
    "# Print % of null values in each column\n",
    "bank.isnull().sum() *100 / bank.shape[0]"
   ]
  },
  {
   "cell_type": "code",
   "execution_count": 33,
   "metadata": {},
   "outputs": [
    {
     "data": {
      "text/plain": [
       "age             int64\n",
       "job          category\n",
       "marital        object\n",
       "education    category\n",
       "default         int64\n",
       "balance         int64\n",
       "housing         int64\n",
       "loan            int64\n",
       "contact      category\n",
       "day             int64\n",
       "month          object\n",
       "duration        int64\n",
       "campaign        int64\n",
       "pdays           int64\n",
       "previous        int64\n",
       "y               int64\n",
       "dtype: object"
      ]
     },
     "execution_count": 33,
     "metadata": {},
     "output_type": "execute_result"
    }
   ],
   "source": [
    "bank.dtypes"
   ]
  },
  {
   "cell_type": "code",
   "execution_count": 32,
   "metadata": {},
   "outputs": [
    {
     "data": {
      "text/plain": [
       "age          0.0\n",
       "job          0.0\n",
       "marital      0.0\n",
       "education    0.0\n",
       "default      0.0\n",
       "balance      0.0\n",
       "housing      0.0\n",
       "loan         0.0\n",
       "contact      0.0\n",
       "day          0.0\n",
       "month        0.0\n",
       "duration     0.0\n",
       "campaign     0.0\n",
       "pdays        0.0\n",
       "previous     0.0\n",
       "y            0.0\n",
       "dtype: float64"
      ]
     },
     "execution_count": 32,
     "metadata": {},
     "output_type": "execute_result"
    }
   ],
   "source": [
    "# clean the dataset by dropping the null values and replace them with the mode value of the column\n",
    "def clean_df(df_):\n",
    "    return (df_\n",
    "    .replace({'unknown':np.nan,'y':1,'no':0,'yes':1,'no':0})\n",
    "    .assign(job=lambda x:x.job.fillna(x.job.mode()[0]).astype('category')\n",
    "    ,education=lambda x:x.education.fillna(x.job.mode()[0]).astype('category')\n",
    "    ,contact = lambda x:x.contact.fillna(x.job.mode()[0]).astype('category')\n",
    "    )\n",
    "    # .drop('poutcome',axis=1)\n",
    "    )\n",
    "bank = clean_df(bank)\n",
    "bank.head()\n",
    "# Print % of null values in each column\n",
    "bank.isnull().sum() *100 / bank.shape[0]"
   ]
  },
  {
   "cell_type": "code",
   "execution_count": 36,
   "metadata": {},
   "outputs": [],
   "source": [
    "bins=[0,20,30,40,50,60,70,80,90,100]\n",
    "labels=['0-20','20-30','30-40','40-50','50-60','60-70','70-80','80-90','90-100']"
   ]
  },
  {
   "cell_type": "code",
   "execution_count": 47,
   "metadata": {},
   "outputs": [
    {
     "data": {
      "text/plain": [
       "<AxesSubplot:xlabel='education'>"
      ]
     },
     "execution_count": 47,
     "metadata": {},
     "output_type": "execute_result"
    },
    {
     "data": {
      "image/png": "[encoded data removed]",
      "text/plain": [
       "<Figure size 432x288 with 1 Axes>"
      ]
     },
     "metadata": {
      "needs_background": "light"
     },
     "output_type": "display_data"
    }
   ],
   "source": [
    "# Create new column for age group and answer the following questions:\n",
    "(bank\n",
    ".assign(age_group = pd.cut(bank.age,labels=labels,bins=bins))\n",
    "\n",
    "# Q1 : What is the distribution of age(in every decade in data set? <br>\n",
    "# .age_group.value_counts().sort_index().plot(kind='bar')\n",
    "\n",
    "# Q2 : What is the relation between age group and balance? <br>\n",
    "# .groupby('age_group').balance.mean().plot(kind='bar')\n",
    "\n",
    "#Q3 : What is the relation between marital status and balance? <br>\n",
    "# .groupby('marital').balance.mean().plot(kind='bar')\n",
    "\n",
    "\n",
    "\n",
    "# Q4 : What is the relation between education and balance? <br>\n",
    "# .groupby('education').balance.mean().plot(kind='bar')\n",
    "\n",
    "\n",
    "\n",
    "# Q5 : What is the relation between job and balance? <br>\n",
    "# .groupby('job').balance.mean().plot(kind='bar')\n",
    "\n",
    "\n",
    "# Q6 :  Which job had more default? <br>\n",
    "# .groupby('job').default.mean().plot(kind='bar')\n",
    "\n",
    "\n",
    "# Q7 : Which education level had more default? <br>\n",
    ".groupby('education').default.mean().plot(kind='bar')\n",
    "\n",
    ")\n"
   ]
  },
  {
   "cell_type": "code",
   "execution_count": null,
   "metadata": {},
   "outputs": [],
   "source": []
  },
  {
   "cell_type": "markdown",
   "metadata": {},
   "source": [
    "### USE QUERY INSIDE PANDAS"
   ]
  },
  {
   "cell_type": "markdown",
   "metadata": {},
   "source": [
    "### Q1: select rows  with balance between 10000 and 20000"
   ]
  },
  {
   "cell_type": "code",
   "execution_count": 19,
   "metadata": {},
   "outputs": [],
   "source": [
    "# Q1: select rows  with balance between 10000 and 20000\n"
   ]
  },
  {
   "cell_type": "code",
   "execution_count": 20,
   "metadata": {},
   "outputs": [],
   "source": [
    "# Select rows with balance between 10000 and 20000 and age between 30 and 40 and job is admin or management\n"
   ]
  },
  {
   "cell_type": "code",
   "execution_count": 21,
   "metadata": {},
   "outputs": [],
   "source": [
    "## Parctice: Select rows with age between 30 and 40 and job is admin or management and had default"
   ]
  },
  {
   "cell_type": "markdown",
   "metadata": {},
   "source": [
    "#### Simplify Join in Pandas"
   ]
  },
  {
   "cell_type": "markdown",
   "metadata": {},
   "source": [
    "<img src='img/SQL_JOINS_V2.png'>"
   ]
  },
  {
   "cell_type": "markdown",
   "metadata": {},
   "source": [
    "#### Concat\n",
    "#### Merge\n",
    "#### Join"
   ]
  },
  {
   "cell_type": "code",
   "execution_count": 22,
   "metadata": {},
   "outputs": [],
   "source": [
    "# read Bike Sharing Dataset\n"
   ]
  },
  {
   "cell_type": "code",
   "execution_count": 23,
   "metadata": {},
   "outputs": [],
   "source": [
    "# read Calendar Dataset\n"
   ]
  },
  {
   "cell_type": "code",
   "execution_count": 24,
   "metadata": {},
   "outputs": [],
   "source": [
    "# read Weather Dataset\n"
   ]
  },
  {
   "cell_type": "markdown",
   "metadata": {},
   "source": [
    "### use Merge to combine two dataframes Then: <br>\n",
    "\n",
    "Answer the following questions: <br>\n",
    "Q1 : What is the trend of bike demand over years? <br>\n",
    "Q2 : Which month(in the whole dataset) had the highest demand for Bikes? <br>\n",
    "Practice 2 : Is there any relation between temprature and Bike demand? <br>\n",
    "Practice 3 : Does Holiday affect demand or not? <br>\n",
    "Practice 4 : Does weathersit affect demand or not? <br>"
   ]
  },
  {
   "cell_type": "code",
   "execution_count": 25,
   "metadata": {},
   "outputs": [
    {
     "data": {
      "text/plain": [
       "()"
      ]
     },
     "execution_count": 25,
     "metadata": {},
     "output_type": "execute_result"
    }
   ],
   "source": [
    "# Merge Bike_demand and Calendar_date and Weather_data on date\n",
    "(\n",
    "#.head()\n",
    "# .dtypes\n",
    "# .isnull().sum()\n",
    "# Q1 : What is the trend of bike demand over years? \n",
    "# .plot(x='date', y='cnt', figsize=(20,5))\n",
    "\n",
    "\n",
    "#Q1 : Which month had the highest demand for Bikes? <br>\n",
    "# .groupby('mnth').cnt.sum().plot(kind='line', figsize=(10,5))\n",
    "\n",
    "# Practice 2 : Is there any relation between temprature and Bike demand? <br>\n",
    "# .plot(x='temp', y='cnt', kind='scatter')\n",
    "\n",
    "# Practice 3 : Does Holiday affect demand or not <br>\n",
    "# .groupby('holiday').cnt.sum().plot(kind='bar')\n",
    "\n",
    "# Practice 4 : Does weathersit affect demand or not? <br>\n",
    "# .groupby('weathersit').cnt.sum().plot(kind='bar')\n",
    "\n",
    ")"
   ]
  },
  {
   "cell_type": "markdown",
   "metadata": {},
   "source": [
    "### Use concat to combine two dataframes"
   ]
  },
  {
   "cell_type": "code",
   "execution_count": 26,
   "metadata": {},
   "outputs": [],
   "source": [
    "# Create new dataframe for 2018 data\n"
   ]
  },
  {
   "cell_type": "code",
   "execution_count": 27,
   "metadata": {},
   "outputs": [],
   "source": [
    "# Create new dataframe for 2019 data\n"
   ]
  },
  {
   "cell_type": "code",
   "execution_count": 28,
   "metadata": {},
   "outputs": [],
   "source": [
    "# Concat 2018 and 2019 data into one dataframe\n"
   ]
  }
 ],
 "metadata": {
  "kernelspec": {
   "display_name": "Python 3.8.10 64-bit",
   "language": "python",
   "name": "python3"
  },
  "language_info": {
   "codemirror_mode": {
    "name": "ipython",
    "version": 3
   },
   "file_extension": ".py",
   "mimetype": "text/x-python",
   "name": "python",
   "nbconvert_exporter": "python",
   "pygments_lexer": "ipython3",
   "version": "3.8.9"
  },
  "orig_nbformat": 4,
  "vscode": {
   "interpreter": {
    "hash": "31f2aee4e71d21fbe5cf8b01ff0e069b9275f58929596ceb00d14d90e3e16cd6"
   }
  }
 },
 "nbformat": 4,
 "nbformat_minor": 2
}
