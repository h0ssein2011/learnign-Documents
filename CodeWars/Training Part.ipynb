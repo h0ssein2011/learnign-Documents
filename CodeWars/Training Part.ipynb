{
 "cells": [
  {
   "cell_type": "markdown",
   "metadata": {},
   "source": [
    "# q3"
   ]
  },
  {
   "cell_type": "code",
   "execution_count": null,
   "metadata": {},
   "outputs": [],
   "source": [
    "\"\"\"In this kata, you must create a digital root function.\n",
    "\n",
    "A digital root is the recursive sum of all the digits in a number.\n",
    "Given n, take the sum of the digits of n. If that value has more than one digit, \n",
    "continue reducing in this way until a single-digit number is produced. \n",
    "This is only applicable to the natural numbers\"\"\""
   ]
  },
  {
   "cell_type": "code",
   "execution_count": 20,
   "metadata": {},
   "outputs": [],
   "source": [
    "def digital_root(n):\n",
    "    dg_root=10\n",
    "    while dg_root >9:\n",
    "        dg_root = sum([int(d) for d in str(n)])       \n",
    "        n=dg_root\n",
    "    return dg_root"
   ]
  },
  {
   "cell_type": "code",
   "execution_count": 26,
   "metadata": {},
   "outputs": [
    {
     "data": {
      "text/plain": [
       "1"
      ]
     },
     "execution_count": 26,
     "metadata": {},
     "output_type": "execute_result"
    }
   ],
   "source": [
    "digital_root2(100)"
   ]
  },
  {
   "cell_type": "code",
   "execution_count": 19,
   "metadata": {},
   "outputs": [],
   "source": [
    "#clever answer\n",
    "def digital_root2(n):\n",
    "  return n%9 or n and 9"
   ]
  },
  {
   "cell_type": "code",
   "execution_count": 22,
   "metadata": {},
   "outputs": [
    {
     "data": {
      "text/plain": [
       "8"
      ]
     },
     "execution_count": 22,
     "metadata": {},
     "output_type": "execute_result"
    }
   ],
   "source": [
    "def digital_root(n):\n",
    "    # ...\n",
    "    while n>9:\n",
    "        n=sum(map(int,str(n)))\n",
    "    return "
   ]
  }
 ],
 "metadata": {
  "kernelspec": {
   "display_name": "Python 3",
   "language": "python",
   "name": "python3"
  },
  "language_info": {
   "codemirror_mode": {
    "name": "ipython",
    "version": 3
   },
   "file_extension": ".py",
   "mimetype": "text/x-python",
   "name": "python",
   "nbconvert_exporter": "python",
   "pygments_lexer": "ipython3",
   "version": "3.7.1"
  }
 },
 "nbformat": 4,
 "nbformat_minor": 2
}
