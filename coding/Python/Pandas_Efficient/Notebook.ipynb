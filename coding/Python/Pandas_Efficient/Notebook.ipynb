{
 "cells": [
  {
   "cell_type": "markdown",
   "metadata": {},
   "source": [
    "### Pandas Big Picture\n",
    "\n"
   ]
  },
  {
   "cell_type": "markdown",
   "metadata": {},
   "source": [
    "### Why pandas? \n",
    "-  easy to use \n",
    "-  easy to learn.\n",
    "- it is fast \n",
    "- it is a powerful data analysis toolkit\n",
    "- it is open source\n",
    "- it is supported by many developers (~3k)\n"
   ]
  },
  {
   "cell_type": "markdown",
   "metadata": {},
   "source": [
    "### Two building blocks of pandas are Series and DataFrame\n",
    "- Series: A 1D labeled data structure with rows.\n",
    "- DataFrame: A 2D labeled data structure with columns and rows.\n"
   ]
  },
  {
   "cell_type": "code",
   "execution_count": 1,
   "metadata": {},
   "outputs": [],
   "source": [
    "import pandas as pd"
   ]
  },
  {
   "cell_type": "code",
   "execution_count": 2,
   "metadata": {},
   "outputs": [
    {
     "data": {
      "text/html": [
       "<div>\n",
       "<style scoped>\n",
       "    .dataframe tbody tr th:only-of-type {\n",
       "        vertical-align: middle;\n",
       "    }\n",
       "\n",
       "    .dataframe tbody tr th {\n",
       "        vertical-align: top;\n",
       "    }\n",
       "\n",
       "    .dataframe thead th {\n",
       "        text-align: right;\n",
       "    }\n",
       "</style>\n",
       "<table border=\"1\" class=\"dataframe\">\n",
       "  <thead>\n",
       "    <tr style=\"text-align: right;\">\n",
       "      <th></th>\n",
       "      <th>star_rating</th>\n",
       "      <th>title</th>\n",
       "      <th>content_rating</th>\n",
       "      <th>genre</th>\n",
       "      <th>duration</th>\n",
       "      <th>actors_list</th>\n",
       "    </tr>\n",
       "  </thead>\n",
       "  <tbody>\n",
       "    <tr>\n",
       "      <th>0</th>\n",
       "      <td>9.3</td>\n",
       "      <td>The Shawshank Redemption</td>\n",
       "      <td>R</td>\n",
       "      <td>Crime</td>\n",
       "      <td>142</td>\n",
       "      <td>[u'Tim Robbins', u'Morgan Freeman', u'Bob Gunt...</td>\n",
       "    </tr>\n",
       "    <tr>\n",
       "      <th>1</th>\n",
       "      <td>9.2</td>\n",
       "      <td>The Godfather</td>\n",
       "      <td>R</td>\n",
       "      <td>Crime</td>\n",
       "      <td>175</td>\n",
       "      <td>[u'Marlon Brando', u'Al Pacino', u'James Caan']</td>\n",
       "    </tr>\n",
       "    <tr>\n",
       "      <th>2</th>\n",
       "      <td>9.1</td>\n",
       "      <td>The Godfather: Part II</td>\n",
       "      <td>R</td>\n",
       "      <td>Crime</td>\n",
       "      <td>200</td>\n",
       "      <td>[u'Al Pacino', u'Robert De Niro', u'Robert Duv...</td>\n",
       "    </tr>\n",
       "    <tr>\n",
       "      <th>3</th>\n",
       "      <td>9.0</td>\n",
       "      <td>The Dark Knight</td>\n",
       "      <td>PG-13</td>\n",
       "      <td>Action</td>\n",
       "      <td>152</td>\n",
       "      <td>[u'Christian Bale', u'Heath Ledger', u'Aaron E...</td>\n",
       "    </tr>\n",
       "    <tr>\n",
       "      <th>4</th>\n",
       "      <td>8.9</td>\n",
       "      <td>Pulp Fiction</td>\n",
       "      <td>R</td>\n",
       "      <td>Crime</td>\n",
       "      <td>154</td>\n",
       "      <td>[u'John Travolta', u'Uma Thurman', u'Samuel L....</td>\n",
       "    </tr>\n",
       "  </tbody>\n",
       "</table>\n",
       "</div>"
      ],
      "text/plain": [
       "   star_rating                     title content_rating   genre  duration  \\\n",
       "0          9.3  The Shawshank Redemption              R   Crime       142   \n",
       "1          9.2             The Godfather              R   Crime       175   \n",
       "2          9.1    The Godfather: Part II              R   Crime       200   \n",
       "3          9.0           The Dark Knight          PG-13  Action       152   \n",
       "4          8.9              Pulp Fiction              R   Crime       154   \n",
       "\n",
       "                                         actors_list  \n",
       "0  [u'Tim Robbins', u'Morgan Freeman', u'Bob Gunt...  \n",
       "1    [u'Marlon Brando', u'Al Pacino', u'James Caan']  \n",
       "2  [u'Al Pacino', u'Robert De Niro', u'Robert Duv...  \n",
       "3  [u'Christian Bale', u'Heath Ledger', u'Aaron E...  \n",
       "4  [u'John Travolta', u'Uma Thurman', u'Samuel L....  "
      ]
     },
     "execution_count": 2,
     "metadata": {},
     "output_type": "execute_result"
    }
   ],
   "source": [
    "imdb= pd.read_csv('data/imdb_1000.csv')\n",
    "imdb.head()"
   ]
  },
  {
   "cell_type": "code",
   "execution_count": 3,
   "metadata": {},
   "outputs": [
    {
     "data": {
      "text/plain": [
       "pandas.core.frame.DataFrame"
      ]
     },
     "execution_count": 3,
     "metadata": {},
     "output_type": "execute_result"
    }
   ],
   "source": [
    "type(imdb)"
   ]
  },
  {
   "cell_type": "code",
   "execution_count": 4,
   "metadata": {},
   "outputs": [
    {
     "data": {
      "text/plain": [
       "pandas.core.series.Series"
      ]
     },
     "execution_count": 4,
     "metadata": {},
     "output_type": "execute_result"
    }
   ],
   "source": [
    "type(imdb.title)"
   ]
  },
  {
   "cell_type": "markdown",
   "metadata": {},
   "source": [
    "### some of the basic operation by Pandas\n"
   ]
  },
  {
   "cell_type": "code",
   "execution_count": 8,
   "metadata": {},
   "outputs": [
    {
     "name": "stdout",
     "output_type": "stream",
     "text": [
      "Average star Rating for top 1000 movies was:  7.889785495403474\n",
      "Max duration of star Rating for top 1000 movies was:  242 min\n",
      "Min duration of star Rating for top 1000 movies was:  64 min\n"
     ]
    }
   ],
   "source": [
    "print('Average star Rating for top 1000 movies was: ', imdb.star_rating.mean())\n",
    "print('Max duration of star Rating for top 1000 movies was: ', imdb.duration.max(),'min')\n",
    "print('Min duration of star Rating for top 1000 movies was: ', imdb.duration.min(),'min')"
   ]
  },
  {
   "cell_type": "code",
   "execution_count": 17,
   "metadata": {},
   "outputs": [
    {
     "data": {
      "text/plain": [
       "Drama        28.396323\n",
       "Comedy       15.934627\n",
       "Action       13.891726\n",
       "Crime        12.665986\n",
       "Biography     7.865169\n",
       "Adventure     7.660878\n",
       "Animation     6.332993\n",
       "Horror        2.962206\n",
       "Mystery       1.634321\n",
       "Western       0.919305\n",
       "Sci-Fi        0.510725\n",
       "Thriller      0.510725\n",
       "Film-Noir     0.306435\n",
       "Family        0.204290\n",
       "History       0.102145\n",
       "Fantasy       0.102145\n",
       "Name: genre, dtype: float64"
      ]
     },
     "execution_count": 17,
     "metadata": {},
     "output_type": "execute_result"
    }
   ],
   "source": [
    "# What is the distribution of Geners in the top 1000 movies?\n",
    "imdb.genre.value_counts(normalize=True) * 100\n"
   ]
  },
  {
   "cell_type": "code",
   "execution_count": 19,
   "metadata": {},
   "outputs": [
    {
     "data": {
      "text/plain": [
       "110-120    17.262513\n",
       "100-110    16.751788\n",
       "120-130    16.241062\n",
       "90-100     13.381001\n",
       "130-140     9.908069\n",
       "80-90       6.026558\n",
       "140-150     5.720123\n",
       "150-160     4.392237\n",
       "160-170     3.268641\n",
       "170-180     1.736466\n",
       "70-80       1.327886\n",
       "180-190     1.327886\n",
       "190-200     0.817160\n",
       "60-70       0.715015\n",
       "200-210     0.408580\n",
       "210-220     0.306435\n",
       "220-230     0.204290\n",
       "230-240     0.102145\n",
       "240-250     0.102145\n",
       "Name: duration_bin, dtype: float64"
      ]
     },
     "execution_count": 19,
     "metadata": {},
     "output_type": "execute_result"
    }
   ],
   "source": [
    "# What is the distribution of Duration (In every 10 minutes) in the top 1000 movies?\n",
    "# way 1:\n",
    "bins = [60,70,80,90,100,110,120,130,140,150,160,170,180,190,200,210,220,230,240,250]\n",
    "labels = ['60-70','70-80','80-90','90-100','100-110','110-120','120-130','130-140','140-150','150-160',\n",
    "'160-170','170-180','180-190','190-200','200-210','210-220','220-230','230-240','240-250']\n",
    "\n",
    "imdb['duration_bin'] = pd.cut(imdb.duration, bins=bins, labels=labels)\n",
    "imdb.duration_bin.value_counts(normalize=True) * 100"
   ]
  },
  {
   "cell_type": "code",
   "execution_count": 30,
   "metadata": {},
   "outputs": [
    {
     "data": {
      "text/plain": [
       "11    17.058223\n",
       "10    16.853933\n",
       "12    16.241062\n",
       "9     12.359551\n",
       "13    10.929520\n",
       "14     6.026558\n",
       "8      5.924413\n",
       "15     4.494382\n",
       "16     3.064351\n",
       "17     2.247191\n",
       "18     1.430031\n",
       "7      0.817160\n",
       "19     0.715015\n",
       "6      0.612870\n",
       "20     0.510725\n",
       "22     0.306435\n",
       "21     0.204290\n",
       "23     0.102145\n",
       "24     0.102145\n",
       "Name: duration_bin, dtype: float64"
      ]
     },
     "execution_count": 30,
     "metadata": {},
     "output_type": "execute_result"
    }
   ],
   "source": [
    "# way 2: using math function\n",
    "imdb['duration_bin'] = imdb.duration // 10\n",
    "imdb.duration_bin.value_counts(normalize=True) * 100"
   ]
  },
  {
   "cell_type": "code",
   "execution_count": null,
   "metadata": {},
   "outputs": [],
   "source": []
  },
  {
   "cell_type": "code",
   "execution_count": null,
   "metadata": {},
   "outputs": [],
   "source": []
  },
  {
   "cell_type": "markdown",
   "metadata": {},
   "source": [
    "## 95% of people use this kind of code style but only 5% of people know how to use it more efficiently.!"
   ]
  }
 ],
 "metadata": {
  "kernelspec": {
   "display_name": "Python 3.8.10 64-bit",
   "language": "python",
   "name": "python3"
  },
  "language_info": {
   "codemirror_mode": {
    "name": "ipython",
    "version": 3
   },
   "file_extension": ".py",
   "mimetype": "text/x-python",
   "name": "python",
   "nbconvert_exporter": "python",
   "pygments_lexer": "ipython3",
   "version": "3.8.10"
  },
  "orig_nbformat": 4,
  "vscode": {
   "interpreter": {
    "hash": "31f2aee4e71d21fbe5cf8b01ff0e069b9275f58929596ceb00d14d90e3e16cd6"
   }
  }
 },
 "nbformat": 4,
 "nbformat_minor": 2
}
