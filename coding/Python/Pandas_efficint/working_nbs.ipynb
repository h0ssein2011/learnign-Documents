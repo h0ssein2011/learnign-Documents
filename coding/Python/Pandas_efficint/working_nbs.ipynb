{
  "cells": [
    {
      "cell_type": "code",
      "execution_count": 9,
      "metadata": {
        "id": "WCm1PuxQOC3d"
      },
      "outputs": [],
      "source": [
        "import pandas as pd\n",
        "import requests\n",
        "import wget\n",
        "import numpy as np\n",
        "import matplotlib.pyplot as plt\n",
        "plt.style.use('ggplot')\n",
        "\n",
        "plt.rcParams['figure.figsize'] = (20, 8)"
      ]
    },
    {
      "cell_type": "code",
      "execution_count": 2,
      "metadata": {},
      "outputs": [
        {
          "name": "stderr",
          "output_type": "stream",
          "text": [
            "/home/hossein/.local/lib/python3.8/site-packages/IPython/core/interactiveshell.py:3441: DtypeWarning: Columns (68,70,71,72,73,74,76,79) have mixed types.Specify dtype option on import or set low_memory=False.\n",
            "  exec(code_obj, self.user_global_ns, self.user_ns)\n"
          ]
        },
        {
          "data": {
            "text/html": [
              "<div>\n",
              "<style scoped>\n",
              "    .dataframe tbody tr th:only-of-type {\n",
              "        vertical-align: middle;\n",
              "    }\n",
              "\n",
              "    .dataframe tbody tr th {\n",
              "        vertical-align: top;\n",
              "    }\n",
              "\n",
              "    .dataframe thead th {\n",
              "        text-align: right;\n",
              "    }\n",
              "</style>\n",
              "<table border=\"1\" class=\"dataframe\">\n",
              "  <thead>\n",
              "    <tr style=\"text-align: right;\">\n",
              "      <th></th>\n",
              "      <th>barrels08</th>\n",
              "      <th>barrelsA08</th>\n",
              "      <th>charge120</th>\n",
              "      <th>charge240</th>\n",
              "      <th>city08</th>\n",
              "      <th>city08U</th>\n",
              "      <th>cityA08</th>\n",
              "      <th>cityA08U</th>\n",
              "      <th>cityCD</th>\n",
              "      <th>cityE</th>\n",
              "      <th>...</th>\n",
              "      <th>mfrCode</th>\n",
              "      <th>c240Dscr</th>\n",
              "      <th>charge240b</th>\n",
              "      <th>c240bDscr</th>\n",
              "      <th>createdOn</th>\n",
              "      <th>modifiedOn</th>\n",
              "      <th>startStop</th>\n",
              "      <th>phevCity</th>\n",
              "      <th>phevHwy</th>\n",
              "      <th>phevComb</th>\n",
              "    </tr>\n",
              "  </thead>\n",
              "  <tbody>\n",
              "    <tr>\n",
              "      <th>0</th>\n",
              "      <td>15.695714</td>\n",
              "      <td>0.0</td>\n",
              "      <td>0.0</td>\n",
              "      <td>0.0</td>\n",
              "      <td>19</td>\n",
              "      <td>0.0</td>\n",
              "      <td>0</td>\n",
              "      <td>0.0</td>\n",
              "      <td>0.0</td>\n",
              "      <td>0.0</td>\n",
              "      <td>...</td>\n",
              "      <td>NaN</td>\n",
              "      <td>NaN</td>\n",
              "      <td>0.0</td>\n",
              "      <td>NaN</td>\n",
              "      <td>Tue Jan 01 00:00:00 EST 2013</td>\n",
              "      <td>Tue Jan 01 00:00:00 EST 2013</td>\n",
              "      <td>NaN</td>\n",
              "      <td>0</td>\n",
              "      <td>0</td>\n",
              "      <td>0</td>\n",
              "    </tr>\n",
              "    <tr>\n",
              "      <th>1</th>\n",
              "      <td>29.964545</td>\n",
              "      <td>0.0</td>\n",
              "      <td>0.0</td>\n",
              "      <td>0.0</td>\n",
              "      <td>9</td>\n",
              "      <td>0.0</td>\n",
              "      <td>0</td>\n",
              "      <td>0.0</td>\n",
              "      <td>0.0</td>\n",
              "      <td>0.0</td>\n",
              "      <td>...</td>\n",
              "      <td>NaN</td>\n",
              "      <td>NaN</td>\n",
              "      <td>0.0</td>\n",
              "      <td>NaN</td>\n",
              "      <td>Tue Jan 01 00:00:00 EST 2013</td>\n",
              "      <td>Tue Jan 01 00:00:00 EST 2013</td>\n",
              "      <td>NaN</td>\n",
              "      <td>0</td>\n",
              "      <td>0</td>\n",
              "      <td>0</td>\n",
              "    </tr>\n",
              "    <tr>\n",
              "      <th>2</th>\n",
              "      <td>12.207778</td>\n",
              "      <td>0.0</td>\n",
              "      <td>0.0</td>\n",
              "      <td>0.0</td>\n",
              "      <td>23</td>\n",
              "      <td>0.0</td>\n",
              "      <td>0</td>\n",
              "      <td>0.0</td>\n",
              "      <td>0.0</td>\n",
              "      <td>0.0</td>\n",
              "      <td>...</td>\n",
              "      <td>NaN</td>\n",
              "      <td>NaN</td>\n",
              "      <td>0.0</td>\n",
              "      <td>NaN</td>\n",
              "      <td>Tue Jan 01 00:00:00 EST 2013</td>\n",
              "      <td>Tue Jan 01 00:00:00 EST 2013</td>\n",
              "      <td>NaN</td>\n",
              "      <td>0</td>\n",
              "      <td>0</td>\n",
              "      <td>0</td>\n",
              "    </tr>\n",
              "    <tr>\n",
              "      <th>3</th>\n",
              "      <td>29.964545</td>\n",
              "      <td>0.0</td>\n",
              "      <td>0.0</td>\n",
              "      <td>0.0</td>\n",
              "      <td>10</td>\n",
              "      <td>0.0</td>\n",
              "      <td>0</td>\n",
              "      <td>0.0</td>\n",
              "      <td>0.0</td>\n",
              "      <td>0.0</td>\n",
              "      <td>...</td>\n",
              "      <td>NaN</td>\n",
              "      <td>NaN</td>\n",
              "      <td>0.0</td>\n",
              "      <td>NaN</td>\n",
              "      <td>Tue Jan 01 00:00:00 EST 2013</td>\n",
              "      <td>Tue Jan 01 00:00:00 EST 2013</td>\n",
              "      <td>NaN</td>\n",
              "      <td>0</td>\n",
              "      <td>0</td>\n",
              "      <td>0</td>\n",
              "    </tr>\n",
              "    <tr>\n",
              "      <th>4</th>\n",
              "      <td>17.347895</td>\n",
              "      <td>0.0</td>\n",
              "      <td>0.0</td>\n",
              "      <td>0.0</td>\n",
              "      <td>17</td>\n",
              "      <td>0.0</td>\n",
              "      <td>0</td>\n",
              "      <td>0.0</td>\n",
              "      <td>0.0</td>\n",
              "      <td>0.0</td>\n",
              "      <td>...</td>\n",
              "      <td>NaN</td>\n",
              "      <td>NaN</td>\n",
              "      <td>0.0</td>\n",
              "      <td>NaN</td>\n",
              "      <td>Tue Jan 01 00:00:00 EST 2013</td>\n",
              "      <td>Tue Jan 01 00:00:00 EST 2013</td>\n",
              "      <td>NaN</td>\n",
              "      <td>0</td>\n",
              "      <td>0</td>\n",
              "      <td>0</td>\n",
              "    </tr>\n",
              "  </tbody>\n",
              "</table>\n",
              "<p>5 rows × 83 columns</p>\n",
              "</div>"
            ],
            "text/plain": [
              "   barrels08  barrelsA08  charge120  charge240  city08  city08U  cityA08  \\\n",
              "0  15.695714         0.0        0.0        0.0      19      0.0        0   \n",
              "1  29.964545         0.0        0.0        0.0       9      0.0        0   \n",
              "2  12.207778         0.0        0.0        0.0      23      0.0        0   \n",
              "3  29.964545         0.0        0.0        0.0      10      0.0        0   \n",
              "4  17.347895         0.0        0.0        0.0      17      0.0        0   \n",
              "\n",
              "   cityA08U  cityCD  cityE  ...  mfrCode  c240Dscr  charge240b  c240bDscr  \\\n",
              "0       0.0     0.0    0.0  ...      NaN       NaN         0.0        NaN   \n",
              "1       0.0     0.0    0.0  ...      NaN       NaN         0.0        NaN   \n",
              "2       0.0     0.0    0.0  ...      NaN       NaN         0.0        NaN   \n",
              "3       0.0     0.0    0.0  ...      NaN       NaN         0.0        NaN   \n",
              "4       0.0     0.0    0.0  ...      NaN       NaN         0.0        NaN   \n",
              "\n",
              "                      createdOn                    modifiedOn  startStop  \\\n",
              "0  Tue Jan 01 00:00:00 EST 2013  Tue Jan 01 00:00:00 EST 2013        NaN   \n",
              "1  Tue Jan 01 00:00:00 EST 2013  Tue Jan 01 00:00:00 EST 2013        NaN   \n",
              "2  Tue Jan 01 00:00:00 EST 2013  Tue Jan 01 00:00:00 EST 2013        NaN   \n",
              "3  Tue Jan 01 00:00:00 EST 2013  Tue Jan 01 00:00:00 EST 2013        NaN   \n",
              "4  Tue Jan 01 00:00:00 EST 2013  Tue Jan 01 00:00:00 EST 2013        NaN   \n",
              "\n",
              "   phevCity  phevHwy  phevComb  \n",
              "0         0        0         0  \n",
              "1         0        0         0  \n",
              "2         0        0         0  \n",
              "3         0        0         0  \n",
              "4         0        0         0  \n",
              "\n",
              "[5 rows x 83 columns]"
            ]
          },
          "execution_count": 2,
          "metadata": {},
          "output_type": "execute_result"
        }
      ],
      "source": [
        "df = pd.read_csv('vehicles.csv')\n",
        "\n",
        "df.head()"
      ]
    },
    {
      "cell_type": "code",
      "execution_count": 3,
      "metadata": {},
      "outputs": [
        {
          "name": "stderr",
          "output_type": "stream",
          "text": [
            "/home/hossein/.local/lib/python3.8/site-packages/IPython/core/interactiveshell.py:3441: DtypeWarning: Columns (10) have mixed types.Specify dtype option on import or set low_memory=False.\n",
            "  exec(code_obj, self.user_global_ns, self.user_ns)\n"
          ]
        },
        {
          "data": {
            "text/html": [
              "<div>\n",
              "<style scoped>\n",
              "    .dataframe tbody tr th:only-of-type {\n",
              "        vertical-align: middle;\n",
              "    }\n",
              "\n",
              "    .dataframe tbody tr th {\n",
              "        vertical-align: top;\n",
              "    }\n",
              "\n",
              "    .dataframe thead th {\n",
              "        text-align: right;\n",
              "    }\n",
              "</style>\n",
              "<table border=\"1\" class=\"dataframe\">\n",
              "  <thead>\n",
              "    <tr style=\"text-align: right;\">\n",
              "      <th></th>\n",
              "      <th>country</th>\n",
              "      <th>country_long</th>\n",
              "      <th>name</th>\n",
              "      <th>gppd_idnr</th>\n",
              "      <th>capacity_mw</th>\n",
              "      <th>latitude</th>\n",
              "      <th>longitude</th>\n",
              "      <th>primary_fuel</th>\n",
              "      <th>other_fuel1</th>\n",
              "      <th>other_fuel2</th>\n",
              "      <th>...</th>\n",
              "      <th>estimated_generation_gwh_2013</th>\n",
              "      <th>estimated_generation_gwh_2014</th>\n",
              "      <th>estimated_generation_gwh_2015</th>\n",
              "      <th>estimated_generation_gwh_2016</th>\n",
              "      <th>estimated_generation_gwh_2017</th>\n",
              "      <th>estimated_generation_note_2013</th>\n",
              "      <th>estimated_generation_note_2014</th>\n",
              "      <th>estimated_generation_note_2015</th>\n",
              "      <th>estimated_generation_note_2016</th>\n",
              "      <th>estimated_generation_note_2017</th>\n",
              "    </tr>\n",
              "  </thead>\n",
              "  <tbody>\n",
              "    <tr>\n",
              "      <th>0</th>\n",
              "      <td>AFG</td>\n",
              "      <td>Afghanistan</td>\n",
              "      <td>Kajaki Hydroelectric Power Plant Afghanistan</td>\n",
              "      <td>GEODB0040538</td>\n",
              "      <td>33.0</td>\n",
              "      <td>32.322</td>\n",
              "      <td>65.1190</td>\n",
              "      <td>Hydro</td>\n",
              "      <td>NaN</td>\n",
              "      <td>NaN</td>\n",
              "      <td>...</td>\n",
              "      <td>123.77</td>\n",
              "      <td>162.90</td>\n",
              "      <td>97.39</td>\n",
              "      <td>137.76</td>\n",
              "      <td>119.50</td>\n",
              "      <td>HYDRO-V1</td>\n",
              "      <td>HYDRO-V1</td>\n",
              "      <td>HYDRO-V1</td>\n",
              "      <td>HYDRO-V1</td>\n",
              "      <td>HYDRO-V1</td>\n",
              "    </tr>\n",
              "    <tr>\n",
              "      <th>1</th>\n",
              "      <td>AFG</td>\n",
              "      <td>Afghanistan</td>\n",
              "      <td>Kandahar DOG</td>\n",
              "      <td>WKS0070144</td>\n",
              "      <td>10.0</td>\n",
              "      <td>31.670</td>\n",
              "      <td>65.7950</td>\n",
              "      <td>Solar</td>\n",
              "      <td>NaN</td>\n",
              "      <td>NaN</td>\n",
              "      <td>...</td>\n",
              "      <td>18.43</td>\n",
              "      <td>17.48</td>\n",
              "      <td>18.25</td>\n",
              "      <td>17.70</td>\n",
              "      <td>18.29</td>\n",
              "      <td>SOLAR-V1-NO-AGE</td>\n",
              "      <td>SOLAR-V1-NO-AGE</td>\n",
              "      <td>SOLAR-V1-NO-AGE</td>\n",
              "      <td>SOLAR-V1-NO-AGE</td>\n",
              "      <td>SOLAR-V1-NO-AGE</td>\n",
              "    </tr>\n",
              "    <tr>\n",
              "      <th>2</th>\n",
              "      <td>AFG</td>\n",
              "      <td>Afghanistan</td>\n",
              "      <td>Kandahar JOL</td>\n",
              "      <td>WKS0071196</td>\n",
              "      <td>10.0</td>\n",
              "      <td>31.623</td>\n",
              "      <td>65.7920</td>\n",
              "      <td>Solar</td>\n",
              "      <td>NaN</td>\n",
              "      <td>NaN</td>\n",
              "      <td>...</td>\n",
              "      <td>18.64</td>\n",
              "      <td>17.58</td>\n",
              "      <td>19.10</td>\n",
              "      <td>17.62</td>\n",
              "      <td>18.72</td>\n",
              "      <td>SOLAR-V1-NO-AGE</td>\n",
              "      <td>SOLAR-V1-NO-AGE</td>\n",
              "      <td>SOLAR-V1-NO-AGE</td>\n",
              "      <td>SOLAR-V1-NO-AGE</td>\n",
              "      <td>SOLAR-V1-NO-AGE</td>\n",
              "    </tr>\n",
              "    <tr>\n",
              "      <th>3</th>\n",
              "      <td>AFG</td>\n",
              "      <td>Afghanistan</td>\n",
              "      <td>Mahipar Hydroelectric Power Plant Afghanistan</td>\n",
              "      <td>GEODB0040541</td>\n",
              "      <td>66.0</td>\n",
              "      <td>34.556</td>\n",
              "      <td>69.4787</td>\n",
              "      <td>Hydro</td>\n",
              "      <td>NaN</td>\n",
              "      <td>NaN</td>\n",
              "      <td>...</td>\n",
              "      <td>225.06</td>\n",
              "      <td>203.55</td>\n",
              "      <td>146.90</td>\n",
              "      <td>230.18</td>\n",
              "      <td>174.91</td>\n",
              "      <td>HYDRO-V1</td>\n",
              "      <td>HYDRO-V1</td>\n",
              "      <td>HYDRO-V1</td>\n",
              "      <td>HYDRO-V1</td>\n",
              "      <td>HYDRO-V1</td>\n",
              "    </tr>\n",
              "    <tr>\n",
              "      <th>4</th>\n",
              "      <td>AFG</td>\n",
              "      <td>Afghanistan</td>\n",
              "      <td>Naghlu Dam Hydroelectric Power Plant Afghanistan</td>\n",
              "      <td>GEODB0040534</td>\n",
              "      <td>100.0</td>\n",
              "      <td>34.641</td>\n",
              "      <td>69.7170</td>\n",
              "      <td>Hydro</td>\n",
              "      <td>NaN</td>\n",
              "      <td>NaN</td>\n",
              "      <td>...</td>\n",
              "      <td>406.16</td>\n",
              "      <td>357.22</td>\n",
              "      <td>270.99</td>\n",
              "      <td>395.38</td>\n",
              "      <td>350.80</td>\n",
              "      <td>HYDRO-V1</td>\n",
              "      <td>HYDRO-V1</td>\n",
              "      <td>HYDRO-V1</td>\n",
              "      <td>HYDRO-V1</td>\n",
              "      <td>HYDRO-V1</td>\n",
              "    </tr>\n",
              "  </tbody>\n",
              "</table>\n",
              "<p>5 rows × 36 columns</p>\n",
              "</div>"
            ],
            "text/plain": [
              "  country country_long                                              name  \\\n",
              "0     AFG  Afghanistan      Kajaki Hydroelectric Power Plant Afghanistan   \n",
              "1     AFG  Afghanistan                                      Kandahar DOG   \n",
              "2     AFG  Afghanistan                                      Kandahar JOL   \n",
              "3     AFG  Afghanistan     Mahipar Hydroelectric Power Plant Afghanistan   \n",
              "4     AFG  Afghanistan  Naghlu Dam Hydroelectric Power Plant Afghanistan   \n",
              "\n",
              "      gppd_idnr  capacity_mw  latitude  longitude primary_fuel other_fuel1  \\\n",
              "0  GEODB0040538         33.0    32.322    65.1190        Hydro         NaN   \n",
              "1    WKS0070144         10.0    31.670    65.7950        Solar         NaN   \n",
              "2    WKS0071196         10.0    31.623    65.7920        Solar         NaN   \n",
              "3  GEODB0040541         66.0    34.556    69.4787        Hydro         NaN   \n",
              "4  GEODB0040534        100.0    34.641    69.7170        Hydro         NaN   \n",
              "\n",
              "  other_fuel2  ... estimated_generation_gwh_2013  \\\n",
              "0         NaN  ...                        123.77   \n",
              "1         NaN  ...                         18.43   \n",
              "2         NaN  ...                         18.64   \n",
              "3         NaN  ...                        225.06   \n",
              "4         NaN  ...                        406.16   \n",
              "\n",
              "   estimated_generation_gwh_2014 estimated_generation_gwh_2015  \\\n",
              "0                         162.90                         97.39   \n",
              "1                          17.48                         18.25   \n",
              "2                          17.58                         19.10   \n",
              "3                         203.55                        146.90   \n",
              "4                         357.22                        270.99   \n",
              "\n",
              "  estimated_generation_gwh_2016 estimated_generation_gwh_2017  \\\n",
              "0                        137.76                        119.50   \n",
              "1                         17.70                         18.29   \n",
              "2                         17.62                         18.72   \n",
              "3                        230.18                        174.91   \n",
              "4                        395.38                        350.80   \n",
              "\n",
              "  estimated_generation_note_2013 estimated_generation_note_2014  \\\n",
              "0                       HYDRO-V1                       HYDRO-V1   \n",
              "1                SOLAR-V1-NO-AGE                SOLAR-V1-NO-AGE   \n",
              "2                SOLAR-V1-NO-AGE                SOLAR-V1-NO-AGE   \n",
              "3                       HYDRO-V1                       HYDRO-V1   \n",
              "4                       HYDRO-V1                       HYDRO-V1   \n",
              "\n",
              "   estimated_generation_note_2015  estimated_generation_note_2016  \\\n",
              "0                        HYDRO-V1                        HYDRO-V1   \n",
              "1                 SOLAR-V1-NO-AGE                 SOLAR-V1-NO-AGE   \n",
              "2                 SOLAR-V1-NO-AGE                 SOLAR-V1-NO-AGE   \n",
              "3                        HYDRO-V1                        HYDRO-V1   \n",
              "4                        HYDRO-V1                        HYDRO-V1   \n",
              "\n",
              "   estimated_generation_note_2017  \n",
              "0                        HYDRO-V1  \n",
              "1                 SOLAR-V1-NO-AGE  \n",
              "2                 SOLAR-V1-NO-AGE  \n",
              "3                        HYDRO-V1  \n",
              "4                        HYDRO-V1  \n",
              "\n",
              "[5 rows x 36 columns]"
            ]
          },
          "execution_count": 3,
          "metadata": {},
          "output_type": "execute_result"
        }
      ],
      "source": [
        "energy = pd.read_csv('global_power_plant_database.csv')\n",
        "energy.head()"
      ]
    },
    {
      "cell_type": "code",
      "execution_count": 3,
      "metadata": {
        "colab": {
          "base_uri": "https://localhost:8080/"
        },
        "id": "1_tgzqeGGl-W",
        "outputId": "14c5bcf0-fc7f-49b6-be49-d8f7ddebd226"
      },
      "outputs": [
        {
          "data": {
            "text/plain": [
              "1     NaN\n",
              "2    55.0\n",
              "2    64.0\n",
              "2    65.0\n",
              "2    74.0\n",
              "4     NaN\n",
              "dtype: float64"
            ]
          },
          "execution_count": 3,
          "metadata": {},
          "output_type": "execute_result"
        }
      ],
      "source": [
        "s1 = pd.Series ([10 , 20, 30] , index =[1 ,2 ,2])\n",
        "s2 = pd.Series ([35 , 44, 53] , index =[2 ,2 ,4] , name ='s2 ')\n",
        "\n",
        "s1+s2"
      ]
    },
    {
      "cell_type": "code",
      "execution_count": 3,
      "metadata": {
        "colab": {
          "base_uri": "https://localhost:8080/"
        },
        "id": "S6MdcfrAG7Cx",
        "outputId": "685461fc-6af3-4f67-8329-472e858f9a93"
      },
      "outputs": [
        {
          "data": {
            "text/plain": [
              "1     NaN\n",
              "2    55.0\n",
              "2    64.0\n",
              "2    65.0\n",
              "2    74.0\n",
              "4     NaN\n",
              "dtype: float64"
            ]
          },
          "execution_count": 3,
          "metadata": {},
          "output_type": "execute_result"
        }
      ],
      "source": [
        "s1.add(s2)"
      ]
    },
    {
      "cell_type": "code",
      "execution_count": 5,
      "metadata": {
        "colab": {
          "base_uri": "https://localhost:8080/"
        },
        "id": "hJ-8fRLvHAHO",
        "outputId": "449a0637-b7be-4901-87de-40196a918b17"
      },
      "outputs": [
        {
          "data": {
            "text/plain": [
              "1    11.0\n",
              "2    55.0\n",
              "2    64.0\n",
              "2    65.0\n",
              "2    74.0\n",
              "4    54.0\n",
              "dtype: float64"
            ]
          },
          "execution_count": 5,
          "metadata": {},
          "output_type": "execute_result"
        }
      ],
      "source": [
        "s1.add(s2,fill_value=1)"
      ]
    },
    {
      "cell_type": "code",
      "execution_count": null,
      "metadata": {
        "colab": {
          "base_uri": "https://localhost:8080/"
        },
        "id": "xL0_ebB52HxG",
        "outputId": "345470d8-d736-4de2-8058-6a154ef42b42"
      },
      "outputs": [
        {
          "data": {
            "text/plain": [
              "0     7\n",
              "1     9\n",
              "2    11\n",
              "dtype: int64"
            ]
          },
          "execution_count": 2,
          "metadata": {},
          "output_type": "execute_result"
        }
      ],
      "source": [
        "# Broadcasting\n",
        "s= pd.Series([3,5,7])\n",
        "s+4"
      ]
    },
    {
      "cell_type": "code",
      "execution_count": null,
      "metadata": {
        "colab": {
          "base_uri": "https://localhost:8080/",
          "height": 143
        },
        "id": "RBqHM0qf5Oc7",
        "outputId": "44de0fee-48c0-413b-bb6a-a2ccfa161341"
      },
      "outputs": [
        {
          "data": {
            "text/html": [
              "\n",
              "  <div id=\"df-fa9c44ee-ea2a-4fd9-8fcb-8f1489ffe41a\">\n",
              "    <div class=\"colab-df-container\">\n",
              "      <div>\n",
              "<style scoped>\n",
              "    .dataframe tbody tr th:only-of-type {\n",
              "        vertical-align: middle;\n",
              "    }\n",
              "\n",
              "    .dataframe tbody tr th {\n",
              "        vertical-align: top;\n",
              "    }\n",
              "\n",
              "    .dataframe thead th {\n",
              "        text-align: right;\n",
              "    }\n",
              "</style>\n",
              "<table border=\"1\" class=\"dataframe\">\n",
              "  <thead>\n",
              "    <tr style=\"text-align: right;\">\n",
              "      <th></th>\n",
              "      <th>a</th>\n",
              "      <th>b</th>\n",
              "    </tr>\n",
              "  </thead>\n",
              "  <tbody>\n",
              "    <tr>\n",
              "      <th>0</th>\n",
              "      <td>1</td>\n",
              "      <td>4</td>\n",
              "    </tr>\n",
              "    <tr>\n",
              "      <th>1</th>\n",
              "      <td>2</td>\n",
              "      <td>5</td>\n",
              "    </tr>\n",
              "    <tr>\n",
              "      <th>2</th>\n",
              "      <td>3</td>\n",
              "      <td>6</td>\n",
              "    </tr>\n",
              "  </tbody>\n",
              "</table>\n",
              "</div>\n",
              "      <button class=\"colab-df-convert\" onclick=\"convertToInteractive('df-fa9c44ee-ea2a-4fd9-8fcb-8f1489ffe41a')\"\n",
              "              title=\"Convert this dataframe to an interactive table.\"\n",
              "              style=\"display:none;\">\n",
              "        \n",
              "  <svg xmlns=\"http://www.w3.org/2000/svg\" height=\"24px\"viewBox=\"0 0 24 24\"\n",
              "       width=\"24px\">\n",
              "    <path d=\"M0 0h24v24H0V0z\" fill=\"none\"/>\n",
              "    <path d=\"M18.56 5.44l.94 2.06.94-2.06 2.06-.94-2.06-.94-.94-2.06-.94 2.06-2.06.94zm-11 1L8.5 8.5l.94-2.06 2.06-.94-2.06-.94L8.5 2.5l-.94 2.06-2.06.94zm10 10l.94 2.06.94-2.06 2.06-.94-2.06-.94-.94-2.06-.94 2.06-2.06.94z\"/><path d=\"M17.41 7.96l-1.37-1.37c-.4-.4-.92-.59-1.43-.59-.52 0-1.04.2-1.43.59L10.3 9.45l-7.72 7.72c-.78.78-.78 2.05 0 2.83L4 21.41c.39.39.9.59 1.41.59.51 0 1.02-.2 1.41-.59l7.78-7.78 2.81-2.81c.8-.78.8-2.07 0-2.86zM5.41 20L4 18.59l7.72-7.72 1.47 1.35L5.41 20z\"/>\n",
              "  </svg>\n",
              "      </button>\n",
              "      \n",
              "  <style>\n",
              "    .colab-df-container {\n",
              "      display:flex;\n",
              "      flex-wrap:wrap;\n",
              "      gap: 12px;\n",
              "    }\n",
              "\n",
              "    .colab-df-convert {\n",
              "      background-color: #E8F0FE;\n",
              "      border: none;\n",
              "      border-radius: 50%;\n",
              "      cursor: pointer;\n",
              "      display: none;\n",
              "      fill: #1967D2;\n",
              "      height: 32px;\n",
              "      padding: 0 0 0 0;\n",
              "      width: 32px;\n",
              "    }\n",
              "\n",
              "    .colab-df-convert:hover {\n",
              "      background-color: #E2EBFA;\n",
              "      box-shadow: 0px 1px 2px rgba(60, 64, 67, 0.3), 0px 1px 3px 1px rgba(60, 64, 67, 0.15);\n",
              "      fill: #174EA6;\n",
              "    }\n",
              "\n",
              "    [theme=dark] .colab-df-convert {\n",
              "      background-color: #3B4455;\n",
              "      fill: #D2E3FC;\n",
              "    }\n",
              "\n",
              "    [theme=dark] .colab-df-convert:hover {\n",
              "      background-color: #434B5C;\n",
              "      box-shadow: 0px 1px 3px 1px rgba(0, 0, 0, 0.15);\n",
              "      filter: drop-shadow(0px 1px 2px rgba(0, 0, 0, 0.3));\n",
              "      fill: #FFFFFF;\n",
              "    }\n",
              "  </style>\n",
              "\n",
              "      <script>\n",
              "        const buttonEl =\n",
              "          document.querySelector('#df-fa9c44ee-ea2a-4fd9-8fcb-8f1489ffe41a button.colab-df-convert');\n",
              "        buttonEl.style.display =\n",
              "          google.colab.kernel.accessAllowed ? 'block' : 'none';\n",
              "\n",
              "        async function convertToInteractive(key) {\n",
              "          const element = document.querySelector('#df-fa9c44ee-ea2a-4fd9-8fcb-8f1489ffe41a');\n",
              "          const dataTable =\n",
              "            await google.colab.kernel.invokeFunction('convertToInteractive',\n",
              "                                                     [key], {});\n",
              "          if (!dataTable) return;\n",
              "\n",
              "          const docLinkHtml = 'Like what you see? Visit the ' +\n",
              "            '<a target=\"_blank\" href=https://colab.research.google.com/notebooks/data_table.ipynb>data table notebook</a>'\n",
              "            + ' to learn more about interactive tables.';\n",
              "          element.innerHTML = '';\n",
              "          dataTable['output_type'] = 'display_data';\n",
              "          await google.colab.output.renderOutput(dataTable, element);\n",
              "          const docLink = document.createElement('div');\n",
              "          docLink.innerHTML = docLinkHtml;\n",
              "          element.appendChild(docLink);\n",
              "        }\n",
              "      </script>\n",
              "    </div>\n",
              "  </div>\n",
              "  "
            ],
            "text/plain": [
              "   a  b\n",
              "0  1  4\n",
              "1  2  5\n",
              "2  3  6"
            ]
          },
          "execution_count": 3,
          "metadata": {},
          "output_type": "execute_result"
        }
      ],
      "source": [
        "dict = {'a':[1,2,3],'b':[4,5,6]}\n",
        "df = pd.DataFrame(dict)\n",
        "df.head()"
      ]
    },
    {
      "cell_type": "code",
      "execution_count": null,
      "metadata": {
        "colab": {
          "base_uri": "https://localhost:8080/",
          "height": 143
        },
        "id": "T94GT0xz5j1p",
        "outputId": "91c1865b-6469-4f59-e97a-7ecdfe3d7d6c"
      },
      "outputs": [
        {
          "data": {
            "text/html": [
              "\n",
              "  <div id=\"df-4329efe6-6af0-4f2c-b07f-abd735394569\">\n",
              "    <div class=\"colab-df-container\">\n",
              "      <div>\n",
              "<style scoped>\n",
              "    .dataframe tbody tr th:only-of-type {\n",
              "        vertical-align: middle;\n",
              "    }\n",
              "\n",
              "    .dataframe tbody tr th {\n",
              "        vertical-align: top;\n",
              "    }\n",
              "\n",
              "    .dataframe thead th {\n",
              "        text-align: right;\n",
              "    }\n",
              "</style>\n",
              "<table border=\"1\" class=\"dataframe\">\n",
              "  <thead>\n",
              "    <tr style=\"text-align: right;\">\n",
              "      <th></th>\n",
              "      <th>a</th>\n",
              "      <th>b</th>\n",
              "    </tr>\n",
              "  </thead>\n",
              "  <tbody>\n",
              "    <tr>\n",
              "      <th>0</th>\n",
              "      <td>5</td>\n",
              "      <td>8</td>\n",
              "    </tr>\n",
              "    <tr>\n",
              "      <th>1</th>\n",
              "      <td>6</td>\n",
              "      <td>9</td>\n",
              "    </tr>\n",
              "    <tr>\n",
              "      <th>2</th>\n",
              "      <td>7</td>\n",
              "      <td>10</td>\n",
              "    </tr>\n",
              "  </tbody>\n",
              "</table>\n",
              "</div>\n",
              "      <button class=\"colab-df-convert\" onclick=\"convertToInteractive('df-4329efe6-6af0-4f2c-b07f-abd735394569')\"\n",
              "              title=\"Convert this dataframe to an interactive table.\"\n",
              "              style=\"display:none;\">\n",
              "        \n",
              "  <svg xmlns=\"http://www.w3.org/2000/svg\" height=\"24px\"viewBox=\"0 0 24 24\"\n",
              "       width=\"24px\">\n",
              "    <path d=\"M0 0h24v24H0V0z\" fill=\"none\"/>\n",
              "    <path d=\"M18.56 5.44l.94 2.06.94-2.06 2.06-.94-2.06-.94-.94-2.06-.94 2.06-2.06.94zm-11 1L8.5 8.5l.94-2.06 2.06-.94-2.06-.94L8.5 2.5l-.94 2.06-2.06.94zm10 10l.94 2.06.94-2.06 2.06-.94-2.06-.94-.94-2.06-.94 2.06-2.06.94z\"/><path d=\"M17.41 7.96l-1.37-1.37c-.4-.4-.92-.59-1.43-.59-.52 0-1.04.2-1.43.59L10.3 9.45l-7.72 7.72c-.78.78-.78 2.05 0 2.83L4 21.41c.39.39.9.59 1.41.59.51 0 1.02-.2 1.41-.59l7.78-7.78 2.81-2.81c.8-.78.8-2.07 0-2.86zM5.41 20L4 18.59l7.72-7.72 1.47 1.35L5.41 20z\"/>\n",
              "  </svg>\n",
              "      </button>\n",
              "      \n",
              "  <style>\n",
              "    .colab-df-container {\n",
              "      display:flex;\n",
              "      flex-wrap:wrap;\n",
              "      gap: 12px;\n",
              "    }\n",
              "\n",
              "    .colab-df-convert {\n",
              "      background-color: #E8F0FE;\n",
              "      border: none;\n",
              "      border-radius: 50%;\n",
              "      cursor: pointer;\n",
              "      display: none;\n",
              "      fill: #1967D2;\n",
              "      height: 32px;\n",
              "      padding: 0 0 0 0;\n",
              "      width: 32px;\n",
              "    }\n",
              "\n",
              "    .colab-df-convert:hover {\n",
              "      background-color: #E2EBFA;\n",
              "      box-shadow: 0px 1px 2px rgba(60, 64, 67, 0.3), 0px 1px 3px 1px rgba(60, 64, 67, 0.15);\n",
              "      fill: #174EA6;\n",
              "    }\n",
              "\n",
              "    [theme=dark] .colab-df-convert {\n",
              "      background-color: #3B4455;\n",
              "      fill: #D2E3FC;\n",
              "    }\n",
              "\n",
              "    [theme=dark] .colab-df-convert:hover {\n",
              "      background-color: #434B5C;\n",
              "      box-shadow: 0px 1px 3px 1px rgba(0, 0, 0, 0.15);\n",
              "      filter: drop-shadow(0px 1px 2px rgba(0, 0, 0, 0.3));\n",
              "      fill: #FFFFFF;\n",
              "    }\n",
              "  </style>\n",
              "\n",
              "      <script>\n",
              "        const buttonEl =\n",
              "          document.querySelector('#df-4329efe6-6af0-4f2c-b07f-abd735394569 button.colab-df-convert');\n",
              "        buttonEl.style.display =\n",
              "          google.colab.kernel.accessAllowed ? 'block' : 'none';\n",
              "\n",
              "        async function convertToInteractive(key) {\n",
              "          const element = document.querySelector('#df-4329efe6-6af0-4f2c-b07f-abd735394569');\n",
              "          const dataTable =\n",
              "            await google.colab.kernel.invokeFunction('convertToInteractive',\n",
              "                                                     [key], {});\n",
              "          if (!dataTable) return;\n",
              "\n",
              "          const docLinkHtml = 'Like what you see? Visit the ' +\n",
              "            '<a target=\"_blank\" href=https://colab.research.google.com/notebooks/data_table.ipynb>data table notebook</a>'\n",
              "            + ' to learn more about interactive tables.';\n",
              "          element.innerHTML = '';\n",
              "          dataTable['output_type'] = 'display_data';\n",
              "          await google.colab.output.renderOutput(dataTable, element);\n",
              "          const docLink = document.createElement('div');\n",
              "          docLink.innerHTML = docLinkHtml;\n",
              "          element.appendChild(docLink);\n",
              "        }\n",
              "      </script>\n",
              "    </div>\n",
              "  </div>\n",
              "  "
            ],
            "text/plain": [
              "   a   b\n",
              "0  5   8\n",
              "1  6   9\n",
              "2  7  10"
            ]
          },
          "execution_count": 5,
          "metadata": {},
          "output_type": "execute_result"
        }
      ],
      "source": [
        "df + 4"
      ]
    },
    {
      "cell_type": "code",
      "execution_count": 3,
      "metadata": {},
      "outputs": [],
      "source": [
        "city_mpg = df.city08\n",
        "highway_mpg = df.highway08"
      ]
    },
    {
      "cell_type": "code",
      "execution_count": 12,
      "metadata": {},
      "outputs": [
        {
          "data": {
            "text/plain": [
              "0        22.0\n",
              "1        11.5\n",
              "2        28.0\n",
              "3        11.0\n",
              "4        20.0\n",
              "         ... \n",
              "41139    22.5\n",
              "41140    24.0\n",
              "41141    21.0\n",
              "41142    21.0\n",
              "41143    18.5\n",
              "Length: 41144, dtype: float64"
            ]
          },
          "execution_count": 12,
          "metadata": {},
          "output_type": "execute_result"
        }
      ],
      "source": [
        "(\n",
        "    (city_mpg + highway_mpg)\n",
        "    / 2  \n",
        "    )"
      ]
    },
    {
      "cell_type": "code",
      "execution_count": 3,
      "metadata": {},
      "outputs": [
        {
          "data": {
            "text/plain": [
              "country                            object\n",
              "country_long                       object\n",
              "name                               object\n",
              "gppd_idnr                          object\n",
              "capacity_mw                       float64\n",
              "latitude                          float64\n",
              "longitude                         float64\n",
              "primary_fuel                       object\n",
              "other_fuel1                        object\n",
              "other_fuel2                        object\n",
              "other_fuel3                        object\n",
              "commissioning_year                float64\n",
              "owner                              object\n",
              "source                             object\n",
              "url                                object\n",
              "geolocation_source                 object\n",
              "wepp_id                            object\n",
              "year_of_capacity_data             float64\n",
              "generation_gwh_2013               float64\n",
              "generation_gwh_2014               float64\n",
              "generation_gwh_2015               float64\n",
              "generation_gwh_2016               float64\n",
              "generation_gwh_2017               float64\n",
              "generation_gwh_2018               float64\n",
              "generation_gwh_2019               float64\n",
              "generation_data_source             object\n",
              "estimated_generation_gwh_2013     float64\n",
              "estimated_generation_gwh_2014     float64\n",
              "estimated_generation_gwh_2015     float64\n",
              "estimated_generation_gwh_2016     float64\n",
              "estimated_generation_gwh_2017     float64\n",
              "estimated_generation_note_2013     object\n",
              "estimated_generation_note_2014     object\n",
              "estimated_generation_note_2015     object\n",
              "estimated_generation_note_2016     object\n",
              "estimated_generation_note_2017     object\n",
              "dtype: object"
            ]
          },
          "execution_count": 3,
          "metadata": {},
          "output_type": "execute_result"
        }
      ],
      "source": [
        "energy.dtypes"
      ]
    },
    {
      "cell_type": "code",
      "execution_count": 4,
      "metadata": {},
      "outputs": [
        {
          "data": {
            "text/plain": [
              "0         33.0\n",
              "1         10.0\n",
              "2         10.0\n",
              "3         66.0\n",
              "4        100.0\n",
              "         ...  \n",
              "34931     50.0\n",
              "34932     20.0\n",
              "34933    108.0\n",
              "34934    920.0\n",
              "34935    750.0\n",
              "Name: capacity_mw, Length: 34936, dtype: float64"
            ]
          },
          "execution_count": 4,
          "metadata": {},
          "output_type": "execute_result"
        }
      ],
      "source": [
        "capacity = energy.capacity_mw\n",
        "capacity"
      ]
    },
    {
      "cell_type": "code",
      "execution_count": 9,
      "metadata": {},
      "outputs": [
        {
          "name": "stdout",
          "output_type": "stream",
          "text": [
            "\u001b[0;31mSignature:\u001b[0m \u001b[0mcapacity\u001b[0m\u001b[0;34m.\u001b[0m\u001b[0madd\u001b[0m\u001b[0;34m(\u001b[0m\u001b[0mother\u001b[0m\u001b[0;34m,\u001b[0m \u001b[0mlevel\u001b[0m\u001b[0;34m=\u001b[0m\u001b[0;32mNone\u001b[0m\u001b[0;34m,\u001b[0m \u001b[0mfill_value\u001b[0m\u001b[0;34m=\u001b[0m\u001b[0;32mNone\u001b[0m\u001b[0;34m,\u001b[0m \u001b[0maxis\u001b[0m\u001b[0;34m=\u001b[0m\u001b[0;36m0\u001b[0m\u001b[0;34m)\u001b[0m\u001b[0;34m\u001b[0m\u001b[0;34m\u001b[0m\u001b[0m\n",
            "\u001b[0;31mDocstring:\u001b[0m\n",
            "Return Addition of series and other, element-wise (binary operator `add`).\n",
            "\n",
            "Equivalent to ``series + other``, but with support to substitute a fill_value for\n",
            "missing data in either one of the inputs.\n",
            "\n",
            "Parameters\n",
            "----------\n",
            "other : Series or scalar value\n",
            "fill_value : None or float value, default None (NaN)\n",
            "    Fill existing missing (NaN) values, and any new element needed for\n",
            "    successful Series alignment, with this value before computation.\n",
            "    If data in both corresponding Series locations is missing\n",
            "    the result of filling (at that location) will be missing.\n",
            "level : int or name\n",
            "    Broadcast across a level, matching Index values on the\n",
            "    passed MultiIndex level.\n",
            "\n",
            "Returns\n",
            "-------\n",
            "Series\n",
            "    The result of the operation.\n",
            "\n",
            "See Also\n",
            "--------\n",
            "Series.radd : Reverse of the Addition operator, see\n",
            "    `Python documentation\n",
            "    <https://docs.python.org/3/reference/datamodel.html#emulating-numeric-types>`_\n",
            "    for more details.\n",
            "\n",
            "Examples\n",
            "--------\n",
            ">>> a = pd.Series([1, 1, 1, np.nan], index=['a', 'b', 'c', 'd'])\n",
            ">>> a\n",
            "a    1.0\n",
            "b    1.0\n",
            "c    1.0\n",
            "d    NaN\n",
            "dtype: float64\n",
            ">>> b = pd.Series([1, np.nan, 1, np.nan], index=['a', 'b', 'd', 'e'])\n",
            ">>> b\n",
            "a    1.0\n",
            "b    NaN\n",
            "d    1.0\n",
            "e    NaN\n",
            "dtype: float64\n",
            ">>> a.add(b, fill_value=0)\n",
            "a    2.0\n",
            "b    1.0\n",
            "c    1.0\n",
            "d    1.0\n",
            "e    NaN\n",
            "dtype: float64\n",
            "\u001b[0;31mFile:\u001b[0m      ~/Library/Python/3.8/lib/python/site-packages/pandas/core/ops/__init__.py\n",
            "\u001b[0;31mType:\u001b[0m      method\n"
          ]
        }
      ],
      "source": [
        "capacity.add?"
      ]
    },
    {
      "cell_type": "code",
      "execution_count": 5,
      "metadata": {},
      "outputs": [
        {
          "data": {
            "text/plain": [
              "0         53.0\n",
              "1         30.0\n",
              "2         30.0\n",
              "3         86.0\n",
              "4        120.0\n",
              "         ...  \n",
              "34931     70.0\n",
              "34932     40.0\n",
              "34933    128.0\n",
              "34934    940.0\n",
              "34935    770.0\n",
              "Name: capacity_mw, Length: 34936, dtype: float64"
            ]
          },
          "execution_count": 5,
          "metadata": {},
          "output_type": "execute_result"
        }
      ],
      "source": [
        "capacity + 20"
      ]
    },
    {
      "cell_type": "code",
      "execution_count": 6,
      "metadata": {},
      "outputs": [
        {
          "data": {
            "text/plain": [
              "0          66.0\n",
              "1          20.0\n",
              "2          20.0\n",
              "3         132.0\n",
              "4         200.0\n",
              "          ...  \n",
              "34931     100.0\n",
              "34932      40.0\n",
              "34933     216.0\n",
              "34934    1840.0\n",
              "34935    1500.0\n",
              "Name: capacity_mw, Length: 34936, dtype: float64"
            ]
          },
          "execution_count": 6,
          "metadata": {},
          "output_type": "execute_result"
        }
      ],
      "source": [
        "capacity.add(capacity)"
      ]
    },
    {
      "cell_type": "code",
      "execution_count": 15,
      "metadata": {},
      "outputs": [
        {
          "data": {
            "text/plain": [
              "0.5735951779117247"
            ]
          },
          "execution_count": 15,
          "metadata": {},
          "output_type": "execute_result"
        }
      ],
      "source": [
        "(city_mpg\n",
        ".gt(50)\n",
        ".mul(100)\n",
        ".mean()\n",
        ")"
      ]
    },
    {
      "cell_type": "code",
      "execution_count": 17,
      "metadata": {},
      "outputs": [],
      "source": [
        "def secont_last(df):\n",
        "    return df.iloc[-2]"
      ]
    },
    {
      "cell_type": "code",
      "execution_count": 25,
      "metadata": {},
      "outputs": [
        {
          "data": {
            "text/plain": [
              "mean           18.369045\n",
              "max                  150\n",
              "min                    6\n",
              "std             7.905886\n",
              "var            62.503036\n",
              "skew            7.705198\n",
              "kurt           91.902168\n",
              "quantile            17.0\n",
              "median              17.0\n",
              "secont_last           18\n",
              "dtypes             int64\n",
              "hasnans            False\n",
              "idxmax             31256\n",
              "idxmin              7901\n",
              "Name: city08, dtype: object"
            ]
          },
          "execution_count": 25,
          "metadata": {},
          "output_type": "execute_result"
        }
      ],
      "source": [
        "(city_mpg\n",
        ".agg(['mean','max','min','std','var','skew','kurt','quantile','median','first','last',secont_last,'dtypes',\n",
        "'hasnans','idxmax','idxmin',])\n",
        ")"
      ]
    },
    {
      "cell_type": "code",
      "execution_count": 7,
      "metadata": {},
      "outputs": [
        {
          "data": {
            "text/plain": [
              "True"
            ]
          },
          "execution_count": 7,
          "metadata": {},
          "output_type": "execute_result"
        }
      ],
      "source": [
        "s1.is_monotonic_increasing"
      ]
    },
    {
      "cell_type": "code",
      "execution_count": 15,
      "metadata": {},
      "outputs": [],
      "source": [
        "primary_fuel = energy.primary_fuel\n"
      ]
    },
    {
      "cell_type": "code",
      "execution_count": 12,
      "metadata": {},
      "outputs": [
        {
          "data": {
            "text/plain": [
              "1944"
            ]
          },
          "execution_count": 12,
          "metadata": {},
          "output_type": "execute_result"
        }
      ],
      "source": [
        "#1. Find the count of non-missing values of a series.\n",
        "energy.shape[0] - energy.other_fuel1.isna().sum()"
      ]
    },
    {
      "cell_type": "code",
      "execution_count": 16,
      "metadata": {},
      "outputs": [
        {
          "data": {
            "text/plain": [
              "34936"
            ]
          },
          "execution_count": 16,
          "metadata": {},
          "output_type": "execute_result"
        }
      ],
      "source": [
        "#2. Find the number of entries of a series.\n",
        "primary_fuel.size"
      ]
    },
    {
      "cell_type": "code",
      "execution_count": 17,
      "metadata": {},
      "outputs": [
        {
          "data": {
            "text/plain": [
              "15"
            ]
          },
          "execution_count": 17,
          "metadata": {},
          "output_type": "execute_result"
        }
      ],
      "source": [
        "#3. Find the number of unique entries of a series.\n",
        "primary_fuel.nunique()"
      ]
    },
    {
      "cell_type": "code",
      "execution_count": 19,
      "metadata": {},
      "outputs": [
        {
          "data": {
            "text/plain": [
              "0         33.0\n",
              "1         10.0\n",
              "2         10.0\n",
              "3         66.0\n",
              "4        100.0\n",
              "         ...  \n",
              "34931     50.0\n",
              "34932     20.0\n",
              "34933    108.0\n",
              "34934    920.0\n",
              "34935    750.0\n",
              "Name: capacity_mw, Length: 34936, dtype: float64"
            ]
          },
          "execution_count": 19,
          "metadata": {},
          "output_type": "execute_result"
        }
      ],
      "source": [
        "capacity_mv = energy.capacity_mw\n",
        "capacity_mv#"
      ]
    },
    {
      "cell_type": "code",
      "execution_count": 20,
      "metadata": {},
      "outputs": [
        {
          "data": {
            "text/plain": [
              "163.35514790637163"
            ]
          },
          "execution_count": 20,
          "metadata": {},
          "output_type": "execute_result"
        }
      ],
      "source": [
        "#4. Find the mean value of a series.\n",
        "capacity_mv.mean()"
      ]
    },
    {
      "cell_type": "code",
      "execution_count": 21,
      "metadata": {},
      "outputs": [
        {
          "data": {
            "text/plain": [
              "22500.0"
            ]
          },
          "execution_count": 21,
          "metadata": {},
          "output_type": "execute_result"
        }
      ],
      "source": [
        "#5. Find the maximum value of a series.\n",
        "capacity_mv.max()"
      ]
    },
    {
      "cell_type": "code",
      "execution_count": 25,
      "metadata": {},
      "outputs": [
        {
          "data": {
            "text/plain": [
              "mean         163.355148\n",
              "max        22500.000000\n",
              "nunique     5611.000000\n",
              "size       34936.000000\n",
              "Name: capacity_mw, dtype: float64"
            ]
          },
          "execution_count": 25,
          "metadata": {},
          "output_type": "execute_result"
        }
      ],
      "source": [
        "#6. Use the .agg method to find all of the above.\n",
        "capacity_mv.agg(['mean','max','nunique','size'])"
      ]
    },
    {
      "cell_type": "code",
      "execution_count": 26,
      "metadata": {},
      "outputs": [],
      "source": [
        "import numpy as np"
      ]
    },
    {
      "cell_type": "code",
      "execution_count": 27,
      "metadata": {},
      "outputs": [
        {
          "data": {
            "text/plain": [
              "iinfo(min=-9223372036854775808, max=9223372036854775807, dtype=int64)"
            ]
          },
          "execution_count": 27,
          "metadata": {},
          "output_type": "execute_result"
        }
      ],
      "source": [
        "np.iinfo('int64')"
      ]
    },
    {
      "cell_type": "code",
      "execution_count": 28,
      "metadata": {},
      "outputs": [
        {
          "data": {
            "text/plain": [
              "iinfo(min=-32768, max=32767, dtype=int16)"
            ]
          },
          "execution_count": 28,
          "metadata": {},
          "output_type": "execute_result"
        }
      ],
      "source": [
        "np.iinfo('int16')"
      ]
    },
    {
      "cell_type": "code",
      "execution_count": 29,
      "metadata": {},
      "outputs": [
        {
          "data": {
            "text/plain": [
              "iinfo(min=-128, max=127, dtype=int8)"
            ]
          },
          "execution_count": 29,
          "metadata": {},
          "output_type": "execute_result"
        }
      ],
      "source": [
        "np.iinfo('int8')"
      ]
    },
    {
      "cell_type": "code",
      "execution_count": 42,
      "metadata": {},
      "outputs": [
        {
          "name": "stdout",
          "output_type": "stream",
          "text": [
            "329152\n",
            "150\n",
            "82288\n"
          ]
        }
      ],
      "source": [
        "#memory usage\n",
        "print(city_mpg.nbytes)\n",
        "print(city_mpg.max())\n",
        "print(city_mpg.astype('int16').nbytes)\n"
      ]
    },
    {
      "cell_type": "code",
      "execution_count": 8,
      "metadata": {},
      "outputs": [
        {
          "name": "stdout",
          "output_type": "stream",
          "text": [
            "279488\n",
            "35056\n",
            "0.8745706434623312\n"
          ]
        }
      ],
      "source": [
        "#string datat type conversion & memory usage\n",
        "print(energy.primary_fuel.nbytes)\n",
        "print(energy.primary_fuel.astype('category').nbytes)\n",
        "print((energy.primary_fuel.nbytes - energy.primary_fuel.astype('category').nbytes) / energy.primary_fuel.nbytes)  \n"
      ]
    },
    {
      "cell_type": "code",
      "execution_count": 5,
      "metadata": {},
      "outputs": [],
      "source": [
        "# broadcasting vs apply Methods\n",
        "def gt(val,threshold):\n",
        "    return val > threshold"
      ]
    },
    {
      "cell_type": "code",
      "execution_count": 7,
      "metadata": {},
      "outputs": [
        {
          "name": "stdout",
          "output_type": "stream",
          "text": [
            "17.3 ms ± 170 µs per loop (mean ± std. dev. of 7 runs, 100 loops each)\n"
          ]
        }
      ],
      "source": [
        "%%timeit\n",
        "threshold = 20\n",
        "city_mpg.apply(gt,threshold=threshold)"
      ]
    },
    {
      "cell_type": "code",
      "execution_count": 8,
      "metadata": {},
      "outputs": [
        {
          "name": "stdout",
          "output_type": "stream",
          "text": [
            "118 µs ± 900 ns per loop (mean ± std. dev. of 7 runs, 10000 loops each)\n"
          ]
        }
      ],
      "source": [
        "%%timeit\n",
        "city_mpg.gt(threshold)"
      ]
    },
    {
      "cell_type": "code",
      "execution_count": 31,
      "metadata": {},
      "outputs": [
        {
          "data": {
            "text/plain": [
              "0        Alfa Romeo\n",
              "1           Ferrari\n",
              "2             Dodge\n",
              "3             Dodge\n",
              "4            Subaru\n",
              "            ...    \n",
              "41139        Subaru\n",
              "41140        Subaru\n",
              "41141        Subaru\n",
              "41142        Subaru\n",
              "41143        Subaru\n",
              "Name: make, Length: 41144, dtype: object"
            ]
          },
          "execution_count": 31,
          "metadata": {},
          "output_type": "execute_result"
        }
      ],
      "source": [
        "# apply vs where\n",
        "make = df.make\n",
        "make"
      ]
    },
    {
      "cell_type": "code",
      "execution_count": 12,
      "metadata": {},
      "outputs": [
        {
          "data": {
            "text/plain": [
              "Chevrolet                      4003\n",
              "Ford                           3371\n",
              "Dodge                          2583\n",
              "GMC                            2494\n",
              "Toyota                         2071\n",
              "                               ... \n",
              "Volga Associated Automobile       1\n",
              "Panos                             1\n",
              "Mahindra                          1\n",
              "Excalibur Autos                   1\n",
              "London Coach Co Inc               1\n",
              "Name: make, Length: 136, dtype: int64"
            ]
          },
          "execution_count": 12,
          "metadata": {},
          "output_type": "execute_result"
        }
      ],
      "source": [
        "make.value_counts()"
      ]
    },
    {
      "cell_type": "code",
      "execution_count": 13,
      "metadata": {},
      "outputs": [
        {
          "data": {
            "text/plain": [
              "Index(['Chevrolet', 'Ford', 'Dodge', 'GMC', 'Toyota'], dtype='object')"
            ]
          },
          "execution_count": 13,
          "metadata": {},
          "output_type": "execute_result"
        }
      ],
      "source": [
        "top_five = make.value_counts().index[:5]\n",
        "top_five"
      ]
    },
    {
      "cell_type": "code",
      "execution_count": 16,
      "metadata": {},
      "outputs": [],
      "source": [
        "def generalize_top5(make):\n",
        "    if make in top_five:\n",
        "        return make\n",
        "    else:\n",
        "        return 'Other'"
      ]
    },
    {
      "cell_type": "code",
      "execution_count": 18,
      "metadata": {},
      "outputs": [
        {
          "name": "stdout",
          "output_type": "stream",
          "text": [
            "20 ms ± 574 µs per loop (mean ± std. dev. of 7 runs, 100 loops each)\n"
          ]
        }
      ],
      "source": [
        "%%timeit\n",
        "make.apply(generalize_top5)\n"
      ]
    },
    {
      "cell_type": "code",
      "execution_count": 19,
      "metadata": {},
      "outputs": [
        {
          "name": "stdout",
          "output_type": "stream",
          "text": [
            "2.48 ms ± 16.7 µs per loop (mean ± std. dev. of 7 runs, 100 loops each)\n"
          ]
        }
      ],
      "source": [
        "%%timeit\n",
        "make.where(make.isin(top_five),'Other')"
      ]
    },
    {
      "cell_type": "code",
      "execution_count": 21,
      "metadata": {},
      "outputs": [
        {
          "name": "stdout",
          "output_type": "stream",
          "text": [
            "2.68 ms ± 108 µs per loop (mean ± std. dev. of 7 runs, 100 loops each)\n"
          ]
        }
      ],
      "source": [
        "%%timeit\n",
        "#we can use Mask as complemntary of where \n",
        "make.mask(~make.isin(top_five),'other')"
      ]
    },
    {
      "cell_type": "code",
      "execution_count": 10,
      "metadata": {},
      "outputs": [
        {
          "data": {
            "text/plain": [
              "other        19400\n",
              "top_10        7222\n",
              "Chevrolet     4003\n",
              "Ford          3371\n",
              "Dodge         2583\n",
              "GMC           2494\n",
              "Toyota        2071\n",
              "Name: make, dtype: int64"
            ]
          },
          "execution_count": 10,
          "metadata": {},
          "output_type": "execute_result"
        }
      ],
      "source": [
        "#use the where method\n",
        "vc = make.value_counts()\n",
        "top_5 = vc.index[:5]\n",
        "top_10 = vc.index[:10]\n",
        "\n",
        "def generalize_top5(val):\n",
        "    if val in top_5:\n",
        "        return val\n",
        "    elif val in top_10:\n",
        "        return 'top_10'\n",
        "    else:\n",
        "        return 'other'\n",
        "make.apply(generalize_top5)\n"
      ]
    },
    {
      "cell_type": "code",
      "execution_count": 14,
      "metadata": {},
      "outputs": [
        {
          "data": {
            "text/plain": [
              "0        Other\n",
              "1        Other\n",
              "2        Dodge\n",
              "3        Dodge\n",
              "4        Other\n",
              "         ...  \n",
              "41139    Other\n",
              "41140    Other\n",
              "41141    Other\n",
              "41142    Other\n",
              "41143    Other\n",
              "Name: make, Length: 41144, dtype: object"
            ]
          },
          "execution_count": 14,
          "metadata": {},
          "output_type": "execute_result"
        }
      ],
      "source": [
        "(make\n",
        ".where(make.isin(top_5),'top_10')\n",
        ".where(make.isin(top_10),'Other')\n",
        ")"
      ]
    },
    {
      "cell_type": "code",
      "execution_count": 19,
      "metadata": {},
      "outputs": [
        {
          "data": {
            "text/plain": [
              "206"
            ]
          },
          "execution_count": 19,
          "metadata": {},
          "output_type": "execute_result"
        }
      ],
      "source": [
        "#count the number of missing values\n",
        "cylinder = df.cylinders\n",
        "(cylinder\n",
        ".isna()\n",
        ".sum()\n",
        ")"
      ]
    },
    {
      "cell_type": "code",
      "execution_count": 25,
      "metadata": {},
      "outputs": [
        {
          "data": {
            "text/plain": [
              "Tesla              74\n",
              "smart              16\n",
              "Ford               15\n",
              "Nissan             14\n",
              "BMW                10\n",
              "Chevrolet           8\n",
              "Honda               7\n",
              "Kia                 7\n",
              "Fiat                7\n",
              "Toyota              7\n",
              "BYD                 7\n",
              "Volkswagen          5\n",
              "Mitsubishi          5\n",
              "Hyundai             4\n",
              "Mercedes-Benz       4\n",
              "Jaguar              2\n",
              "Azure Dynamics      2\n",
              "CODA Automotive     2\n",
              "GMC                 2\n",
              "Subaru              2\n",
              "Scion               1\n",
              "MINI                1\n",
              "Plymouth            1\n",
              "Dodge               1\n",
              "Mazda               1\n",
              "Audi                1\n",
              "Name: make, dtype: int64"
            ]
          },
          "execution_count": 25,
          "metadata": {},
          "output_type": "execute_result"
        }
      ],
      "source": [
        "make = df.make\n",
        "missing = cylinder.isna()\n",
        "make.loc[missing].value_counts()"
      ]
    },
    {
      "cell_type": "code",
      "execution_count": 33,
      "metadata": {},
      "outputs": [
        {
          "data": {
            "text/html": [
              "<div>\n",
              "<style scoped>\n",
              "    .dataframe tbody tr th:only-of-type {\n",
              "        vertical-align: middle;\n",
              "    }\n",
              "\n",
              "    .dataframe tbody tr th {\n",
              "        vertical-align: top;\n",
              "    }\n",
              "\n",
              "    .dataframe thead th {\n",
              "        text-align: right;\n",
              "    }\n",
              "</style>\n",
              "<table border=\"1\" class=\"dataframe\">\n",
              "  <thead>\n",
              "    <tr style=\"text-align: right;\">\n",
              "      <th></th>\n",
              "      <th>original</th>\n",
              "      <th>linear</th>\n",
              "      <th>polynomial</th>\n",
              "    </tr>\n",
              "  </thead>\n",
              "  <tbody>\n",
              "    <tr>\n",
              "      <th>0</th>\n",
              "      <td>10.0</td>\n",
              "      <td>10.0</td>\n",
              "      <td>10.000000</td>\n",
              "    </tr>\n",
              "    <tr>\n",
              "      <th>1</th>\n",
              "      <td>20.0</td>\n",
              "      <td>20.0</td>\n",
              "      <td>20.000000</td>\n",
              "    </tr>\n",
              "    <tr>\n",
              "      <th>2</th>\n",
              "      <td>33.0</td>\n",
              "      <td>33.0</td>\n",
              "      <td>33.000000</td>\n",
              "    </tr>\n",
              "    <tr>\n",
              "      <th>3</th>\n",
              "      <td>NaN</td>\n",
              "      <td>44.0</td>\n",
              "      <td>44.707816</td>\n",
              "    </tr>\n",
              "    <tr>\n",
              "      <th>4</th>\n",
              "      <td>55.0</td>\n",
              "      <td>55.0</td>\n",
              "      <td>55.000000</td>\n",
              "    </tr>\n",
              "    <tr>\n",
              "      <th>5</th>\n",
              "      <td>64.0</td>\n",
              "      <td>64.0</td>\n",
              "      <td>64.000000</td>\n",
              "    </tr>\n",
              "    <tr>\n",
              "      <th>6</th>\n",
              "      <td>70.0</td>\n",
              "      <td>70.0</td>\n",
              "      <td>70.000000</td>\n",
              "    </tr>\n",
              "    <tr>\n",
              "      <th>7</th>\n",
              "      <td>NaN</td>\n",
              "      <td>80.0</td>\n",
              "      <td>79.149501</td>\n",
              "    </tr>\n",
              "    <tr>\n",
              "      <th>8</th>\n",
              "      <td>90.0</td>\n",
              "      <td>90.0</td>\n",
              "      <td>90.000000</td>\n",
              "    </tr>\n",
              "    <tr>\n",
              "      <th>9</th>\n",
              "      <td>100.0</td>\n",
              "      <td>100.0</td>\n",
              "      <td>100.000000</td>\n",
              "    </tr>\n",
              "  </tbody>\n",
              "</table>\n",
              "</div>"
            ],
            "text/plain": [
              "   original  linear  polynomial\n",
              "0      10.0    10.0   10.000000\n",
              "1      20.0    20.0   20.000000\n",
              "2      33.0    33.0   33.000000\n",
              "3       NaN    44.0   44.707816\n",
              "4      55.0    55.0   55.000000\n",
              "5      64.0    64.0   64.000000\n",
              "6      70.0    70.0   70.000000\n",
              "7       NaN    80.0   79.149501\n",
              "8      90.0    90.0   90.000000\n",
              "9     100.0   100.0  100.000000"
            ]
          },
          "execution_count": 33,
          "metadata": {},
          "output_type": "execute_result"
        }
      ],
      "source": [
        "# use intrpolate method in pandas   \n",
        "temp = pd.Series([10,20,33,np.nan,55,64,70,np.nan,90,100])\n",
        "linear = temp.interpolate(method='linear')\n",
        "polynomial = temp.interpolate(method='polynomial',order=2)\n",
        "\n",
        "comp = pd.DataFrame({'original':temp,'linear':linear,'polynomial':polynomial})\n",
        "comp\n"
      ]
    },
    {
      "cell_type": "code",
      "execution_count": 38,
      "metadata": {},
      "outputs": [
        {
          "data": {
            "text/plain": [
              "count    41144.000000\n",
              "mean        18.369045\n",
              "std          7.905886\n",
              "min          6.000000\n",
              "25%         15.000000\n",
              "50%         17.000000\n",
              "75%         20.000000\n",
              "max        150.000000\n",
              "Name: city08, dtype: float64"
            ]
          },
          "execution_count": 38,
          "metadata": {},
          "output_type": "execute_result"
        }
      ],
      "source": [
        "city_mpg.describe()"
      ]
    },
    {
      "cell_type": "code",
      "execution_count": 39,
      "metadata": {},
      "outputs": [
        {
          "data": {
            "text/plain": [
              "count    41144.000000\n",
              "mean        17.807943\n",
              "std          4.203152\n",
              "min         11.000000\n",
              "25%         15.000000\n",
              "50%         17.000000\n",
              "75%         20.000000\n",
              "max         27.000000\n",
              "Name: city08, dtype: float64"
            ]
          },
          "execution_count": 39,
          "metadata": {},
          "output_type": "execute_result"
        }
      ],
      "source": [
        "#clip city_mpg to the range of [5%,95%]\n",
        "(city_mpg\n",
        ".clip(lower=city_mpg.quantile(0.05),upper=city_mpg.quantile(0.95))\n",
        ").describe()"
      ]
    },
    {
      "cell_type": "code",
      "execution_count": 48,
      "metadata": {},
      "outputs": [
        {
          "data": {
            "text/plain": [
              "0        19\n",
              "1         9\n",
              "2        23\n",
              "3        10\n",
              "4        17\n",
              "         ..\n",
              "41139    19\n",
              "41140    20\n",
              "41141    18\n",
              "41142    18\n",
              "41143    16\n",
              "Name: city08, Length: 41144, dtype: int64"
            ]
          },
          "execution_count": 48,
          "metadata": {},
          "output_type": "execute_result"
        }
      ],
      "source": [
        "#sort values and index\n",
        "(city_mpg\n",
        ".sort_values()\n",
        ".sort_index()\n",
        ")"
      ]
    },
    {
      "cell_type": "code",
      "execution_count": 50,
      "metadata": {},
      "outputs": [
        {
          "data": {
            "text/plain": [
              "0    3\n",
              "1    5\n",
              "2    7\n",
              "3    5\n",
              "4    3\n",
              "5    2\n",
              "6    1\n",
              "7    4\n",
              "8    1\n",
              "dtype: int64"
            ]
          },
          "execution_count": 50,
          "metadata": {},
          "output_type": "execute_result"
        }
      ],
      "source": [
        "s= pd.Series([3,5,7,5,3,2,1,4,1])\n",
        "s"
      ]
    },
    {
      "cell_type": "code",
      "execution_count": 51,
      "metadata": {},
      "outputs": [
        {
          "data": {
            "text/plain": [
              "0    3\n",
              "1    5\n",
              "2    7\n",
              "5    2\n",
              "6    1\n",
              "7    4\n",
              "dtype: int64"
            ]
          },
          "execution_count": 51,
          "metadata": {},
          "output_type": "execute_result"
        }
      ],
      "source": [
        "s.drop_duplicates()"
      ]
    },
    {
      "cell_type": "code",
      "execution_count": 52,
      "metadata": {},
      "outputs": [
        {
          "data": {
            "text/plain": [
              "2    7\n",
              "3    5\n",
              "4    3\n",
              "5    2\n",
              "7    4\n",
              "8    1\n",
              "dtype: int64"
            ]
          },
          "execution_count": 52,
          "metadata": {},
          "output_type": "execute_result"
        }
      ],
      "source": [
        "s.drop_duplicates(keep='last')"
      ]
    },
    {
      "cell_type": "code",
      "execution_count": 53,
      "metadata": {},
      "outputs": [
        {
          "data": {
            "text/plain": [
              "2    7\n",
              "5    2\n",
              "7    4\n",
              "dtype: int64"
            ]
          },
          "execution_count": 53,
          "metadata": {},
          "output_type": "execute_result"
        }
      ],
      "source": [
        "# remove duplicates \n",
        "s.drop_duplicates(keep=False)"
      ]
    },
    {
      "cell_type": "code",
      "execution_count": 57,
      "metadata": {},
      "outputs": [
        {
          "data": {
            "text/plain": [
              "7901       6\n",
              "34557      6\n",
              "37161      6\n",
              "21060      6\n",
              "35887      6\n",
              "        ... \n",
              "34563    138\n",
              "34564    140\n",
              "32599    150\n",
              "31256    150\n",
              "33423    150\n",
              "Name: city08, Length: 41144, dtype: int64"
            ]
          },
          "execution_count": 57,
          "metadata": {},
          "output_type": "execute_result"
        }
      ],
      "source": [
        "city_mpg.sort_values()"
      ]
    },
    {
      "cell_type": "code",
      "execution_count": 72,
      "metadata": {},
      "outputs": [
        {
          "data": {
            "text/plain": [
              "0        27060.5\n",
              "1          235.5\n",
              "2        35830.0\n",
              "3          607.5\n",
              "4        19484.0\n",
              "          ...   \n",
              "41139    27060.5\n",
              "41140    29719.5\n",
              "41141    23528.0\n",
              "41142    23528.0\n",
              "41143    15479.0\n",
              "Name: city08, Length: 41144, dtype: float64"
            ]
          },
          "execution_count": 72,
          "metadata": {},
          "output_type": "execute_result"
        }
      ],
      "source": [
        "city_mpg.rank()"
      ]
    },
    {
      "cell_type": "code",
      "execution_count": 78,
      "metadata": {},
      "outputs": [
        {
          "data": {
            "text/plain": [
              "3.0"
            ]
          },
          "execution_count": 78,
          "metadata": {},
          "output_type": "execute_result"
        }
      ],
      "source": [
        "city_mpg.rank().min()"
      ]
    },
    {
      "cell_type": "code",
      "execution_count": 79,
      "metadata": {},
      "outputs": [
        {
          "data": {
            "text/plain": [
              "1.0"
            ]
          },
          "execution_count": 79,
          "metadata": {},
          "output_type": "execute_result"
        }
      ],
      "source": [
        "s = pd.Series([1,2,3,40,5,6,7,8,9,100])\n",
        "s.rank().min()"
      ]
    },
    {
      "cell_type": "code",
      "execution_count": 84,
      "metadata": {},
      "outputs": [
        {
          "data": {
            "text/plain": [
              "0      1.0\n",
              "1      2.0\n",
              "2      3.0\n",
              "3     code\n",
              "4      5.0\n",
              "5      6.0\n",
              "6      7.0\n",
              "7      8.0\n",
              "8      NaN\n",
              "9    100.0\n",
              "dtype: object"
            ]
          },
          "execution_count": 84,
          "metadata": {},
          "output_type": "execute_result"
        }
      ],
      "source": [
        "#replace method\n",
        "s.replace(to_replace=[9,40],value=[np.nan,'code'])"
      ]
    },
    {
      "cell_type": "code",
      "execution_count": 86,
      "metadata": {},
      "outputs": [
        {
          "data": {
            "text/plain": [
              "0      1.0\n",
              "1      2.0\n",
              "2      3.0\n",
              "3     code\n",
              "4      5.0\n",
              "5      6.0\n",
              "6      7.0\n",
              "7      8.0\n",
              "8      NaN\n",
              "9    100.0\n",
              "dtype: object"
            ]
          },
          "execution_count": 86,
          "metadata": {},
          "output_type": "execute_result"
        }
      ],
      "source": [
        "s.replace({9:np.nan,40:'code'})"
      ]
    },
    {
      "cell_type": "code",
      "execution_count": 93,
      "metadata": {},
      "outputs": [
        {
          "data": {
            "text/plain": [
              "0        (5.856, 20.4]\n",
              "1        (5.856, 20.4]\n",
              "2         (20.4, 34.8]\n",
              "3        (5.856, 20.4]\n",
              "4        (5.856, 20.4]\n",
              "             ...      \n",
              "41139    (5.856, 20.4]\n",
              "41140    (5.856, 20.4]\n",
              "41141    (5.856, 20.4]\n",
              "41142    (5.856, 20.4]\n",
              "41143    (5.856, 20.4]\n",
              "Name: city08, Length: 41144, dtype: category\n",
              "Categories (10, interval[float64, right]): [(5.856, 20.4] < (20.4, 34.8] < (34.8, 49.2] < (49.2, 63.6] ... (92.4, 106.8] < (106.8, 121.2] < (121.2, 135.6] < (135.6, 150.0]]"
            ]
          },
          "execution_count": 93,
          "metadata": {},
          "output_type": "execute_result"
        }
      ],
      "source": [
        "#bin method\n",
        "(pd.cut\n",
        "(city_mpg,bins=10)\n",
        "# .value_counts()\n",
        ")"
      ]
    },
    {
      "cell_type": "code",
      "execution_count": 98,
      "metadata": {},
      "outputs": [
        {
          "data": {
            "text/plain": [
              "0        rage_0\n",
              "1        rage_0\n",
              "2        rage_1\n",
              "3        rage_0\n",
              "4        rage_0\n",
              "          ...  \n",
              "41139    rage_0\n",
              "41140    rage_0\n",
              "41141    rage_0\n",
              "41142    rage_0\n",
              "41143    rage_0\n",
              "Name: city08, Length: 41144, dtype: category\n",
              "Categories (10, object): ['rage_0' < 'rage_1' < 'rage_2' < 'rage_3' ... 'rage_6' < 'rage_7' < 'rage_8' < 'rage_9']"
            ]
          },
          "execution_count": 98,
          "metadata": {},
          "output_type": "execute_result"
        }
      ],
      "source": [
        "(pd.cut\n",
        "(city_mpg,bins=10,labels=['rage_'+str(i) for i in range(10)])\n",
        "# .value_counts()\n",
        ")"
      ]
    },
    {
      "cell_type": "code",
      "execution_count": null,
      "metadata": {},
      "outputs": [
        {
          "data": {
            "text/plain": [
              "0        rage_0\n",
              "1        rage_0\n",
              "2        rage_1\n",
              "3        rage_0\n",
              "4        rage_0\n",
              "          ...  \n",
              "41139    rage_0\n",
              "41140    rage_0\n",
              "41141    rage_0\n",
              "41142    rage_0\n",
              "41143    rage_0\n",
              "Name: city08, Length: 41144, dtype: category\n",
              "Categories (10, object): ['rage_0' < 'rage_1' < 'rage_2' < 'rage_3' ... 'rage_6' < 'rage_7' < 'rage_8' < 'rage_9']"
            ]
          },
          "metadata": {},
          "output_type": "display_data"
        }
      ],
      "source": [
        "(pd.cut\n",
        "(city_mpg,bins=10,labels=['rage_'+str(i) for i in range(10)])\n",
        "# .value_counts()\n",
        ")"
      ]
    },
    {
      "cell_type": "code",
      "execution_count": 4,
      "metadata": {},
      "outputs": [],
      "source": [
        "def bin_capacity(val,mean):\n",
        "    if val < mean:\n",
        "        return 'low'\n",
        "    else:\n",
        "        return 'high'"
      ]
    },
    {
      "cell_type": "code",
      "execution_count": 14,
      "metadata": {},
      "outputs": [
        {
          "name": "stdout",
          "output_type": "stream",
          "text": [
            "6.76 ms ± 9.51 µs per loop (mean ± std. dev. of 7 runs, 100 loops each)\n"
          ]
        }
      ],
      "source": [
        "%%timeit\n",
        "(energy\n",
        ".capacity_mw\n",
        ".apply(bin_capacity,args=(energy.capacity_mw.mean(),))\n",
        ")\n",
        "# .value_counts()\n"
      ]
    },
    {
      "cell_type": "code",
      "execution_count": 13,
      "metadata": {},
      "outputs": [
        {
          "name": "stdout",
          "output_type": "stream",
          "text": [
            "317 µs ± 1.93 µs per loop (mean ± std. dev. of 7 runs, 1,000 loops each)\n"
          ]
        }
      ],
      "source": [
        "%%timeit\n",
        "m = energy.capacity_mw.mean()\n",
        "np.select([energy.capacity_mw < m,energy.capacity_mw >= m],['low','high'])"
      ]
    },
    {
      "cell_type": "code",
      "execution_count": 15,
      "metadata": {},
      "outputs": [
        {
          "data": {
            "text/plain": [
              "country                               0\n",
              "country_long                          0\n",
              "name                                  0\n",
              "gppd_idnr                             0\n",
              "capacity_mw                           0\n",
              "latitude                              0\n",
              "longitude                             0\n",
              "primary_fuel                          0\n",
              "other_fuel1                       32992\n",
              "other_fuel2                       34660\n",
              "other_fuel3                       34844\n",
              "commissioning_year                17489\n",
              "owner                             14068\n",
              "source                               15\n",
              "url                                  18\n",
              "geolocation_source                  419\n",
              "wepp_id                           18702\n",
              "year_of_capacity_data             20049\n",
              "generation_gwh_2013               28519\n",
              "generation_gwh_2014               27710\n",
              "generation_gwh_2015               26733\n",
              "generation_gwh_2016               25792\n",
              "generation_gwh_2017               25436\n",
              "generation_gwh_2018               25299\n",
              "generation_gwh_2019               25277\n",
              "generation_data_source            23536\n",
              "estimated_generation_gwh_2013     18816\n",
              "estimated_generation_gwh_2014     18433\n",
              "estimated_generation_gwh_2015     17886\n",
              "estimated_generation_gwh_2016     17366\n",
              "estimated_generation_gwh_2017      1798\n",
              "estimated_generation_note_2013        0\n",
              "estimated_generation_note_2014        0\n",
              "estimated_generation_note_2015        0\n",
              "estimated_generation_note_2016        0\n",
              "estimated_generation_note_2017        0\n",
              "dtype: int64"
            ]
          },
          "execution_count": 15,
          "metadata": {},
          "output_type": "execute_result"
        }
      ],
      "source": [
        "#4. Replace the missing values of a numeric series with the median value.\n",
        "energy.isna().sum()"
      ]
    },
    {
      "cell_type": "code",
      "execution_count": 16,
      "metadata": {},
      "outputs": [
        {
          "data": {
            "text/plain": [
              "country                            object\n",
              "country_long                       object\n",
              "name                               object\n",
              "gppd_idnr                          object\n",
              "capacity_mw                       float64\n",
              "latitude                          float64\n",
              "longitude                         float64\n",
              "primary_fuel                       object\n",
              "other_fuel1                        object\n",
              "other_fuel2                        object\n",
              "other_fuel3                        object\n",
              "commissioning_year                float64\n",
              "owner                              object\n",
              "source                             object\n",
              "url                                object\n",
              "geolocation_source                 object\n",
              "wepp_id                            object\n",
              "year_of_capacity_data             float64\n",
              "generation_gwh_2013               float64\n",
              "generation_gwh_2014               float64\n",
              "generation_gwh_2015               float64\n",
              "generation_gwh_2016               float64\n",
              "generation_gwh_2017               float64\n",
              "generation_gwh_2018               float64\n",
              "generation_gwh_2019               float64\n",
              "generation_data_source             object\n",
              "estimated_generation_gwh_2013     float64\n",
              "estimated_generation_gwh_2014     float64\n",
              "estimated_generation_gwh_2015     float64\n",
              "estimated_generation_gwh_2016     float64\n",
              "estimated_generation_gwh_2017     float64\n",
              "estimated_generation_note_2013     object\n",
              "estimated_generation_note_2014     object\n",
              "estimated_generation_note_2015     object\n",
              "estimated_generation_note_2016     object\n",
              "estimated_generation_note_2017     object\n",
              "dtype: object"
            ]
          },
          "execution_count": 16,
          "metadata": {},
          "output_type": "execute_result"
        }
      ],
      "source": [
        "energy.dtypes"
      ]
    },
    {
      "cell_type": "code",
      "execution_count": 24,
      "metadata": {},
      "outputs": [
        {
          "data": {
            "text/plain": [
              "0        2017.0\n",
              "1        2019.0\n",
              "2        2019.0\n",
              "3        2017.0\n",
              "4        2017.0\n",
              "          ...  \n",
              "34931    2019.0\n",
              "34932    2019.0\n",
              "34933    2019.0\n",
              "34934    2017.0\n",
              "34935    2017.0\n",
              "Name: year_of_capacity_data, Length: 34936, dtype: float64"
            ]
          },
          "execution_count": 24,
          "metadata": {},
          "output_type": "execute_result"
        }
      ],
      "source": [
        "yr_capacity_data = energy.year_of_capacity_data\n",
        "yr_capacity_data"
      ]
    },
    {
      "cell_type": "code",
      "execution_count": 25,
      "metadata": {},
      "outputs": [
        {
          "data": {
            "text/plain": [
              "<AxesSubplot:>"
            ]
          },
          "execution_count": 25,
          "metadata": {},
          "output_type": "execute_result"
        },
        {
          "data": {
            "image/png": "[encoded data removed]",
            "text/plain": [
              "<Figure size 432x288 with 1 Axes>"
            ]
          },
          "metadata": {
            "needs_background": "light"
          },
          "output_type": "display_data"
        }
      ],
      "source": [
        "median = yr_capacity_data.median()\n",
        "yr_capacity_data.fillna(median,inplace=True)\n",
        "yr_capacity_data.value_counts().plot(kind='bar')\n"
      ]
    },
    {
      "cell_type": "code",
      "execution_count": 10,
      "metadata": {},
      "outputs": [
        {
          "data": {
            "text/plain": [
              "Solar             10665\n",
              "Hydro              7156\n",
              "Wind               5344\n",
              "Gas                3998\n",
              "Coal               2330\n",
              "Oil                2320\n",
              "Biomass            1430\n",
              "Waste              1068\n",
              "Nuclear             195\n",
              "Geothermal          189\n",
              "Storage             135\n",
              "Other                43\n",
              "Cogeneration         41\n",
              "Petcoke              12\n",
              "Wave and Tidal       10\n",
              "Name: primary_fuel, dtype: int64"
            ]
          },
          "execution_count": 10,
          "metadata": {},
          "output_type": "execute_result"
        }
      ],
      "source": [
        "energy.primary_fuel.value_counts()"
      ]
    },
    {
      "cell_type": "code",
      "execution_count": 6,
      "metadata": {},
      "outputs": [
        {
          "data": {
            "text/plain": [
              "0         33.0\n",
              "1         10.0\n",
              "2         10.0\n",
              "3         66.0\n",
              "4        100.0\n",
              "         ...  \n",
              "34931     50.0\n",
              "34932     20.0\n",
              "34933    108.0\n",
              "34934    903.9\n",
              "34935    750.0\n",
              "Name: capacity_mw, Length: 34936, dtype: float64"
            ]
          },
          "execution_count": 6,
          "metadata": {},
          "output_type": "execute_result"
        }
      ],
      "source": [
        "#4. Replace the missing values of a numeric series with the median value.\n",
        "np.clip(energy.capacity_mw,a_min=energy.capacity_mw.quantile(0.05),a_max=energy.capacity_mw.quantile(0.95))"
      ]
    },
    {
      "cell_type": "code",
      "execution_count": 11,
      "metadata": {},
      "outputs": [
        {
          "data": {
            "text/plain": [
              "0        Hydro\n",
              "1        Solar\n",
              "2        Solar\n",
              "3        Hydro\n",
              "4        Hydro\n",
              "         ...  \n",
              "34931    Other\n",
              "34932    Other\n",
              "34933    Hydro\n",
              "34934     Coal\n",
              "34935    Hydro\n",
              "Name: primary_fuel, Length: 34936, dtype: object"
            ]
          },
          "execution_count": 11,
          "metadata": {},
          "output_type": "execute_result"
        }
      ],
      "source": [
        "#Using a categorical column, replace any value that is not in the top 5 most frequent values with 'Other'\n",
        "top_5 = energy.primary_fuel.value_counts().index[:5]\n",
        "(energy\n",
        ".primary_fuel\n",
        ".where(energy.primary_fuel.isin(top_5),'Other')\n",
        ")"
      ]
    },
    {
      "cell_type": "code",
      "execution_count": 30,
      "metadata": {},
      "outputs": [],
      "source": [
        "#Make a function that takes a categorical series and a number (n) and returns a replace series that replaces any value that is not in the top n most frequent values with 'Other'.\n",
        "def generalize_top5(series, n):\n",
        "    top_n = series.value_counts().index[:n]\n",
        "    return series.where(series.isin(top_n),'Other')\n",
        "\n"
      ]
    },
    {
      "cell_type": "code",
      "execution_count": 31,
      "metadata": {},
      "outputs": [
        {
          "data": {
            "text/plain": [
              "0        Hydro\n",
              "1        Solar\n",
              "2        Solar\n",
              "3        Hydro\n",
              "4        Hydro\n",
              "         ...  \n",
              "34931    Other\n",
              "34932    Other\n",
              "34933    Hydro\n",
              "34934     Coal\n",
              "34935    Hydro\n",
              "Name: primary_fuel, Length: 34936, dtype: object"
            ]
          },
          "execution_count": 31,
          "metadata": {},
          "output_type": "execute_result"
        }
      ],
      "source": [
        "generalize_top5(energy.primary_fuel,5)"
      ]
    },
    {
      "cell_type": "code",
      "execution_count": 36,
      "metadata": {},
      "outputs": [
        {
          "data": {
            "text/plain": [
              "(-21.499, 2250.9]     34558\n",
              "(2250.9, 4500.8]        330\n",
              "(4500.8, 6750.7]         36\n",
              "(6750.7, 9000.6]          9\n",
              "(11250.5, 13500.4]        2\n",
              "(20250.1, 22500.0]        1\n",
              "(9000.6, 11250.5]         0\n",
              "(13500.4, 15750.3]        0\n",
              "(15750.3, 18000.2]        0\n",
              "(18000.2, 20250.1]        0\n",
              "Name: capacity_mw, dtype: int64"
            ]
          },
          "execution_count": 36,
          "metadata": {},
          "output_type": "execute_result"
        }
      ],
      "source": [
        "#9. Using a numeric column, bin it into 10 groups that have the same width.\n",
        "\n",
        "pd.cut(energy.capacity_mw,bins=10).value_counts()"
      ]
    },
    {
      "cell_type": "code",
      "execution_count": 40,
      "metadata": {},
      "outputs": [
        {
          "data": {
            "text/plain": [
              "(5.5, 10.0]         4081\n",
              "(29.064, 50.0]      3728\n",
              "(1.815, 3.6]        3609\n",
              "(0.999, 1.815]      3494\n",
              "(16.745, 29.064]    3494\n",
              "(433.6, 22500.0]    3494\n",
              "(119.0, 433.6]      3490\n",
              "(3.6, 5.5]          3387\n",
              "(50.0, 119.0]       3262\n",
              "(10.0, 16.745]      2897\n",
              "Name: capacity_mw, dtype: int64"
            ]
          },
          "execution_count": 40,
          "metadata": {},
          "output_type": "execute_result"
        }
      ],
      "source": [
        "#10. Using a numeric column, bin it into 10 groups that have equal sized bins.\n",
        "pd.qcut(energy.capacity_mw,q=10).value_counts()"
      ]
    },
    {
      "cell_type": "code",
      "execution_count": 6,
      "metadata": {},
      "outputs": [
        {
          "data": {
            "text/plain": [
              "Alfa Romeo    19\n",
              "Ferrari        9\n",
              "Dodge         23\n",
              "Dodge         10\n",
              "Subaru        17\n",
              "              ..\n",
              "Subaru        19\n",
              "Subaru        20\n",
              "Subaru        18\n",
              "Subaru        18\n",
              "Subaru        16\n",
              "Name: city08, Length: 41144, dtype: int64"
            ]
          },
          "execution_count": 6,
          "metadata": {},
          "output_type": "execute_result"
        }
      ],
      "source": [
        "city_2 = city_mpg.rename(make.to_dict())\n",
        "city_2"
      ]
    },
    {
      "cell_type": "code",
      "execution_count": 32,
      "metadata": {},
      "outputs": [
        {
          "data": {
            "text/plain": [
              "{0: 'Alfa Romeo',\n",
              " 1: 'Ferrari',\n",
              " 2: 'Dodge',\n",
              " 3: 'Dodge',\n",
              " 4: 'Subaru',\n",
              " 5: 'Subaru',\n",
              " 6: 'Subaru',\n",
              " 7: 'Toyota',\n",
              " 8: 'Toyota',\n",
              " 9: 'Toyota',\n",
              " 10: 'Toyota',\n",
              " 11: 'Volkswagen',\n",
              " 12: 'Volkswagen',\n",
              " 13: 'Volkswagen',\n",
              " 14: 'Dodge',\n",
              " 15: 'Volkswagen',\n",
              " 16: 'Volvo',\n",
              " 17: 'Volvo',\n",
              " 18: 'Audi',\n",
              " 19: 'Audi',\n",
              " 20: 'BMW',\n",
              " 21: 'BMW',\n",
              " 22: 'BMW',\n",
              " 23: 'Buick',\n",
              " 24: 'Buick',\n",
              " 25: 'Dodge',\n",
              " 26: 'Buick',\n",
              " 27: 'Buick',\n",
              " 28: 'Buick',\n",
              " 29: 'Buick',\n",
              " 30: 'Buick',\n",
              " 31: 'Cadillac',\n",
              " 32: 'Cadillac',\n",
              " 33: 'Cadillac',\n",
              " 34: 'Cadillac',\n",
              " 35: 'Chevrolet',\n",
              " 36: 'Dodge',\n",
              " 37: 'Chevrolet',\n",
              " 38: 'Chevrolet',\n",
              " 39: 'Chevrolet',\n",
              " 40: 'Chevrolet',\n",
              " 41: 'Chrysler',\n",
              " 42: 'CX Automotive',\n",
              " 43: 'CX Automotive',\n",
              " 44: 'Nissan',\n",
              " 45: 'Nissan',\n",
              " 46: 'Nissan',\n",
              " 47: 'Dodge',\n",
              " 48: 'Dodge',\n",
              " 49: 'Dodge',\n",
              " 50: 'Dodge',\n",
              " 51: 'Dodge',\n",
              " 52: 'Dodge',\n",
              " 53: 'Dodge',\n",
              " 54: 'Dodge',\n",
              " 55: 'Dodge',\n",
              " 56: 'Ford',\n",
              " 57: 'Ford',\n",
              " 58: 'Dodge',\n",
              " 59: 'Ford',\n",
              " 60: 'Ford',\n",
              " 61: 'Ford',\n",
              " 62: 'Ford',\n",
              " 63: 'Ford',\n",
              " 64: 'Hyundai',\n",
              " 65: 'Hyundai',\n",
              " 66: 'Hyundai',\n",
              " 67: 'Infiniti',\n",
              " 68: 'Infiniti',\n",
              " 69: 'Dodge',\n",
              " 70: 'Lexus',\n",
              " 71: 'Mercury',\n",
              " 72: 'Mercury',\n",
              " 73: 'Mercury',\n",
              " 74: 'Mercury',\n",
              " 75: 'Mazda',\n",
              " 76: 'Mazda',\n",
              " 77: 'Mazda',\n",
              " 78: 'Mazda',\n",
              " 79: 'Mazda',\n",
              " 80: 'Dodge',\n",
              " 81: 'Oldsmobile',\n",
              " 82: 'Oldsmobile',\n",
              " 83: 'Oldsmobile',\n",
              " 84: 'Oldsmobile',\n",
              " 85: 'Oldsmobile',\n",
              " 86: 'Oldsmobile',\n",
              " 87: 'Oldsmobile',\n",
              " 88: 'Oldsmobile',\n",
              " 89: 'Plymouth',\n",
              " 90: 'Plymouth',\n",
              " 91: 'Ford',\n",
              " 92: 'Plymouth',\n",
              " 93: 'Plymouth',\n",
              " 94: 'Plymouth',\n",
              " 95: 'Pontiac',\n",
              " 96: 'Pontiac',\n",
              " 97: 'Pontiac',\n",
              " 98: 'Pontiac',\n",
              " 99: 'Rolls-Royce',\n",
              " 100: 'Rolls-Royce',\n",
              " 101: 'Rolls-Royce',\n",
              " 102: 'Ford',\n",
              " 103: 'Toyota',\n",
              " 104: 'Toyota',\n",
              " 105: 'Toyota',\n",
              " 106: 'Toyota',\n",
              " 107: 'Volkswagen',\n",
              " 108: 'Volkswagen',\n",
              " 109: 'Volkswagen',\n",
              " 110: 'Volkswagen',\n",
              " 111: 'Volvo',\n",
              " 112: 'Volvo',\n",
              " 113: 'Dodge',\n",
              " 114: 'Ford',\n",
              " 115: 'Volvo',\n",
              " 116: 'Volvo',\n",
              " 117: 'Volvo',\n",
              " 118: 'Buick',\n",
              " 119: 'Buick',\n",
              " 120: 'Buick',\n",
              " 121: 'Buick',\n",
              " 122: 'Cadillac',\n",
              " 123: 'Cadillac',\n",
              " 124: 'Chevrolet',\n",
              " 125: 'Ford',\n",
              " 126: 'Chevrolet',\n",
              " 127: 'Chevrolet',\n",
              " 128: 'Chrysler',\n",
              " 129: 'Chrysler',\n",
              " 130: 'Chrysler',\n",
              " 131: 'Chrysler',\n",
              " 132: 'Dodge',\n",
              " 133: 'Dodge',\n",
              " 134: 'Eagle',\n",
              " 135: 'Eagle',\n",
              " 136: 'Ford',\n",
              " 137: 'Ford',\n",
              " 138: 'Lincoln',\n",
              " 139: 'Mercury',\n",
              " 140: 'Lincoln',\n",
              " 141: 'Mercedes-Benz',\n",
              " 142: 'Mercedes-Benz',\n",
              " 143: 'Mercedes-Benz',\n",
              " 144: 'Mercedes-Benz',\n",
              " 145: 'Oldsmobile',\n",
              " 146: 'Oldsmobile',\n",
              " 147: 'GMC',\n",
              " 148: 'Oldsmobile',\n",
              " 149: 'Pontiac',\n",
              " 150: 'Pontiac',\n",
              " 151: 'Rolls-Royce',\n",
              " 152: 'Saab',\n",
              " 153: 'Saab',\n",
              " 154: 'Saab',\n",
              " 155: 'Saab',\n",
              " 156: 'Audi',\n",
              " 157: 'BMW',\n",
              " 158: 'GMC',\n",
              " 159: 'Chevrolet',\n",
              " 160: 'Chevrolet',\n",
              " 161: 'CX Automotive',\n",
              " 162: 'Ford',\n",
              " 163: 'Ford',\n",
              " 164: 'Honda',\n",
              " 165: 'Honda',\n",
              " 166: 'Mercury',\n",
              " 167: 'Mercury',\n",
              " 168: 'Saturn',\n",
              " 169: 'GMC',\n",
              " 170: 'Saturn',\n",
              " 171: 'Saturn',\n",
              " 172: 'Saturn',\n",
              " 173: 'Subaru',\n",
              " 174: 'Subaru',\n",
              " 175: 'Subaru',\n",
              " 176: 'Subaru',\n",
              " 177: 'Subaru',\n",
              " 178: 'Subaru',\n",
              " 179: 'Subaru',\n",
              " 180: 'GMC',\n",
              " 181: 'Toyota',\n",
              " 182: 'Toyota',\n",
              " 183: 'Buick',\n",
              " 184: 'Buick',\n",
              " 185: 'Buick',\n",
              " 186: 'Eagle',\n",
              " 187: 'Eagle',\n",
              " 188: 'Eagle',\n",
              " 189: 'Eagle',\n",
              " 190: 'Eagle',\n",
              " 191: 'GMC',\n",
              " 192: 'Eagle',\n",
              " 193: 'Eagle',\n",
              " 194: 'Eagle',\n",
              " 195: 'Ford',\n",
              " 196: 'Ford',\n",
              " 197: 'Mercury',\n",
              " 198: 'Mercury',\n",
              " 199: 'Mitsubishi',\n",
              " 200: 'Mitsubishi',\n",
              " 201: 'Mitsubishi',\n",
              " 202: 'GMC',\n",
              " 203: 'Mitsubishi',\n",
              " 204: 'Mitsubishi',\n",
              " 205: 'Mitsubishi',\n",
              " 206: 'Mitsubishi',\n",
              " 207: 'Mitsubishi',\n",
              " 208: 'Mitsubishi',\n",
              " 209: 'Mitsubishi',\n",
              " 210: 'Mitsubishi',\n",
              " 211: 'Mitsubishi',\n",
              " 212: 'Oldsmobile',\n",
              " 213: 'GMC',\n",
              " 214: 'Oldsmobile',\n",
              " 215: 'Oldsmobile',\n",
              " 216: 'Mitsubishi',\n",
              " 217: 'Plymouth',\n",
              " 218: 'Plymouth',\n",
              " 219: 'Plymouth',\n",
              " 220: 'Plymouth',\n",
              " 221: 'Plymouth',\n",
              " 222: 'Plymouth',\n",
              " 223: 'Plymouth',\n",
              " 224: 'Dodge',\n",
              " 225: 'GMC',\n",
              " 226: 'Plymouth',\n",
              " 227: 'Toyota',\n",
              " 228: 'Toyota',\n",
              " 229: 'Volkswagen',\n",
              " 230: 'Volkswagen',\n",
              " 231: 'Volkswagen',\n",
              " 232: 'Volkswagen',\n",
              " 233: 'Volvo',\n",
              " 234: 'Volvo',\n",
              " 235: 'Volvo',\n",
              " 236: 'GMC',\n",
              " 237: 'Volvo',\n",
              " 238: 'Volvo',\n",
              " 239: 'Buick',\n",
              " 240: 'Chevrolet',\n",
              " 241: 'Chevrolet',\n",
              " 242: 'Chevrolet',\n",
              " 243: 'Chevrolet',\n",
              " 244: 'Chevrolet',\n",
              " 245: 'Chevrolet',\n",
              " 246: 'Chevrolet',\n",
              " 247: 'GMC',\n",
              " 248: 'Nissan',\n",
              " 249: 'Nissan',\n",
              " 250: 'Nissan',\n",
              " 251: 'Dodge',\n",
              " 252: 'Dodge',\n",
              " 253: 'GMC',\n",
              " 254: 'GMC',\n",
              " 255: 'GMC',\n",
              " 256: 'GMC',\n",
              " 257: 'GMC',\n",
              " 258: 'GMC',\n",
              " 259: 'GMC',\n",
              " 260: 'Isuzu',\n",
              " 261: 'Isuzu',\n",
              " 262: 'Isuzu',\n",
              " 263: 'Mitsubishi',\n",
              " 264: 'Mitsubishi',\n",
              " 265: 'Chevrolet',\n",
              " 266: 'Chevrolet',\n",
              " 267: 'Chevrolet',\n",
              " 268: 'Chevrolet',\n",
              " 269: 'GMC',\n",
              " 270: 'Chevrolet',\n",
              " 271: 'Chevrolet',\n",
              " 272: 'Chevrolet',\n",
              " 273: 'Chevrolet',\n",
              " 274: 'Chevrolet',\n",
              " 275: 'Chevrolet',\n",
              " 276: 'Chevrolet',\n",
              " 277: 'Chevrolet',\n",
              " 278: 'Chevrolet',\n",
              " 279: 'Chevrolet',\n",
              " 280: 'GMC',\n",
              " 281: 'Chevrolet',\n",
              " 282: 'Chevrolet',\n",
              " 283: 'Chevrolet',\n",
              " 284: 'Chevrolet',\n",
              " 285: 'Dodge',\n",
              " 286: 'Dodge',\n",
              " 287: 'Dodge',\n",
              " 288: 'Dodge',\n",
              " 289: 'Dodge',\n",
              " 290: 'Dodge',\n",
              " 291: 'GMC',\n",
              " 292: 'Dodge',\n",
              " 293: 'Dodge',\n",
              " 294: 'Dodge',\n",
              " 295: 'Dodge',\n",
              " 296: 'Dodge',\n",
              " 297: 'Dodge',\n",
              " 298: 'Dodge',\n",
              " 299: 'Dodge',\n",
              " 300: 'Dodge',\n",
              " 301: 'Dodge',\n",
              " 302: 'GMC',\n",
              " 303: 'Dodge',\n",
              " 304: 'Jeep',\n",
              " 305: 'Jeep',\n",
              " 306: 'Jeep',\n",
              " 307: 'Jeep',\n",
              " 308: 'Ford',\n",
              " 309: 'Ford',\n",
              " 310: 'Ford',\n",
              " 311: 'Ford',\n",
              " 312: 'Ford',\n",
              " 313: 'Toyota',\n",
              " 314: 'Ford',\n",
              " 315: 'Ford',\n",
              " 316: 'Ford',\n",
              " 317: 'Ford',\n",
              " 318: 'Ford',\n",
              " 319: 'Ford',\n",
              " 320: 'Ford',\n",
              " 321: 'Ford',\n",
              " 322: 'Ford',\n",
              " 323: 'Ford',\n",
              " 324: 'Toyota',\n",
              " 325: 'Ford',\n",
              " 326: 'Ford',\n",
              " 327: 'Ford',\n",
              " 328: 'Ford',\n",
              " 329: 'Ford',\n",
              " 330: 'Ford',\n",
              " 331: 'GMC',\n",
              " 332: 'GMC',\n",
              " 333: 'GMC',\n",
              " 334: 'GMC',\n",
              " 335: 'Dodge',\n",
              " 336: 'Volkswagen',\n",
              " 337: 'GMC',\n",
              " 338: 'GMC',\n",
              " 339: 'GMC',\n",
              " 340: 'GMC',\n",
              " 341: 'GMC',\n",
              " 342: 'GMC',\n",
              " 343: 'GMC',\n",
              " 344: 'GMC',\n",
              " 345: 'GMC',\n",
              " 346: 'GMC',\n",
              " 347: 'Volkswagen',\n",
              " 348: 'GMC',\n",
              " 349: 'GMC',\n",
              " 350: 'GMC',\n",
              " 351: 'Mazda',\n",
              " 352: 'Mazda',\n",
              " 353: 'Mazda',\n",
              " 354: 'Mazda',\n",
              " 355: 'Mazda',\n",
              " 356: 'Mazda',\n",
              " 357: 'Toyota',\n",
              " 358: 'AM General',\n",
              " 359: 'Toyota',\n",
              " 360: 'Toyota',\n",
              " 361: 'Toyota',\n",
              " 362: 'Toyota',\n",
              " 363: 'Chevrolet',\n",
              " 364: 'Chevrolet',\n",
              " 365: 'Chevrolet',\n",
              " 366: 'Chevrolet',\n",
              " 367: 'Chevrolet',\n",
              " 368: 'Chevrolet',\n",
              " 369: 'AM General',\n",
              " 370: 'Chevrolet',\n",
              " 371: 'Chevrolet',\n",
              " 372: 'Chevrolet',\n",
              " 373: 'Chevrolet',\n",
              " 374: 'Chevrolet',\n",
              " 375: 'Chevrolet',\n",
              " 376: 'Chevrolet',\n",
              " 377: 'Chevrolet',\n",
              " 378: 'Chevrolet',\n",
              " 379: 'Chevrolet',\n",
              " 380: 'Chevrolet',\n",
              " 381: 'Chevrolet',\n",
              " 382: 'Chevrolet',\n",
              " 383: 'Chevrolet',\n",
              " 384: 'Chevrolet',\n",
              " 385: 'Nissan',\n",
              " 386: 'Nissan',\n",
              " 387: 'Nissan',\n",
              " 388: 'Dodge',\n",
              " 389: 'Dodge',\n",
              " 390: 'Dodge',\n",
              " 391: 'Chevrolet',\n",
              " 392: 'Dodge',\n",
              " 393: 'Dodge',\n",
              " 394: 'Dodge',\n",
              " 395: 'Dodge',\n",
              " 396: 'Dodge',\n",
              " 397: 'Dodge',\n",
              " 398: 'Dodge',\n",
              " 399: 'Dodge',\n",
              " 400: 'Dodge',\n",
              " 401: 'Dodge',\n",
              " 402: 'Chevrolet',\n",
              " 403: 'Dodge',\n",
              " 404: 'Dodge',\n",
              " 405: 'Jeep',\n",
              " 406: 'Jeep',\n",
              " 407: 'Jeep',\n",
              " 408: 'Jeep',\n",
              " 409: 'Ford',\n",
              " 410: 'Ford',\n",
              " 411: 'Ford',\n",
              " 412: 'Ford',\n",
              " 413: 'Chevrolet',\n",
              " 414: 'Ford',\n",
              " 415: 'Ford',\n",
              " 416: 'Ford',\n",
              " 417: 'Ford',\n",
              " 418: 'Ford',\n",
              " 419: 'Ford',\n",
              " 420: 'Ford',\n",
              " 421: 'Ford',\n",
              " 422: 'Ford',\n",
              " 423: 'GMC',\n",
              " 424: 'Chevrolet',\n",
              " 425: 'GMC',\n",
              " 426: 'GMC',\n",
              " 427: 'GMC',\n",
              " 428: 'GMC',\n",
              " 429: 'GMC',\n",
              " 430: 'GMC',\n",
              " 431: 'GMC',\n",
              " 432: 'GMC',\n",
              " 433: 'GMC',\n",
              " 434: 'GMC',\n",
              " 435: 'Chevrolet',\n",
              " 436: 'GMC',\n",
              " 437: 'GMC',\n",
              " 438: 'GMC',\n",
              " 439: 'GMC',\n",
              " 440: 'GMC',\n",
              " 441: 'GMC',\n",
              " 442: 'GMC',\n",
              " 443: 'GMC',\n",
              " 444: 'GMC',\n",
              " 445: 'GMC',\n",
              " 446: 'Dodge',\n",
              " 447: 'Chevrolet',\n",
              " 448: 'Isuzu',\n",
              " 449: 'Isuzu',\n",
              " 450: 'Mitsubishi',\n",
              " 451: 'Mitsubishi',\n",
              " 452: 'Mitsubishi',\n",
              " 453: 'Mazda',\n",
              " 454: 'Mazda',\n",
              " 455: 'Toyota',\n",
              " 456: 'Toyota',\n",
              " 457: 'Toyota',\n",
              " 458: 'Chevrolet',\n",
              " 459: 'Toyota',\n",
              " 460: 'Toyota',\n",
              " 461: 'Chevrolet',\n",
              " 462: 'Chevrolet',\n",
              " 463: 'Chevrolet',\n",
              " 464: 'Chevrolet',\n",
              " 465: 'Chevrolet',\n",
              " 466: 'Chevrolet',\n",
              " 467: 'Chevrolet',\n",
              " 468: 'Chevrolet',\n",
              " 469: 'Chevrolet',\n",
              " 470: 'Dodge',\n",
              " 471: 'Dodge',\n",
              " 472: 'Dodge',\n",
              " 473: 'Dodge',\n",
              " 474: 'Dodge',\n",
              " 475: 'Dodge',\n",
              " 476: 'Dodge',\n",
              " 477: 'Dodge',\n",
              " 478: 'Dodge',\n",
              " 479: 'Ford',\n",
              " 480: 'Dodge',\n",
              " 481: 'Ford',\n",
              " 482: 'Ford',\n",
              " 483: 'Ford',\n",
              " 484: 'Ford',\n",
              " 485: 'Ford',\n",
              " 486: 'Ford',\n",
              " 487: 'Ford',\n",
              " 488: 'Ford',\n",
              " 489: 'Ford',\n",
              " 490: 'Ford',\n",
              " 491: 'Dodge',\n",
              " 492: 'Ford',\n",
              " 493: 'GMC',\n",
              " 494: 'GMC',\n",
              " 495: 'GMC',\n",
              " 496: 'GMC',\n",
              " 497: 'GMC',\n",
              " 498: 'GMC',\n",
              " 499: 'GMC',\n",
              " 500: 'GMC',\n",
              " 501: 'Chevrolet',\n",
              " 502: 'Dodge',\n",
              " 503: 'Chevrolet',\n",
              " 504: 'Chevrolet',\n",
              " 505: 'Chevrolet',\n",
              " 506: 'Chevrolet',\n",
              " 507: 'Chevrolet',\n",
              " 508: 'Chevrolet',\n",
              " 509: 'Dodge',\n",
              " 510: 'Dodge',\n",
              " 511: 'Dodge',\n",
              " 512: 'Dodge',\n",
              " 513: 'Dodge',\n",
              " 514: 'Dodge',\n",
              " 515: 'Dodge',\n",
              " 516: 'Dodge',\n",
              " 517: 'Dodge',\n",
              " 518: 'Ford',\n",
              " 519: 'Ford',\n",
              " 520: 'Ford',\n",
              " 521: 'Ford',\n",
              " 522: 'Ford',\n",
              " 523: 'Ford',\n",
              " 524: 'Dodge',\n",
              " 525: 'Ford',\n",
              " 526: 'Ford',\n",
              " 527: 'GMC',\n",
              " 528: 'GMC',\n",
              " 529: 'GMC',\n",
              " 530: 'GMC',\n",
              " 531: 'GMC',\n",
              " 532: 'GMC',\n",
              " 533: 'GMC',\n",
              " 534: 'Toyota',\n",
              " 535: 'Dodge',\n",
              " 536: 'Toyota',\n",
              " 537: 'Toyota',\n",
              " 538: 'Volkswagen',\n",
              " 539: 'Volkswagen',\n",
              " 540: 'Chevrolet',\n",
              " 541: 'Chevrolet',\n",
              " 542: 'Chevrolet',\n",
              " 543: 'Chevrolet',\n",
              " 544: 'Chevrolet',\n",
              " 545: 'Nissan',\n",
              " 546: 'Dodge',\n",
              " 547: 'Nissan',\n",
              " 548: 'Nissan',\n",
              " 549: 'Chrysler',\n",
              " 550: 'Dodge',\n",
              " 551: 'Dodge',\n",
              " 552: 'Dodge',\n",
              " 553: 'Dodge',\n",
              " 554: 'Dodge',\n",
              " 555: 'Dodge',\n",
              " 556: 'Dodge',\n",
              " 557: 'Dodge',\n",
              " 558: 'Dodge',\n",
              " 559: 'Dodge',\n",
              " 560: 'Dodge',\n",
              " 561: 'Dodge',\n",
              " 562: 'Jeep',\n",
              " 563: 'Jeep',\n",
              " 564: 'Jeep',\n",
              " 565: 'Ford',\n",
              " 566: 'Ford',\n",
              " 567: 'Mercury',\n",
              " 568: 'Mercury',\n",
              " 569: 'Dodge',\n",
              " 570: 'Geo',\n",
              " 571: 'Geo',\n",
              " 572: 'GMC',\n",
              " 573: 'GMC',\n",
              " 574: 'GMC',\n",
              " 575: 'Isuzu',\n",
              " 576: 'Isuzu',\n",
              " 577: 'Isuzu',\n",
              " 578: 'Isuzu',\n",
              " 579: 'Mazda',\n",
              " 580: 'Dodge',\n",
              " 581: 'Mazda',\n",
              " 582: 'Pontiac',\n",
              " 583: 'Pontiac',\n",
              " 584: 'Plymouth',\n",
              " 585: 'Plymouth',\n",
              " 586: 'Plymouth',\n",
              " 587: 'Plymouth',\n",
              " 588: 'Suzuki',\n",
              " 589: 'Suzuki',\n",
              " 590: 'Suzuki',\n",
              " 591: 'Dodge',\n",
              " 592: 'Suzuki',\n",
              " 593: 'Suzuki',\n",
              " 594: 'Oldsmobile',\n",
              " 595: 'Oldsmobile',\n",
              " 596: 'Toyota',\n",
              " 597: 'Chevrolet',\n",
              " 598: 'Chevrolet',\n",
              " 599: 'Chevrolet',\n",
              " 600: 'Chevrolet',\n",
              " 601: 'Chevrolet',\n",
              " 602: 'E. P. Dutton, Inc.',\n",
              " 603: 'Nissan',\n",
              " 604: 'Nissan',\n",
              " 605: 'Chrysler',\n",
              " 606: 'Dodge',\n",
              " 607: 'Dodge',\n",
              " 608: 'Dodge',\n",
              " 609: 'Jeep',\n",
              " 610: 'Jeep',\n",
              " 611: 'Jeep',\n",
              " 612: 'Jeep',\n",
              " 613: 'GMC',\n",
              " 614: 'Jeep',\n",
              " 615: 'Jeep',\n",
              " 616: 'Jeep',\n",
              " 617: 'Jeep',\n",
              " 618: 'Jeep',\n",
              " 619: 'Jeep',\n",
              " 620: 'Jeep',\n",
              " 621: 'Ford',\n",
              " 622: 'Ford',\n",
              " 623: 'Ford',\n",
              " 624: 'GMC',\n",
              " 625: 'Ford',\n",
              " 626: 'Ford',\n",
              " 627: 'Geo',\n",
              " 628: 'Geo',\n",
              " 629: 'Geo',\n",
              " 630: 'Geo',\n",
              " 631: 'GMC',\n",
              " 632: 'GMC',\n",
              " 633: 'GMC',\n",
              " 634: 'GMC',\n",
              " 635: 'GMC',\n",
              " 636: 'GMC',\n",
              " 637: 'Isuzu',\n",
              " 638: 'Isuzu',\n",
              " 639: 'Isuzu',\n",
              " 640: 'Isuzu',\n",
              " 641: 'Isuzu',\n",
              " 642: 'Land Rover',\n",
              " 643: 'Land Rover',\n",
              " 644: 'Land Rover',\n",
              " 645: 'Mitsubishi',\n",
              " 646: 'GMC',\n",
              " 647: 'Mitsubishi',\n",
              " 648: 'Mazda',\n",
              " 649: 'Mazda',\n",
              " 650: 'Mazda',\n",
              " 651: 'Mazda',\n",
              " 652: 'Mazda',\n",
              " 653: 'PAS, Inc',\n",
              " 654: 'Plymouth',\n",
              " 655: 'Subaru',\n",
              " 656: 'Subaru',\n",
              " 657: 'GMC',\n",
              " 658: 'Subaru',\n",
              " 659: 'Subaru',\n",
              " 660: 'Suzuki',\n",
              " 661: 'Suzuki',\n",
              " 662: 'Suzuki',\n",
              " 663: 'Suzuki',\n",
              " 664: 'Suzuki',\n",
              " 665: 'Suzuki',\n",
              " 666: 'Suzuki',\n",
              " 667: 'Suzuki',\n",
              " 668: 'Dodge',\n",
              " 669: 'GMC',\n",
              " 670: 'Suzuki',\n",
              " 671: 'Oldsmobile',\n",
              " 672: 'Toyota',\n",
              " 673: 'Toyota',\n",
              " 674: 'Toyota',\n",
              " 675: 'Toyota',\n",
              " 676: 'Toyota',\n",
              " 677: 'Cadillac',\n",
              " 678: 'Chevrolet',\n",
              " 679: 'Chevrolet',\n",
              " 680: 'GMC',\n",
              " 681: 'Dodge',\n",
              " 682: 'Dodge',\n",
              " 683: 'Dodge',\n",
              " 684: 'Dodge',\n",
              " 685: 'Buick',\n",
              " 686: 'Toyota',\n",
              " 687: 'Toyota',\n",
              " 688: 'Acura',\n",
              " 689: 'Acura',\n",
              " 690: 'Alfa Romeo',\n",
              " 691: 'GMC',\n",
              " 692: 'Chevrolet',\n",
              " 693: 'Chevrolet',\n",
              " 694: 'Chevrolet',\n",
              " 695: 'Nissan',\n",
              " 696: 'Nissan',\n",
              " 697: 'Nissan',\n",
              " 698: 'Nissan',\n",
              " 699: 'Dodge',\n",
              " 700: 'Ferrari',\n",
              " 701: 'Ferrari',\n",
              " 702: 'GMC',\n",
              " 703: 'Ferrari',\n",
              " 704: 'Honda',\n",
              " 705: 'Honda',\n",
              " 706: 'Honda',\n",
              " 707: 'Honda',\n",
              " 708: 'Honda',\n",
              " 709: 'Jaguar',\n",
              " 710: 'Lotus',\n",
              " 711: 'Mazda',\n",
              " 712: 'Mazda',\n",
              " 713: 'Grumman Olson',\n",
              " 714: 'Mazda',\n",
              " 715: 'Mazda',\n",
              " 716: 'Mercedes-Benz',\n",
              " 717: 'Mercedes-Benz',\n",
              " 718: 'Mercedes-Benz',\n",
              " 719: 'Porsche',\n",
              " 720: 'Porsche',\n",
              " 721: 'Porsche',\n",
              " 722: 'Porsche',\n",
              " 723: 'Porsche',\n",
              " 724: 'Grumman Olson',\n",
              " 725: 'Toyota',\n",
              " 726: 'Toyota',\n",
              " 727: 'Toyota',\n",
              " 728: 'Audi',\n",
              " 729: 'BMW',\n",
              " 730: 'BMW',\n",
              " 731: 'BMW',\n",
              " 732: 'BMW',\n",
              " 733: 'Mercury',\n",
              " 734: 'Mercury',\n",
              " 735: 'Jeep',\n",
              " 736: 'Mercury',\n",
              " 737: 'Mercedes-Benz',\n",
              " 738: 'Porsche',\n",
              " 739: 'Porsche',\n",
              " 740: 'Porsche',\n",
              " 741: 'Porsche',\n",
              " 742: 'Porsche',\n",
              " 743: 'Porsche',\n",
              " 744: 'Porsche',\n",
              " 745: 'Porsche',\n",
              " 746: 'Jeep',\n",
              " 747: 'Toyota',\n",
              " 748: 'Toyota',\n",
              " 749: 'Toyota',\n",
              " 750: 'Toyota',\n",
              " 751: 'Toyota',\n",
              " 752: 'Toyota',\n",
              " 753: 'Acura',\n",
              " 754: 'Acura',\n",
              " 755: 'Acura',\n",
              " 756: 'Audi',\n",
              " 757: 'Jeep',\n",
              " 758: 'BMW',\n",
              " 759: 'BMW',\n",
              " 760: 'BMW',\n",
              " 761: 'BMW',\n",
              " 762: 'BMW',\n",
              " 763: 'BMW',\n",
              " 764: 'BMW',\n",
              " 765: 'BMW',\n",
              " 766: 'Chevrolet',\n",
              " 767: 'Chevrolet',\n",
              " 768: 'Jeep',\n",
              " 769: 'Chevrolet',\n",
              " 770: 'Chevrolet',\n",
              " 771: 'Chevrolet',\n",
              " 772: 'Chevrolet',\n",
              " 773: 'Chevrolet',\n",
              " 774: 'Chevrolet',\n",
              " 775: 'Chevrolet',\n",
              " 776: 'Chevrolet',\n",
              " 777: 'Chrysler',\n",
              " 778: 'Nissan',\n",
              " 779: 'Dodge',\n",
              " 780: 'Jeep',\n",
              " 781: 'Nissan',\n",
              " 782: 'Nissan',\n",
              " 783: 'Nissan',\n",
              " 784: 'Nissan',\n",
              " 785: 'Nissan',\n",
              " 786: 'Dodge',\n",
              " 787: 'Dodge',\n",
              " 788: 'Dodge',\n",
              " 789: 'Dodge',\n",
              " 790: 'Dodge',\n",
              " 791: 'Jeep',\n",
              " 792: 'Dodge',\n",
              " 793: 'Dodge',\n",
              " 794: 'Dodge',\n",
              " 795: 'Dodge',\n",
              " 796: 'Eagle',\n",
              " 797: 'Eagle',\n",
              " 798: 'Eagle',\n",
              " 799: 'Eagle',\n",
              " 800: 'Eagle',\n",
              " 801: 'Eagle',\n",
              " 802: 'Plymouth',\n",
              " 803: 'Eagle',\n",
              " 804: 'Eagle',\n",
              " 805: 'Eagle',\n",
              " 806: 'Eagle',\n",
              " 807: 'Eagle',\n",
              " 808: 'Eagle',\n",
              " 809: 'Ferrari',\n",
              " 810: 'Ferrari',\n",
              " 811: 'Ford',\n",
              " 812: 'Ford',\n",
              " 813: 'Plymouth',\n",
              " 814: 'Ford',\n",
              " 815: 'Ford',\n",
              " 816: 'Ford',\n",
              " 817: 'Ford',\n",
              " 818: 'Ford',\n",
              " 819: 'Ford',\n",
              " 820: 'Ford',\n",
              " 821: 'Ford',\n",
              " 822: 'Geo',\n",
              " 823: 'Geo',\n",
              " 824: 'Plymouth',\n",
              " 825: 'Geo',\n",
              " 826: 'Honda',\n",
              " 827: 'Honda',\n",
              " 828: 'Honda',\n",
              " 829: 'Honda',\n",
              " 830: 'Honda',\n",
              " 831: 'Honda',\n",
              " 832: 'Honda',\n",
              " 833: 'Honda',\n",
              " 834: 'Honda',\n",
              " 835: 'Plymouth',\n",
              " 836: 'Honda',\n",
              " 837: 'Honda',\n",
              " 838: 'Honda',\n",
              " 839: 'Honda',\n",
              " 840: 'Hyundai',\n",
              " 841: 'Hyundai',\n",
              " 842: 'Hyundai',\n",
              " 843: 'Hyundai',\n",
              " 844: 'Hyundai',\n",
              " 845: 'Infiniti',\n",
              " 846: 'Plymouth',\n",
              " 847: 'Jaguar',\n",
              " 848: 'Jaguar',\n",
              " 849: 'Jaguar',\n",
              " 850: 'Lexus',\n",
              " 851: 'Lexus',\n",
              " 852: 'Lexus',\n",
              " 853: 'Mazda',\n",
              " 854: 'Mazda',\n",
              " 855: 'Mazda',\n",
              " 856: 'Mazda',\n",
              " 857: 'American Motors Corporation',\n",
              " 858: 'Mazda',\n",
              " 859: 'Mazda',\n",
              " 860: 'Mazda',\n",
              " 861: 'Mazda',\n",
              " 862: 'Mercedes-Benz',\n",
              " 863: 'Mitsubishi',\n",
              " 864: 'Mitsubishi',\n",
              " 865: 'Mitsubishi',\n",
              " 866: 'Mitsubishi',\n",
              " 867: 'Mitsubishi',\n",
              " 868: 'American Motors Corporation',\n",
              " 869: 'Mitsubishi',\n",
              " 870: 'Mitsubishi',\n",
              " 871: 'Mitsubishi',\n",
              " 872: 'Mitsubishi',\n",
              " 873: 'Mitsubishi',\n",
              " 874: 'Mitsubishi',\n",
              " 875: 'Mitsubishi',\n",
              " 876: 'Mitsubishi',\n",
              " 877: 'Mitsubishi',\n",
              " 878: 'Mitsubishi',\n",
              " 879: 'Chevrolet',\n",
              " 880: 'Plymouth',\n",
              " 881: 'Plymouth',\n",
              " 882: 'Plymouth',\n",
              " 883: 'Plymouth',\n",
              " 884: 'Plymouth',\n",
              " 885: 'Plymouth',\n",
              " 886: 'Plymouth',\n",
              " 887: 'Plymouth',\n",
              " 888: 'Plymouth',\n",
              " 889: 'Plymouth',\n",
              " 890: 'Dodge',\n",
              " 891: 'Chevrolet',\n",
              " 892: 'Plymouth',\n",
              " 893: 'Plymouth',\n",
              " 894: 'Pontiac',\n",
              " 895: 'Pontiac',\n",
              " 896: 'Pontiac',\n",
              " 897: 'Pontiac',\n",
              " 898: 'Pontiac',\n",
              " 899: 'Pontiac',\n",
              " 900: 'Pontiac',\n",
              " 901: 'Pontiac',\n",
              " 902: 'Chevrolet',\n",
              " 903: 'Pontiac',\n",
              " 904: 'Pontiac',\n",
              " 905: 'Rolls-Royce',\n",
              " 906: 'Rolls-Royce',\n",
              " 907: 'Saab',\n",
              " 908: 'Saab',\n",
              " 909: 'Saab',\n",
              " 910: 'Saab',\n",
              " 911: 'Saab',\n",
              " 912: 'Saturn',\n",
              " 913: 'Chevrolet',\n",
              " 914: 'Saturn',\n",
              " 915: 'Saturn',\n",
              " 916: 'Saturn',\n",
              " 917: 'Subaru',\n",
              " 918: 'Subaru',\n",
              " 919: 'Subaru',\n",
              " 920: 'Subaru',\n",
              " 921: 'Subaru',\n",
              " 922: 'Subaru',\n",
              " 923: 'Subaru',\n",
              " 924: 'Chevrolet',\n",
              " 925: 'Subaru',\n",
              " 926: 'Suzuki',\n",
              " 927: 'Suzuki',\n",
              " 928: 'Suzuki',\n",
              " 929: 'Toyota',\n",
              " 930: 'Toyota',\n",
              " 931: 'Toyota',\n",
              " 932: 'Toyota',\n",
              " 933: 'Toyota',\n",
              " 934: 'Toyota',\n",
              " 935: 'Chevrolet',\n",
              " 936: 'Toyota',\n",
              " 937: 'Volkswagen',\n",
              " 938: 'Volkswagen',\n",
              " 939: 'Acura',\n",
              " 940: 'Acura',\n",
              " 941: 'Acura',\n",
              " 942: 'Acura',\n",
              " 943: 'Acura',\n",
              " 944: 'Acura',\n",
              " 945: 'Alfa Romeo',\n",
              " 946: 'Chevrolet',\n",
              " 947: 'Alfa Romeo',\n",
              " 948: 'Audi',\n",
              " 949: 'Audi',\n",
              " 950: 'Audi',\n",
              " 951: 'Audi',\n",
              " 952: 'Audi',\n",
              " 953: 'Audi',\n",
              " 954: 'Audi',\n",
              " 955: 'Audi',\n",
              " 956: 'BMW',\n",
              " 957: 'Chevrolet',\n",
              " 958: 'BMW',\n",
              " 959: 'BMW',\n",
              " 960: 'BMW',\n",
              " 961: 'BMW',\n",
              " 962: 'BMW',\n",
              " 963: 'BMW',\n",
              " 964: 'Buick',\n",
              " 965: 'Buick',\n",
              " 966: 'Buick',\n",
              " 967: 'Chevrolet',\n",
              " 968: 'Chevrolet',\n",
              " 969: 'Chevrolet',\n",
              " 970: 'Chevrolet',\n",
              " 971: 'Chevrolet',\n",
              " 972: 'Chevrolet',\n",
              " 973: 'Chevrolet',\n",
              " 974: 'Chevrolet',\n",
              " 975: 'Chevrolet',\n",
              " 976: 'Chevrolet',\n",
              " 977: 'Chrysler',\n",
              " 978: 'Chrysler',\n",
              " 979: 'Chevrolet',\n",
              " 980: 'Chrysler',\n",
              " 981: 'Nissan',\n",
              " 982: 'Nissan',\n",
              " 983: 'Dodge',\n",
              " 984: 'Dodge',\n",
              " 985: 'Dodge',\n",
              " 986: 'Dodge',\n",
              " 987: 'Dodge',\n",
              " 988: 'Dodge',\n",
              " 989: 'Ford',\n",
              " 990: 'Chevrolet',\n",
              " 991: 'Ford',\n",
              " 992: 'Ford',\n",
              " 993: 'Ford',\n",
              " 994: 'Ford',\n",
              " 995: 'Ford',\n",
              " 996: 'Ford',\n",
              " 997: 'Ford',\n",
              " 998: 'Geo',\n",
              " 999: 'Geo',\n",
              " ...}"
            ]
          },
          "execution_count": 32,
          "metadata": {},
          "output_type": "execute_result"
        }
      ],
      "source": [
        "make.to_dict()"
      ]
    },
    {
      "cell_type": "code",
      "execution_count": 33,
      "metadata": {},
      "outputs": [
        {
          "data": {
            "text/html": [
              "<div>\n",
              "<style scoped>\n",
              "    .dataframe tbody tr th:only-of-type {\n",
              "        vertical-align: middle;\n",
              "    }\n",
              "\n",
              "    .dataframe tbody tr th {\n",
              "        vertical-align: top;\n",
              "    }\n",
              "\n",
              "    .dataframe thead th {\n",
              "        text-align: right;\n",
              "    }\n",
              "</style>\n",
              "<table border=\"1\" class=\"dataframe\">\n",
              "  <thead>\n",
              "    <tr style=\"text-align: right;\">\n",
              "      <th></th>\n",
              "      <th>index</th>\n",
              "      <th>city08</th>\n",
              "    </tr>\n",
              "  </thead>\n",
              "  <tbody>\n",
              "    <tr>\n",
              "      <th>0</th>\n",
              "      <td>Alfa Romeo</td>\n",
              "      <td>19</td>\n",
              "    </tr>\n",
              "    <tr>\n",
              "      <th>1</th>\n",
              "      <td>Ferrari</td>\n",
              "      <td>9</td>\n",
              "    </tr>\n",
              "    <tr>\n",
              "      <th>2</th>\n",
              "      <td>Dodge</td>\n",
              "      <td>23</td>\n",
              "    </tr>\n",
              "    <tr>\n",
              "      <th>3</th>\n",
              "      <td>Dodge</td>\n",
              "      <td>10</td>\n",
              "    </tr>\n",
              "    <tr>\n",
              "      <th>4</th>\n",
              "      <td>Subaru</td>\n",
              "      <td>17</td>\n",
              "    </tr>\n",
              "    <tr>\n",
              "      <th>...</th>\n",
              "      <td>...</td>\n",
              "      <td>...</td>\n",
              "    </tr>\n",
              "    <tr>\n",
              "      <th>41139</th>\n",
              "      <td>Subaru</td>\n",
              "      <td>19</td>\n",
              "    </tr>\n",
              "    <tr>\n",
              "      <th>41140</th>\n",
              "      <td>Subaru</td>\n",
              "      <td>20</td>\n",
              "    </tr>\n",
              "    <tr>\n",
              "      <th>41141</th>\n",
              "      <td>Subaru</td>\n",
              "      <td>18</td>\n",
              "    </tr>\n",
              "    <tr>\n",
              "      <th>41142</th>\n",
              "      <td>Subaru</td>\n",
              "      <td>18</td>\n",
              "    </tr>\n",
              "    <tr>\n",
              "      <th>41143</th>\n",
              "      <td>Subaru</td>\n",
              "      <td>16</td>\n",
              "    </tr>\n",
              "  </tbody>\n",
              "</table>\n",
              "<p>41144 rows × 2 columns</p>\n",
              "</div>"
            ],
            "text/plain": [
              "            index  city08\n",
              "0      Alfa Romeo      19\n",
              "1         Ferrari       9\n",
              "2           Dodge      23\n",
              "3           Dodge      10\n",
              "4          Subaru      17\n",
              "...           ...     ...\n",
              "41139      Subaru      19\n",
              "41140      Subaru      20\n",
              "41141      Subaru      18\n",
              "41142      Subaru      18\n",
              "41143      Subaru      16\n",
              "\n",
              "[41144 rows x 2 columns]"
            ]
          },
          "execution_count": 33,
          "metadata": {},
          "output_type": "execute_result"
        }
      ],
      "source": [
        "city_2.reset_index()"
      ]
    },
    {
      "cell_type": "code",
      "execution_count": 34,
      "metadata": {},
      "outputs": [
        {
          "data": {
            "text/plain": [
              "0        19\n",
              "1         9\n",
              "2        23\n",
              "3        10\n",
              "4        17\n",
              "         ..\n",
              "41139    19\n",
              "41140    20\n",
              "41141    18\n",
              "41142    18\n",
              "41143    16\n",
              "Name: city08, Length: 41144, dtype: int64"
            ]
          },
          "execution_count": 34,
          "metadata": {},
          "output_type": "execute_result"
        }
      ],
      "source": [
        "city_2.reset_index(drop=True)"
      ]
    },
    {
      "cell_type": "code",
      "execution_count": 37,
      "metadata": {},
      "outputs": [
        {
          "data": {
            "text/plain": [
              "20"
            ]
          },
          "execution_count": 37,
          "metadata": {},
          "output_type": "execute_result"
        }
      ],
      "source": [
        "city_2.loc['Fisker']"
      ]
    },
    {
      "cell_type": "code",
      "execution_count": 38,
      "metadata": {},
      "outputs": [
        {
          "data": {
            "text/plain": [
              "Fisker    20\n",
              "Name: city08, dtype: int64"
            ]
          },
          "execution_count": 38,
          "metadata": {},
          "output_type": "execute_result"
        }
      ],
      "source": [
        "city_2.loc[['Fisker']]"
      ]
    },
    {
      "cell_type": "code",
      "execution_count": 9,
      "metadata": {},
      "outputs": [
        {
          "data": {
            "text/plain": [
              "Dodge     18\n",
              "Dodge     12\n",
              "Dodge     10\n",
              "Dodge     12\n",
              "Dodge     11\n",
              "          ..\n",
              "Subaru    21\n",
              "Subaru    21\n",
              "Subaru    19\n",
              "Subaru    21\n",
              "Subaru    18\n",
              "Name: city08, Length: 26552, dtype: int64"
            ]
          },
          "execution_count": 9,
          "metadata": {},
          "output_type": "execute_result"
        }
      ],
      "source": [
        "city_2.sort_index().loc['Dodge':'Subaru']"
      ]
    },
    {
      "cell_type": "code",
      "execution_count": 5,
      "metadata": {},
      "outputs": [
        {
          "data": {
            "text/plain": [
              "0        Alfa Romeo\n",
              "1           Ferrari\n",
              "2             Dodge\n",
              "3             Dodge\n",
              "4            Subaru\n",
              "            ...    \n",
              "41139        Subaru\n",
              "41140        Subaru\n",
              "41141        Subaru\n",
              "41142        Subaru\n",
              "41143        Subaru\n",
              "Name: make, Length: 41144, dtype: object"
            ]
          },
          "execution_count": 5,
          "metadata": {},
          "output_type": "execute_result"
        }
      ],
      "source": [
        "make = df.make\n",
        "make"
      ]
    },
    {
      "cell_type": "code",
      "execution_count": 6,
      "metadata": {},
      "outputs": [
        {
          "data": {
            "text/plain": [
              "0        Alfa Romeo\n",
              "1           Ferrari\n",
              "2             Dodge\n",
              "3             Dodge\n",
              "4            Subaru\n",
              "            ...    \n",
              "41139        Subaru\n",
              "41140        Subaru\n",
              "41141        Subaru\n",
              "41142        Subaru\n",
              "41143        Subaru\n",
              "Name: make, Length: 41144, dtype: category\n",
              "Categories (136, object): ['AM General', 'ASC Incorporated', 'Acura', 'Alfa Romeo', ..., 'Volvo', 'Wallace Environmental', 'Yugo', 'smart']"
            ]
          },
          "execution_count": 6,
          "metadata": {},
          "output_type": "execute_result"
        }
      ],
      "source": [
        "#convert make to categorical\n",
        "make.astype('category')\n"
      ]
    },
    {
      "cell_type": "code",
      "execution_count": 7,
      "metadata": {},
      "outputs": [
        {
          "data": {
            "text/plain": [
              "0        alfa romeo\n",
              "1           ferrari\n",
              "2             dodge\n",
              "3             dodge\n",
              "4            subaru\n",
              "            ...    \n",
              "41139        subaru\n",
              "41140        subaru\n",
              "41141        subaru\n",
              "41142        subaru\n",
              "41143        subaru\n",
              "Name: make, Length: 41144, dtype: object"
            ]
          },
          "execution_count": 7,
          "metadata": {},
          "output_type": "execute_result"
        }
      ],
      "source": [
        "make.str.lower()"
      ]
    },
    {
      "cell_type": "code",
      "execution_count": 8,
      "metadata": {},
      "outputs": [
        {
          "data": {
            "text/html": [
              "<div>\n",
              "<style scoped>\n",
              "    .dataframe tbody tr th:only-of-type {\n",
              "        vertical-align: middle;\n",
              "    }\n",
              "\n",
              "    .dataframe tbody tr th {\n",
              "        vertical-align: top;\n",
              "    }\n",
              "\n",
              "    .dataframe thead th {\n",
              "        text-align: right;\n",
              "    }\n",
              "</style>\n",
              "<table border=\"1\" class=\"dataframe\">\n",
              "  <thead>\n",
              "    <tr style=\"text-align: right;\">\n",
              "      <th></th>\n",
              "      <th>0</th>\n",
              "    </tr>\n",
              "  </thead>\n",
              "  <tbody>\n",
              "    <tr>\n",
              "      <th>0</th>\n",
              "      <td>R</td>\n",
              "    </tr>\n",
              "    <tr>\n",
              "      <th>1</th>\n",
              "      <td>NaN</td>\n",
              "    </tr>\n",
              "    <tr>\n",
              "      <th>2</th>\n",
              "      <td>NaN</td>\n",
              "    </tr>\n",
              "    <tr>\n",
              "      <th>3</th>\n",
              "      <td>NaN</td>\n",
              "    </tr>\n",
              "    <tr>\n",
              "      <th>4</th>\n",
              "      <td>NaN</td>\n",
              "    </tr>\n",
              "    <tr>\n",
              "      <th>...</th>\n",
              "      <td>...</td>\n",
              "    </tr>\n",
              "    <tr>\n",
              "      <th>41139</th>\n",
              "      <td>NaN</td>\n",
              "    </tr>\n",
              "    <tr>\n",
              "      <th>41140</th>\n",
              "      <td>NaN</td>\n",
              "    </tr>\n",
              "    <tr>\n",
              "      <th>41141</th>\n",
              "      <td>NaN</td>\n",
              "    </tr>\n",
              "    <tr>\n",
              "      <th>41142</th>\n",
              "      <td>NaN</td>\n",
              "    </tr>\n",
              "    <tr>\n",
              "      <th>41143</th>\n",
              "      <td>NaN</td>\n",
              "    </tr>\n",
              "  </tbody>\n",
              "</table>\n",
              "<p>41144 rows × 1 columns</p>\n",
              "</div>"
            ],
            "text/plain": [
              "         0\n",
              "0        R\n",
              "1      NaN\n",
              "2      NaN\n",
              "3      NaN\n",
              "4      NaN\n",
              "...    ...\n",
              "41139  NaN\n",
              "41140  NaN\n",
              "41141  NaN\n",
              "41142  NaN\n",
              "41143  NaN\n",
              "\n",
              "[41144 rows x 1 columns]"
            ]
          },
          "execution_count": 8,
          "metadata": {},
          "output_type": "execute_result"
        }
      ],
      "source": [
        "(make\n",
        ".str.extract(r'[a-z] ([A-Z])')\n",
        ")"
      ]
    },
    {
      "cell_type": "code",
      "execution_count": 17,
      "metadata": {},
      "outputs": [
        {
          "data": {
            "text/plain": [
              "-    1727\n",
              ".      46\n",
              ",       9\n",
              "Name: make, dtype: int64"
            ]
          },
          "execution_count": 17,
          "metadata": {},
          "output_type": "execute_result"
        }
      ],
      "source": [
        "(make\n",
        ".str.extract(r'([^a-z A-Z])',expand=False)\n",
        ".value_counts()\n",
        ")"
      ]
    },
    {
      "cell_type": "code",
      "execution_count": 18,
      "metadata": {},
      "outputs": [
        {
          "data": {
            "text/plain": [
              "0    20-30\n",
              "1    30-40\n",
              "2    40-50\n",
              "3    50-60\n",
              "4    60-70\n",
              "5    70-80\n",
              "dtype: object"
            ]
          },
          "execution_count": 18,
          "metadata": {},
          "output_type": "execute_result"
        }
      ],
      "source": [
        "#Splitting\n",
        "ages =pd.Series(['20-30','30-40','40-50','50-60','60-70','70-80'])\n",
        "ages"
      ]
    },
    {
      "cell_type": "code",
      "execution_count": 19,
      "metadata": {},
      "outputs": [
        {
          "data": {
            "text/plain": [
              "0    [20, 30]\n",
              "1    [30, 40]\n",
              "2    [40, 50]\n",
              "3    [50, 60]\n",
              "4    [60, 70]\n",
              "5    [70, 80]\n",
              "dtype: object"
            ]
          },
          "execution_count": 19,
          "metadata": {},
          "output_type": "execute_result"
        }
      ],
      "source": [
        "ages.str.split('-')\n"
      ]
    },
    {
      "cell_type": "code",
      "execution_count": 20,
      "metadata": {},
      "outputs": [
        {
          "data": {
            "text/html": [
              "<div>\n",
              "<style scoped>\n",
              "    .dataframe tbody tr th:only-of-type {\n",
              "        vertical-align: middle;\n",
              "    }\n",
              "\n",
              "    .dataframe tbody tr th {\n",
              "        vertical-align: top;\n",
              "    }\n",
              "\n",
              "    .dataframe thead th {\n",
              "        text-align: right;\n",
              "    }\n",
              "</style>\n",
              "<table border=\"1\" class=\"dataframe\">\n",
              "  <thead>\n",
              "    <tr style=\"text-align: right;\">\n",
              "      <th></th>\n",
              "      <th>0</th>\n",
              "      <th>1</th>\n",
              "    </tr>\n",
              "  </thead>\n",
              "  <tbody>\n",
              "    <tr>\n",
              "      <th>0</th>\n",
              "      <td>20</td>\n",
              "      <td>30</td>\n",
              "    </tr>\n",
              "    <tr>\n",
              "      <th>1</th>\n",
              "      <td>30</td>\n",
              "      <td>40</td>\n",
              "    </tr>\n",
              "    <tr>\n",
              "      <th>2</th>\n",
              "      <td>40</td>\n",
              "      <td>50</td>\n",
              "    </tr>\n",
              "    <tr>\n",
              "      <th>3</th>\n",
              "      <td>50</td>\n",
              "      <td>60</td>\n",
              "    </tr>\n",
              "    <tr>\n",
              "      <th>4</th>\n",
              "      <td>60</td>\n",
              "      <td>70</td>\n",
              "    </tr>\n",
              "    <tr>\n",
              "      <th>5</th>\n",
              "      <td>70</td>\n",
              "      <td>80</td>\n",
              "    </tr>\n",
              "  </tbody>\n",
              "</table>\n",
              "</div>"
            ],
            "text/plain": [
              "    0   1\n",
              "0  20  30\n",
              "1  30  40\n",
              "2  40  50\n",
              "3  50  60\n",
              "4  60  70\n",
              "5  70  80"
            ]
          },
          "execution_count": 20,
          "metadata": {},
          "output_type": "execute_result"
        }
      ],
      "source": [
        "ages.str.split('-',expand=True)"
      ]
    },
    {
      "cell_type": "code",
      "execution_count": 22,
      "metadata": {},
      "outputs": [
        {
          "data": {
            "text/plain": [
              "0    30\n",
              "1    40\n",
              "2    50\n",
              "3    60\n",
              "4    70\n",
              "5    80\n",
              "Name: 1, dtype: int64"
            ]
          },
          "execution_count": 22,
          "metadata": {},
          "output_type": "execute_result"
        }
      ],
      "source": [
        "(ages\n",
        ".str.split('-',expand=True)\n",
        ".iloc[:,1]\n",
        ".astype(int)\n",
        ")"
      ]
    },
    {
      "cell_type": "code",
      "execution_count": 28,
      "metadata": {},
      "outputs": [
        {
          "data": {
            "text/plain": [
              "0    30\n",
              "1    40\n",
              "2    50\n",
              "3    60\n",
              "4    70\n",
              "5    80\n",
              "dtype: int64"
            ]
          },
          "execution_count": 28,
          "metadata": {},
          "output_type": "execute_result"
        }
      ],
      "source": [
        "(ages\n",
        ".str.slice(-2)\n",
        ".astype(int)\n",
        ")"
      ]
    },
    {
      "cell_type": "code",
      "execution_count": 37,
      "metadata": {},
      "outputs": [
        {
          "data": {
            "text/plain": [
              "0        &lfa Romeo\n",
              "1           Ferrari\n",
              "2             Dodge\n",
              "3             Dodge\n",
              "4            Subaru\n",
              "            ...    \n",
              "41139        Subaru\n",
              "41140        Subaru\n",
              "41141        Subaru\n",
              "41142        Subaru\n",
              "41143        Subaru\n",
              "Name: make, Length: 41144, dtype: object"
            ]
          },
          "execution_count": 37,
          "metadata": {},
          "output_type": "execute_result"
        }
      ],
      "source": [
        "make.str.replace('A','&')"
      ]
    },
    {
      "cell_type": "code",
      "execution_count": 35,
      "metadata": {},
      "outputs": [
        {
          "data": {
            "text/plain": [
              "0        &lfa Romeo\n",
              "1           Ferrari\n",
              "2             Dodge\n",
              "3             Dodge\n",
              "4            Subaru\n",
              "            ...    \n",
              "41139        Subaru\n",
              "41140        Subaru\n",
              "41141        Subaru\n",
              "41142        Subaru\n",
              "41143        Subaru\n",
              "Name: make, Length: 41144, dtype: object"
            ]
          },
          "execution_count": 35,
          "metadata": {},
          "output_type": "execute_result"
        }
      ],
      "source": [
        "make.replace('A','&',regex=True)"
      ]
    },
    {
      "cell_type": "code",
      "execution_count": 2,
      "metadata": {},
      "outputs": [
        {
          "data": {
            "text/html": [
              "<div>\n",
              "<style scoped>\n",
              "    .dataframe tbody tr th:only-of-type {\n",
              "        vertical-align: middle;\n",
              "    }\n",
              "\n",
              "    .dataframe tbody tr th {\n",
              "        vertical-align: top;\n",
              "    }\n",
              "\n",
              "    .dataframe thead th {\n",
              "        text-align: right;\n",
              "    }\n",
              "</style>\n",
              "<table border=\"1\" class=\"dataframe\">\n",
              "  <thead>\n",
              "    <tr style=\"text-align: right;\">\n",
              "      <th></th>\n",
              "      <th>STATION</th>\n",
              "      <th>NAME</th>\n",
              "      <th>LATITUDE</th>\n",
              "      <th>LONGITUDE</th>\n",
              "      <th>ELEVATION</th>\n",
              "      <th>DATE</th>\n",
              "      <th>DAPR</th>\n",
              "      <th>DASF</th>\n",
              "      <th>MDPR</th>\n",
              "      <th>MDSF</th>\n",
              "      <th>...</th>\n",
              "      <th>SNWD</th>\n",
              "      <th>TMAX</th>\n",
              "      <th>TMIN</th>\n",
              "      <th>TOBS</th>\n",
              "      <th>WT01</th>\n",
              "      <th>WT03</th>\n",
              "      <th>WT04</th>\n",
              "      <th>WT05</th>\n",
              "      <th>WT06</th>\n",
              "      <th>WT11</th>\n",
              "    </tr>\n",
              "  </thead>\n",
              "  <tbody>\n",
              "    <tr>\n",
              "      <th>0</th>\n",
              "      <td>USC00420072</td>\n",
              "      <td>ALTA, UT US</td>\n",
              "      <td>40.5905</td>\n",
              "      <td>-111.6369</td>\n",
              "      <td>2660.9</td>\n",
              "      <td>1980-01-01</td>\n",
              "      <td>NaN</td>\n",
              "      <td>NaN</td>\n",
              "      <td>NaN</td>\n",
              "      <td>NaN</td>\n",
              "      <td>...</td>\n",
              "      <td>29.0</td>\n",
              "      <td>38.0</td>\n",
              "      <td>25.0</td>\n",
              "      <td>25.0</td>\n",
              "      <td>NaN</td>\n",
              "      <td>NaN</td>\n",
              "      <td>NaN</td>\n",
              "      <td>NaN</td>\n",
              "      <td>NaN</td>\n",
              "      <td>NaN</td>\n",
              "    </tr>\n",
              "    <tr>\n",
              "      <th>1</th>\n",
              "      <td>USC00420072</td>\n",
              "      <td>ALTA, UT US</td>\n",
              "      <td>40.5905</td>\n",
              "      <td>-111.6369</td>\n",
              "      <td>2660.9</td>\n",
              "      <td>1980-01-02</td>\n",
              "      <td>NaN</td>\n",
              "      <td>NaN</td>\n",
              "      <td>NaN</td>\n",
              "      <td>NaN</td>\n",
              "      <td>...</td>\n",
              "      <td>34.0</td>\n",
              "      <td>27.0</td>\n",
              "      <td>18.0</td>\n",
              "      <td>18.0</td>\n",
              "      <td>NaN</td>\n",
              "      <td>NaN</td>\n",
              "      <td>NaN</td>\n",
              "      <td>NaN</td>\n",
              "      <td>NaN</td>\n",
              "      <td>NaN</td>\n",
              "    </tr>\n",
              "    <tr>\n",
              "      <th>2</th>\n",
              "      <td>USC00420072</td>\n",
              "      <td>ALTA, UT US</td>\n",
              "      <td>40.5905</td>\n",
              "      <td>-111.6369</td>\n",
              "      <td>2660.9</td>\n",
              "      <td>1980-01-03</td>\n",
              "      <td>NaN</td>\n",
              "      <td>NaN</td>\n",
              "      <td>NaN</td>\n",
              "      <td>NaN</td>\n",
              "      <td>...</td>\n",
              "      <td>30.0</td>\n",
              "      <td>27.0</td>\n",
              "      <td>12.0</td>\n",
              "      <td>18.0</td>\n",
              "      <td>NaN</td>\n",
              "      <td>NaN</td>\n",
              "      <td>NaN</td>\n",
              "      <td>NaN</td>\n",
              "      <td>NaN</td>\n",
              "      <td>NaN</td>\n",
              "    </tr>\n",
              "    <tr>\n",
              "      <th>3</th>\n",
              "      <td>USC00420072</td>\n",
              "      <td>ALTA, UT US</td>\n",
              "      <td>40.5905</td>\n",
              "      <td>-111.6369</td>\n",
              "      <td>2660.9</td>\n",
              "      <td>1980-01-04</td>\n",
              "      <td>NaN</td>\n",
              "      <td>NaN</td>\n",
              "      <td>NaN</td>\n",
              "      <td>NaN</td>\n",
              "      <td>...</td>\n",
              "      <td>30.0</td>\n",
              "      <td>31.0</td>\n",
              "      <td>18.0</td>\n",
              "      <td>27.0</td>\n",
              "      <td>NaN</td>\n",
              "      <td>NaN</td>\n",
              "      <td>NaN</td>\n",
              "      <td>NaN</td>\n",
              "      <td>NaN</td>\n",
              "      <td>NaN</td>\n",
              "    </tr>\n",
              "    <tr>\n",
              "      <th>4</th>\n",
              "      <td>USC00420072</td>\n",
              "      <td>ALTA, UT US</td>\n",
              "      <td>40.5905</td>\n",
              "      <td>-111.6369</td>\n",
              "      <td>2660.9</td>\n",
              "      <td>1980-01-05</td>\n",
              "      <td>NaN</td>\n",
              "      <td>NaN</td>\n",
              "      <td>NaN</td>\n",
              "      <td>NaN</td>\n",
              "      <td>...</td>\n",
              "      <td>30.0</td>\n",
              "      <td>34.0</td>\n",
              "      <td>26.0</td>\n",
              "      <td>34.0</td>\n",
              "      <td>NaN</td>\n",
              "      <td>NaN</td>\n",
              "      <td>NaN</td>\n",
              "      <td>NaN</td>\n",
              "      <td>NaN</td>\n",
              "      <td>NaN</td>\n",
              "    </tr>\n",
              "  </tbody>\n",
              "</table>\n",
              "<p>5 rows × 22 columns</p>\n",
              "</div>"
            ],
            "text/plain": [
              "       STATION         NAME  LATITUDE  LONGITUDE  ELEVATION        DATE  DAPR  \\\n",
              "0  USC00420072  ALTA, UT US   40.5905  -111.6369     2660.9  1980-01-01   NaN   \n",
              "1  USC00420072  ALTA, UT US   40.5905  -111.6369     2660.9  1980-01-02   NaN   \n",
              "2  USC00420072  ALTA, UT US   40.5905  -111.6369     2660.9  1980-01-03   NaN   \n",
              "3  USC00420072  ALTA, UT US   40.5905  -111.6369     2660.9  1980-01-04   NaN   \n",
              "4  USC00420072  ALTA, UT US   40.5905  -111.6369     2660.9  1980-01-05   NaN   \n",
              "\n",
              "   DASF  MDPR  MDSF  ...  SNWD  TMAX  TMIN  TOBS  WT01  WT03  WT04  WT05  \\\n",
              "0   NaN   NaN   NaN  ...  29.0  38.0  25.0  25.0   NaN   NaN   NaN   NaN   \n",
              "1   NaN   NaN   NaN  ...  34.0  27.0  18.0  18.0   NaN   NaN   NaN   NaN   \n",
              "2   NaN   NaN   NaN  ...  30.0  27.0  12.0  18.0   NaN   NaN   NaN   NaN   \n",
              "3   NaN   NaN   NaN  ...  30.0  31.0  18.0  27.0   NaN   NaN   NaN   NaN   \n",
              "4   NaN   NaN   NaN  ...  30.0  34.0  26.0  34.0   NaN   NaN   NaN   NaN   \n",
              "\n",
              "   WT06  WT11  \n",
              "0   NaN   NaN  \n",
              "1   NaN   NaN  \n",
              "2   NaN   NaN  \n",
              "3   NaN   NaN  \n",
              "4   NaN   NaN  \n",
              "\n",
              "[5 rows x 22 columns]"
            ]
          },
          "execution_count": 2,
          "metadata": {},
          "output_type": "execute_result"
        }
      ],
      "source": [
        "# Working with date and time\n",
        "alta = pd.read_csv('https://raw.githubusercontent.com/mattharrison/datasets/master/data/alta-noaa-1980-2019.csv')\n",
        "alta.head()"
      ]
    },
    {
      "cell_type": "code",
      "execution_count": 4,
      "metadata": {},
      "outputs": [
        {
          "data": {
            "text/plain": [
              "STATION       object\n",
              "NAME          object\n",
              "LATITUDE     float64\n",
              "LONGITUDE    float64\n",
              "ELEVATION    float64\n",
              "DATE          object\n",
              "DAPR         float64\n",
              "DASF         float64\n",
              "MDPR         float64\n",
              "MDSF         float64\n",
              "PRCP         float64\n",
              "SNOW         float64\n",
              "SNWD         float64\n",
              "TMAX         float64\n",
              "TMIN         float64\n",
              "TOBS         float64\n",
              "WT01         float64\n",
              "WT03         float64\n",
              "WT04         float64\n",
              "WT05         float64\n",
              "WT06         float64\n",
              "WT11         float64\n",
              "dtype: object"
            ]
          },
          "execution_count": 4,
          "metadata": {},
          "output_type": "execute_result"
        }
      ],
      "source": [
        "alta.dtypes"
      ]
    },
    {
      "cell_type": "code",
      "execution_count": 3,
      "metadata": {},
      "outputs": [
        {
          "data": {
            "text/plain": [
              "0       1980-01-01\n",
              "1       1980-01-02\n",
              "2       1980-01-03\n",
              "3       1980-01-04\n",
              "4       1980-01-05\n",
              "           ...    \n",
              "14155   2019-09-03\n",
              "14156   2019-09-04\n",
              "14157   2019-09-05\n",
              "14158   2019-09-06\n",
              "14159   2019-09-07\n",
              "Name: DATE, Length: 14160, dtype: datetime64[ns]"
            ]
          },
          "execution_count": 3,
          "metadata": {},
          "output_type": "execute_result"
        }
      ],
      "source": [
        "dates = pd.to_datetime(alta.DATE)\n",
        "dates"
      ]
    },
    {
      "cell_type": "code",
      "execution_count": 4,
      "metadata": {},
      "outputs": [
        {
          "data": {
            "text/plain": [
              "DATE\n",
              "1980-01-01    2.0\n",
              "1980-01-02    3.0\n",
              "1980-01-03    1.0\n",
              "1980-01-04    0.0\n",
              "1980-01-05    0.0\n",
              "             ... \n",
              "2019-09-03    0.0\n",
              "2019-09-04    0.0\n",
              "2019-09-05    0.0\n",
              "2019-09-06    0.0\n",
              "2019-09-07    0.0\n",
              "Name: SNOW, Length: 14160, dtype: float64"
            ]
          },
          "execution_count": 4,
          "metadata": {},
          "output_type": "execute_result"
        }
      ],
      "source": [
        "snow = alta.SNOW\n",
        "snow.index = dates\n",
        "snow"
      ]
    },
    {
      "cell_type": "code",
      "execution_count": 52,
      "metadata": {},
      "outputs": [
        {
          "data": {
            "text/plain": [
              "DATE\n",
              "1980-01-01    NaN\n",
              "1980-01-02    2.0\n",
              "1980-01-03    3.0\n",
              "1980-01-04    1.0\n",
              "1980-01-05    0.0\n",
              "             ... \n",
              "2019-09-03    0.0\n",
              "2019-09-04    0.0\n",
              "2019-09-05    0.0\n",
              "2019-09-06    0.0\n",
              "2019-09-07    0.0\n",
              "Name: SNOW, Length: 14160, dtype: float64"
            ]
          },
          "execution_count": 52,
          "metadata": {},
          "output_type": "execute_result"
        }
      ],
      "source": [
        "snow.shift(1)"
      ]
    },
    {
      "cell_type": "code",
      "execution_count": 53,
      "metadata": {},
      "outputs": [
        {
          "data": {
            "text/plain": [
              "DATE\n",
              "1980-01-01    3.0\n",
              "1980-01-02    1.0\n",
              "1980-01-03    0.0\n",
              "1980-01-04    0.0\n",
              "1980-01-05    1.0\n",
              "Name: SNOW, dtype: float64"
            ]
          },
          "execution_count": 53,
          "metadata": {},
          "output_type": "execute_result"
        }
      ],
      "source": [
        "snow.shift(-1).head()"
      ]
    },
    {
      "cell_type": "code",
      "execution_count": 58,
      "metadata": {},
      "outputs": [
        {
          "data": {
            "text/plain": [
              "DATE\n",
              "1980-01-01         NaN\n",
              "1980-01-02         NaN\n",
              "1980-01-03    2.000000\n",
              "1980-01-04    1.333333\n",
              "1980-01-05    0.333333\n",
              "                ...   \n",
              "2019-09-03    0.000000\n",
              "2019-09-04    0.000000\n",
              "2019-09-05    0.000000\n",
              "2019-09-06    0.000000\n",
              "2019-09-07    0.000000\n",
              "Name: SNOW, Length: 14160, dtype: float64"
            ]
          },
          "execution_count": 58,
          "metadata": {},
          "output_type": "execute_result"
        }
      ],
      "source": [
        "#ROlling mean\n",
        "(snow\n",
        ".rolling(window=3)\n",
        ".mean()\n",
        ")"
      ]
    },
    {
      "cell_type": "code",
      "execution_count": 62,
      "metadata": {},
      "outputs": [
        {
          "data": {
            "text/plain": [
              "DATE\n",
              "1980-01-31    20.0\n",
              "1980-02-29    25.0\n",
              "1980-03-31    16.0\n",
              "1980-04-30    10.0\n",
              "1980-05-31     9.0\n",
              "              ... \n",
              "2019-05-31     5.1\n",
              "2019-06-30     0.0\n",
              "2019-07-31     0.0\n",
              "2019-08-31     0.0\n",
              "2019-09-30     0.0\n",
              "Freq: M, Name: SNOW, Length: 477, dtype: float64"
            ]
          },
          "execution_count": 62,
          "metadata": {},
          "output_type": "execute_result"
        }
      ],
      "source": [
        "#Resampling\n",
        "(snow\n",
        ".resample('M')\n",
        ".max()\n",
        ")"
      ]
    },
    {
      "cell_type": "code",
      "execution_count": 63,
      "metadata": {},
      "outputs": [
        {
          "data": {
            "text/plain": [
              "DATE\n",
              "1980-01-31    20.0\n",
              "1980-03-31    25.0\n",
              "1980-05-31    10.0\n",
              "1980-07-31     1.0\n",
              "1980-09-30     0.0\n",
              "              ... \n",
              "2019-01-31    19.0\n",
              "2019-03-31    20.7\n",
              "2019-05-31    18.0\n",
              "2019-07-31     0.0\n",
              "2019-09-30     0.0\n",
              "Freq: 2M, Name: SNOW, Length: 239, dtype: float64"
            ]
          },
          "execution_count": 63,
          "metadata": {},
          "output_type": "execute_result"
        }
      ],
      "source": [
        "#Resampling over last 2 months\n",
        "(snow\n",
        ".resample('2M')\n",
        ".max()\n",
        ")"
      ]
    },
    {
      "cell_type": "code",
      "execution_count": 68,
      "metadata": {},
      "outputs": [
        {
          "data": {
            "text/plain": [
              "DATE\n",
              "1980-05-31    25.0\n",
              "1981-05-31    26.0\n",
              "1982-05-31    34.0\n",
              "1983-05-31    38.0\n",
              "1984-05-31    25.0\n",
              "1985-05-31    22.0\n",
              "1986-05-31    34.0\n",
              "1987-05-31    16.0\n",
              "1988-05-31    23.0\n",
              "1989-05-31    30.0\n",
              "1990-05-31    32.0\n",
              "1991-05-31    28.0\n",
              "1992-05-31    22.0\n",
              "1993-05-31    30.0\n",
              "1994-05-31    36.0\n",
              "1995-05-31    25.0\n",
              "1996-05-31    34.0\n",
              "1997-05-31    22.0\n",
              "1998-05-31    29.0\n",
              "1999-05-31    26.0\n",
              "2000-05-31    23.0\n",
              "2001-05-31    19.0\n",
              "2002-05-31    28.0\n",
              "2003-05-31    14.0\n",
              "2004-05-31    24.0\n",
              "2005-05-31    31.0\n",
              "2006-05-31    27.0\n",
              "2007-05-31    15.0\n",
              "2008-05-31    21.0\n",
              "2009-05-31    23.0\n",
              "2010-05-31    32.0\n",
              "2011-05-31    22.0\n",
              "2012-05-31    18.0\n",
              "2013-05-31    19.0\n",
              "2014-05-31    11.0\n",
              "2015-05-31    25.0\n",
              "2016-05-31    15.0\n",
              "2017-05-31    26.0\n",
              "2018-05-31    21.8\n",
              "2019-05-31    20.7\n",
              "2020-05-31     0.0\n",
              "Freq: A-MAY, Name: SNOW, dtype: float64"
            ]
          },
          "execution_count": 68,
          "metadata": {},
          "output_type": "execute_result"
        }
      ],
      "source": [
        "#resample over ends in MAY each year 'A-MAY', indicates that we want an annual grouping ('A'), but ending in May of each year\n",
        "(snow\n",
        ".resample('A-MAY')\n",
        ".max()\n",
        ")"
      ]
    },
    {
      "cell_type": "markdown",
      "metadata": {},
      "source": [
        "<img src=\"img/Resampling.jpg\">\n",
        "\n"
      ]
    },
    {
      "cell_type": "code",
      "execution_count": 7,
      "metadata": {},
      "outputs": [
        {
          "data": {
            "text/plain": [
              "DATE\n",
              "2016-01-01      0.0\n",
              "2016-01-02      0.0\n",
              "2016-01-03      0.0\n",
              "2016-01-04      0.0\n",
              "2016-01-05      0.5\n",
              "              ...  \n",
              "2017-09-26    757.6\n",
              "2017-09-27    757.6\n",
              "2017-09-28    757.6\n",
              "2017-09-29    757.6\n",
              "2017-09-30    757.6\n",
              "Name: SNOW, Length: 638, dtype: float64"
            ]
          },
          "execution_count": 7,
          "metadata": {},
          "output_type": "execute_result"
        }
      ],
      "source": [
        "#cumulative sum\n",
        "(snow\n",
        ".loc['2016-01':'2017-09']\n",
        ".cumsum()   \n",
        ")"
      ]
    },
    {
      "cell_type": "code",
      "execution_count": 7,
      "metadata": {},
      "outputs": [
        {
          "data": {
            "text/plain": [
              "1980-01-01    2.0\n",
              "1980-01-02    3.0\n",
              "1980-01-03    1.0\n",
              "1980-01-04    0.0\n",
              "1980-01-05    0.0\n",
              "             ... \n",
              "2019-09-03    0.0\n",
              "2019-09-04    0.0\n",
              "2019-09-05    0.0\n",
              "2019-09-06    0.0\n",
              "2019-09-07    0.0\n",
              "Name: SNOW, Length: 14160, dtype: float64"
            ]
          },
          "execution_count": 7,
          "metadata": {},
          "output_type": "execute_result"
        }
      ],
      "source": [
        "dates = pd.to_datetime(alta.DATE) \n",
        "snow = (alta\n",
        ".SNOW\n",
        ".rename(dates)\n",
        ")\n",
        "snow"
      ]
    },
    {
      "cell_type": "code",
      "execution_count": 8,
      "metadata": {},
      "outputs": [
        {
          "data": {
            "text/plain": [
              "<AxesSubplot:ylabel='Frequency'>"
            ]
          },
          "execution_count": 8,
          "metadata": {},
          "output_type": "execute_result"
        },
        {
          "data": {
            "image/png": "[encoded data removed]",
            "text/plain": [
              "<Figure size 432x288 with 1 Axes>"
            ]
          },
          "metadata": {
            "needs_background": "light"
          },
          "output_type": "display_data"
        }
      ],
      "source": [
        "snow.plot.hist()\n"
      ]
    },
    {
      "cell_type": "code",
      "execution_count": 9,
      "metadata": {},
      "outputs": [
        {
          "data": {
            "text/plain": [
              "<AxesSubplot:title={'center':'Snowfall Histogram'}, ylabel='Frequency'>"
            ]
          },
          "execution_count": 9,
          "metadata": {},
          "output_type": "execute_result"
        },
        {
          "data": {
            "image/png": "[encoded data removed]",
            "text/plain": [
              "<Figure size 432x288 with 1 Axes>"
            ]
          },
          "metadata": {
            "needs_background": "light"
          },
          "output_type": "display_data"
        }
      ],
      "source": [
        "snow[snow > 0].plot.hist(  bins=20,title=\"Snowfall Histogram\")"
      ]
    },
    {
      "cell_type": "code",
      "execution_count": 13,
      "metadata": {},
      "outputs": [
        {
          "data": {
            "text/plain": [
              "<AxesSubplot:>"
            ]
          },
          "execution_count": 13,
          "metadata": {},
          "output_type": "execute_result"
        },
        {
          "data": {
            "image/png": "[encoded data removed]",
            "text/plain": [
              "<Figure size 432x288 with 1 Axes>"
            ]
          },
          "metadata": {
            "needs_background": "light"
          },
          "output_type": "display_data"
        }
      ],
      "source": [
        "(snow\n",
        "[lambda x:(x.index.month == 1 ) & (x > 0)]\n",
        ".plot.box()\n",
        ")"
      ]
    },
    {
      "cell_type": "code",
      "execution_count": 14,
      "metadata": {},
      "outputs": [
        {
          "data": {
            "text/plain": [
              "<AxesSubplot:ylabel='Density'>"
            ]
          },
          "execution_count": 14,
          "metadata": {},
          "output_type": "execute_result"
        },
        {
          "data": {
            "image/png": "[encoded data removed]",
            "text/plain": [
              "<Figure size 432x288 with 1 Axes>"
            ]
          },
          "metadata": {
            "needs_background": "light"
          },
          "output_type": "display_data"
        }
      ],
      "source": [
        "#KDE plot\n",
        "(snow\n",
        "[lambda x:(x.index.month == 1 ) & (x > 0)]\n",
        ".plot.kde()\n",
        ")"
      ]
    },
    {
      "cell_type": "code",
      "execution_count": 10,
      "metadata": {},
      "outputs": [
        {
          "data": {
            "image/png": "[encoded data removed]",
            "text/plain": [
              "<Figure size 1440x576 with 1 Axes>"
            ]
          },
          "metadata": {},
          "output_type": "display_data"
        }
      ],
      "source": [
        "(snow\n",
        ".resample('M')\n",
        ".mean()\n",
        ".plot.line()\n",
        "\n",
        ")\n",
        "plt.show()"
      ]
    },
    {
      "cell_type": "code",
      "execution_count": 16,
      "metadata": {},
      "outputs": [
        {
          "data": {
            "image/png": "[encoded data removed]",
            "text/plain": [
              "<Figure size 1440x576 with 1 Axes>"
            ]
          },
          "metadata": {},
          "output_type": "display_data"
        }
      ],
      "source": [
        "season2017 = (snow.loc['2016-10':'2017-05'])\n",
        "(season2017\n",
        ".resample(\"M\")\n",
        ".sum()\n",
        ".div(season2017.sum())\n",
        ".mul(100)\n",
        ".rename(lambda idx : idx.month_name())\n",
        ".plot.bar()\n",
        ")\n",
        "plt.show()"
      ]
    },
    {
      "cell_type": "code",
      "execution_count": 20,
      "metadata": {},
      "outputs": [
        {
          "data": {
            "image/png": "[encoded data removed]",
            "text/plain": [
              "<Figure size 1440x576 with 1 Axes>"
            ]
          },
          "metadata": {},
          "output_type": "display_data"
        }
      ],
      "source": [
        "# create horizontal bar plot\n",
        "(season2017\n",
        ".resample(\"M\")\n",
        ".sum()\n",
        ".div(season2017.sum())\n",
        ".mul(100)\n",
        ".rename(lambda idx : idx.month_name())\n",
        ".plot.barh(title=\"Percent of Snowfall in Each Month\")\n",
        ")\n",
        "plt.show()"
      ]
    }
  ],
  "metadata": {
    "colab": {
      "collapsed_sections": [],
      "name": "working nb.ipynb",
      "provenance": []
    },
    "kernelspec": {
      "display_name": "Python 3",
      "name": "python3"
    },
    "language_info": {
      "codemirror_mode": {
        "name": "ipython",
        "version": 3
      },
      "file_extension": ".py",
      "mimetype": "text/x-python",
      "name": "python",
      "nbconvert_exporter": "python",
      "pygments_lexer": "ipython3",
      "version": "3.8.10"
    }
  },
  "nbformat": 4,
  "nbformat_minor": 0
}
