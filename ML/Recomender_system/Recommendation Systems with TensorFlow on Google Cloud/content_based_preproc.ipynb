{
 "cells": [
  {
   "cell_type": "markdown",
   "metadata": {},
   "source": [
    "# Create Datasets for the Content-based Filter\n",
    "\n",
    "This notebook builds the data you will use for creating our content based model. You'll collect the data via a collection of SQL queries from the publicly available Kurier.at dataset in BigQuery.\n",
    "Kurier.at is an Austrian newsite. The goal of these labs is to recommend an article for a visitor to the site. In this notebook, you collect the data for training, in the subsequent notebook you train the recommender model. \n",
    "\n",
    "This notebook illustrates:\n",
    "* How to pull data from BigQuery table and write to local files.\n",
    "* How to make reproducible train and test splits."
   ]
  },
  {
   "cell_type": "code",
   "execution_count": 1,
   "metadata": {},
   "outputs": [],
   "source": [
    "import os\n",
    "import tensorflow as tf\n",
    "import numpy as np\n",
    "from google.cloud import bigquery \n",
    "\n",
    "PROJECT = 'cloud-training-demos' # REPLACE WITH YOUR PROJECT ID\n",
    "BUCKET = 'cloud-training-demos-ml' # REPLACE WITH YOUR BUCKET NAME\n",
    "REGION = 'us-central1' # REPLACE WITH YOUR BUCKET REGION e.g. us-central1\n",
    "\n",
    "# do not change these\n",
    "os.environ['PROJECT'] = PROJECT\n",
    "os.environ['BUCKET'] = BUCKET\n",
    "os.environ['REGION'] = REGION\n",
    "os.environ['TFVERSION'] = '2.1'"
   ]
  },
  {
   "cell_type": "code",
   "execution_count": 2,
   "metadata": {},
   "outputs": [
    {
     "name": "stderr",
     "output_type": "stream",
     "text": [
      "WARNING: You do not appear to have access to project [cloud-training-demos] or it does not exist.\n",
      "Updated property [core/project].\n",
      "WARNING: Property validation for compute/region was skipped.\n",
      "Updated property [compute/region].\n"
     ]
    }
   ],
   "source": [
    "%%bash\n",
    "gcloud  config  set project $PROJECT\n",
    "gcloud config set compute/region $REGION"
   ]
  },
  {
   "cell_type": "markdown",
   "metadata": {},
   "source": [
    "You will use this helper function to write lists containing article ids, categories, and authors for each article in our database to local file. "
   ]
  },
  {
   "cell_type": "code",
   "execution_count": 4,
   "metadata": {},
   "outputs": [],
   "source": [
    "def write_list_to_disk(my_list, filename):\n",
    "  with open(filename, 'w') as f:\n",
    "    for item in my_list:\n",
    "        line = \"%s\\n\" % item\n",
    "        f.write(line)"
   ]
  },
  {
   "cell_type": "markdown",
   "metadata": {},
   "source": [
    "### Pull data from BigQuery\n",
    "\n",
    "The cell below creates a local text file containing all the article ids (i.e. 'content ids') in the dataset. \n",
    "\n",
    "Have a look at the original dataset in [BigQuery](https://console.cloud.google.com/bigquery?p=cloud-training-demos&d=GA360_test&t=ga_sessions_sample). Then read through the query below and make sure you understand what it is doing. "
   ]
  },
  {
   "cell_type": "code",
   "execution_count": 5,
   "metadata": {},
   "outputs": [
    {
     "name": "stdout",
     "output_type": "stream",
     "text": [
      "Some sample content IDs ['299922662', '299826775', '299437612']\n",
      "The total number of articles is 15634\n"
     ]
    }
   ],
   "source": [
    "sql=\"\"\"\n",
    "#standardSQL\n",
    "\n",
    "SELECT  \n",
    "  (SELECT MAX(IF(index=10, value, NULL)) FROM UNNEST(hits.customDimensions)) AS content_id \n",
    "FROM `cloud-training-demos.GA360_test.ga_sessions_sample`,   \n",
    "  UNNEST(hits) AS hits\n",
    "WHERE \n",
    "  # only include hits on pages\n",
    "  hits.type = \"PAGE\"\n",
    "  AND (SELECT MAX(IF(index=10, value, NULL)) FROM UNNEST(hits.customDimensions)) IS NOT NULL\n",
    "GROUP BY\n",
    "  content_id\n",
    "  \n",
    "\"\"\"\n",
    "\n",
    "content_ids_list = bigquery.Client().query(sql).to_dataframe()['content_id'].tolist()\n",
    "write_list_to_disk(content_ids_list, \"content_ids.txt\")\n",
    "print(\"Some sample content IDs {}\".format(content_ids_list[:3]))\n",
    "print(\"The total number of articles is {}\".format(len(content_ids_list)))"
   ]
  },
  {
   "cell_type": "markdown",
   "metadata": {},
   "source": [
    "There should be 15,634 articles in the database.  \n",
    "Next, you'll create a local file which contains a list of article categories and a list of article authors.\n",
    "\n",
    "Note the change in the index when pulling the article category or author information. Also, you are using the first author of the article to create our author list.  \n",
    "Refer back to the original dataset, use the `hits.customDimensions.index` field to verify the correct index.\t "
   ]
  },
  {
   "cell_type": "code",
   "execution_count": 6,
   "metadata": {},
   "outputs": [
    {
     "name": "stdout",
     "output_type": "stream",
     "text": [
      "['News', 'Stars & Kultur', 'Lifestyle']\n"
     ]
    }
   ],
   "source": [
    "sql=\"\"\"\n",
    "#standardSQL\n",
    "SELECT  \n",
    "  (SELECT MAX(IF(index=7, value, NULL)) FROM UNNEST(hits.customDimensions)) AS category  \n",
    "FROM `cloud-training-demos.GA360_test.ga_sessions_sample`,   \n",
    "  UNNEST(hits) AS hits\n",
    "WHERE \n",
    "  # only include hits on pages\n",
    "  hits.type = \"PAGE\"\n",
    "  AND (SELECT MAX(IF(index=7, value, NULL)) FROM UNNEST(hits.customDimensions)) IS NOT NULL\n",
    "GROUP BY   \n",
    "  category\n",
    "\"\"\"\n",
    "categories_list = bigquery.Client().query(sql).to_dataframe()['category'].tolist()\n",
    "write_list_to_disk(categories_list, \"categories.txt\")\n",
    "print(categories_list)"
   ]
  },
  {
   "cell_type": "markdown",
   "metadata": {},
   "source": [
    "The categories are 'News', 'Stars & Kultur', and 'Lifestyle'.  \n",
    "When creating the author list, you'll only use the first author information for each article.  "
   ]
  },
  {
   "cell_type": "code",
   "execution_count": 7,
   "metadata": {},
   "outputs": [
    {
     "name": "stdout",
     "output_type": "stream",
     "text": [
      "Some sample authors ['Georg Leyrer', 'Bernhard Gaul', 'Yvonne Widler', 'Moritz Gottsauner-Wolf', 'Daniela Wahl', 'Andreas Anzenberger', 'Claudia Elmer', 'Martina Salomon', 'Helmut Brandstätter', 'Marlene Patsalidis']\n",
      "The total number of authors is 385\n"
     ]
    }
   ],
   "source": [
    "sql=\"\"\"\n",
    "#standardSQL\n",
    "SELECT\n",
    "  REGEXP_EXTRACT((SELECT MAX(IF(index=2, value, NULL)) FROM UNNEST(hits.customDimensions)), r\"^[^,]+\")  AS first_author  \n",
    "FROM `cloud-training-demos.GA360_test.ga_sessions_sample`,   \n",
    "  UNNEST(hits) AS hits\n",
    "WHERE \n",
    "  # only include hits on pages\n",
    "  hits.type = \"PAGE\"\n",
    "  AND (SELECT MAX(IF(index=2, value, NULL)) FROM UNNEST(hits.customDimensions)) IS NOT NULL\n",
    "GROUP BY   \n",
    "  first_author\n",
    "\"\"\"\n",
    "authors_list = bigquery.Client().query(sql).to_dataframe()['first_author'].tolist()\n",
    "write_list_to_disk(authors_list, \"authors.txt\")\n",
    "print(\"Some sample authors {}\".format(authors_list[:10]))\n",
    "print(\"The total number of authors is {}\".format(len(authors_list)))"
   ]
  },
  {
   "cell_type": "markdown",
   "metadata": {},
   "source": [
    "There should be 385 authors in the database. "
   ]
  },
  {
   "cell_type": "markdown",
   "metadata": {},
   "source": [
    "### Create train and test sets\n",
    "\n",
    "In this section, you will create the train/test split of our data for training our model. You use the concatenated values for visitor id and content id to create a farm fingerprint, taking approximately 90% of the data for the training set and 10% for the test set."
   ]
  },
  {
   "cell_type": "code",
   "execution_count": 8,
   "metadata": {},
   "outputs": [
    {
     "data": {
      "text/html": [
       "<div>\n",
       "<style scoped>\n",
       "    .dataframe tbody tr th:only-of-type {\n",
       "        vertical-align: middle;\n",
       "    }\n",
       "\n",
       "    .dataframe tbody tr th {\n",
       "        vertical-align: top;\n",
       "    }\n",
       "\n",
       "    .dataframe thead th {\n",
       "        text-align: right;\n",
       "    }\n",
       "</style>\n",
       "<table border=\"1\" class=\"dataframe\">\n",
       "  <thead>\n",
       "    <tr style=\"text-align: right;\">\n",
       "      <th></th>\n",
       "      <th>visitor_id</th>\n",
       "      <th>content_id</th>\n",
       "      <th>category</th>\n",
       "      <th>title</th>\n",
       "      <th>author</th>\n",
       "      <th>months_since_epoch</th>\n",
       "      <th>next_content_id</th>\n",
       "    </tr>\n",
       "  </thead>\n",
       "  <tbody>\n",
       "    <tr>\n",
       "      <th>0</th>\n",
       "      <td>1033030676621675810</td>\n",
       "      <td>299972194</td>\n",
       "      <td>News</td>\n",
       "      <td>Dominante Grazer nehmen Admira auseinander</td>\n",
       "      <td>Mathias Kainz</td>\n",
       "      <td>574</td>\n",
       "      <td>299982579</td>\n",
       "    </tr>\n",
       "    <tr>\n",
       "      <th>1</th>\n",
       "      <td>1033030676621675810</td>\n",
       "      <td>299982579</td>\n",
       "      <td>News</td>\n",
       "      <td>VIDEO: Basejumper springen von Berg in Flugzeug</td>\n",
       "      <td>Mathias Kainz</td>\n",
       "      <td>574</td>\n",
       "      <td>299949290</td>\n",
       "    </tr>\n",
       "    <tr>\n",
       "      <th>2</th>\n",
       "      <td>1033030676621675810</td>\n",
       "      <td>299949290</td>\n",
       "      <td>News</td>\n",
       "      <td>Nationalbank: 35 Tonnen Gold wieder zurück in ...</td>\n",
       "      <td>Stefan Berndl</td>\n",
       "      <td>574</td>\n",
       "      <td>299961775</td>\n",
       "    </tr>\n",
       "    <tr>\n",
       "      <th>3</th>\n",
       "      <td>1096817125720107769</td>\n",
       "      <td>299281095</td>\n",
       "      <td>Lifestyle</td>\n",
       "      <td>Ätherische Öle: Frau erlitt Verbrennungen</td>\n",
       "      <td>Marlene Patsalidis</td>\n",
       "      <td>574</td>\n",
       "      <td>299804373</td>\n",
       "    </tr>\n",
       "    <tr>\n",
       "      <th>4</th>\n",
       "      <td>11345522738695457278</td>\n",
       "      <td>299170525</td>\n",
       "      <td>News</td>\n",
       "      <td>\"Horror-Hans\" lebte elf Wochen im Wald</td>\n",
       "      <td>Elisabeth Holzer</td>\n",
       "      <td>574</td>\n",
       "      <td>299170525</td>\n",
       "    </tr>\n",
       "  </tbody>\n",
       "</table>\n",
       "</div>"
      ],
      "text/plain": [
       "             visitor_id content_id   category  \\\n",
       "0   1033030676621675810  299972194       News   \n",
       "1   1033030676621675810  299982579       News   \n",
       "2   1033030676621675810  299949290       News   \n",
       "3   1096817125720107769  299281095  Lifestyle   \n",
       "4  11345522738695457278  299170525       News   \n",
       "\n",
       "                                               title              author  \\\n",
       "0         Dominante Grazer nehmen Admira auseinander       Mathias Kainz   \n",
       "1    VIDEO: Basejumper springen von Berg in Flugzeug       Mathias Kainz   \n",
       "2  Nationalbank: 35 Tonnen Gold wieder zurück in ...       Stefan Berndl   \n",
       "3          Ätherische Öle: Frau erlitt Verbrennungen  Marlene Patsalidis   \n",
       "4             \"Horror-Hans\" lebte elf Wochen im Wald    Elisabeth Holzer   \n",
       "\n",
       "   months_since_epoch next_content_id  \n",
       "0                 574       299982579  \n",
       "1                 574       299949290  \n",
       "2                 574       299961775  \n",
       "3                 574       299804373  \n",
       "4                 574       299170525  "
      ]
     },
     "execution_count": 8,
     "metadata": {},
     "output_type": "execute_result"
    }
   ],
   "source": [
    "sql=\"\"\"\n",
    "WITH site_history as (\n",
    "  SELECT\n",
    "      fullVisitorId as visitor_id,\n",
    "      (SELECT MAX(IF(index=10, value, NULL)) FROM UNNEST(hits.customDimensions)) AS content_id,\n",
    "      (SELECT MAX(IF(index=7, value, NULL)) FROM UNNEST(hits.customDimensions)) AS category, \n",
    "      (SELECT MAX(IF(index=6, value, NULL)) FROM UNNEST(hits.customDimensions)) AS title,\n",
    "      (SELECT MAX(IF(index=2, value, NULL)) FROM UNNEST(hits.customDimensions)) AS author_list,\n",
    "      SPLIT(RPAD((SELECT MAX(IF(index=4, value, NULL)) FROM UNNEST(hits.customDimensions)), 7), '.') as year_month_array,\n",
    "      LEAD(hits.customDimensions, 1) OVER (PARTITION BY fullVisitorId ORDER BY hits.time ASC) as nextCustomDimensions\n",
    "  FROM \n",
    "    `cloud-training-demos.GA360_test.ga_sessions_sample`,   \n",
    "     UNNEST(hits) AS hits\n",
    "   WHERE \n",
    "     # only include hits on pages\n",
    "      hits.type = \"PAGE\"\n",
    "      AND\n",
    "      fullVisitorId IS NOT NULL\n",
    "      AND\n",
    "      hits.time != 0\n",
    "      AND\n",
    "      hits.time IS NOT NULL\n",
    "      AND\n",
    "      (SELECT MAX(IF(index=10, value, NULL)) FROM UNNEST(hits.customDimensions)) IS NOT NULL\n",
    ")\n",
    "SELECT\n",
    "  visitor_id,\n",
    "  content_id,\n",
    "  category,\n",
    "  REGEXP_REPLACE(title, r\",\", \"\") as title,\n",
    "  REGEXP_EXTRACT(author_list, r\"^[^,]+\") as author,\n",
    "  DATE_DIFF(DATE(CAST(year_month_array[OFFSET(0)] AS INT64), CAST(year_month_array[OFFSET(1)] AS INT64), 1), DATE(1970,1,1), MONTH) as months_since_epoch,\n",
    "  (SELECT MAX(IF(index=10, value, NULL)) FROM UNNEST(nextCustomDimensions)) as next_content_id\n",
    "FROM\n",
    "  site_history\n",
    "WHERE (SELECT MAX(IF(index=10, value, NULL)) FROM UNNEST(nextCustomDimensions)) IS NOT NULL\n",
    "      AND ABS(MOD(FARM_FINGERPRINT(CONCAT(visitor_id, content_id)), 10)) < 9\n",
    "\"\"\"\n",
    "training_set_df = bigquery.Client().query(sql).to_dataframe()\n",
    "training_set_df.to_csv('training_set.csv', header=False, index=False, encoding='utf-8')\n",
    "training_set_df.head()"
   ]
  },
  {
   "cell_type": "code",
   "execution_count": 9,
   "metadata": {},
   "outputs": [
    {
     "data": {
      "text/html": [
       "<div>\n",
       "<style scoped>\n",
       "    .dataframe tbody tr th:only-of-type {\n",
       "        vertical-align: middle;\n",
       "    }\n",
       "\n",
       "    .dataframe tbody tr th {\n",
       "        vertical-align: top;\n",
       "    }\n",
       "\n",
       "    .dataframe thead th {\n",
       "        text-align: right;\n",
       "    }\n",
       "</style>\n",
       "<table border=\"1\" class=\"dataframe\">\n",
       "  <thead>\n",
       "    <tr style=\"text-align: right;\">\n",
       "      <th></th>\n",
       "      <th>visitor_id</th>\n",
       "      <th>content_id</th>\n",
       "      <th>category</th>\n",
       "      <th>title</th>\n",
       "      <th>author</th>\n",
       "      <th>months_since_epoch</th>\n",
       "      <th>next_content_id</th>\n",
       "    </tr>\n",
       "  </thead>\n",
       "  <tbody>\n",
       "    <tr>\n",
       "      <th>0</th>\n",
       "      <td>1252308651370956951</td>\n",
       "      <td>299918253</td>\n",
       "      <td>News</td>\n",
       "      <td>Ringen: Iraner musste verlieren um Duell mit I...</td>\n",
       "      <td>Mirad Odobasic</td>\n",
       "      <td>574</td>\n",
       "      <td>299837992</td>\n",
       "    </tr>\n",
       "    <tr>\n",
       "      <th>1</th>\n",
       "      <td>1355426044391018352</td>\n",
       "      <td>299818044</td>\n",
       "      <td>News</td>\n",
       "      <td>Lehrer am Gymnasium Schwechat suspendiert</td>\n",
       "      <td>None</td>\n",
       "      <td>574</td>\n",
       "      <td>299826775</td>\n",
       "    </tr>\n",
       "    <tr>\n",
       "      <th>2</th>\n",
       "      <td>1421890109294042332</td>\n",
       "      <td>299830396</td>\n",
       "      <td>News</td>\n",
       "      <td>Sozialunternehmen: Spardiktat trifft Behinderte</td>\n",
       "      <td>Wolfgang Atzenhofer</td>\n",
       "      <td>574</td>\n",
       "      <td>299918278</td>\n",
       "    </tr>\n",
       "    <tr>\n",
       "      <th>3</th>\n",
       "      <td>1429721359383674561</td>\n",
       "      <td>283816753</td>\n",
       "      <td>News</td>\n",
       "      <td>Die wichtigsten Punkte im ÖVP-Wahlprogramm</td>\n",
       "      <td>Karl Oberascher</td>\n",
       "      <td>572</td>\n",
       "      <td>283829467</td>\n",
       "    </tr>\n",
       "    <tr>\n",
       "      <th>4</th>\n",
       "      <td>1574382042670223220</td>\n",
       "      <td>299781837</td>\n",
       "      <td>News</td>\n",
       "      <td>Mordalarm in Wien: 31 Jahre alte Frau erstochen</td>\n",
       "      <td>None</td>\n",
       "      <td>574</td>\n",
       "      <td>299469711</td>\n",
       "    </tr>\n",
       "  </tbody>\n",
       "</table>\n",
       "</div>"
      ],
      "text/plain": [
       "            visitor_id content_id category  \\\n",
       "0  1252308651370956951  299918253     News   \n",
       "1  1355426044391018352  299818044     News   \n",
       "2  1421890109294042332  299830396     News   \n",
       "3  1429721359383674561  283816753     News   \n",
       "4  1574382042670223220  299781837     News   \n",
       "\n",
       "                                               title               author  \\\n",
       "0  Ringen: Iraner musste verlieren um Duell mit I...       Mirad Odobasic   \n",
       "1          Lehrer am Gymnasium Schwechat suspendiert                 None   \n",
       "2    Sozialunternehmen: Spardiktat trifft Behinderte  Wolfgang Atzenhofer   \n",
       "3         Die wichtigsten Punkte im ÖVP-Wahlprogramm      Karl Oberascher   \n",
       "4    Mordalarm in Wien: 31 Jahre alte Frau erstochen                 None   \n",
       "\n",
       "   months_since_epoch next_content_id  \n",
       "0                 574       299837992  \n",
       "1                 574       299826775  \n",
       "2                 574       299918278  \n",
       "3                 572       283829467  \n",
       "4                 574       299469711  "
      ]
     },
     "execution_count": 9,
     "metadata": {},
     "output_type": "execute_result"
    }
   ],
   "source": [
    "sql=\"\"\"\n",
    "WITH site_history as (\n",
    "  SELECT\n",
    "      fullVisitorId as visitor_id,\n",
    "      (SELECT MAX(IF(index=10, value, NULL)) FROM UNNEST(hits.customDimensions)) AS content_id,\n",
    "      (SELECT MAX(IF(index=7, value, NULL)) FROM UNNEST(hits.customDimensions)) AS category, \n",
    "      (SELECT MAX(IF(index=6, value, NULL)) FROM UNNEST(hits.customDimensions)) AS title,\n",
    "      (SELECT MAX(IF(index=2, value, NULL)) FROM UNNEST(hits.customDimensions)) AS author_list,\n",
    "      SPLIT(RPAD((SELECT MAX(IF(index=4, value, NULL)) FROM UNNEST(hits.customDimensions)), 7), '.') as year_month_array,\n",
    "      LEAD(hits.customDimensions, 1) OVER (PARTITION BY fullVisitorId ORDER BY hits.time ASC) as nextCustomDimensions\n",
    "  FROM \n",
    "    `cloud-training-demos.GA360_test.ga_sessions_sample`,   \n",
    "     UNNEST(hits) AS hits\n",
    "   WHERE \n",
    "     # only include hits on pages\n",
    "      hits.type = \"PAGE\"\n",
    "      AND\n",
    "      fullVisitorId IS NOT NULL\n",
    "      AND\n",
    "      hits.time != 0\n",
    "      AND\n",
    "      hits.time IS NOT NULL\n",
    "      AND\n",
    "      (SELECT MAX(IF(index=10, value, NULL)) FROM UNNEST(hits.customDimensions)) IS NOT NULL\n",
    ")\n",
    "SELECT\n",
    "  visitor_id,\n",
    "  content_id,\n",
    "  category,\n",
    "  REGEXP_REPLACE(title, r\",\", \"\") as title,\n",
    "  REGEXP_EXTRACT(author_list, r\"^[^,]+\") as author,\n",
    "  DATE_DIFF(DATE(CAST(year_month_array[OFFSET(0)] AS INT64), CAST(year_month_array[OFFSET(1)] AS INT64), 1), DATE(1970,1,1), MONTH) as months_since_epoch,\n",
    "  (SELECT MAX(IF(index=10, value, NULL)) FROM UNNEST(nextCustomDimensions)) as next_content_id\n",
    "FROM\n",
    "  site_history\n",
    "WHERE (SELECT MAX(IF(index=10, value, NULL)) FROM UNNEST(nextCustomDimensions)) IS NOT NULL\n",
    "      AND ABS(MOD(FARM_FINGERPRINT(CONCAT(visitor_id, content_id)), 10)) >= 9\n",
    "\"\"\"\n",
    "test_set_df = bigquery.Client().query(sql).to_dataframe()\n",
    "test_set_df.to_csv('test_set.csv', header=False, index=False, encoding='utf-8')\n",
    "test_set_df.head()"
   ]
  },
  {
   "cell_type": "markdown",
   "metadata": {},
   "source": [
    "Let's have a look at the two csv files you just created containing the training and test set. You'll also do a line count of both files to confirm that you have achieved an approximate 90/10 train/test split.  \n",
    "In the next notebook, **Content Based Filtering** you will build a model to recommend an article given information about the current article being read, such as the category, title, author, and publish date. "
   ]
  },
  {
   "cell_type": "code",
   "execution_count": 10,
   "metadata": {},
   "outputs": [
    {
     "name": "stdout",
     "output_type": "stream",
     "text": [
      "   25599 test_set.csv\n",
      "  232308 training_set.csv\n",
      "  257907 total\n"
     ]
    }
   ],
   "source": [
    "%%bash\n",
    "wc -l *_set.csv"
   ]
  },
  {
   "cell_type": "code",
   "execution_count": 11,
   "metadata": {},
   "outputs": [
    {
     "name": "stdout",
     "output_type": "stream",
     "text": [
      "==> test_set.csv <==\n",
      "1252308651370956951,299918253,News,Ringen: Iraner musste verlieren um Duell mit Israeli zu vermeiden,Mirad Odobasic,574,299837992\n",
      "1355426044391018352,299818044,News,Lehrer am Gymnasium Schwechat suspendiert,,574,299826775\n",
      "1421890109294042332,299830396,News,Sozialunternehmen: Spardiktat trifft Behinderte,Wolfgang Atzenhofer,574,299918278\n",
      "1429721359383674561,283816753,News,Die wichtigsten Punkte im ÖVP-Wahlprogramm,Karl Oberascher,572,283829467\n",
      "1574382042670223220,299781837,News,Mordalarm in Wien: 31 Jahre alte Frau erstochen,,574,299469711\n",
      "1610642806576713687,299844825,News,Regierungsbildung: SPD und CDU bringen sich in Stellung,Sandra Lumetsberger,574,299957318\n",
      "1663841005945555543,299898026,News,\"Rechte Aktivisten wollten \"\"Washington Post\"\" in Falle locken\",Stefan Hofer,574,299809186\n",
      "1714733847175385157,299798977,News,Postlerin als Geisterfahrerin in der Rettungsgasse unterwegs,Thomas Sendlhofer,574,299918278\n",
      "1726044536211726970,299854766,News,Basketball: Debakel für Österreich gegen Deutschland,Mirad Odobasic,574,299861625\n",
      "1948345558068365470,294253974,Stars & Kultur,\"\"\"Männer verbieten?\"\" Nina Proll ärgert Belästigungs-Debatte\",Christina Michlits,573,294253974\n",
      "\n",
      "==> training_set.csv <==\n",
      "1033030676621675810,299972194,News,Dominante Grazer nehmen Admira auseinander,Mathias Kainz,574,299982579\n",
      "1033030676621675810,299982579,News,VIDEO: Basejumper springen von Berg in Flugzeug,Mathias Kainz,574,299949290\n",
      "1033030676621675810,299949290,News,Nationalbank: 35 Tonnen Gold wieder zurück in Wien,Stefan Berndl,574,299961775\n",
      "1096817125720107769,299281095,Lifestyle,Ätherische Öle: Frau erlitt Verbrennungen,Marlene Patsalidis,574,299804373\n",
      "11345522738695457278,299170525,News,\"\"\"Horror-Hans\"\" lebte elf Wochen im Wald\",Elisabeth Holzer,574,299170525\n",
      "11345522738695457278,299170525,News,\"\"\"Horror-Hans\"\" lebte elf Wochen im Wald\",Elisabeth Holzer,574,299170525\n",
      "11345522738695457278,299170525,News,\"\"\"Horror-Hans\"\" lebte elf Wochen im Wald\",Elisabeth Holzer,574,299170525\n",
      "11345522738695457278,299170525,News,\"\"\"Horror-Hans\"\" lebte elf Wochen im Wald\",Elisabeth Holzer,574,299410466\n",
      "11345522738695457278,298886601,News,Drei Männer belästigt: 41-Jährige verurteilt,Stefan Hofer,574,298886601\n",
      "11345522738695457278,298886601,News,Drei Männer belästigt: 41-Jährige verurteilt,Stefan Hofer,574,299170525\n"
     ]
    }
   ],
   "source": [
    "!head *_set.csv"
   ]
  },
  {
   "cell_type": "code",
   "execution_count": null,
   "metadata": {},
   "outputs": [],
   "source": []
  }
 ],
 "metadata": {
  "environment": {
   "kernel": "python3",
   "name": "tf-gpu.1-15.m91",
   "type": "gcloud",
   "uri": "gcr.io/deeplearning-platform-release/tf-gpu.1-15:m91"
  },
  "kernelspec": {
   "display_name": "Python 3",
   "language": "python",
   "name": "python3"
  },
  "language_info": {
   "codemirror_mode": {
    "name": "ipython",
    "version": 3
   },
   "file_extension": ".py",
   "mimetype": "text/x-python",
   "name": "python",
   "nbconvert_exporter": "python",
   "pygments_lexer": "ipython3",
   "version": "3.7.12"
  }
 },
 "nbformat": 4,
 "nbformat_minor": 4
}
